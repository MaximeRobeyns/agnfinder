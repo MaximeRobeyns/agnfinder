{
 "cells": [
  {
   "cell_type": "code",
   "execution_count": 13,
   "id": "0561e358-ab35-41d4-b978-e454d6646697",
   "metadata": {},
   "outputs": [],
   "source": [
    "# Exploring Samples\n",
    "\n",
    "import os\n",
    "import h5py\n",
    "import logging\n",
    "import torch as t\n",
    "import numpy as np\n",
    "import matplotlib.pyplot as plt\n",
    "\n",
    "import pandas as pd\n",
    "from pandas.plotting import scatter_matrix\n",
    "\n",
    "from agnfinder import config as cfg"
   ]
  },
  {
   "cell_type": "code",
   "execution_count": 2,
   "id": "44ea838f-3fc8-4859-a53f-1da461c7e0d0",
   "metadata": {},
   "outputs": [
    {
     "name": "stdout",
     "output_type": "stream",
     "text": [
      "[Dbg: INFO] \n",
      "\n",
      "\n",
      "\n",
      "\n",
      "~~~~~~~~~~~~~~~~~~~~~~~~~~~~~~~~~~~ New Run ~~~~~~~~~~~~~~~~~~~~~~~~~~~~~~~~~~~\n",
      "\n",
      " (in config.py:262)\n"
     ]
    }
   ],
   "source": [
    "# change the working directory to the root of the `agnfinder` project:\n",
    "os.chdir(os.path.join(os.getcwd(), '../'))\n",
    "\n",
    "# Configure the root logger using the values in config.py:logging_config\n",
    "cfg.configure_logging()\n",
    "\n",
    "# Where the data is located:\n",
    "DATA_LOC: str = 'data/cubes/photometry_simulation_100000n_z_0p0000_to_4p0000.hdf5'"
   ]
  },
  {
   "cell_type": "code",
   "execution_count": 3,
   "id": "ac43a1c6-35ef-435e-959b-62c843cb8186",
   "metadata": {},
   "outputs": [],
   "source": [
    "# load the (theta, photometry) samples from file:\n",
    "f = h5py.File(DATA_LOC, 'r')\n",
    "\n",
    "samples = f.get('samples')\n",
    "ds_x = samples.get('theta')\n",
    "ds_y = samples.get('simulated_y')"
   ]
  },
  {
   "cell_type": "code",
   "execution_count": 4,
   "id": "a07209d7-9991-4370-9978-832f4873a82f",
   "metadata": {},
   "outputs": [],
   "source": [
    "xs = np.array(ds_x)\n",
    "ys = np.array(ds_y)"
   ]
  },
  {
   "cell_type": "code",
   "execution_count": 15,
   "id": "5a833a96-6d40-45b2-b41b-2318b4cd0508",
   "metadata": {},
   "outputs": [],
   "source": [
    "joint = np.concatenate((xs, ys), 1)\n",
    "np.random.shuffle(joint)\n",
    "joint = joint[:1000]"
   ]
  },
  {
   "cell_type": "code",
   "execution_count": null,
   "id": "7b0189fa-9bdc-43de-8cf7-3469e6f0141e",
   "metadata": {},
   "outputs": [],
   "source": [
    "df = pd.DataFrame(joint)\n",
    "scatter_matrix(df, alpha = 0.2, figsize = (6, 6), diagonal = 'kde')"
   ]
  },
  {
   "cell_type": "code",
   "execution_count": null,
   "id": "bb825149-eb23-4abb-9be3-95c253d4780e",
   "metadata": {},
   "outputs": [],
   "source": []
  }
 ],
 "metadata": {
  "kernelspec": {
   "display_name": "agnvenv (Python 3.9)",
   "language": "python",
   "name": "agnvenv"
  },
  "language_info": {
   "codemirror_mode": {
    "name": "ipython",
    "version": 3
   },
   "file_extension": ".py",
   "mimetype": "text/x-python",
   "name": "python",
   "nbconvert_exporter": "python",
   "pygments_lexer": "ipython3",
   "version": "3.9.6"
  }
 },
 "nbformat": 4,
 "nbformat_minor": 5
}
