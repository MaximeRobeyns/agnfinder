{
 "cells": [
  {
   "cell_type": "code",
   "execution_count": null,
   "id": "0e265b25-2846-4af7-abbc-6ca4411e70ba",
   "metadata": {},
   "outputs": [],
   "source": [
    "# Exploring templates\n",
    "\n",
    "import os\n",
    "import logging\n",
    "import torch as t\n",
    "import numpy as np\n",
    "import matplotlib.pyplot as plt\n",
    "\n",
    "import pandas as pd\n",
    "\n",
    "import agnfinder\n",
    "\n",
    "from agnfinder import config as cfg\n",
    "from agnfinder.types import Filters\n",
    "from agnfinder.prospector import Prospector, visualise\n",
    "\n",
    "try:\n",
    "    assert(_SETUP)\n",
    "except NameError:\n",
    "    cfg.configure_logging(debug_level=logging.INFO)\n",
    "    os.chdir(os.path.split(agnfinder.__path__[0])[0])\n",
    "    _SETUP = True"
   ]
  },
  {
   "cell_type": "code",
   "execution_count": null,
   "id": "fa49090a-20d0-4bfe-9ea6-615bfbccf66f",
   "metadata": {},
   "outputs": [],
   "source": [
    "p = Prospector(filter_selection=Filters.Euclid,\n",
    "               emulate_ssp=False)"
   ]
  },
  {
   "cell_type": "code",
   "execution_count": null,
   "id": "25d1c8c7-3e67-4e1e-a68e-29c6dc6ec7dd",
   "metadata": {},
   "outputs": [],
   "source": [
    "visualise.visualise_obs(p.obs)"
   ]
  },
  {
   "cell_type": "code",
   "execution_count": null,
   "id": "b4dec057-10e5-4652-a706-d3dac56abe8f",
   "metadata": {},
   "outputs": [],
   "source": []
  }
 ],
 "metadata": {
  "kernelspec": {
   "display_name": "agnvenv (Python 3.9)",
   "language": "python",
   "name": "agnvenv"
  },
  "language_info": {
   "codemirror_mode": {
    "name": "ipython",
    "version": 3
   },
   "file_extension": ".py",
   "mimetype": "text/x-python",
   "name": "python",
   "nbconvert_exporter": "python",
   "pygments_lexer": "ipython3",
   "version": "3.9.7"
  }
 },
 "nbformat": 4,
 "nbformat_minor": 5
}
