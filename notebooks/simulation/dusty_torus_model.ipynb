{
 "cells": [
  {
   "cell_type": "markdown",
   "id": "f58fb662-7d48-43d8-aa5b-6ce2d9aee64e",
   "metadata": {},
   "source": [
    "# Dusty Torus Model\n",
    "\n",
    "This notebook first visualises the `clumpy` models and saves a kindof arbitrary torus template to use with AGNFinder. We then save methods to expose this model as a dill."
   ]
  },
  {
   "cell_type": "code",
   "execution_count": null,
   "id": "90436e7c-00a8-478c-b038-1e6cc195b470",
   "metadata": {},
   "outputs": [],
   "source": [
    "import os\n",
    "import dill\n",
    "import h5py\n",
    "import numpy as np\n",
    "import pandas as pd\n",
    "import seaborn as sns\n",
    "import matplotlib.pyplot as plt\n",
    "from matplotlib import cm\n",
    "from scipy.interpolate import interp2d\n",
    "\n",
    "import agnfinder\n",
    "import agnfinder.config as cfg\n",
    "# change working directory to root of `agnfinder` project\n",
    "os.chdir(os.path.join(os.getcwd(), \"../\"))\n",
    "os.getcwd()"
   ]
  },
  {
   "cell_type": "code",
   "execution_count": null,
   "id": "0a206f6d-c581-493c-895b-5f69c3b7a402",
   "metadata": {},
   "outputs": [],
   "source": [
    "sns.set_context('notebook')"
   ]
  },
  {
   "cell_type": "code",
   "execution_count": null,
   "id": "5bc9b4c9-bf5c-4e42-ad1a-7ad84cacd29a",
   "metadata": {},
   "outputs": [],
   "source": [
    "# This needs to be specified in cfg.TorusConfiguration or whatever.\n",
    "# Question: what is in this data set?\n",
    "# If generated on a grid, can we generate it ourselves rather than having\n",
    "# to download a > ~1Gb file every time?\n",
    "\n",
    "data_loc = os.path.join(os.getcwd(), \"data/clumpy_models_201410_tvavg.hdf5\")"
   ]
  },
  {
   "cell_type": "code",
   "execution_count": null,
   "id": "38e1680e-68a6-4488-b263-d481f48a405b",
   "metadata": {},
   "outputs": [],
   "source": [
    "with h5py.File(data_loc, 'r') as f:\n",
    "    print(f.keys())\n",
    "    wavelengths = f['wave'][...] * 1e4  # microns to angstroms\n",
    "    opening_angle = f['sig'][...]\n",
    "    inclination = f['i'][...]\n",
    "    n0 = f['N0'][...]\n",
    "    q = f['q'][...]\n",
    "    y = f['Y'][...]\n",
    "    tv = f['tv'][...]\n",
    "    seds = f['flux_toragn'][...]"
   ]
  },
  {
   "cell_type": "code",
   "execution_count": null,
   "id": "3f21be68-ebe8-4db9-b8be-79148c592d8f",
   "metadata": {},
   "outputs": [],
   "source": [
    "seds.shape"
   ]
  },
  {
   "cell_type": "code",
   "execution_count": null,
   "id": "3bcf9555-6f5e-40b2-994f-10e13b2f1930",
   "metadata": {},
   "outputs": [],
   "source": [
    "plt.hist(opening_angle, bins=100)\n",
    "plt.show()"
   ]
  },
  {
   "cell_type": "markdown",
   "id": "ddd262db-4ade-4cc5-bed8-999c5a762cac",
   "metadata": {},
   "source": [
    "Clearly the opening angles of toruses (tori?) are not quantised like this in the real world; these parameters have been generated on a grid.\n",
    "\n",
    "MW (and SF) fix this angle to 30deg.\n",
    "\n",
    "1. Is 30deg completely arbitrary?\n",
    "2. What are the consequences of fixing this arbitrarily?\n",
    "3. Could we instead allow it to vary (with some sensible prior)?"
   ]
  },
  {
   "cell_type": "code",
   "execution_count": null,
   "id": "f65c3f3a-2115-426f-9210-998da3c87997",
   "metadata": {},
   "outputs": [],
   "source": [
    "def get_log_space_median(x):\n",
    "    return 10 ** np.median(np.log10(x), axis=0)"
   ]
  },
  {
   "cell_type": "code",
   "execution_count": null,
   "id": "b066053f-9a65-4237-b5d2-81dd556e9d73",
   "metadata": {},
   "outputs": [],
   "source": [
    "median_sed = get_log_space_median(seds)\n",
    "plt.loglog(wavelengths, median_sed, 'r', label='Median (log-space)')\n",
    "random_indices = np.random.choice(len(seds), 500)\n",
    "random_seds = seds[random_indices]\n",
    "for s in random_seds:\n",
    "    plt.loglog(wavelengths, s, color='k', alpha=0.01)\n",
    "plt.xlabel('Wavelength')\n",
    "plt.ylabel('Normalised Flux')\n",
    "plt.ylim([10**-5, 1])\n",
    "plt.legend()\n",
    "plt.tight_layout()\n",
    "plt.show()"
   ]
  },
  {
   "cell_type": "code",
   "execution_count": null,
   "id": "59ab0507-9f94-41c0-95f9-d54dae45d05e",
   "metadata": {},
   "outputs": [],
   "source": [
    "# Boolean mask\n",
    "print(opening_angle)\n",
    "print(opening_angle.shape)\n",
    "desired_opening_angle = opening_angle == 30\n",
    "print(desired_opening_angle)\n",
    "print(desired_opening_angle.shape)"
   ]
  },
  {
   "cell_type": "code",
   "execution_count": null,
   "id": "0461649d-f867-4ec2-a206-9b42917222f5",
   "metadata": {},
   "outputs": [],
   "source": [
    "print(inclination.shape)\n",
    "print(inclination)\n",
    "unique_inclinations = np.unique(inclination[desired_opening_angle])\n",
    "print(unique_inclinations.shape)\n",
    "print(unique_inclinations)"
   ]
  },
  {
   "cell_type": "markdown",
   "id": "f0671455-bbf3-4d6f-92e7-4c43e8ba6d5b",
   "metadata": {
    "tags": []
   },
   "source": [
    "## What do the SEDs look like?\n",
    "\n",
    "In particular, we want to know what effect inclination has, for the opening angle. Here we have selected the opening angle of 30deg, and we are varying the inclination (denoted by the different line colours) as well as marginalising the log median over the other parameters."
   ]
  },
  {
   "cell_type": "code",
   "execution_count": null,
   "id": "044a1dba-7f93-4e2e-9d09-fc3ff7b7d611",
   "metadata": {},
   "outputs": [],
   "source": [
    "for inc in unique_inclinations:\n",
    "    plt.loglog(wavelengths, get_log_space_median(seds[desired_opening_angle & (inclination == inc)]), color=cm.plasma(inc / unique_inclinations.max()))\n",
    "plt.loglog(wavelengths, get_log_space_median(seds), 'k-.', label=r'Log Median (All)')\n",
    "plt.legend()\n",
    "plt.xlim([10**3, None])\n",
    "plt.ylim([10**-3, 1])\n",
    "plt.xlabel('Wavelength')\n",
    "plt.ylabel('Flux')                                   "
   ]
  },
  {
   "cell_type": "markdown",
   "id": "ae0a4cb7-36a5-4b5e-9567-3813db4c3f44",
   "metadata": {},
   "source": [
    "From the plot above, we can see that the inclination has an effect on the 'break' around $10^4$.\n",
    "\n",
    "We now pick some fixed parameters using values which are assumed in the simulation author's paper, when varying one parameter and fixing the rest."
   ]
  },
  {
   "cell_type": "code",
   "execution_count": null,
   "id": "328b4e1c-6f5a-40b0-84b6-ce6007daeb25",
   "metadata": {},
   "outputs": [],
   "source": [
    "figure_suggested_params = (n0 == 5) & (opening_angle == 30) & (q == 2) & (y == 30) & (tv == 60)\n",
    "figure_suggested_params.sum()  # number of samples satisfying these constraints"
   ]
  },
  {
   "cell_type": "code",
   "execution_count": null,
   "id": "2073104b-b240-4860-aaa2-82b0795811ab",
   "metadata": {},
   "outputs": [],
   "source": [
    "pd.unique(inclination[figure_suggested_params])"
   ]
  },
  {
   "cell_type": "markdown",
   "id": "ffa40b37-1b94-4ef4-b665-b080194c4b1e",
   "metadata": {},
   "source": [
    "Hence we have 10 possibilities, one for each inclination value. If we step through them, what do they look like"
   ]
  },
  {
   "cell_type": "code",
   "execution_count": null,
   "id": "b25fb09d-5467-4939-a285-0bacc9353df7",
   "metadata": {},
   "outputs": [],
   "source": [
    "unique_inclinations = inclination[figure_suggested_params]\n",
    "for inc in unique_inclinations:\n",
    "    plt.loglog(wavelengths, \n",
    "               get_log_space_median(seds[figure_suggested_params & (inclination == inc)]), \n",
    "               color=cm.plasma(inc / unique_inclinations.max()))\n",
    "plt.xlim([10**3, None])\n",
    "plt.ylim([10**-3, 1])\n",
    "plt.xlabel('Wavelength')\n",
    "plt.ylabel('Flux')"
   ]
  },
  {
   "cell_type": "markdown",
   "id": "0c23ec31-c7f3-4e76-962d-d2a6c7eeb3a4",
   "metadata": {},
   "source": [
    "At a glance, these two plots seem quite similar. Fixing the other parameters doesn't seem to have made as large an effect as fixing the inclination would have (which accounts for most of the variation in Flux)"
   ]
  },
  {
   "cell_type": "markdown",
   "id": "f5f41bdf-f79b-45c7-a39f-4294ac46fed3",
   "metadata": {},
   "source": [
    "## Creating the Torus Model\n",
    "\n",
    "We will make these 10 SEDs (10 because of the parameter grid) into a smooth callable function of (wavelength, inclination), interpolating in log space. This effectively places a log-uniform prior on these values."
   ]
  },
  {
   "cell_type": "code",
   "execution_count": null,
   "id": "f98caa97-4be1-418b-9235-695a8a6d9aa2",
   "metadata": {},
   "outputs": [],
   "source": [
    "func = interp2d(x=np.log10(wavelengths), \n",
    "                y=inclination[figure_suggested_params],\n",
    "                z=np.log10(seds[figure_suggested_params]))"
   ]
  },
  {
   "cell_type": "code",
   "execution_count": null,
   "id": "97042ce0-10d4-4e15-bfdc-08861afd2997",
   "metadata": {},
   "outputs": [],
   "source": [
    "# Save the model to dill:\n",
    "with open(cfg.QuasarTemplateParams.torus_model_loc, 'wb') as file:\n",
    "    dill.dump(func, file)"
   ]
  },
  {
   "cell_type": "markdown",
   "id": "bc1dd70e-ac14-463e-a58d-cdac9ba5b7ce",
   "metadata": {},
   "source": [
    "Plot the interpolated model (`func`)"
   ]
  },
  {
   "cell_type": "code",
   "execution_count": null,
   "id": "486b5eb6-b403-4acd-a00b-4510926c9a0a",
   "metadata": {},
   "outputs": [],
   "source": [
    "import matplotlib as mpl\n",
    "sns.set_style('ticks')\n",
    "x = np.log10(wavelengths)\n",
    "# Set the possible inclination values to[0, 90]\n",
    "inclinations_y = np.linspace(0, 90, 300)\n",
    "for y in inclinations_y:\n",
    "    z = func(x=x, y=y)\n",
    "    plt.loglog(10**x, 10**z, color=cm.plasma(y / inclinations_y.max()))\n",
    "plt.xlim([10**4, 10**6])\n",
    "plt.ylim([10**-2, 1])\n",
    "plt.xlabel('Wavelength (A)')\n",
    "plt.ylabel('Flux (normalised)')\n",
    "\n",
    "cbar = plt.colorbar(cm.ScalarMappable(cmap=cm.plasma, norm = mpl.colors.Normalize(vmin=0.,vmax=inclinations_y.max())))\n",
    "cbar_label = r'Inclination ($\\deg$)'\n",
    "cbar.ax.get_yaxis().labelpad=25\n",
    "cbar.ax.set_ylabel(cbar_label, rotation=270)\n",
    "plt.tight_layout()"
   ]
  },
  {
   "cell_type": "code",
   "execution_count": null,
   "id": "9afdf34c-d714-4ad2-a131-ecf7f9aa4c66",
   "metadata": {},
   "outputs": [],
   "source": []
  }
 ],
 "metadata": {
  "kernelspec": {
   "display_name": "agnvenv (Python 3.9)",
   "language": "python",
   "name": "agnvenv"
  },
  "language_info": {
   "codemirror_mode": {
    "name": "ipython",
    "version": 3
   },
   "file_extension": ".py",
   "mimetype": "text/x-python",
   "name": "python",
   "nbconvert_exporter": "python",
   "pygments_lexer": "ipython3",
   "version": "3.9.6"
  }
 },
 "nbformat": 4,
 "nbformat_minor": 5
}
