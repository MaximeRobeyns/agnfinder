{
 "cells": [
  {
   "cell_type": "markdown",
   "id": "a6fd2d59-3ad7-4abf-8e34-edb30d71af95",
   "metadata": {},
   "source": [
    "# Sampling Run\n",
    "\n",
    "This notebook is only for testing the sampling procedure, not to generate cubes for real.\n",
    "\n",
    "To do this, you please set the intended configurations in the `config.py` file, and then run `make sim`."
   ]
  },
  {
   "cell_type": "code",
   "execution_count": null,
   "id": "d4cf7885-525b-4f9d-9867-f94e6c34577d",
   "metadata": {},
   "outputs": [],
   "source": [
    "import os\n",
    "import tqdm\n",
    "import h5py\n",
    "import logging\n",
    "import argparse\n",
    "import torch as t\n",
    "import numpy as np\n",
    "\n",
    "import agnfinder\n",
    "\n",
    "from agnfinder import config as cfg\n",
    "from agnfinder.simulation import Simulator, utils\n",
    "from agnfinder.types import paramspace_t\n",
    "from agnfinder.prospector import Prospector\n",
    "\n",
    "try:\n",
    "    assert(_SETUP)\n",
    "except NameError:\n",
    "    cfg.configure_logging()\n",
    "    os.chdir(os.path.split(agnfinder.__path__[0])[0])\n",
    "    _SETUP = True"
   ]
  },
  {
   "cell_type": "code",
   "execution_count": null,
   "id": "d82f5009-7358-4533-9b2d-3805e5488f0f",
   "metadata": {},
   "outputs": [],
   "source": [
    "# Get the defaults from config.py\n",
    "class SamplingParams(cfg.SamplingParams):\n",
    "    n_samples: int = 50000\n",
    "    concurrency: int = 2  # set this to os.cpu_count() (or slightly less)\n",
    "    save_dir: str = './data/nbrun'\n",
    "\n",
    "sp = SamplingParams()\n",
    "fp = cfg.FreeParams()\n",
    "sps = cfg.SPSParams()"
   ]
  },
  {
   "cell_type": "code",
   "execution_count": null,
   "id": "e6a2f279-140f-4c28-924b-1c412f151e7f",
   "metadata": {},
   "outputs": [],
   "source": [
    "kwargs = {\n",
    "    'rshift_min': 0.,\n",
    "    'rshift_max': 4.,\n",
    "    'worker_idx': 0\n",
    "}\n",
    "\n",
    "sim = Simulator(sp=sp, fp=fp, sps=sps, **kwargs)"
   ]
  },
  {
   "cell_type": "code",
   "execution_count": null,
   "id": "a80897d7-ccda-46c0-9268-680d1a1bcab3",
   "metadata": {},
   "outputs": [],
   "source": [
    "sim.sample_theta()"
   ]
  },
  {
   "cell_type": "code",
   "execution_count": null,
   "id": "eeb4093f-8d1f-48ba-88d3-ffd0eb8056ef",
   "metadata": {},
   "outputs": [],
   "source": [
    "sim.create_forward_model()"
   ]
  },
  {
   "cell_type": "code",
   "execution_count": null,
   "id": "c0576aca-6f54-40b2-9fd3-525e1ff9e6ac",
   "metadata": {},
   "outputs": [],
   "source": [
    "sim.run()"
   ]
  },
  {
   "cell_type": "code",
   "execution_count": null,
   "id": "e9ad3c11-2e3f-48f7-97bc-2890552da521",
   "metadata": {},
   "outputs": [],
   "source": [
    "sim.save_samples()"
   ]
  },
  {
   "cell_type": "code",
   "execution_count": null,
   "id": "5ca01ca8-089a-4719-b6c3-cfa24dc8f8f8",
   "metadata": {},
   "outputs": [],
   "source": [
    "sim.galaxy_photometry.shape"
   ]
  }
 ],
 "metadata": {
  "kernelspec": {
   "display_name": "agnvenv (Python 3.9)",
   "language": "python",
   "name": "agnvenv"
  },
  "language_info": {
   "codemirror_mode": {
    "name": "ipython",
    "version": 3
   },
   "file_extension": ".py",
   "mimetype": "text/x-python",
   "name": "python",
   "nbconvert_exporter": "python",
   "pygments_lexer": "ipython3",
   "version": "3.9.7"
  }
 },
 "nbformat": 4,
 "nbformat_minor": 5
}
