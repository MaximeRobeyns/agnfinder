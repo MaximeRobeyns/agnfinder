{
 "cells": [
  {
   "cell_type": "markdown",
   "id": "63e77e0c-764a-43bd-a478-d2af7d1bfd55",
   "metadata": {},
   "source": [
    "# Single-sample simulation\n",
    "\n",
    "This notebook is for the development of a function to perform a single forward pass of the SPS model given a set of physical galaxy parameters.\n",
    "\n",
    "TODO: delete when complete"
   ]
  },
  {
   "cell_type": "code",
   "execution_count": null,
   "id": "d654cc92-cad5-4a70-aa15-4f374b3524f4",
   "metadata": {},
   "outputs": [],
   "source": [
    "import os\n",
    "\n",
    "import agnfinder\n",
    "\n",
    "from agnfinder import config as cfg\n",
    "from agnfinder.simulation import Simulator_f\n",
    "\n",
    "try: # one-time setup\n",
    "    assert(_SETUP)\n",
    "except NameError:\n",
    "    cfg.configure_logging()\n",
    "    os.chdir(os.path.split(agnfinder.__path__[0])[0])\n",
    "    _SETUP = True"
   ]
  },
  {
   "cell_type": "markdown",
   "id": "732460ee-f19d-4929-8eab-627528238b28",
   "metadata": {},
   "source": [
    "We now proceed by performing a subset of the operations carried out in the `Simulator` class.\n",
    "\n",
    "Recall that the simulator (i.e. `prospector`) expects _denormalised_ parameters $\\theta$, so we will need to utilise a `denormalise_theta` method, which will in turn need to know the possible ranges of physical parameters."
   ]
  },
  {
   "cell_type": "code",
   "execution_count": null,
   "id": "23a1709a-8fa3-4a5f-a07c-4c58b0f1cb9e",
   "metadata": {},
   "outputs": [],
   "source": [
    "# Uses the configured FreeParams, SamplingParams and SPSParams by default\n",
    "# Should not output any non-error logs due to quiet=True default.\n",
    "s = Simulator_f()"
   ]
  },
  {
   "cell_type": "code",
   "execution_count": null,
   "id": "ea30ab70-028d-4e91-acae-4804707dec5b",
   "metadata": {},
   "outputs": [],
   "source": [
    "phot = s(normalised_theta_sample, True)"
   ]
  }
 ],
 "metadata": {
  "kernelspec": {
   "display_name": "agnvenv (Python 3.9)",
   "language": "python",
   "name": "agnvenv"
  },
  "language_info": {
   "codemirror_mode": {
    "name": "ipython",
    "version": 3
   },
   "file_extension": ".py",
   "mimetype": "text/x-python",
   "name": "python",
   "nbconvert_exporter": "python",
   "pygments_lexer": "ipython3",
   "version": "3.9.7"
  }
 },
 "nbformat": 4,
 "nbformat_minor": 5
}
