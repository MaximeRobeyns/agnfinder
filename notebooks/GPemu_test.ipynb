{
 "cells": [
  {
   "cell_type": "code",
   "execution_count": 27,
   "metadata": {},
   "outputs": [],
   "source": [
    "import numpy as np\n",
    "from sklearn.decomposition import PCA\n",
    "import h5py\n",
    "import pickle\n",
    "import matplotlib.pyplot as plt\n",
    "import GPy"
   ]
  },
  {
   "cell_type": "code",
   "execution_count": 28,
   "metadata": {},
   "outputs": [],
   "source": [
    "def gp_predict(model, params):\n",
    "    \"\"\"\n",
    "    Predicts the weights matrix to feed inverse PCA from physical parameters.\n",
    "\n",
    "    Input :\n",
    "    - model : GP model\n",
    "    - params : physical parameters (flux, radius, shear profile, psf fwhm)\n",
    "\n",
    "    Output :\n",
    "    - predic[0] : predicted weights\n",
    "    \"\"\"\n",
    "    predict = model.predict(params)\n",
    "    return predict[0]\n",
    "\n",
    "\n",
    "def emulator(pca_model, gp_model, params):\n",
    "    \"\"\"\n",
    "    Emulates new images from physical parameters.\n",
    "\n",
    "    Input :\n",
    "    - pca : PCA model\n",
    "    - gp_model : GP model\n",
    "    - params : physical parameters (flux, radius, shear profile, psf fwhm)\n",
    "\n",
    "    Output :\n",
    "    - reconstructed : Emulated image\n",
    "    \"\"\"\n",
    "    # Weights prediction\n",
    "    params = np.expand_dims(params, axis = 0)\n",
    "    pred_weights = gp_predict(gp_model, params)\n",
    "\n",
    "    # Inverse PCA (pred_weights * basis + mean)\n",
    "    reconstructed = pca_model.inverse_transform(pred_weights)\n",
    "    return reconstructed[0]\n"
   ]
  },
  {
   "cell_type": "code",
   "execution_count": 29,
   "metadata": {},
   "outputs": [],
   "source": [
    "save_loc = \"/Users/nramachandra/Desktop/Projects/AGNfinder/FSPS/\"\n",
    "\n",
    "with h5py.File(save_loc + 'fsps_cache.hdf5', 'r') as f:\n",
    "   X_loaded = f['fsps_cache']['X'][...]\n",
    "   Y_loaded = f['fsps_cache']['Y'][...] \n"
   ]
  },
  {
   "cell_type": "code",
   "execution_count": 30,
   "metadata": {},
   "outputs": [],
   "source": [
    "## logging and clipping\n",
    "# X_loaded = np.log10(X_loaded)\n",
    "Y_loaded = np.log10(Y_loaded[:, 100:])\n",
    "\n",
    "# ### rescaling \n",
    "y_mean = np.mean(Y_loaded, axis=0)\n",
    "y_mult = np.max(Y_loaded - y_mean, axis=0)\n",
    "\n",
    "y_train = (Y_loaded - y_mean)/y_mult\n",
    "\n",
    "# ### rescaling \n",
    "x_mean = np.mean(X_loaded, axis=0)\n",
    "x_mult = np.max(X_loaded - x_mean, axis=0)\n",
    "\n",
    "x_train = (X_loaded - x_mean)/x_mult"
   ]
  },
  {
   "cell_type": "markdown",
   "metadata": {},
   "source": [
    "## loading trained GP and PCA models"
   ]
  },
  {
   "cell_type": "code",
   "execution_count": 32,
   "metadata": {},
   "outputs": [],
   "source": [
    "num_params = 3\n",
    "num_bases = 10\n",
    "\n",
    "with open('pcaModel.pickle', 'rb') as handle:\n",
    "    pca_model = pickle.load(handle)\n",
    "\n",
    "gp_model = GPy.models.GPRegression.load_model('gpfit_'+str(num_bases)+'_'+str(num_params) + '.zip')"
   ]
  },
  {
   "cell_type": "code",
   "execution_count": null,
   "metadata": {},
   "outputs": [],
   "source": [
    "from matplotlib import gridspec\n",
    "from itertools import cycle\n",
    "import matplotlib.ticker as ticker\n",
    "\n",
    "plt.rc('text', usetex=True)  # Slower\n",
    "plt.rc('font', size=18)  # 18 usually\n",
    "\n",
    "plt.figure(999, figsize=(14, 12))\n",
    "\n",
    "\n",
    "gs = gridspec.GridSpec(2, 1, height_ratios=[3, 1])\n",
    "gs.update(hspace=0.1, left=0.2, bottom=0.15, wspace=0.25)\n",
    "ax0 = plt.subplot(gs[0])\n",
    "ax1 = plt.subplot(gs[1])\n",
    "\n",
    "# ax0.set_ylabel(r'$P(k)$',  fontsize = 18)\n",
    "\n",
    "# ax1.set_xlabel(r'$k$',  fontsize = 18)\n",
    "ax1.axhline(y=0, ls='dashed')\n",
    "\n",
    "\n",
    "ax0.set_yscale('log')\n",
    "ax0.set_xscale('log')\n",
    "ax1.set_xscale('log')\n",
    "\n",
    "ax0.plot(10**(  (y_train*y_mult) + y_mean ), 'k-', alpha = 0.01)\n",
    "\n",
    "ax1.set_ylabel(r'emu/test - 1',  fontsize = 18)\n",
    "\n",
    "\n",
    "start, end = ax0.get_ylim()\n",
    "ax0.yaxis.set_major_formatter(ticker.FormatStrFormatter('%0.1f'))\n",
    "\n",
    "color_id = 0\n",
    "for i in range(10):\n",
    "    color_id += 1\n",
    "    rand_idx = (np.random.randint(100, 2000))\n",
    "    rand_params = x_train[rand_idx]\n",
    "    y_emu = emulator(pca_model, gp_model, rand_params)\n",
    "    y_true = y_train[rand_idx]\n",
    "    ax0.plot(10**(  (y_emu.T*y_mult) + y_mean ), color=plt.cm.Set1(color_id), alpha = 0.5)\n",
    "    ax0.plot(10**( (y_true.T*y_mult) + y_mean ), '--', color=plt.cm.Set1(color_id))\n",
    "\n",
    "    ax1.plot((10**( (y_emu.T*y_mult) + y_mean) )/(10**( (y_true.T*y_mult) + y_mean) ) - 1, color=plt.cm.Set1(color_id))\n",
    "\n",
    "    \n",
    "plt.show()"
   ]
  },
  {
   "cell_type": "code",
   "execution_count": 34,
   "metadata": {},
   "outputs": [
    {
     "data": {
      "text/plain": [
       "array([0.67034251, 0.28784201, 0.01118953])"
      ]
     },
     "execution_count": 34,
     "metadata": {},
     "output_type": "execute_result"
    }
   ],
   "source": [
    "x_train[23]"
   ]
  },
  {
   "cell_type": "code",
   "execution_count": 36,
   "metadata": {},
   "outputs": [
    {
     "name": "stdout",
     "output_type": "stream",
     "text": [
      "5.68 ms ± 1.04 ms per loop (mean ± std. dev. of 7 runs, 100 loops each)\n"
     ]
    }
   ],
   "source": [
    "%%timeit\n",
    "\n",
    "emulator(pca_model, gp_model, rand_params)"
   ]
  },
  {
   "cell_type": "code",
   "execution_count": null,
   "metadata": {},
   "outputs": [],
   "source": []
  }
 ],
 "metadata": {
  "anaconda-cloud": {},
  "kernelspec": {
   "display_name": "Python [conda env:tf_gpu] *",
   "language": "python",
   "name": "conda-env-tf_gpu-py"
  },
  "language_info": {
   "codemirror_mode": {
    "name": "ipython",
    "version": 3
   },
   "file_extension": ".py",
   "mimetype": "text/x-python",
   "name": "python",
   "nbconvert_exporter": "python",
   "pygments_lexer": "ipython3",
   "version": "3.6.8"
  }
 },
 "nbformat": 4,
 "nbformat_minor": 2
}
