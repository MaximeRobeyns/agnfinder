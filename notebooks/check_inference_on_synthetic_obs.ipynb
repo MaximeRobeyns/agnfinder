{
 "cells": [
  {
   "cell_type": "markdown",
   "metadata": {},
   "source": [
    "# Check Inference on Synthetic Observations"
   ]
  },
  {
   "cell_type": "code",
   "execution_count": 6,
   "metadata": {},
   "outputs": [
    {
     "name": "stdout",
     "output_type": "stream",
     "text": [
      "The autoreload extension is already loaded. To reload it, use:\n",
      "  %reload_ext autoreload\n"
     ]
    }
   ],
   "source": [
    "%load_ext autoreload\n",
    "%autoreload 2\n",
    "%matplotlib inline"
   ]
  },
  {
   "cell_type": "code",
   "execution_count": 7,
   "metadata": {},
   "outputs": [],
   "source": [
    "import os\n",
    "\n",
    "import h5py\n",
    "import numpy as np\n",
    "import matplotlib.pyplot as plt\n",
    "from prospect.utils.obsutils import fix_obs\n",
    "\n",
    "from agnfinder.prospector import visualise, main, cpz_builders"
   ]
  },
  {
   "cell_type": "code",
   "execution_count": 8,
   "metadata": {},
   "outputs": [],
   "source": [
    "os.chdir('/home/mike/repos/agnfinder')"
   ]
  },
  {
   "cell_type": "code",
   "execution_count": null,
   "metadata": {},
   "outputs": [
    {
     "name": "stdout",
     "output_type": "stream",
     "text": [
      "/home/mike/repos/agnfinder\n"
     ]
    }
   ],
   "source": [
    "!pwd"
   ]
  },
  {
   "cell_type": "code",
   "execution_count": null,
   "metadata": {},
   "outputs": [],
   "source": [
    "galaxy_index = 1\n",
    "galaxy = main.load_galaxy(galaxy_index)\n",
    "redshift = galaxy['redshift']"
   ]
  },
  {
   "cell_type": "code",
   "execution_count": null,
   "metadata": {},
   "outputs": [],
   "source": [
    "agn_mass = True\n",
    "agn_eb_v = True\n",
    "agn_torus_mass = True\n",
    "igm_absorbtion = True"
   ]
  },
  {
   "cell_type": "code",
   "execution_count": null,
   "metadata": {},
   "outputs": [],
   "source": [
    "run_params, obs, model, sps = main.construct_problem(galaxy, redshift=redshift, agn_mass=agn_mass, agn_eb_v=agn_eb_v, agn_torus_mass=agn_torus_mass, igm_absorbtion=igm_absorbtion)"
   ]
  },
  {
   "cell_type": "markdown",
   "metadata": {},
   "source": [
    "sps should be an instance of my custom CSPSpecBasisAGN class"
   ]
  },
  {
   "cell_type": "code",
   "execution_count": null,
   "metadata": {},
   "outputs": [],
   "source": [
    "sps"
   ]
  },
  {
   "cell_type": "markdown",
   "metadata": {},
   "source": [
    "And model should include agn_mass and agn_eb_v"
   ]
  },
  {
   "cell_type": "code",
   "execution_count": null,
   "metadata": {},
   "outputs": [],
   "source": [
    "model.free_params"
   ]
  },
  {
   "cell_type": "code",
   "execution_count": null,
   "metadata": {},
   "outputs": [],
   "source": [
    "model.fixed_params"
   ]
  },
  {
   "cell_type": "code",
   "execution_count": null,
   "metadata": {},
   "outputs": [],
   "source": [
    "model_spectrum, model_photometry, _ = model.sed(model.theta, obs, sps)  # trigger fsps calculation, takes a couple of minutes - then cached"
   ]
  },
  {
   "cell_type": "code",
   "execution_count": null,
   "metadata": {},
   "outputs": [],
   "source": [
    "model_photometry"
   ]
  },
  {
   "cell_type": "code",
   "execution_count": null,
   "metadata": {},
   "outputs": [],
   "source": [
    "sps.quasar_flux"
   ]
  },
  {
   "cell_type": "code",
   "execution_count": null,
   "metadata": {},
   "outputs": [],
   "source": [
    "assert max(sps.quasar_flux) > min(sps.quasar_flux)  # quasar component should be SOMETHING"
   ]
  },
  {
   "cell_type": "markdown",
   "metadata": {},
   "source": [
    "## How does the SED change as we vary the AGN parameters?"
   ]
  },
  {
   "cell_type": "code",
   "execution_count": null,
   "metadata": {},
   "outputs": [],
   "source": [
    "model_param_index = dict(zip(model.free_params, range(len(model.free_params))))"
   ]
  },
  {
   "cell_type": "code",
   "execution_count": null,
   "metadata": {},
   "outputs": [],
   "source": [
    "theta_no_agn = model.theta.copy()\n",
    "theta_agn = model.theta.copy()\n",
    "\n",
    "# unobscured agn\n",
    "theta_agn[model_param_index['agn_mass']] = 1e15\n",
    "theta_agn[model_param_index['agn_torus_mass']] = 0\n",
    "theta_no_agn[model_param_index['agn_mass']] = 0\n",
    "theta_no_agn[model_param_index['agn_torus_mass']] = 0\n"
   ]
  },
  {
   "cell_type": "code",
   "execution_count": null,
   "metadata": {},
   "outputs": [],
   "source": [
    "fig, ax = plt.subplots(figsize=(16, 8))\n",
    "visualise.plot_model_at_obs(ax, model, theta_no_agn, obs, sps)  # no torus, so looks weirdly blue-only\n",
    "visualise.plot_model_at_obs(ax, model, theta_agn, obs, sps)  \n",
    "# plt.loglog(sps.wavelengths, sps.galaxy_flux, label='Galaxy')"
   ]
  },
  {
   "cell_type": "code",
   "execution_count": null,
   "metadata": {},
   "outputs": [],
   "source": [
    "observer_wavelengths = visualise.get_observer_frame_wavelengths(model, sps)"
   ]
  },
  {
   "cell_type": "code",
   "execution_count": null,
   "metadata": {},
   "outputs": [],
   "source": [
    "plt.loglog(observer_wavelengths, sps.galaxy_flux, label='Galaxy')\n",
    "plt.loglog(observer_wavelengths, sps.unextincted_quasar_flux, 'b--', label='Unextincted Quasar (not used)')\n",
    "plt.loglog(observer_wavelengths, sps.extincted_quasar_flux, label='Extincted Quasar')\n",
    "# plt.loglog(observer_wavelengths, sps.torus_flux, label='Torus')\n",
    "# plt.loglog(observer_wavelengths, sps.quasar_flux, 'k', label='Net (Quasar)')\n",
    "plt.legend()"
   ]
  },
  {
   "cell_type": "markdown",
   "metadata": {},
   "source": [
    "What if we add extinction?"
   ]
  },
  {
   "cell_type": "code",
   "execution_count": null,
   "metadata": {},
   "outputs": [],
   "source": [
    "theta_agn_extinction = theta_agn.copy()\n",
    "theta_agn_no_extinction = theta_agn.copy()\n",
    "\n",
    "theta_agn_extinction[model_param_index['agn_eb_v']] = 0.5\n",
    "theta_agn_no_extinction[model_param_index['agn_eb_v']] = 0"
   ]
  },
  {
   "cell_type": "code",
   "execution_count": null,
   "metadata": {},
   "outputs": [],
   "source": [
    "fig, ax = plt.subplots(figsize=(16, 8))\n",
    "visualise.plot_model_at_obs(ax, model, theta_agn_extinction, obs, sps)  \n",
    "visualise.plot_model_at_obs(ax, model, theta_agn_no_extinction, obs, sps)  # exactly as with AGN above"
   ]
  },
  {
   "cell_type": "markdown",
   "metadata": {},
   "source": [
    "What about with the AGN + Torus?"
   ]
  },
  {
   "cell_type": "code",
   "execution_count": null,
   "metadata": {},
   "outputs": [],
   "source": [
    "theta_agn_extinction_torus = theta_agn_extinction.copy()\n",
    "theta_agn_extinction_no_torus = theta_agn_extinction.copy()\n",
    "\n",
    "theta_agn_extinction_torus[model_param_index['agn_torus_mass']] = 1.\n",
    "theta_agn_extinction_no_torus[model_param_index['agn_torus_mass']] = 0."
   ]
  },
  {
   "cell_type": "code",
   "execution_count": null,
   "metadata": {},
   "outputs": [],
   "source": [
    "fig, ax = plt.subplots(figsize=(16, 8))\n",
    "# visualise.plot_model_at_obs(ax, model, theta_agn_extinction_no_torus, obs, sps)  \n",
    "visualise.plot_model_at_obs(ax, model, theta_agn_extinction_torus, obs, sps)"
   ]
  },
  {
   "cell_type": "code",
   "execution_count": null,
   "metadata": {},
   "outputs": [],
   "source": [
    "def plot_components(observer_wavelengths, sps):\n",
    "    plt.clf()\n",
    "    fig, ax = plt.subplots(figsize=(16, 6))\n",
    "    ax.loglog(sps.wavelengths, sps.galaxy_flux, 'g', label='Galaxy')\n",
    "    ax.loglog(sps.wavelengths, sps.unextincted_quasar_flux, 'b--', label='Unextincted Quasar (not used)')\n",
    "    ax.loglog(sps.wavelengths, sps.extincted_quasar_flux, 'b', label='Extincted Quasar')\n",
    "    ax.loglog(sps.wavelengths, sps.torus_flux, 'orange', label='Torus')\n",
    "    # ax.loglog(observer_wavelengths, sps.quasar_flux, 'k--', label='Net (Quasar)')\n",
    "    ax.loglog(sps.wavelengths, sps.quasar_flux + sps.galaxy_flux, 'k', label='Net (All)')\n",
    "    ax.legend()\n",
    "#     ax.set_ylim([1e-16, 1e-10])\n",
    "#     ax.set_xlim(1.5e2, 1e7)\n",
    "    ax.set_ylabel('Flux')\n",
    "    ax.set_xlabel('Wavelength (A, restframe)')\n",
    "    fig.tight_layout()"
   ]
  },
  {
   "cell_type": "code",
   "execution_count": null,
   "metadata": {},
   "outputs": [],
   "source": [
    "plot_components(observer_wavelengths, sps)\n",
    "plt.ylim([1e-30, 1e-13])\n",
    "plt.xlim([1e3, 1e7])"
   ]
  },
  {
   "cell_type": "code",
   "execution_count": null,
   "metadata": {},
   "outputs": [],
   "source": [
    "theta_agn[model_param_index['mass']]"
   ]
  },
  {
   "cell_type": "code",
   "execution_count": null,
   "metadata": {},
   "outputs": [],
   "source": []
  },
  {
   "cell_type": "markdown",
   "metadata": {},
   "source": [
    "## What does this look like for a model that we've actually fit?"
   ]
  },
  {
   "cell_type": "code",
   "execution_count": null,
   "metadata": {},
   "outputs": [],
   "source": [
    "def load_theta_from_samples(samples_loc):\n",
    "    with h5py.File(samples_loc, 'r') as f:\n",
    "        samples = f['samples'][...]\n",
    "        return np.median(samples, axis=0)"
   ]
  },
  {
   "cell_type": "code",
   "execution_count": null,
   "metadata": {},
   "outputs": [],
   "source": [
    "# old: AGN now 1e14 bigger"
   ]
  },
  {
   "cell_type": "markdown",
   "metadata": {},
   "source": [
    "### Quasar? (including 1e14 rescaling)"
   ]
  },
  {
   "cell_type": "code",
   "execution_count": null,
   "metadata": {},
   "outputs": [],
   "source": [
    "samples_loc = '/home/mike/repos/agnfinder/results/qso_fixed_inclination_bigger_agn/qso_bigger_agn_mass_fixed_inclination_0_1564527506_multinest_samples.h5py'\n",
    "assert os.path.isfile(samples_loc)\n",
    "fit_theta = load_theta_from_samples(samples_loc)\n",
    "dict(zip(model.free_params, fit_theta))"
   ]
  },
  {
   "cell_type": "code",
   "execution_count": null,
   "metadata": {},
   "outputs": [],
   "source": [
    "fig, ax = plt.subplots(figsize=(16, 6))\n",
    "visualise.plot_model_at_obs(ax, model, fit_theta, obs, sps)  \n",
    "ax.set_ylim([1e-7, 1e-4])\n",
    "ax.set_xlim([1e3, 1e7])"
   ]
  },
  {
   "cell_type": "code",
   "execution_count": null,
   "metadata": {},
   "outputs": [],
   "source": [
    "plot_components(observer_wavelengths, sps)\n",
    "plt.ylim([1e-17, 1e-10])\n",
    "plt.xlim([1e3, 1e7])"
   ]
  },
  {
   "cell_type": "markdown",
   "metadata": {},
   "source": [
    "### Starforming?"
   ]
  },
  {
   "cell_type": "code",
   "execution_count": null,
   "metadata": {},
   "outputs": [],
   "source": [
    "samples_loc = '/home/mike/repos/agnfinder/results/qso_fixed_inclination_bigger_agn/starforming_bigger_agn_mass_fixed_inclination_1_1564532765_multinest_samples.h5py'\n",
    "assert os.path.isfile(samples_loc)\n",
    "fit_theta = load_theta_from_samples(samples_loc)\n",
    "dict(zip(model.free_params, fit_theta))\n",
    "\n",
    "fig, ax = plt.subplots(figsize=(16, 6))\n",
    "visualise.plot_model_at_obs(ax, model, fit_theta, obs, sps)  \n",
    "# ax.set_ylim([1e-7, 1e-4])\n",
    "ax.set_xlim([1e3, 1e7])"
   ]
  },
  {
   "cell_type": "markdown",
   "metadata": {},
   "source": [
    "### AGN?"
   ]
  },
  {
   "cell_type": "code",
   "execution_count": null,
   "metadata": {},
   "outputs": [],
   "source": [
    "samples_loc = '/home/mike/repos/agnfinder/results/qso_fixed_inclination_bigger_agn/agn_bigger_agn_mass_fixed_inclination_0_1564532822_multinest_samples.h5py'\n",
    "assert os.path.isfile(samples_loc)\n",
    "fit_theta = load_theta_from_samples(samples_loc)\n",
    "dict(zip(model.free_params, fit_theta))\n",
    "\n",
    "fig, ax = plt.subplots(figsize=(16, 6))\n",
    "visualise.plot_model_at_obs(ax, model, fit_theta, obs, sps)  \n",
    "# ax.set_ylim([1e-7, 1e-4])\n",
    "ax.set_xlim([1e3, 1e7])"
   ]
  },
  {
   "cell_type": "markdown",
   "metadata": {},
   "source": [
    "## Can we recover the original parameters?"
   ]
  },
  {
   "cell_type": "code",
   "execution_count": null,
   "metadata": {},
   "outputs": [],
   "source": [
    "assert False"
   ]
  },
  {
   "cell_type": "code",
   "execution_count": null,
   "metadata": {},
   "outputs": [],
   "source": [
    "theta_to_recover = theta_agn_extinction"
   ]
  },
  {
   "cell_type": "code",
   "execution_count": null,
   "metadata": {},
   "outputs": [],
   "source": [
    "model_spectrum, model_photometry, _ = model.sed(theta_to_recover, obs, sps)  # trigger fsps calculation, takes a couple of minutes - then cached"
   ]
  },
  {
   "cell_type": "code",
   "execution_count": null,
   "metadata": {},
   "outputs": [],
   "source": [
    "def make_synthetic_obs_from_model(real_obs, maggies, snr=10.):\n",
    "    synthetic_obs = {}\n",
    "    synthetic_obs[\"filters\"] =  real_obs['filters']\n",
    "    synthetic_obs[\"maggies\"] = maggies\n",
    "    synthetic_obs['maggies_unc'] = maggies / snr\n",
    "\n",
    "    synthetic_obs[\"phot_mask\"] = np.array([True for _ in synthetic_obs['filters']])\n",
    "    synthetic_obs[\"phot_wave\"] = np.array([f.wave_effective for f in synthetic_obs[\"filters\"]])\n",
    "    synthetic_obs[\"wavelength\"] = None\n",
    "    synthetic_obs[\"spectrum\"] = None\n",
    "    synthetic_obs['unc'] = None\n",
    "    synthetic_obs['mask'] = None\n",
    "    synthetic_obs = fix_obs(synthetic_obs)\n",
    "    return synthetic_obs\n"
   ]
  },
  {
   "cell_type": "code",
   "execution_count": null,
   "metadata": {},
   "outputs": [],
   "source": [
    "synthetic_obs = make_synthetic_obs_from_model(obs, model_photometry)"
   ]
  },
  {
   "cell_type": "markdown",
   "metadata": {},
   "source": [
    "### Max Likelihood (starting from correct values, so unhelpful!)"
   ]
  },
  {
   "cell_type": "code",
   "execution_count": null,
   "metadata": {},
   "outputs": [],
   "source": [
    "# theta_best, time_elapsed = main.fit_galaxy(run_params, synthetic_obs, model, sps)"
   ]
  },
  {
   "cell_type": "markdown",
   "metadata": {},
   "source": [
    "### MCMC"
   ]
  },
  {
   "cell_type": "code",
   "execution_count": null,
   "metadata": {},
   "outputs": [],
   "source": [
    "samples, mcmc_time_elapsed = main.mcmc_galaxy(run_params, synthetic_obs, model, sps, initial_theta=None, test=False)"
   ]
  },
  {
   "cell_type": "code",
   "execution_count": null,
   "metadata": {},
   "outputs": [],
   "source": [
    "synthetic_obs = build_synthetic_obs_from_model(obs, model_photometry, snr=10.)"
   ]
  },
  {
   "cell_type": "code",
   "execution_count": null,
   "metadata": {},
   "outputs": [],
   "source": [
    "visualise.visualise_obs(synthetic_obs)"
   ]
  },
  {
   "cell_type": "code",
   "execution_count": null,
   "metadata": {},
   "outputs": [],
   "source": [
    "name = 'inference_to_recover_theta'\n",
    "output_dir = '/home/mike/repos/agnfinder/results'"
   ]
  },
  {
   "cell_type": "code",
   "execution_count": null,
   "metadata": {},
   "outputs": [],
   "source": [
    "sample_loc = os.path.join(output_dir, '{}_mcmc_samples.h5py'.format(name))\n",
    "main.save_samples(samples, model, sample_loc)\n",
    "corner_loc = os.path.join(output_dir, '{}_mcmc_corner.png'.format(name))\n",
    "main.save_corner(samples[int(len(samples)/2):], model, corner_loc)  # nested sampling has no burn-in phase, early samples are bad"
   ]
  },
  {
   "cell_type": "code",
   "execution_count": null,
   "metadata": {},
   "outputs": [],
   "source": [
    "theta_to_recover"
   ]
  },
  {
   "cell_type": "code",
   "execution_count": null,
   "metadata": {},
   "outputs": [],
   "source": [
    "import corner"
   ]
  },
  {
   "cell_type": "code",
   "execution_count": null,
   "metadata": {},
   "outputs": [],
   "source": [
    "for index in range(len(theta_to_recover)):\n",
    "    print('Name: {}'.format(model.free_params[index]))\n",
    "    print('True value: {:3.1E}'.format(theta_to_recover[index]))\n",
    "    low, med, up = corner.quantile(samples[:, index], [.1, .5, .9])\n",
    "    print('Estimate: {:3.1E} (min {:3.2E}, max {:3.3E})'.format(low, med, up))\n",
    "    print('\\n')\n",
    "    "
   ]
  },
  {
   "cell_type": "code",
   "execution_count": null,
   "metadata": {},
   "outputs": [],
   "source": [
    "traces_loc = os.path.join(output_dir, '{}_mcmc_traces.png'.format(name))\n",
    "main.save_sed_traces(samples[-2000:], synthetic_obs, model, sps, traces_loc)\n"
   ]
  },
  {
   "cell_type": "code",
   "execution_count": null,
   "metadata": {},
   "outputs": [],
   "source": [
    "plt.loglog(sps.wavelengths, sps.extincted_quasar_flux)\n",
    "_, spectra, _ = sps.get_galaxy_spectrum()\n",
    "plt.loglog(sps.wavelengths, spectra)"
   ]
  },
  {
   "cell_type": "code",
   "execution_count": null,
   "metadata": {},
   "outputs": [],
   "source": []
  },
  {
   "cell_type": "code",
   "execution_count": null,
   "metadata": {},
   "outputs": [],
   "source": [
    "len(sps.wavelengths)"
   ]
  },
  {
   "cell_type": "code",
   "execution_count": null,
   "metadata": {},
   "outputs": [],
   "source": [
    "sps.extincted_quasar_flux.sum() / model_spectrum.sum()"
   ]
  },
  {
   "cell_type": "code",
   "execution_count": null,
   "metadata": {},
   "outputs": [],
   "source": [
    "len(sps.extincted_quasar_flux)"
   ]
  },
  {
   "cell_type": "code",
   "execution_count": null,
   "metadata": {},
   "outputs": [],
   "source": [
    "len(model_spectrum)"
   ]
  },
  {
   "cell_type": "code",
   "execution_count": null,
   "metadata": {},
   "outputs": [],
   "source": []
  }
 ],
 "metadata": {
  "kernelspec": {
   "display_name": "Python 3",
   "language": "python",
   "name": "python3"
  },
  "language_info": {
   "codemirror_mode": {
    "name": "ipython",
    "version": 3
   },
   "file_extension": ".py",
   "mimetype": "text/x-python",
   "name": "python",
   "nbconvert_exporter": "python",
   "pygments_lexer": "ipython3",
   "version": "3.6.7"
  }
 },
 "nbformat": 4,
 "nbformat_minor": 2
}
