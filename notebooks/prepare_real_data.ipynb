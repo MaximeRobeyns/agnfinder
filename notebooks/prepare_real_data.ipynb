{
 "cells": [
  {
   "cell_type": "code",
   "execution_count": 1,
   "metadata": {},
   "outputs": [],
   "source": [
    "%load_ext autoreload\n",
    "%autoreload 2\n",
    "%matplotlib inline"
   ]
  },
  {
   "cell_type": "code",
   "execution_count": 2,
   "metadata": {},
   "outputs": [],
   "source": [
    "import os\n",
    "import json\n",
    "import glob\n",
    "\n",
    "import tensorflow as tf\n",
    "import numpy as np\n",
    "import pandas as pd\n",
    "from astropy.table import Table\n",
    "import matplotlib.pyplot as plt\n",
    "import seaborn as sns\n",
    "sns.set_context('notebook')"
   ]
  },
  {
   "cell_type": "code",
   "execution_count": 4,
   "metadata": {},
   "outputs": [
    {
     "name": "stderr",
     "output_type": "stream",
     "text": [
      "Using TensorFlow backend.\n"
     ]
    }
   ],
   "source": [
    "from agnfinder.prospector import load_photometry\n",
    "from agnfinder.tf_sampling import deep_emulator"
   ]
  },
  {
   "cell_type": "code",
   "execution_count": 15,
   "metadata": {},
   "outputs": [],
   "source": [
    "data_dir = '/media/mike/beta/agnfinder/uK_IR/selected'\n",
    "assert os.path.isdir(data_dir)\n",
    "fits_locs = glob.glob(data_dir + '/*.fits')\n",
    "assert fits_locs"
   ]
  },
  {
   "cell_type": "code",
   "execution_count": 14,
   "metadata": {},
   "outputs": [],
   "source": [
    "for fits_loc in fits_locs:\n",
    "    fits = Table.read(fits_loc)\n",
    "    df = fits.to_pandas()\n",
    "    parquet_loc = fits_loc.rstrip('fits') + 'parquet'\n",
    "    df.to_parquet(parquet_loc)"
   ]
  },
  {
   "cell_type": "code",
   "execution_count": null,
   "metadata": {},
   "outputs": [],
   "source": []
  },
  {
   "cell_type": "code",
   "execution_count": 23,
   "metadata": {},
   "outputs": [],
   "source": [
    "parquet_locs = glob.glob(data_dir + '/*.parquet')\n",
    "assert parquet_locs"
   ]
  },
  {
   "cell_type": "code",
   "execution_count": 24,
   "metadata": {},
   "outputs": [],
   "source": [
    "def load_real_galaxy(parquet_loc):\n",
    "    # not designed to scale easily, loads df every time. Can change to hdf5 later\n",
    "    df = pd.read_parquet(parquet_loc)\n",
    "    galaxy = df.iloc[0]\n",
    "    _, maggies, maggies_unc = load_photometry.load_maggies_from_galaxy(galaxy, reliable=True)\n",
    "    return maggies, maggies_unc"
   ]
  },
  {
   "cell_type": "code",
   "execution_count": 27,
   "metadata": {},
   "outputs": [],
   "source": [
    "maggies, maggies_unc = load_real_galaxy(parquet_locs[0])"
   ]
  },
  {
   "cell_type": "code",
   "execution_count": 8,
   "metadata": {},
   "outputs": [],
   "source": []
  },
  {
   "cell_type": "code",
   "execution_count": 13,
   "metadata": {},
   "outputs": [
    {
     "data": {
      "text/plain": [
       "array([8.97925081e-09, 5.50088098e-08, 1.36326123e-07, 2.03466345e-07,\n",
       "       2.86353580e-07, 4.03908316e-07, 3.27287289e-07, 3.92900064e-07,\n",
       "       2.73501478e-07, 2.32374996e-07, 1.96871625e-07, 1.25575484e-07])"
      ]
     },
     "execution_count": 13,
     "metadata": {},
     "output_type": "execute_result"
    }
   ],
   "source": [
    "maggies"
   ]
  },
  {
   "cell_type": "code",
   "execution_count": 10,
   "metadata": {},
   "outputs": [
    {
     "data": {
      "text/plain": [
       "array([8.97925081e-09, 5.50088098e-08, 1.36326123e-07, 2.03466345e-07,\n",
       "       2.86353580e-07, 4.03908316e-07, 3.27287289e-07, 3.92900064e-07,\n",
       "       2.73501478e-07, 2.32374996e-07, 1.96871625e-07, 1.25575484e-07])"
      ]
     },
     "execution_count": 10,
     "metadata": {},
     "output_type": "execute_result"
    }
   ],
   "source": [
    "deep_emulator.denormalise_photometry(deep_emulator.normalise_photometry(maggies))"
   ]
  },
  {
   "cell_type": "code",
   "execution_count": 11,
   "metadata": {},
   "outputs": [],
   "source": [
    "# deep_emulator.normalise_photometry(maggies_unc)"
   ]
  },
  {
   "cell_type": "code",
   "execution_count": 12,
   "metadata": {},
   "outputs": [],
   "source": [
    "# parquet_loc = fits_loc.rstrip('.fits') + '.parquet'\n",
    "# parquet_loc\n",
    "# if not os.path.exists(parquet_loc):\n",
    "#     df.to_parquet(parquet_loc)"
   ]
  },
  {
   "cell_type": "code",
   "execution_count": null,
   "metadata": {},
   "outputs": [],
   "source": []
  },
  {
   "cell_type": "code",
   "execution_count": null,
   "metadata": {},
   "outputs": [],
   "source": []
  }
 ],
 "metadata": {
  "kernelspec": {
   "display_name": "Python 3",
   "language": "python",
   "name": "python3"
  },
  "language_info": {
   "codemirror_mode": {
    "name": "ipython",
    "version": 3
   },
   "file_extension": ".py",
   "mimetype": "text/x-python",
   "name": "python",
   "nbconvert_exporter": "python",
   "pygments_lexer": "ipython3",
   "version": "3.7.5"
  }
 },
 "nbformat": 4,
 "nbformat_minor": 4
}
