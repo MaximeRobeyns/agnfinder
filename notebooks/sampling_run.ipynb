{
 "cells": [
  {
   "cell_type": "code",
   "execution_count": 1,
   "id": "d4cf7885-525b-4f9d-9867-f94e6c34577d",
   "metadata": {},
   "outputs": [],
   "source": [
    "import os\n",
    "import tqdm\n",
    "import h5py\n",
    "import logging\n",
    "import argparse\n",
    "import torch as t\n",
    "import numpy as np\n",
    "\n",
    "from agnfinder import config as cfg\n",
    "from agnfinder.simulation import Simulator, utils\n",
    "from agnfinder.types import paramspace_t\n",
    "from agnfinder.prospector import Prospector"
   ]
  },
  {
   "cell_type": "code",
   "execution_count": 2,
   "id": "77e6538e-ce4c-48d1-b894-d4a9f4f4f7a7",
   "metadata": {},
   "outputs": [
    {
     "name": "stdout",
     "output_type": "stream",
     "text": [
      "[D INFO] \n",
      "\n",
      "\n",
      "\n",
      "\n",
      "~~~~~~~~~~~~~~~~~~~~~~~~~~~~~~~~~~~ New Run ~~~~~~~~~~~~~~~~~~~~~~~~~~~~~~~~~~~\n",
      "\n",
      " config.py:264: \n"
     ]
    }
   ],
   "source": [
    "# change working directory to root of `agnfinder` project\n",
    "os.chdir(os.path.join(os.getcwd(), \"../\"))\n",
    "\n",
    "# Configure the root logger using the values in config.py:logging_config\n",
    "cfg.configure_logging()\n",
    "\n",
    "# Get the defaults from config.py\n",
    "sp = cfg.SamplingParams()\n",
    "fp = cfg.FreeParams()\n",
    "sps = cfg.SPSParams()"
   ]
  },
  {
   "cell_type": "code",
   "execution_count": 3,
   "id": "e6a2f279-140f-4c28-924b-1c412f151e7f",
   "metadata": {},
   "outputs": [],
   "source": [
    "kwargs = {\n",
    "    'n_samples': 100,\n",
    "    'rshift_min': 0.,\n",
    "    'rshift_max': 4.,\n",
    "    'save_dir': './data',\n",
    "    'emulate_ssp': False,\n",
    "    'noise': False,\n",
    "    'filters': 'euclid'\n",
    "}\n",
    "testargs = argparse.Namespace(**kwargs)\n",
    "\n",
    "sim = Simulator(testargs, fp)"
   ]
  },
  {
   "cell_type": "code",
   "execution_count": 4,
   "id": "a80897d7-ccda-46c0-9268-680d1a1bcab3",
   "metadata": {},
   "outputs": [],
   "source": [
    "sim.sample_theta()"
   ]
  },
  {
   "cell_type": "code",
   "execution_count": 5,
   "id": "eeb4093f-8d1f-48ba-88d3-ffd0eb8056ef",
   "metadata": {},
   "outputs": [
    {
     "name": "stdout",
     "output_type": "stream",
     "text": [
      "[D INFO] Building model with parameters \n",
      "\n",
      "===============================================================================\n",
      "                        Configuration class `CPzParams`\n",
      "-------------------------------------------------------------------------------\n",
      "\n",
      "agn_eb_v: OptionalValue(Free)\n",
      "agn_mass: Free\n",
      "agn_torus_mass: OptionalValue(Free)\n",
      "dust: True\n",
      "fixed_metallicity: Just(0.0)\n",
      "igm_absorbtion: True\n",
      "inclination: Free\n",
      "model_agn: True\n",
      "redshift: Free\n",
      "\n",
      "===============================================================================\n",
      "\n",
      " cpz_builders.py:113: \n",
      "[D INFO] Using fixed metallicity of 0.0 cpz_builders.py:98: \n",
      "[D INFO] Using free redshift cpz_builders.py:91: \n",
      "[D INFO] Including dust emissions fixed parameters cpz_builders.py:132: \n",
      "[D INFO] Using fixed IGM absorbtion (0.1 by default) cpz_builders.py:139: \n",
      "[D INFO] Using free agn mass cpz_builders.py:91: \n",
      "[D INFO] Using free agn_eb_v cpz_builders.py:91: \n",
      "[D INFO] Using free obscured torus cpz_builders.py:91: \n",
      "[D INFO] Using free inclination cpz_builders.py:91: \n",
      "[D INFO] Using the following sps_params in build_sps: \n",
      "\n",
      "===============================================================================\n",
      "                        Configuration class `SPSParams`\n",
      "-------------------------------------------------------------------------------\n",
      "\n",
      "compute_vega_mags: False\n",
      "emulate_ssp: False\n",
      "reserved_params: ['zred', 'sigma_smooth']\n",
      "vactoair_flag: False\n",
      "zcontinuous: 1\n",
      "\n",
      "===============================================================================\n",
      "\n",
      " cpz_builders.py:195: \n",
      "[D INFO] Building custom CSPSpecBasisAGN. cpz_builders.py:198: \n",
      "[D INFO] Using standard FSPS for SSP, no emulation csp_classes.py:61: \n",
      "[D INFO] quasar template parameters: \n",
      "\n",
      "===============================================================================\n",
      "                  Configuration class `QuasarTemplateParams`\n",
      "-------------------------------------------------------------------------------\n",
      "\n",
      "interpolated_quasar_loc: ./data/quasar_template_interpolated.dill\n",
      "interpolated_torus_loc: ./data/normalised_torus_model.dill\n",
      "quasar_data_loc: ./data/quasar_template_shang.txt\n",
      "recreate_quasar_template: True\n",
      "recreate_torus_template: True\n",
      "results_dir: results\n",
      "torus_data_loc: ./data/clumpy_models_201410_tvavg.hdf5\n",
      "torus_n0: 5\n",
      "torus_opening_angle: 30\n",
      "torus_q: 2\n",
      "torus_tv: 60\n",
      "torus_y: 30\n",
      "\n",
      "===============================================================================\n",
      "\n",
      " csp_classes.py:73: \n",
      "[D WARNING] Creating new template ./data/quasar_template_interpolated.dill from data ./data/quasar_template_shang.txt quasar_templates.py:72: \n"
     ]
    },
    {
     "name": "stderr",
     "output_type": "stream",
     "text": [
      "2021-08-06 17:34:19,240 [WARNING] Creating new template ./data/quasar_template_interpolated.dill from data ./data/quasar_template_shang.txt (quasar_templates)\n"
     ]
    },
    {
     "name": "stdout",
     "output_type": "stream",
     "text": [
      "[D WARNING] Creating new template ./data/normalised_torus_model.dill from data ./data/clumpy_models_201410_tvavg.hdf5 quasar_templates.py:191: \n"
     ]
    },
    {
     "name": "stderr",
     "output_type": "stream",
     "text": [
      "2021-08-06 17:34:19,355 [WARNING] Creating new template ./data/normalised_torus_model.dill from data ./data/clumpy_models_201410_tvavg.hdf5 (quasar_templates)\n"
     ]
    },
    {
     "name": "stdout",
     "output_type": "stream",
     "text": [
      "[D INFO] extinction template parameters: \n",
      "\n",
      "===============================================================================\n",
      "                Configuration class `ExtinctionTemplateParams`\n",
      "-------------------------------------------------------------------------------\n",
      "\n",
      "interpolated_smc_extinction_loc: ./data/interpolated_smc_extinction.dill\n",
      "recreate_extinction_template: True\n",
      "results_dir: results\n",
      "smc_data_loc: ./data/smc_extinction_prevot_1984.dat\n",
      "\n",
      "===============================================================================\n",
      "\n",
      " csp_classes.py:91: \n",
      "[D WARNING] Creating new template ./data/interpolated_smc_extinction.dill from data ./data/smc_extinction_prevot_1984.dat quasar_templates.py:72: \n"
     ]
    },
    {
     "name": "stderr",
     "output_type": "stream",
     "text": [
      "2021-08-06 17:34:22,785 [WARNING] Creating new template ./data/interpolated_smc_extinction.dill from data ./data/smc_extinction_prevot_1984.dat (quasar_templates)\n"
     ]
    },
    {
     "name": "stdout",
     "output_type": "stream",
     "text": [
      "[D INFO] run params are: {'object_redshift': None, 'fixed_metallicity': 0.0, 'add_duste': True, 'dust': True, 'verbose': False, 'zcontinuous': 1, 'agn_mass': True, 'agn_eb_v': True, 'agn_torus_mass': True, 'igm_absorbtion': True, 'inclination': True, 'emulate_ssp': False, 'redshift': True} prospector.py:46: \n",
      "[D INFO] Created forward model simulation.py:103: \n"
     ]
    }
   ],
   "source": [
    "sim.create_forward_model()"
   ]
  },
  {
   "cell_type": "code",
   "execution_count": 6,
   "id": "c0576aca-6f54-40b2-9fd3-525e1ff9e6ac",
   "metadata": {},
   "outputs": [
    {
     "name": "stderr",
     "output_type": "stream",
     "text": [
      "  0%|                                                                             | 0/100 [00:00<?, ?it/s]"
     ]
    },
    {
     "name": "stdout",
     "output_type": "stream",
     "text": [
      "[D WARNING] mass index is: 1 prospector.py:102: \n"
     ]
    },
    {
     "name": "stderr",
     "output_type": "stream",
     "text": [
      "2021-08-06 17:35:48,513 [WARNING] mass index is: 1 (prospector)\n"
     ]
    },
    {
     "name": "stdout",
     "output_type": "stream",
     "text": [
      "[D WARNING] Theta[mass_index] is: 1.4113485123234402 prospector.py:103: \n"
     ]
    },
    {
     "name": "stderr",
     "output_type": "stream",
     "text": [
      "2021-08-06 17:35:48,514 [WARNING] Theta[mass_index] is: 1.4113485123234402 (prospector)\n"
     ]
    },
    {
     "name": "stdout",
     "output_type": "stream",
     "text": [
      "[D WARNING] mass index is: 1 prospector.py:102: \n"
     ]
    },
    {
     "name": "stderr",
     "output_type": "stream",
     "text": [
      "2021-08-06 17:35:48,521 [WARNING] mass index is: 1 (prospector)\n"
     ]
    },
    {
     "name": "stdout",
     "output_type": "stream",
     "text": [
      "[D WARNING] Theta[mass_index] is: 0.3985906808433696 prospector.py:103: \n"
     ]
    },
    {
     "name": "stderr",
     "output_type": "stream",
     "text": [
      "2021-08-06 17:35:48,523 [WARNING] Theta[mass_index] is: 0.3985906808433696 (prospector)\n"
     ]
    },
    {
     "name": "stdout",
     "output_type": "stream",
     "text": [
      "[D WARNING] mass index is: 1 prospector.py:102: \n"
     ]
    },
    {
     "name": "stderr",
     "output_type": "stream",
     "text": [
      "2021-08-06 17:35:48,539 [WARNING] mass index is: 1 (prospector)\n"
     ]
    },
    {
     "name": "stdout",
     "output_type": "stream",
     "text": [
      "[D WARNING] Theta[mass_index] is: 0.17610943150966019 prospector.py:103: \n"
     ]
    },
    {
     "name": "stderr",
     "output_type": "stream",
     "text": [
      "2021-08-06 17:35:48,543 [WARNING] Theta[mass_index] is: 0.17610943150966019 (prospector)\n"
     ]
    },
    {
     "name": "stdout",
     "output_type": "stream",
     "text": [
      "[D WARNING] mass index is: 1 prospector.py:102: \n"
     ]
    },
    {
     "name": "stderr",
     "output_type": "stream",
     "text": [
      "2021-08-06 17:35:48,561 [WARNING] mass index is: 1 (prospector)\n"
     ]
    },
    {
     "name": "stdout",
     "output_type": "stream",
     "text": [
      "[D WARNING] Theta[mass_index] is: 1.034936912599489 prospector.py:103: \n"
     ]
    },
    {
     "name": "stderr",
     "output_type": "stream",
     "text": [
      "2021-08-06 17:35:48,566 [WARNING] Theta[mass_index] is: 1.034936912599489 (prospector)\n"
     ]
    },
    {
     "name": "stdout",
     "output_type": "stream",
     "text": [
      "[D WARNING] mass index is: 1 prospector.py:102: \n"
     ]
    },
    {
     "name": "stderr",
     "output_type": "stream",
     "text": [
      "2021-08-06 17:35:48,587 [WARNING] mass index is: 1 (prospector)\n"
     ]
    },
    {
     "name": "stdout",
     "output_type": "stream",
     "text": [
      "[D WARNING] Theta[mass_index] is: 0.857526666403829 prospector.py:103: \n"
     ]
    },
    {
     "name": "stderr",
     "output_type": "stream",
     "text": [
      "2021-08-06 17:35:48,596 [WARNING] Theta[mass_index] is: 0.857526666403829 (prospector)\n",
      "  5%|███▍                                                                 | 5/100 [00:00<00:02, 46.39it/s]"
     ]
    },
    {
     "name": "stdout",
     "output_type": "stream",
     "text": [
      "[D WARNING] mass index is: 1 prospector.py:102: \n"
     ]
    },
    {
     "name": "stderr",
     "output_type": "stream",
     "text": [
      "2021-08-06 17:35:48,622 [WARNING] mass index is: 1 (prospector)\n"
     ]
    },
    {
     "name": "stdout",
     "output_type": "stream",
     "text": [
      "[D WARNING] Theta[mass_index] is: 0.5894359663921962 prospector.py:103: \n"
     ]
    },
    {
     "name": "stderr",
     "output_type": "stream",
     "text": [
      "2021-08-06 17:35:48,623 [WARNING] Theta[mass_index] is: 0.5894359663921962 (prospector)\n"
     ]
    },
    {
     "name": "stdout",
     "output_type": "stream",
     "text": [
      "[D WARNING] mass index is: 1 prospector.py:102: \n"
     ]
    },
    {
     "name": "stderr",
     "output_type": "stream",
     "text": [
      "2021-08-06 17:35:48,635 [WARNING] mass index is: 1 (prospector)\n"
     ]
    },
    {
     "name": "stdout",
     "output_type": "stream",
     "text": [
      "[D WARNING] Theta[mass_index] is: 1.168214869423325 prospector.py:103: \n"
     ]
    },
    {
     "name": "stderr",
     "output_type": "stream",
     "text": [
      "2021-08-06 17:35:48,639 [WARNING] Theta[mass_index] is: 1.168214869423325 (prospector)\n"
     ]
    },
    {
     "name": "stdout",
     "output_type": "stream",
     "text": [
      "[D WARNING] mass index is: 1 prospector.py:102: \n"
     ]
    },
    {
     "name": "stderr",
     "output_type": "stream",
     "text": [
      "2021-08-06 17:35:48,655 [WARNING] mass index is: 1 (prospector)\n"
     ]
    },
    {
     "name": "stdout",
     "output_type": "stream",
     "text": [
      "[D WARNING] Theta[mass_index] is: 1.7523170061229736 prospector.py:103: \n"
     ]
    },
    {
     "name": "stderr",
     "output_type": "stream",
     "text": [
      "2021-08-06 17:35:48,657 [WARNING] Theta[mass_index] is: 1.7523170061229736 (prospector)\n"
     ]
    },
    {
     "name": "stdout",
     "output_type": "stream",
     "text": [
      "[D WARNING] mass index is: 1 prospector.py:102: \n"
     ]
    },
    {
     "name": "stderr",
     "output_type": "stream",
     "text": [
      "2021-08-06 17:35:48,670 [WARNING] mass index is: 1 (prospector)\n"
     ]
    },
    {
     "name": "stdout",
     "output_type": "stream",
     "text": [
      "[D WARNING] Theta[mass_index] is: 0.24446744841510662 prospector.py:103: \n"
     ]
    },
    {
     "name": "stderr",
     "output_type": "stream",
     "text": [
      "2021-08-06 17:35:48,673 [WARNING] Theta[mass_index] is: 0.24446744841510662 (prospector)\n"
     ]
    },
    {
     "name": "stdout",
     "output_type": "stream",
     "text": [
      "[D WARNING] mass index is: 1 prospector.py:102: \n"
     ]
    },
    {
     "name": "stderr",
     "output_type": "stream",
     "text": [
      "2021-08-06 17:35:48,686 [WARNING] mass index is: 1 (prospector)\n"
     ]
    },
    {
     "name": "stdout",
     "output_type": "stream",
     "text": [
      "[D WARNING] Theta[mass_index] is: 0.07822810326145467 prospector.py:103: \n"
     ]
    },
    {
     "name": "stderr",
     "output_type": "stream",
     "text": [
      "2021-08-06 17:35:48,688 [WARNING] Theta[mass_index] is: 0.07822810326145467 (prospector)\n"
     ]
    },
    {
     "name": "stdout",
     "output_type": "stream",
     "text": [
      "[D WARNING] mass index is: 1 prospector.py:102: \n"
     ]
    },
    {
     "name": "stderr",
     "output_type": "stream",
     "text": [
      "2021-08-06 17:35:48,699 [WARNING] mass index is: 1 (prospector)\n"
     ]
    },
    {
     "name": "stdout",
     "output_type": "stream",
     "text": [
      "[D WARNING] Theta[mass_index] is: 1.8505990753208794 prospector.py:103: \n"
     ]
    },
    {
     "name": "stderr",
     "output_type": "stream",
     "text": [
      "2021-08-06 17:35:48,701 [WARNING] Theta[mass_index] is: 1.8505990753208794 (prospector)\n"
     ]
    },
    {
     "name": "stdout",
     "output_type": "stream",
     "text": [
      "[D WARNING] mass index is: 1 prospector.py:102: \n"
     ]
    },
    {
     "name": "stderr",
     "output_type": "stream",
     "text": [
      "2021-08-06 17:35:48,717 [WARNING] mass index is: 1 (prospector)\n"
     ]
    },
    {
     "name": "stdout",
     "output_type": "stream",
     "text": [
      "[D WARNING] Theta[mass_index] is: 0.36674093388130863 prospector.py:103: \n"
     ]
    },
    {
     "name": "stderr",
     "output_type": "stream",
     "text": [
      "2021-08-06 17:35:48,718 [WARNING] Theta[mass_index] is: 0.36674093388130863 (prospector)\n",
      " 12%|████████▏                                                           | 12/100 [00:00<00:01, 54.87it/s]"
     ]
    },
    {
     "name": "stdout",
     "output_type": "stream",
     "text": [
      "[D WARNING] mass index is: 1 prospector.py:102: \n"
     ]
    },
    {
     "name": "stderr",
     "output_type": "stream",
     "text": [
      "2021-08-06 17:35:48,738 [WARNING] mass index is: 1 (prospector)\n"
     ]
    },
    {
     "name": "stdout",
     "output_type": "stream",
     "text": [
      "[D WARNING] Theta[mass_index] is: 0.4344135015058728 prospector.py:103: \n"
     ]
    },
    {
     "name": "stderr",
     "output_type": "stream",
     "text": [
      "2021-08-06 17:35:48,743 [WARNING] Theta[mass_index] is: 0.4344135015058728 (prospector)\n"
     ]
    },
    {
     "name": "stdout",
     "output_type": "stream",
     "text": [
      "[D WARNING] mass index is: 1 prospector.py:102: \n"
     ]
    },
    {
     "name": "stderr",
     "output_type": "stream",
     "text": [
      "2021-08-06 17:35:48,757 [WARNING] mass index is: 1 (prospector)\n"
     ]
    },
    {
     "name": "stdout",
     "output_type": "stream",
     "text": [
      "[D WARNING] Theta[mass_index] is: 1.2896940672462347 prospector.py:103: \n"
     ]
    },
    {
     "name": "stderr",
     "output_type": "stream",
     "text": [
      "2021-08-06 17:35:48,759 [WARNING] Theta[mass_index] is: 1.2896940672462347 (prospector)\n"
     ]
    },
    {
     "name": "stdout",
     "output_type": "stream",
     "text": [
      "[D WARNING] mass index is: 1 prospector.py:102: \n"
     ]
    },
    {
     "name": "stderr",
     "output_type": "stream",
     "text": [
      "2021-08-06 17:35:48,776 [WARNING] mass index is: 1 (prospector)\n"
     ]
    },
    {
     "name": "stdout",
     "output_type": "stream",
     "text": [
      "[D WARNING] Theta[mass_index] is: 0.7413423281715097 prospector.py:103: \n"
     ]
    },
    {
     "name": "stderr",
     "output_type": "stream",
     "text": [
      "2021-08-06 17:35:48,778 [WARNING] Theta[mass_index] is: 0.7413423281715097 (prospector)\n"
     ]
    },
    {
     "name": "stdout",
     "output_type": "stream",
     "text": [
      "[D WARNING] mass index is: 1 prospector.py:102: \n"
     ]
    },
    {
     "name": "stderr",
     "output_type": "stream",
     "text": [
      "2021-08-06 17:35:48,787 [WARNING] mass index is: 1 (prospector)\n"
     ]
    },
    {
     "name": "stdout",
     "output_type": "stream",
     "text": [
      "[D WARNING] Theta[mass_index] is: 0.9293154903381214 prospector.py:103: \n"
     ]
    },
    {
     "name": "stderr",
     "output_type": "stream",
     "text": [
      "2021-08-06 17:35:48,788 [WARNING] Theta[mass_index] is: 0.9293154903381214 (prospector)\n"
     ]
    },
    {
     "name": "stdout",
     "output_type": "stream",
     "text": [
      "[D WARNING] mass index is: 1 prospector.py:102: \n"
     ]
    },
    {
     "name": "stderr",
     "output_type": "stream",
     "text": [
      "2021-08-06 17:35:48,797 [WARNING] mass index is: 1 (prospector)\n"
     ]
    },
    {
     "name": "stdout",
     "output_type": "stream",
     "text": [
      "[D WARNING] Theta[mass_index] is: 1.8841775167526376 prospector.py:103: \n"
     ]
    },
    {
     "name": "stderr",
     "output_type": "stream",
     "text": [
      "2021-08-06 17:35:48,799 [WARNING] Theta[mass_index] is: 1.8841775167526376 (prospector)\n"
     ]
    },
    {
     "name": "stdout",
     "output_type": "stream",
     "text": [
      "[D WARNING] mass index is: 1 prospector.py:102: \n"
     ]
    },
    {
     "name": "stderr",
     "output_type": "stream",
     "text": [
      "2021-08-06 17:35:48,807 [WARNING] mass index is: 1 (prospector)\n"
     ]
    },
    {
     "name": "stdout",
     "output_type": "stream",
     "text": [
      "[D WARNING] Theta[mass_index] is: 0.5135151435103341 prospector.py:103: \n"
     ]
    },
    {
     "name": "stderr",
     "output_type": "stream",
     "text": [
      "2021-08-06 17:35:48,808 [WARNING] Theta[mass_index] is: 0.5135151435103341 (prospector)\n"
     ]
    },
    {
     "name": "stdout",
     "output_type": "stream",
     "text": [
      "[D WARNING] mass index is: 1 prospector.py:102: \n"
     ]
    },
    {
     "name": "stderr",
     "output_type": "stream",
     "text": [
      "2021-08-06 17:35:48,817 [WARNING] mass index is: 1 (prospector)\n"
     ]
    },
    {
     "name": "stdout",
     "output_type": "stream",
     "text": [
      "[D WARNING] Theta[mass_index] is: 1.3631185005892783 prospector.py:103: \n"
     ]
    },
    {
     "name": "stderr",
     "output_type": "stream",
     "text": [
      "2021-08-06 17:35:48,819 [WARNING] Theta[mass_index] is: 1.3631185005892783 (prospector)\n"
     ]
    },
    {
     "name": "stdout",
     "output_type": "stream",
     "text": [
      "[D WARNING] mass index is: 1 prospector.py:102: \n"
     ]
    },
    {
     "name": "stderr",
     "output_type": "stream",
     "text": [
      "2021-08-06 17:35:48,830 [WARNING] mass index is: 1 (prospector)\n"
     ]
    },
    {
     "name": "stdout",
     "output_type": "stream",
     "text": [
      "[D WARNING] Theta[mass_index] is: 0.809358774161303 prospector.py:103: \n"
     ]
    },
    {
     "name": "stderr",
     "output_type": "stream",
     "text": [
      "2021-08-06 17:35:48,832 [WARNING] Theta[mass_index] is: 0.809358774161303 (prospector)\n",
      " 20%|█████████████▌                                                      | 20/100 [00:00<00:01, 63.97it/s]"
     ]
    },
    {
     "name": "stdout",
     "output_type": "stream",
     "text": [
      "[D WARNING] mass index is: 1 prospector.py:102: \n"
     ]
    },
    {
     "name": "stderr",
     "output_type": "stream",
     "text": [
      "2021-08-06 17:35:48,844 [WARNING] mass index is: 1 (prospector)\n"
     ]
    },
    {
     "name": "stdout",
     "output_type": "stream",
     "text": [
      "[D WARNING] Theta[mass_index] is: 1.9817941081699826 prospector.py:103: \n"
     ]
    },
    {
     "name": "stderr",
     "output_type": "stream",
     "text": [
      "2021-08-06 17:35:48,846 [WARNING] Theta[mass_index] is: 1.9817941081699826 (prospector)\n"
     ]
    },
    {
     "name": "stdout",
     "output_type": "stream",
     "text": [
      "[D WARNING] mass index is: 1 prospector.py:102: \n"
     ]
    },
    {
     "name": "stderr",
     "output_type": "stream",
     "text": [
      "2021-08-06 17:35:48,860 [WARNING] mass index is: 1 (prospector)\n"
     ]
    },
    {
     "name": "stdout",
     "output_type": "stream",
     "text": [
      "[D WARNING] Theta[mass_index] is: 1.666212339258301 prospector.py:103: \n"
     ]
    },
    {
     "name": "stderr",
     "output_type": "stream",
     "text": [
      "2021-08-06 17:35:48,861 [WARNING] Theta[mass_index] is: 1.666212339258301 (prospector)\n"
     ]
    },
    {
     "name": "stdout",
     "output_type": "stream",
     "text": [
      "[D WARNING] mass index is: 1 prospector.py:102: \n"
     ]
    },
    {
     "name": "stderr",
     "output_type": "stream",
     "text": [
      "2021-08-06 17:35:48,871 [WARNING] mass index is: 1 (prospector)\n"
     ]
    },
    {
     "name": "stdout",
     "output_type": "stream",
     "text": [
      "[D WARNING] Theta[mass_index] is: 1.108293795054399 prospector.py:103: \n"
     ]
    },
    {
     "name": "stderr",
     "output_type": "stream",
     "text": [
      "2021-08-06 17:35:48,872 [WARNING] Theta[mass_index] is: 1.108293795054399 (prospector)\n"
     ]
    },
    {
     "name": "stdout",
     "output_type": "stream",
     "text": [
      "[D WARNING] mass index is: 1 prospector.py:102: \n"
     ]
    },
    {
     "name": "stderr",
     "output_type": "stream",
     "text": [
      "2021-08-06 17:35:48,880 [WARNING] mass index is: 1 (prospector)\n"
     ]
    },
    {
     "name": "stdout",
     "output_type": "stream",
     "text": [
      "[D WARNING] Theta[mass_index] is: 1.8342304175610815 prospector.py:103: \n"
     ]
    },
    {
     "name": "stderr",
     "output_type": "stream",
     "text": [
      "2021-08-06 17:35:48,881 [WARNING] Theta[mass_index] is: 1.8342304175610815 (prospector)\n"
     ]
    },
    {
     "name": "stdout",
     "output_type": "stream",
     "text": [
      "[D WARNING] mass index is: 1 prospector.py:102: \n"
     ]
    },
    {
     "name": "stderr",
     "output_type": "stream",
     "text": [
      "2021-08-06 17:35:48,888 [WARNING] mass index is: 1 (prospector)\n"
     ]
    },
    {
     "name": "stdout",
     "output_type": "stream",
     "text": [
      "[D WARNING] Theta[mass_index] is: 1.4330547125999655 prospector.py:103: \n"
     ]
    },
    {
     "name": "stderr",
     "output_type": "stream",
     "text": [
      "2021-08-06 17:35:48,890 [WARNING] Theta[mass_index] is: 1.4330547125999655 (prospector)\n"
     ]
    },
    {
     "name": "stdout",
     "output_type": "stream",
     "text": [
      "[D WARNING] mass index is: 1 prospector.py:102: \n"
     ]
    },
    {
     "name": "stderr",
     "output_type": "stream",
     "text": [
      "2021-08-06 17:35:48,900 [WARNING] mass index is: 1 (prospector)\n"
     ]
    },
    {
     "name": "stdout",
     "output_type": "stream",
     "text": [
      "[D WARNING] Theta[mass_index] is: 1.788243059259148 prospector.py:103: \n"
     ]
    },
    {
     "name": "stderr",
     "output_type": "stream",
     "text": [
      "2021-08-06 17:35:48,902 [WARNING] Theta[mass_index] is: 1.788243059259148 (prospector)\n"
     ]
    },
    {
     "name": "stdout",
     "output_type": "stream",
     "text": [
      "[D WARNING] mass index is: 1 prospector.py:102: \n"
     ]
    },
    {
     "name": "stderr",
     "output_type": "stream",
     "text": [
      "2021-08-06 17:35:48,911 [WARNING] mass index is: 1 (prospector)\n"
     ]
    },
    {
     "name": "stdout",
     "output_type": "stream",
     "text": [
      "[D WARNING] Theta[mass_index] is: 1.3801944018656012 prospector.py:103: \n"
     ]
    },
    {
     "name": "stderr",
     "output_type": "stream",
     "text": [
      "2021-08-06 17:35:48,912 [WARNING] Theta[mass_index] is: 1.3801944018656012 (prospector)\n"
     ]
    },
    {
     "name": "stdout",
     "output_type": "stream",
     "text": [
      "[D WARNING] mass index is: 1 prospector.py:102: \n"
     ]
    },
    {
     "name": "stderr",
     "output_type": "stream",
     "text": [
      "2021-08-06 17:35:48,922 [WARNING] mass index is: 1 (prospector)\n"
     ]
    },
    {
     "name": "stdout",
     "output_type": "stream",
     "text": [
      "[D WARNING] Theta[mass_index] is: 0.7021828464498806 prospector.py:103: \n"
     ]
    },
    {
     "name": "stderr",
     "output_type": "stream",
     "text": [
      "2021-08-06 17:35:48,924 [WARNING] Theta[mass_index] is: 0.7021828464498806 (prospector)\n"
     ]
    },
    {
     "name": "stdout",
     "output_type": "stream",
     "text": [
      "[D WARNING] mass index is: 1 prospector.py:102: \n"
     ]
    },
    {
     "name": "stderr",
     "output_type": "stream",
     "text": [
      "2021-08-06 17:35:48,933 [WARNING] mass index is: 1 (prospector)\n"
     ]
    },
    {
     "name": "stdout",
     "output_type": "stream",
     "text": [
      "[D WARNING] Theta[mass_index] is: 0.6034740611241669 prospector.py:103: \n"
     ]
    },
    {
     "name": "stderr",
     "output_type": "stream",
     "text": [
      "2021-08-06 17:35:48,933 [WARNING] Theta[mass_index] is: 0.6034740611241669 (prospector)\n"
     ]
    },
    {
     "name": "stdout",
     "output_type": "stream",
     "text": [
      "[D WARNING] mass index is: 1 prospector.py:102: \n"
     ]
    },
    {
     "name": "stderr",
     "output_type": "stream",
     "text": [
      "2021-08-06 17:35:48,940 [WARNING] mass index is: 1 (prospector)\n"
     ]
    },
    {
     "name": "stdout",
     "output_type": "stream",
     "text": [
      "[D WARNING] Theta[mass_index] is: 1.4908633480492812 prospector.py:103: \n"
     ]
    },
    {
     "name": "stderr",
     "output_type": "stream",
     "text": [
      "2021-08-06 17:35:48,941 [WARNING] Theta[mass_index] is: 1.4908633480492812 (prospector)\n",
      " 30%|████████████████████▍                                               | 30/100 [00:00<00:00, 75.86it/s]"
     ]
    },
    {
     "name": "stdout",
     "output_type": "stream",
     "text": [
      "[D WARNING] mass index is: 1 prospector.py:102: \n"
     ]
    },
    {
     "name": "stderr",
     "output_type": "stream",
     "text": [
      "2021-08-06 17:35:48,949 [WARNING] mass index is: 1 (prospector)\n"
     ]
    },
    {
     "name": "stdout",
     "output_type": "stream",
     "text": [
      "[D WARNING] Theta[mass_index] is: 1.9279193813485782 prospector.py:103: \n"
     ]
    },
    {
     "name": "stderr",
     "output_type": "stream",
     "text": [
      "2021-08-06 17:35:48,949 [WARNING] Theta[mass_index] is: 1.9279193813485782 (prospector)\n"
     ]
    },
    {
     "name": "stdout",
     "output_type": "stream",
     "text": [
      "[D WARNING] mass index is: 1 prospector.py:102: \n"
     ]
    },
    {
     "name": "stderr",
     "output_type": "stream",
     "text": [
      "2021-08-06 17:35:48,956 [WARNING] mass index is: 1 (prospector)\n"
     ]
    },
    {
     "name": "stdout",
     "output_type": "stream",
     "text": [
      "[D WARNING] Theta[mass_index] is: 1.8013007553675104 prospector.py:103: \n"
     ]
    },
    {
     "name": "stderr",
     "output_type": "stream",
     "text": [
      "2021-08-06 17:35:48,957 [WARNING] Theta[mass_index] is: 1.8013007553675104 (prospector)\n"
     ]
    },
    {
     "name": "stdout",
     "output_type": "stream",
     "text": [
      "[D WARNING] mass index is: 1 prospector.py:102: \n"
     ]
    },
    {
     "name": "stderr",
     "output_type": "stream",
     "text": [
      "2021-08-06 17:35:48,967 [WARNING] mass index is: 1 (prospector)\n"
     ]
    },
    {
     "name": "stdout",
     "output_type": "stream",
     "text": [
      "[D WARNING] Theta[mass_index] is: 0.8913516839805021 prospector.py:103: \n"
     ]
    },
    {
     "name": "stderr",
     "output_type": "stream",
     "text": [
      "2021-08-06 17:35:48,969 [WARNING] Theta[mass_index] is: 0.8913516839805021 (prospector)\n"
     ]
    },
    {
     "name": "stdout",
     "output_type": "stream",
     "text": [
      "[D WARNING] mass index is: 1 prospector.py:102: \n"
     ]
    },
    {
     "name": "stderr",
     "output_type": "stream",
     "text": [
      "2021-08-06 17:35:48,981 [WARNING] mass index is: 1 (prospector)\n"
     ]
    },
    {
     "name": "stdout",
     "output_type": "stream",
     "text": [
      "[D WARNING] Theta[mass_index] is: 1.5489848425533697 prospector.py:103: \n"
     ]
    },
    {
     "name": "stderr",
     "output_type": "stream",
     "text": [
      "2021-08-06 17:35:48,983 [WARNING] Theta[mass_index] is: 1.5489848425533697 (prospector)\n"
     ]
    },
    {
     "name": "stdout",
     "output_type": "stream",
     "text": [
      "[D WARNING] mass index is: 1 prospector.py:102: \n"
     ]
    },
    {
     "name": "stderr",
     "output_type": "stream",
     "text": [
      "2021-08-06 17:35:48,992 [WARNING] mass index is: 1 (prospector)\n"
     ]
    },
    {
     "name": "stdout",
     "output_type": "stream",
     "text": [
      "[D WARNING] Theta[mass_index] is: 1.0509739673660632 prospector.py:103: \n"
     ]
    },
    {
     "name": "stderr",
     "output_type": "stream",
     "text": [
      "2021-08-06 17:35:48,993 [WARNING] Theta[mass_index] is: 1.0509739673660632 (prospector)\n"
     ]
    },
    {
     "name": "stdout",
     "output_type": "stream",
     "text": [
      "[D WARNING] mass index is: 1 prospector.py:102: \n"
     ]
    },
    {
     "name": "stderr",
     "output_type": "stream",
     "text": [
      "2021-08-06 17:35:49,000 [WARNING] mass index is: 1 (prospector)\n"
     ]
    },
    {
     "name": "stdout",
     "output_type": "stream",
     "text": [
      "[D WARNING] Theta[mass_index] is: 0.963604622683975 prospector.py:103: \n"
     ]
    },
    {
     "name": "stderr",
     "output_type": "stream",
     "text": [
      "2021-08-06 17:35:49,001 [WARNING] Theta[mass_index] is: 0.963604622683975 (prospector)\n"
     ]
    },
    {
     "name": "stdout",
     "output_type": "stream",
     "text": [
      "[D WARNING] mass index is: 1 prospector.py:102: \n"
     ]
    },
    {
     "name": "stderr",
     "output_type": "stream",
     "text": [
      "2021-08-06 17:35:49,009 [WARNING] mass index is: 1 (prospector)\n"
     ]
    },
    {
     "name": "stdout",
     "output_type": "stream",
     "text": [
      "[D WARNING] Theta[mass_index] is: 0.6641688012406145 prospector.py:103: \n"
     ]
    },
    {
     "name": "stderr",
     "output_type": "stream",
     "text": [
      "2021-08-06 17:35:49,010 [WARNING] Theta[mass_index] is: 0.6641688012406145 (prospector)\n"
     ]
    },
    {
     "name": "stdout",
     "output_type": "stream",
     "text": [
      "[D WARNING] mass index is: 1 prospector.py:102: \n"
     ]
    },
    {
     "name": "stderr",
     "output_type": "stream",
     "text": [
      "2021-08-06 17:35:49,019 [WARNING] mass index is: 1 (prospector)\n"
     ]
    },
    {
     "name": "stdout",
     "output_type": "stream",
     "text": [
      "[D WARNING] Theta[mass_index] is: 0.19523889544993497 prospector.py:103: \n"
     ]
    },
    {
     "name": "stderr",
     "output_type": "stream",
     "text": [
      "2021-08-06 17:35:49,020 [WARNING] Theta[mass_index] is: 0.19523889544993497 (prospector)\n"
     ]
    },
    {
     "name": "stdout",
     "output_type": "stream",
     "text": [
      "[D WARNING] mass index is: 1 prospector.py:102: \n"
     ]
    },
    {
     "name": "stderr",
     "output_type": "stream",
     "text": [
      "2021-08-06 17:35:49,026 [WARNING] mass index is: 1 (prospector)\n"
     ]
    },
    {
     "name": "stdout",
     "output_type": "stream",
     "text": [
      "[D WARNING] Theta[mass_index] is: 1.1226710940528397 prospector.py:103: \n"
     ]
    },
    {
     "name": "stderr",
     "output_type": "stream",
     "text": [
      "2021-08-06 17:35:49,028 [WARNING] Theta[mass_index] is: 1.1226710940528397 (prospector)\n"
     ]
    },
    {
     "name": "stdout",
     "output_type": "stream",
     "text": [
      "[D WARNING] mass index is: 1 prospector.py:102: \n"
     ]
    },
    {
     "name": "stderr",
     "output_type": "stream",
     "text": [
      "2021-08-06 17:35:49,036 [WARNING] mass index is: 1 (prospector)\n"
     ]
    },
    {
     "name": "stdout",
     "output_type": "stream",
     "text": [
      "[D WARNING] Theta[mass_index] is: 1.2665602418911248 prospector.py:103: \n"
     ]
    },
    {
     "name": "stderr",
     "output_type": "stream",
     "text": [
      "2021-08-06 17:35:49,037 [WARNING] Theta[mass_index] is: 1.2665602418911248 (prospector)\n"
     ]
    },
    {
     "name": "stdout",
     "output_type": "stream",
     "text": [
      "[D WARNING] mass index is: 1 prospector.py:102: \n"
     ]
    },
    {
     "name": "stderr",
     "output_type": "stream",
     "text": [
      "2021-08-06 17:35:49,045 [WARNING] mass index is: 1 (prospector)\n"
     ]
    },
    {
     "name": "stdout",
     "output_type": "stream",
     "text": [
      "[D WARNING] Theta[mass_index] is: 0.8384011351725627 prospector.py:103: \n"
     ]
    },
    {
     "name": "stderr",
     "output_type": "stream",
     "text": [
      "2021-08-06 17:35:49,046 [WARNING] Theta[mass_index] is: 0.8384011351725627 (prospector)\n",
      " 41%|███████████████████████████▉                                        | 41/100 [00:00<00:00, 85.41it/s]"
     ]
    },
    {
     "name": "stdout",
     "output_type": "stream",
     "text": [
      "[D WARNING] mass index is: 1 prospector.py:102: \n"
     ]
    },
    {
     "name": "stderr",
     "output_type": "stream",
     "text": [
      "2021-08-06 17:35:49,056 [WARNING] mass index is: 1 (prospector)\n"
     ]
    },
    {
     "name": "stdout",
     "output_type": "stream",
     "text": [
      "[D WARNING] Theta[mass_index] is: 0.21891437044355241 prospector.py:103: \n"
     ]
    },
    {
     "name": "stderr",
     "output_type": "stream",
     "text": [
      "2021-08-06 17:35:49,058 [WARNING] Theta[mass_index] is: 0.21891437044355241 (prospector)\n"
     ]
    },
    {
     "name": "stdout",
     "output_type": "stream",
     "text": [
      "[D WARNING] mass index is: 1 prospector.py:102: \n"
     ]
    },
    {
     "name": "stderr",
     "output_type": "stream",
     "text": [
      "2021-08-06 17:35:49,067 [WARNING] mass index is: 1 (prospector)\n"
     ]
    },
    {
     "name": "stdout",
     "output_type": "stream",
     "text": [
      "[D WARNING] Theta[mass_index] is: 1.0873926200118318 prospector.py:103: \n"
     ]
    },
    {
     "name": "stderr",
     "output_type": "stream",
     "text": [
      "2021-08-06 17:35:49,075 [WARNING] Theta[mass_index] is: 1.0873926200118318 (prospector)\n"
     ]
    },
    {
     "name": "stdout",
     "output_type": "stream",
     "text": [
      "[D WARNING] mass index is: 1 prospector.py:102: \n"
     ]
    },
    {
     "name": "stderr",
     "output_type": "stream",
     "text": [
      "2021-08-06 17:35:49,085 [WARNING] mass index is: 1 (prospector)\n"
     ]
    },
    {
     "name": "stdout",
     "output_type": "stream",
     "text": [
      "[D WARNING] Theta[mass_index] is: 0.6912808053443057 prospector.py:103: \n"
     ]
    },
    {
     "name": "stderr",
     "output_type": "stream",
     "text": [
      "2021-08-06 17:35:49,087 [WARNING] Theta[mass_index] is: 0.6912808053443057 (prospector)\n"
     ]
    },
    {
     "name": "stdout",
     "output_type": "stream",
     "text": [
      "[D WARNING] mass index is: 1 prospector.py:102: \n"
     ]
    },
    {
     "name": "stderr",
     "output_type": "stream",
     "text": [
      "2021-08-06 17:35:49,095 [WARNING] mass index is: 1 (prospector)\n"
     ]
    },
    {
     "name": "stdout",
     "output_type": "stream",
     "text": [
      "[D WARNING] Theta[mass_index] is: 0.7704231433899342 prospector.py:103: \n"
     ]
    },
    {
     "name": "stderr",
     "output_type": "stream",
     "text": [
      "2021-08-06 17:35:49,097 [WARNING] Theta[mass_index] is: 0.7704231433899342 (prospector)\n"
     ]
    },
    {
     "name": "stdout",
     "output_type": "stream",
     "text": [
      "[D WARNING] mass index is: 1 prospector.py:102: \n"
     ]
    },
    {
     "name": "stderr",
     "output_type": "stream",
     "text": [
      "2021-08-06 17:35:49,108 [WARNING] mass index is: 1 (prospector)\n"
     ]
    },
    {
     "name": "stdout",
     "output_type": "stream",
     "text": [
      "[D WARNING] Theta[mass_index] is: 0.04317128085146469 prospector.py:103: \n"
     ]
    },
    {
     "name": "stderr",
     "output_type": "stream",
     "text": [
      "2021-08-06 17:35:49,109 [WARNING] Theta[mass_index] is: 0.04317128085146469 (prospector)\n"
     ]
    },
    {
     "name": "stdout",
     "output_type": "stream",
     "text": [
      "[D WARNING] mass index is: 1 prospector.py:102: \n"
     ]
    },
    {
     "name": "stderr",
     "output_type": "stream",
     "text": [
      "2021-08-06 17:35:49,118 [WARNING] mass index is: 1 (prospector)\n"
     ]
    },
    {
     "name": "stdout",
     "output_type": "stream",
     "text": [
      "[D WARNING] Theta[mass_index] is: 0.6404754415655661 prospector.py:103: \n"
     ]
    },
    {
     "name": "stderr",
     "output_type": "stream",
     "text": [
      "2021-08-06 17:35:49,119 [WARNING] Theta[mass_index] is: 0.6404754415655661 (prospector)\n"
     ]
    },
    {
     "name": "stdout",
     "output_type": "stream",
     "text": [
      "[D WARNING] mass index is: 1 prospector.py:102: \n"
     ]
    },
    {
     "name": "stderr",
     "output_type": "stream",
     "text": [
      "2021-08-06 17:35:49,126 [WARNING] mass index is: 1 (prospector)\n"
     ]
    },
    {
     "name": "stdout",
     "output_type": "stream",
     "text": [
      "[D WARNING] Theta[mass_index] is: 0.5214492973144231 prospector.py:103: \n"
     ]
    },
    {
     "name": "stderr",
     "output_type": "stream",
     "text": [
      "2021-08-06 17:35:49,128 [WARNING] Theta[mass_index] is: 0.5214492973144231 (prospector)\n"
     ]
    },
    {
     "name": "stdout",
     "output_type": "stream",
     "text": [
      "[D WARNING] mass index is: 1 prospector.py:102: \n"
     ]
    },
    {
     "name": "stderr",
     "output_type": "stream",
     "text": [
      "2021-08-06 17:35:49,138 [WARNING] mass index is: 1 (prospector)\n"
     ]
    },
    {
     "name": "stdout",
     "output_type": "stream",
     "text": [
      "[D WARNING] Theta[mass_index] is: 0.4103007625109309 prospector.py:103: \n"
     ]
    },
    {
     "name": "stderr",
     "output_type": "stream",
     "text": [
      "2021-08-06 17:35:49,139 [WARNING] Theta[mass_index] is: 0.4103007625109309 (prospector)\n"
     ]
    },
    {
     "name": "stdout",
     "output_type": "stream",
     "text": [
      "[D WARNING] mass index is: 1 prospector.py:102: \n"
     ]
    },
    {
     "name": "stderr",
     "output_type": "stream",
     "text": [
      "2021-08-06 17:35:49,147 [WARNING] mass index is: 1 (prospector)\n"
     ]
    },
    {
     "name": "stdout",
     "output_type": "stream",
     "text": [
      "[D WARNING] Theta[mass_index] is: 1.0024780489613279 prospector.py:103: \n"
     ]
    },
    {
     "name": "stderr",
     "output_type": "stream",
     "text": [
      "2021-08-06 17:35:49,150 [WARNING] Theta[mass_index] is: 1.0024780489613279 (prospector)\n",
      " 50%|██████████████████████████████████                                  | 50/100 [00:00<00:00, 85.77it/s]"
     ]
    },
    {
     "name": "stdout",
     "output_type": "stream",
     "text": [
      "[D WARNING] mass index is: 1 prospector.py:102: \n"
     ]
    },
    {
     "name": "stderr",
     "output_type": "stream",
     "text": [
      "2021-08-06 17:35:49,160 [WARNING] mass index is: 1 (prospector)\n"
     ]
    },
    {
     "name": "stdout",
     "output_type": "stream",
     "text": [
      "[D WARNING] Theta[mass_index] is: 1.8735547308691152 prospector.py:103: \n"
     ]
    },
    {
     "name": "stderr",
     "output_type": "stream",
     "text": [
      "2021-08-06 17:35:49,161 [WARNING] Theta[mass_index] is: 1.8735547308691152 (prospector)\n"
     ]
    },
    {
     "name": "stdout",
     "output_type": "stream",
     "text": [
      "[D WARNING] mass index is: 1 prospector.py:102: \n"
     ]
    },
    {
     "name": "stderr",
     "output_type": "stream",
     "text": [
      "2021-08-06 17:35:49,168 [WARNING] mass index is: 1 (prospector)\n"
     ]
    },
    {
     "name": "stdout",
     "output_type": "stream",
     "text": [
      "[D WARNING] Theta[mass_index] is: 0.34779181676896387 prospector.py:103: \n"
     ]
    },
    {
     "name": "stderr",
     "output_type": "stream",
     "text": [
      "2021-08-06 17:35:49,169 [WARNING] Theta[mass_index] is: 0.34779181676896387 (prospector)\n"
     ]
    },
    {
     "name": "stdout",
     "output_type": "stream",
     "text": [
      "[D WARNING] mass index is: 1 prospector.py:102: \n"
     ]
    },
    {
     "name": "stderr",
     "output_type": "stream",
     "text": [
      "2021-08-06 17:35:49,178 [WARNING] mass index is: 1 (prospector)\n"
     ]
    },
    {
     "name": "stdout",
     "output_type": "stream",
     "text": [
      "[D WARNING] Theta[mass_index] is: 1.6263800334600513 prospector.py:103: \n"
     ]
    },
    {
     "name": "stderr",
     "output_type": "stream",
     "text": [
      "2021-08-06 17:35:49,180 [WARNING] Theta[mass_index] is: 1.6263800334600513 (prospector)\n"
     ]
    },
    {
     "name": "stdout",
     "output_type": "stream",
     "text": [
      "[D WARNING] mass index is: 1 prospector.py:102: \n"
     ]
    },
    {
     "name": "stderr",
     "output_type": "stream",
     "text": [
      "2021-08-06 17:35:49,189 [WARNING] mass index is: 1 (prospector)\n"
     ]
    },
    {
     "name": "stdout",
     "output_type": "stream",
     "text": [
      "[D WARNING] Theta[mass_index] is: 0.8628940044709262 prospector.py:103: \n"
     ]
    },
    {
     "name": "stderr",
     "output_type": "stream",
     "text": [
      "2021-08-06 17:35:49,190 [WARNING] Theta[mass_index] is: 0.8628940044709262 (prospector)\n"
     ]
    },
    {
     "name": "stdout",
     "output_type": "stream",
     "text": [
      "[D WARNING] mass index is: 1 prospector.py:102: \n"
     ]
    },
    {
     "name": "stderr",
     "output_type": "stream",
     "text": [
      "2021-08-06 17:35:49,197 [WARNING] mass index is: 1 (prospector)\n"
     ]
    },
    {
     "name": "stdout",
     "output_type": "stream",
     "text": [
      "[D WARNING] Theta[mass_index] is: 1.6477888368549498 prospector.py:103: \n"
     ]
    },
    {
     "name": "stderr",
     "output_type": "stream",
     "text": [
      "2021-08-06 17:35:49,198 [WARNING] Theta[mass_index] is: 1.6477888368549498 (prospector)\n"
     ]
    },
    {
     "name": "stdout",
     "output_type": "stream",
     "text": [
      "[D WARNING] mass index is: 1 prospector.py:102: \n"
     ]
    },
    {
     "name": "stderr",
     "output_type": "stream",
     "text": [
      "2021-08-06 17:35:49,208 [WARNING] mass index is: 1 (prospector)\n"
     ]
    },
    {
     "name": "stdout",
     "output_type": "stream",
     "text": [
      "[D WARNING] Theta[mass_index] is: 0.2875324437010817 prospector.py:103: \n"
     ]
    },
    {
     "name": "stderr",
     "output_type": "stream",
     "text": [
      "2021-08-06 17:35:49,210 [WARNING] Theta[mass_index] is: 0.2875324437010817 (prospector)\n"
     ]
    },
    {
     "name": "stdout",
     "output_type": "stream",
     "text": [
      "[D WARNING] mass index is: 1 prospector.py:102: \n"
     ]
    },
    {
     "name": "stderr",
     "output_type": "stream",
     "text": [
      "2021-08-06 17:35:49,219 [WARNING] mass index is: 1 (prospector)\n"
     ]
    },
    {
     "name": "stdout",
     "output_type": "stream",
     "text": [
      "[D WARNING] Theta[mass_index] is: 0.7978401653014608 prospector.py:103: \n"
     ]
    },
    {
     "name": "stderr",
     "output_type": "stream",
     "text": [
      "2021-08-06 17:35:49,220 [WARNING] Theta[mass_index] is: 0.7978401653014608 (prospector)\n"
     ]
    },
    {
     "name": "stdout",
     "output_type": "stream",
     "text": [
      "[D WARNING] mass index is: 1 prospector.py:102: \n"
     ]
    },
    {
     "name": "stderr",
     "output_type": "stream",
     "text": [
      "2021-08-06 17:35:49,230 [WARNING] mass index is: 1 (prospector)\n"
     ]
    },
    {
     "name": "stdout",
     "output_type": "stream",
     "text": [
      "[D WARNING] Theta[mass_index] is: 1.6881834109529124 prospector.py:103: \n"
     ]
    },
    {
     "name": "stderr",
     "output_type": "stream",
     "text": [
      "2021-08-06 17:35:49,232 [WARNING] Theta[mass_index] is: 1.6881834109529124 (prospector)\n"
     ]
    },
    {
     "name": "stdout",
     "output_type": "stream",
     "text": [
      "[D WARNING] mass index is: 1 prospector.py:102: \n"
     ]
    },
    {
     "name": "stderr",
     "output_type": "stream",
     "text": [
      "2021-08-06 17:35:49,244 [WARNING] mass index is: 1 (prospector)\n"
     ]
    },
    {
     "name": "stdout",
     "output_type": "stream",
     "text": [
      "[D WARNING] Theta[mass_index] is: 0.48029581819394906 prospector.py:103: \n"
     ]
    },
    {
     "name": "stderr",
     "output_type": "stream",
     "text": [
      "2021-08-06 17:35:49,248 [WARNING] Theta[mass_index] is: 0.48029581819394906 (prospector)\n",
      " 59%|████████████████████████████████████████                            | 59/100 [00:00<00:00, 86.69it/s]"
     ]
    },
    {
     "name": "stdout",
     "output_type": "stream",
     "text": [
      "[D WARNING] mass index is: 1 prospector.py:102: \n"
     ]
    },
    {
     "name": "stderr",
     "output_type": "stream",
     "text": [
      "2021-08-06 17:35:49,262 [WARNING] mass index is: 1 (prospector)\n"
     ]
    },
    {
     "name": "stdout",
     "output_type": "stream",
     "text": [
      "[D WARNING] Theta[mass_index] is: 1.148210696718951 prospector.py:103: \n"
     ]
    },
    {
     "name": "stderr",
     "output_type": "stream",
     "text": [
      "2021-08-06 17:35:49,265 [WARNING] Theta[mass_index] is: 1.148210696718951 (prospector)\n"
     ]
    },
    {
     "name": "stdout",
     "output_type": "stream",
     "text": [
      "[D WARNING] mass index is: 1 prospector.py:102: \n"
     ]
    },
    {
     "name": "stderr",
     "output_type": "stream",
     "text": [
      "2021-08-06 17:35:49,280 [WARNING] mass index is: 1 (prospector)\n"
     ]
    },
    {
     "name": "stdout",
     "output_type": "stream",
     "text": [
      "[D WARNING] Theta[mass_index] is: 1.5066744545480675 prospector.py:103: \n"
     ]
    },
    {
     "name": "stderr",
     "output_type": "stream",
     "text": [
      "2021-08-06 17:35:49,282 [WARNING] Theta[mass_index] is: 1.5066744545480675 (prospector)\n"
     ]
    },
    {
     "name": "stdout",
     "output_type": "stream",
     "text": [
      "[D WARNING] mass index is: 1 prospector.py:102: \n"
     ]
    },
    {
     "name": "stderr",
     "output_type": "stream",
     "text": [
      "2021-08-06 17:35:49,289 [WARNING] mass index is: 1 (prospector)\n"
     ]
    },
    {
     "name": "stdout",
     "output_type": "stream",
     "text": [
      "[D WARNING] Theta[mass_index] is: 1.5300455670444513 prospector.py:103: \n"
     ]
    },
    {
     "name": "stderr",
     "output_type": "stream",
     "text": [
      "2021-08-06 17:35:49,290 [WARNING] Theta[mass_index] is: 1.5300455670444513 (prospector)\n"
     ]
    },
    {
     "name": "stdout",
     "output_type": "stream",
     "text": [
      "[D WARNING] mass index is: 1 prospector.py:102: \n"
     ]
    },
    {
     "name": "stderr",
     "output_type": "stream",
     "text": [
      "2021-08-06 17:35:49,298 [WARNING] mass index is: 1 (prospector)\n"
     ]
    },
    {
     "name": "stdout",
     "output_type": "stream",
     "text": [
      "[D WARNING] Theta[mass_index] is: 0.9072697336746347 prospector.py:103: \n"
     ]
    },
    {
     "name": "stderr",
     "output_type": "stream",
     "text": [
      "2021-08-06 17:35:49,299 [WARNING] Theta[mass_index] is: 0.9072697336746347 (prospector)\n"
     ]
    },
    {
     "name": "stdout",
     "output_type": "stream",
     "text": [
      "[D WARNING] mass index is: 1 prospector.py:102: \n"
     ]
    },
    {
     "name": "stderr",
     "output_type": "stream",
     "text": [
      "2021-08-06 17:35:49,310 [WARNING] mass index is: 1 (prospector)\n"
     ]
    },
    {
     "name": "stdout",
     "output_type": "stream",
     "text": [
      "[D WARNING] Theta[mass_index] is: 1.778969800283959 prospector.py:103: \n"
     ]
    },
    {
     "name": "stderr",
     "output_type": "stream",
     "text": [
      "2021-08-06 17:35:49,311 [WARNING] Theta[mass_index] is: 1.778969800283959 (prospector)\n"
     ]
    },
    {
     "name": "stdout",
     "output_type": "stream",
     "text": [
      "[D WARNING] mass index is: 1 prospector.py:102: \n"
     ]
    },
    {
     "name": "stderr",
     "output_type": "stream",
     "text": [
      "2021-08-06 17:35:49,321 [WARNING] mass index is: 1 (prospector)\n"
     ]
    },
    {
     "name": "stdout",
     "output_type": "stream",
     "text": [
      "[D WARNING] Theta[mass_index] is: 1.7211888963966357 prospector.py:103: \n"
     ]
    },
    {
     "name": "stderr",
     "output_type": "stream",
     "text": [
      "2021-08-06 17:35:49,322 [WARNING] Theta[mass_index] is: 1.7211888963966357 (prospector)\n"
     ]
    },
    {
     "name": "stdout",
     "output_type": "stream",
     "text": [
      "[D WARNING] mass index is: 1 prospector.py:102: \n"
     ]
    },
    {
     "name": "stderr",
     "output_type": "stream",
     "text": [
      "2021-08-06 17:35:49,331 [WARNING] mass index is: 1 (prospector)\n"
     ]
    },
    {
     "name": "stdout",
     "output_type": "stream",
     "text": [
      "[D WARNING] Theta[mass_index] is: 0.15001189220087127 prospector.py:103: \n"
     ]
    },
    {
     "name": "stderr",
     "output_type": "stream",
     "text": [
      "2021-08-06 17:35:49,333 [WARNING] Theta[mass_index] is: 0.15001189220087127 (prospector)\n"
     ]
    },
    {
     "name": "stdout",
     "output_type": "stream",
     "text": [
      "[D WARNING] mass index is: 1 prospector.py:102: \n"
     ]
    },
    {
     "name": "stderr",
     "output_type": "stream",
     "text": [
      "2021-08-06 17:35:49,343 [WARNING] mass index is: 1 (prospector)\n"
     ]
    },
    {
     "name": "stdout",
     "output_type": "stream",
     "text": [
      "[D WARNING] Theta[mass_index] is: 0.33947997072724684 prospector.py:103: \n"
     ]
    },
    {
     "name": "stderr",
     "output_type": "stream",
     "text": [
      "2021-08-06 17:35:49,344 [WARNING] Theta[mass_index] is: 0.33947997072724684 (prospector)\n"
     ]
    },
    {
     "name": "stdout",
     "output_type": "stream",
     "text": [
      "[D WARNING] mass index is: 1 prospector.py:102: \n"
     ]
    },
    {
     "name": "stderr",
     "output_type": "stream",
     "text": [
      "2021-08-06 17:35:49,354 [WARNING] mass index is: 1 (prospector)\n"
     ]
    },
    {
     "name": "stdout",
     "output_type": "stream",
     "text": [
      "[D WARNING] Theta[mass_index] is: 1.5896865355908998 prospector.py:103: \n"
     ]
    },
    {
     "name": "stderr",
     "output_type": "stream",
     "text": [
      "2021-08-06 17:35:49,355 [WARNING] Theta[mass_index] is: 1.5896865355908998 (prospector)\n",
      " 68%|██████████████████████████████████████████████▏                     | 68/100 [00:00<00:00, 86.47it/s]"
     ]
    },
    {
     "name": "stdout",
     "output_type": "stream",
     "text": [
      "[D WARNING] mass index is: 1 prospector.py:102: \n"
     ]
    },
    {
     "name": "stderr",
     "output_type": "stream",
     "text": [
      "2021-08-06 17:35:49,366 [WARNING] mass index is: 1 (prospector)\n"
     ]
    },
    {
     "name": "stdout",
     "output_type": "stream",
     "text": [
      "[D WARNING] Theta[mass_index] is: 0.5576344726605108 prospector.py:103: \n"
     ]
    },
    {
     "name": "stderr",
     "output_type": "stream",
     "text": [
      "2021-08-06 17:35:49,368 [WARNING] Theta[mass_index] is: 0.5576344726605108 (prospector)\n"
     ]
    },
    {
     "name": "stdout",
     "output_type": "stream",
     "text": [
      "[D WARNING] mass index is: 1 prospector.py:102: \n"
     ]
    },
    {
     "name": "stderr",
     "output_type": "stream",
     "text": [
      "2021-08-06 17:35:49,378 [WARNING] mass index is: 1 (prospector)\n"
     ]
    },
    {
     "name": "stdout",
     "output_type": "stream",
     "text": [
      "[D WARNING] Theta[mass_index] is: 1.333675565641033 prospector.py:103: \n"
     ]
    },
    {
     "name": "stderr",
     "output_type": "stream",
     "text": [
      "2021-08-06 17:35:49,380 [WARNING] Theta[mass_index] is: 1.333675565641033 (prospector)\n"
     ]
    },
    {
     "name": "stdout",
     "output_type": "stream",
     "text": [
      "[D WARNING] mass index is: 1 prospector.py:102: \n"
     ]
    },
    {
     "name": "stderr",
     "output_type": "stream",
     "text": [
      "2021-08-06 17:35:49,388 [WARNING] mass index is: 1 (prospector)\n"
     ]
    },
    {
     "name": "stdout",
     "output_type": "stream",
     "text": [
      "[D WARNING] Theta[mass_index] is: 1.9114698763887514 prospector.py:103: \n"
     ]
    },
    {
     "name": "stderr",
     "output_type": "stream",
     "text": [
      "2021-08-06 17:35:49,390 [WARNING] Theta[mass_index] is: 1.9114698763887514 (prospector)\n"
     ]
    },
    {
     "name": "stdout",
     "output_type": "stream",
     "text": [
      "[D WARNING] mass index is: 1 prospector.py:102: \n"
     ]
    },
    {
     "name": "stderr",
     "output_type": "stream",
     "text": [
      "2021-08-06 17:35:49,399 [WARNING] mass index is: 1 (prospector)\n"
     ]
    },
    {
     "name": "stdout",
     "output_type": "stream",
     "text": [
      "[D WARNING] Theta[mass_index] is: 1.4703240133472317 prospector.py:103: \n"
     ]
    },
    {
     "name": "stderr",
     "output_type": "stream",
     "text": [
      "2021-08-06 17:35:49,400 [WARNING] Theta[mass_index] is: 1.4703240133472317 (prospector)\n"
     ]
    },
    {
     "name": "stdout",
     "output_type": "stream",
     "text": [
      "[D WARNING] mass index is: 1 prospector.py:102: \n"
     ]
    },
    {
     "name": "stderr",
     "output_type": "stream",
     "text": [
      "2021-08-06 17:35:49,409 [WARNING] mass index is: 1 (prospector)\n"
     ]
    },
    {
     "name": "stdout",
     "output_type": "stream",
     "text": [
      "[D WARNING] Theta[mass_index] is: 1.9432351498828444 prospector.py:103: \n"
     ]
    },
    {
     "name": "stderr",
     "output_type": "stream",
     "text": [
      "2021-08-06 17:35:49,411 [WARNING] Theta[mass_index] is: 1.9432351498828444 (prospector)\n"
     ]
    },
    {
     "name": "stdout",
     "output_type": "stream",
     "text": [
      "[D WARNING] mass index is: 1 prospector.py:102: \n"
     ]
    },
    {
     "name": "stderr",
     "output_type": "stream",
     "text": [
      "2021-08-06 17:35:49,423 [WARNING] mass index is: 1 (prospector)\n"
     ]
    },
    {
     "name": "stdout",
     "output_type": "stream",
     "text": [
      "[D WARNING] Theta[mass_index] is: 1.7161148153980608 prospector.py:103: \n"
     ]
    },
    {
     "name": "stderr",
     "output_type": "stream",
     "text": [
      "2021-08-06 17:35:49,425 [WARNING] Theta[mass_index] is: 1.7161148153980608 (prospector)\n"
     ]
    },
    {
     "name": "stdout",
     "output_type": "stream",
     "text": [
      "[D WARNING] mass index is: 1 prospector.py:102: \n"
     ]
    },
    {
     "name": "stderr",
     "output_type": "stream",
     "text": [
      "2021-08-06 17:35:49,431 [WARNING] mass index is: 1 (prospector)\n"
     ]
    },
    {
     "name": "stdout",
     "output_type": "stream",
     "text": [
      "[D WARNING] Theta[mass_index] is: 1.6119189560901375 prospector.py:103: \n"
     ]
    },
    {
     "name": "stderr",
     "output_type": "stream",
     "text": [
      "2021-08-06 17:35:49,433 [WARNING] Theta[mass_index] is: 1.6119189560901375 (prospector)\n"
     ]
    },
    {
     "name": "stdout",
     "output_type": "stream",
     "text": [
      "[D WARNING] mass index is: 1 prospector.py:102: \n"
     ]
    },
    {
     "name": "stderr",
     "output_type": "stream",
     "text": [
      "2021-08-06 17:35:49,444 [WARNING] mass index is: 1 (prospector)\n"
     ]
    },
    {
     "name": "stdout",
     "output_type": "stream",
     "text": [
      "[D WARNING] Theta[mass_index] is: 0.2731844579020074 prospector.py:103: \n"
     ]
    },
    {
     "name": "stderr",
     "output_type": "stream",
     "text": [
      "2021-08-06 17:35:49,446 [WARNING] Theta[mass_index] is: 0.2731844579020074 (prospector)\n"
     ]
    },
    {
     "name": "stdout",
     "output_type": "stream",
     "text": [
      "[D WARNING] mass index is: 1 prospector.py:102: \n"
     ]
    },
    {
     "name": "stderr",
     "output_type": "stream",
     "text": [
      "2021-08-06 17:35:49,458 [WARNING] mass index is: 1 (prospector)\n"
     ]
    },
    {
     "name": "stdout",
     "output_type": "stream",
     "text": [
      "[D WARNING] Theta[mass_index] is: 0.30314549102762073 prospector.py:103: \n"
     ]
    },
    {
     "name": "stderr",
     "output_type": "stream",
     "text": [
      "2021-08-06 17:35:49,460 [WARNING] Theta[mass_index] is: 0.30314549102762073 (prospector)\n",
      " 77%|████████████████████████████████████████████████████▎               | 77/100 [00:00<00:00, 86.90it/s]"
     ]
    },
    {
     "name": "stdout",
     "output_type": "stream",
     "text": [
      "[D WARNING] mass index is: 1 prospector.py:102: \n"
     ]
    },
    {
     "name": "stderr",
     "output_type": "stream",
     "text": [
      "2021-08-06 17:35:49,469 [WARNING] mass index is: 1 (prospector)\n"
     ]
    },
    {
     "name": "stdout",
     "output_type": "stream",
     "text": [
      "[D WARNING] Theta[mass_index] is: 0.02224597385227204 prospector.py:103: \n"
     ]
    },
    {
     "name": "stderr",
     "output_type": "stream",
     "text": [
      "2021-08-06 17:35:49,470 [WARNING] Theta[mass_index] is: 0.02224597385227204 (prospector)\n"
     ]
    },
    {
     "name": "stdout",
     "output_type": "stream",
     "text": [
      "[D WARNING] mass index is: 1 prospector.py:102: \n"
     ]
    },
    {
     "name": "stderr",
     "output_type": "stream",
     "text": [
      "2021-08-06 17:35:49,479 [WARNING] mass index is: 1 (prospector)\n"
     ]
    },
    {
     "name": "stdout",
     "output_type": "stream",
     "text": [
      "[D WARNING] Theta[mass_index] is: 0.018449799931774966 prospector.py:103: \n"
     ]
    },
    {
     "name": "stderr",
     "output_type": "stream",
     "text": [
      "2021-08-06 17:35:49,480 [WARNING] Theta[mass_index] is: 0.018449799931774966 (prospector)\n"
     ]
    },
    {
     "name": "stdout",
     "output_type": "stream",
     "text": [
      "[D WARNING] mass index is: 1 prospector.py:102: \n"
     ]
    },
    {
     "name": "stderr",
     "output_type": "stream",
     "text": [
      "2021-08-06 17:35:49,489 [WARNING] mass index is: 1 (prospector)\n"
     ]
    },
    {
     "name": "stdout",
     "output_type": "stream",
     "text": [
      "[D WARNING] Theta[mass_index] is: 0.23014614170403788 prospector.py:103: \n"
     ]
    },
    {
     "name": "stderr",
     "output_type": "stream",
     "text": [
      "2021-08-06 17:35:49,492 [WARNING] Theta[mass_index] is: 0.23014614170403788 (prospector)\n"
     ]
    },
    {
     "name": "stdout",
     "output_type": "stream",
     "text": [
      "[D WARNING] mass index is: 1 prospector.py:102: \n"
     ]
    },
    {
     "name": "stderr",
     "output_type": "stream",
     "text": [
      "2021-08-06 17:35:49,506 [WARNING] mass index is: 1 (prospector)\n"
     ]
    },
    {
     "name": "stdout",
     "output_type": "stream",
     "text": [
      "[D WARNING] Theta[mass_index] is: 0.4614484456292711 prospector.py:103: \n"
     ]
    },
    {
     "name": "stderr",
     "output_type": "stream",
     "text": [
      "2021-08-06 17:35:49,509 [WARNING] Theta[mass_index] is: 0.4614484456292711 (prospector)\n"
     ]
    },
    {
     "name": "stdout",
     "output_type": "stream",
     "text": [
      "[D WARNING] mass index is: 1 prospector.py:102: \n"
     ]
    },
    {
     "name": "stderr",
     "output_type": "stream",
     "text": [
      "2021-08-06 17:35:49,519 [WARNING] mass index is: 1 (prospector)\n"
     ]
    },
    {
     "name": "stdout",
     "output_type": "stream",
     "text": [
      "[D WARNING] Theta[mass_index] is: 1.308854747325587 prospector.py:103: \n"
     ]
    },
    {
     "name": "stderr",
     "output_type": "stream",
     "text": [
      "2021-08-06 17:35:49,520 [WARNING] Theta[mass_index] is: 1.308854747325587 (prospector)\n"
     ]
    },
    {
     "name": "stdout",
     "output_type": "stream",
     "text": [
      "[D WARNING] mass index is: 1 prospector.py:102: \n"
     ]
    },
    {
     "name": "stderr",
     "output_type": "stream",
     "text": [
      "2021-08-06 17:35:49,533 [WARNING] mass index is: 1 (prospector)\n"
     ]
    },
    {
     "name": "stdout",
     "output_type": "stream",
     "text": [
      "[D WARNING] Theta[mass_index] is: 1.3474039971163734 prospector.py:103: \n"
     ]
    },
    {
     "name": "stderr",
     "output_type": "stream",
     "text": [
      "2021-08-06 17:35:49,534 [WARNING] Theta[mass_index] is: 1.3474039971163734 (prospector)\n"
     ]
    },
    {
     "name": "stdout",
     "output_type": "stream",
     "text": [
      "[D WARNING] mass index is: 1 prospector.py:102: \n"
     ]
    },
    {
     "name": "stderr",
     "output_type": "stream",
     "text": [
      "2021-08-06 17:35:49,541 [WARNING] mass index is: 1 (prospector)\n"
     ]
    },
    {
     "name": "stdout",
     "output_type": "stream",
     "text": [
      "[D WARNING] Theta[mass_index] is: 1.5604800858040495 prospector.py:103: \n"
     ]
    },
    {
     "name": "stderr",
     "output_type": "stream",
     "text": [
      "2021-08-06 17:35:49,543 [WARNING] Theta[mass_index] is: 1.5604800858040495 (prospector)\n"
     ]
    },
    {
     "name": "stdout",
     "output_type": "stream",
     "text": [
      "[D WARNING] mass index is: 1 prospector.py:102: \n"
     ]
    },
    {
     "name": "stderr",
     "output_type": "stream",
     "text": [
      "2021-08-06 17:35:49,553 [WARNING] mass index is: 1 (prospector)\n"
     ]
    },
    {
     "name": "stdout",
     "output_type": "stream",
     "text": [
      "[D WARNING] Theta[mass_index] is: 0.6229047710468744 prospector.py:103: \n"
     ]
    },
    {
     "name": "stderr",
     "output_type": "stream",
     "text": [
      "2021-08-06 17:35:49,554 [WARNING] Theta[mass_index] is: 0.6229047710468744 (prospector)\n"
     ]
    },
    {
     "name": "stdout",
     "output_type": "stream",
     "text": [
      "[D WARNING] mass index is: 1 prospector.py:102: \n"
     ]
    },
    {
     "name": "stderr",
     "output_type": "stream",
     "text": [
      "2021-08-06 17:35:49,564 [WARNING] mass index is: 1 (prospector)\n"
     ]
    },
    {
     "name": "stdout",
     "output_type": "stream",
     "text": [
      "[D WARNING] Theta[mass_index] is: 1.4411304142391304 prospector.py:103: \n"
     ]
    },
    {
     "name": "stderr",
     "output_type": "stream",
     "text": [
      "2021-08-06 17:35:49,566 [WARNING] Theta[mass_index] is: 1.4411304142391304 (prospector)\n",
      " 86%|██████████████████████████████████████████████████████████▍         | 86/100 [00:01<00:00, 85.52it/s]"
     ]
    },
    {
     "name": "stdout",
     "output_type": "stream",
     "text": [
      "[D WARNING] mass index is: 1 prospector.py:102: \n"
     ]
    },
    {
     "name": "stderr",
     "output_type": "stream",
     "text": [
      "2021-08-06 17:35:49,578 [WARNING] mass index is: 1 (prospector)\n"
     ]
    },
    {
     "name": "stdout",
     "output_type": "stream",
     "text": [
      "[D WARNING] Theta[mass_index] is: 0.98270228218473 prospector.py:103: \n"
     ]
    },
    {
     "name": "stderr",
     "output_type": "stream",
     "text": [
      "2021-08-06 17:35:49,581 [WARNING] Theta[mass_index] is: 0.98270228218473 (prospector)\n"
     ]
    },
    {
     "name": "stdout",
     "output_type": "stream",
     "text": [
      "[D WARNING] mass index is: 1 prospector.py:102: \n"
     ]
    },
    {
     "name": "stderr",
     "output_type": "stream",
     "text": [
      "2021-08-06 17:35:49,590 [WARNING] mass index is: 1 (prospector)\n"
     ]
    },
    {
     "name": "stdout",
     "output_type": "stream",
     "text": [
      "[D WARNING] Theta[mass_index] is: 0.958415087343208 prospector.py:103: \n"
     ]
    },
    {
     "name": "stderr",
     "output_type": "stream",
     "text": [
      "2021-08-06 17:35:49,592 [WARNING] Theta[mass_index] is: 0.958415087343208 (prospector)\n"
     ]
    },
    {
     "name": "stdout",
     "output_type": "stream",
     "text": [
      "[D WARNING] mass index is: 1 prospector.py:102: \n"
     ]
    },
    {
     "name": "stderr",
     "output_type": "stream",
     "text": [
      "2021-08-06 17:35:49,600 [WARNING] mass index is: 1 (prospector)\n"
     ]
    },
    {
     "name": "stdout",
     "output_type": "stream",
     "text": [
      "[D WARNING] Theta[mass_index] is: 0.44653501871116374 prospector.py:103: \n"
     ]
    },
    {
     "name": "stderr",
     "output_type": "stream",
     "text": [
      "2021-08-06 17:35:49,601 [WARNING] Theta[mass_index] is: 0.44653501871116374 (prospector)\n"
     ]
    },
    {
     "name": "stdout",
     "output_type": "stream",
     "text": [
      "[D WARNING] mass index is: 1 prospector.py:102: \n"
     ]
    },
    {
     "name": "stderr",
     "output_type": "stream",
     "text": [
      "2021-08-06 17:35:49,609 [WARNING] mass index is: 1 (prospector)\n"
     ]
    },
    {
     "name": "stdout",
     "output_type": "stream",
     "text": [
      "[D WARNING] Theta[mass_index] is: 1.0797521079390644 prospector.py:103: \n"
     ]
    },
    {
     "name": "stderr",
     "output_type": "stream",
     "text": [
      "2021-08-06 17:35:49,610 [WARNING] Theta[mass_index] is: 1.0797521079390644 (prospector)\n"
     ]
    },
    {
     "name": "stdout",
     "output_type": "stream",
     "text": [
      "[D WARNING] mass index is: 1 prospector.py:102: \n"
     ]
    },
    {
     "name": "stderr",
     "output_type": "stream",
     "text": [
      "2021-08-06 17:35:49,618 [WARNING] mass index is: 1 (prospector)\n"
     ]
    },
    {
     "name": "stdout",
     "output_type": "stream",
     "text": [
      "[D WARNING] Theta[mass_index] is: 0.13998415353070853 prospector.py:103: \n"
     ]
    },
    {
     "name": "stderr",
     "output_type": "stream",
     "text": [
      "2021-08-06 17:35:49,620 [WARNING] Theta[mass_index] is: 0.13998415353070853 (prospector)\n"
     ]
    },
    {
     "name": "stdout",
     "output_type": "stream",
     "text": [
      "[D WARNING] mass index is: 1 prospector.py:102: \n"
     ]
    },
    {
     "name": "stderr",
     "output_type": "stream",
     "text": [
      "2021-08-06 17:35:49,631 [WARNING] mass index is: 1 (prospector)\n"
     ]
    },
    {
     "name": "stdout",
     "output_type": "stream",
     "text": [
      "[D WARNING] Theta[mass_index] is: 0.7257651465599614 prospector.py:103: \n"
     ]
    },
    {
     "name": "stderr",
     "output_type": "stream",
     "text": [
      "2021-08-06 17:35:49,634 [WARNING] Theta[mass_index] is: 0.7257651465599614 (prospector)\n"
     ]
    },
    {
     "name": "stdout",
     "output_type": "stream",
     "text": [
      "[D WARNING] mass index is: 1 prospector.py:102: \n"
     ]
    },
    {
     "name": "stderr",
     "output_type": "stream",
     "text": [
      "2021-08-06 17:35:49,644 [WARNING] mass index is: 1 (prospector)\n"
     ]
    },
    {
     "name": "stdout",
     "output_type": "stream",
     "text": [
      "[D WARNING] Theta[mass_index] is: 0.1005607322996163 prospector.py:103: \n"
     ]
    },
    {
     "name": "stderr",
     "output_type": "stream",
     "text": [
      "2021-08-06 17:35:49,647 [WARNING] Theta[mass_index] is: 0.1005607322996163 (prospector)\n"
     ]
    },
    {
     "name": "stdout",
     "output_type": "stream",
     "text": [
      "[D WARNING] mass index is: 1 prospector.py:102: \n"
     ]
    },
    {
     "name": "stderr",
     "output_type": "stream",
     "text": [
      "2021-08-06 17:35:49,663 [WARNING] mass index is: 1 (prospector)\n"
     ]
    },
    {
     "name": "stdout",
     "output_type": "stream",
     "text": [
      "[D WARNING] Theta[mass_index] is: 1.193882593429313 prospector.py:103: \n"
     ]
    },
    {
     "name": "stderr",
     "output_type": "stream",
     "text": [
      "2021-08-06 17:35:49,670 [WARNING] Theta[mass_index] is: 1.193882593429313 (prospector)\n"
     ]
    },
    {
     "name": "stdout",
     "output_type": "stream",
     "text": [
      "[D WARNING] mass index is: 1 prospector.py:102: \n"
     ]
    },
    {
     "name": "stderr",
     "output_type": "stream",
     "text": [
      "2021-08-06 17:35:49,695 [WARNING] mass index is: 1 (prospector)\n"
     ]
    },
    {
     "name": "stdout",
     "output_type": "stream",
     "text": [
      "[D WARNING] Theta[mass_index] is: 1.9655304985737598 prospector.py:103: \n"
     ]
    },
    {
     "name": "stderr",
     "output_type": "stream",
     "text": [
      "2021-08-06 17:35:49,703 [WARNING] Theta[mass_index] is: 1.9655304985737598 (prospector)\n",
      " 95%|████████████████████████████████████████████████████████████████▌   | 95/100 [00:01<00:00, 75.60it/s]"
     ]
    },
    {
     "name": "stdout",
     "output_type": "stream",
     "text": [
      "[D WARNING] mass index is: 1 prospector.py:102: \n"
     ]
    },
    {
     "name": "stderr",
     "output_type": "stream",
     "text": [
      "2021-08-06 17:35:49,734 [WARNING] mass index is: 1 (prospector)\n"
     ]
    },
    {
     "name": "stdout",
     "output_type": "stream",
     "text": [
      "[D WARNING] Theta[mass_index] is: 1.2388254615715668 prospector.py:103: \n"
     ]
    },
    {
     "name": "stderr",
     "output_type": "stream",
     "text": [
      "2021-08-06 17:35:49,738 [WARNING] Theta[mass_index] is: 1.2388254615715668 (prospector)\n"
     ]
    },
    {
     "name": "stdout",
     "output_type": "stream",
     "text": [
      "[D WARNING] mass index is: 1 prospector.py:102: \n"
     ]
    },
    {
     "name": "stderr",
     "output_type": "stream",
     "text": [
      "2021-08-06 17:35:49,756 [WARNING] mass index is: 1 (prospector)\n"
     ]
    },
    {
     "name": "stdout",
     "output_type": "stream",
     "text": [
      "[D WARNING] Theta[mass_index] is: 0.564934825353409 prospector.py:103: \n"
     ]
    },
    {
     "name": "stderr",
     "output_type": "stream",
     "text": [
      "2021-08-06 17:35:49,769 [WARNING] Theta[mass_index] is: 0.564934825353409 (prospector)\n"
     ]
    },
    {
     "name": "stdout",
     "output_type": "stream",
     "text": [
      "[D WARNING] mass index is: 1 prospector.py:102: \n"
     ]
    },
    {
     "name": "stderr",
     "output_type": "stream",
     "text": [
      "2021-08-06 17:35:49,796 [WARNING] mass index is: 1 (prospector)\n"
     ]
    },
    {
     "name": "stdout",
     "output_type": "stream",
     "text": [
      "[D WARNING] Theta[mass_index] is: 0.09966186294038394 prospector.py:103: \n"
     ]
    },
    {
     "name": "stderr",
     "output_type": "stream",
     "text": [
      "2021-08-06 17:35:49,805 [WARNING] Theta[mass_index] is: 0.09966186294038394 (prospector)\n"
     ]
    },
    {
     "name": "stdout",
     "output_type": "stream",
     "text": [
      "[D WARNING] mass index is: 1 prospector.py:102: \n"
     ]
    },
    {
     "name": "stderr",
     "output_type": "stream",
     "text": [
      "2021-08-06 17:35:49,839 [WARNING] mass index is: 1 (prospector)\n"
     ]
    },
    {
     "name": "stdout",
     "output_type": "stream",
     "text": [
      "[D WARNING] Theta[mass_index] is: 1.2126484341943418 prospector.py:103: \n"
     ]
    },
    {
     "name": "stderr",
     "output_type": "stream",
     "text": [
      "2021-08-06 17:35:49,858 [WARNING] Theta[mass_index] is: 1.2126484341943418 (prospector)\n"
     ]
    },
    {
     "name": "stdout",
     "output_type": "stream",
     "text": [
      "[D WARNING] mass index is: 1 prospector.py:102: \n"
     ]
    },
    {
     "name": "stderr",
     "output_type": "stream",
     "text": [
      "2021-08-06 17:35:49,873 [WARNING] mass index is: 1 (prospector)\n"
     ]
    },
    {
     "name": "stdout",
     "output_type": "stream",
     "text": [
      "[D WARNING] Theta[mass_index] is: 1.2551350557045016 prospector.py:103: \n"
     ]
    },
    {
     "name": "stderr",
     "output_type": "stream",
     "text": [
      "2021-08-06 17:35:49,874 [WARNING] Theta[mass_index] is: 1.2551350557045016 (prospector)\n",
      "100%|███████████████████████████████████████████████████████████████████| 100/100 [00:01<00:00, 72.01it/s]\n"
     ]
    }
   ],
   "source": [
    "sim.run()"
   ]
  },
  {
   "cell_type": "code",
   "execution_count": 7,
   "id": "e9ad3c11-2e3f-48f7-97bc-2890552da521",
   "metadata": {},
   "outputs": [
    {
     "name": "stdout",
     "output_type": "stream",
     "text": [
      "[D INFO] Saved samples to ./data/photometry_simulation_100n_z_0p0000_to_4p0000.hdf5 simulation.py:154: \n"
     ]
    }
   ],
   "source": [
    "sim.save_samples()"
   ]
  },
  {
   "cell_type": "code",
   "execution_count": 8,
   "id": "5ca01ca8-089a-4719-b6c3-cfa24dc8f8f8",
   "metadata": {},
   "outputs": [
    {
     "data": {
      "text/plain": [
       "(100, 8)"
      ]
     },
     "execution_count": 8,
     "metadata": {},
     "output_type": "execute_result"
    }
   ],
   "source": [
    "sim.galaxy_photometry.shape"
   ]
  },
  {
   "cell_type": "code",
   "execution_count": null,
   "id": "c4a65ae4-3ea8-4a9e-86d2-d209f30696f4",
   "metadata": {},
   "outputs": [],
   "source": [
    "sim.gal"
   ]
  }
 ],
 "metadata": {
  "kernelspec": {
   "display_name": "agnvenv (Python 3.9)",
   "language": "python",
   "name": "agnvenv"
  },
  "language_info": {
   "codemirror_mode": {
    "name": "ipython",
    "version": 3
   },
   "file_extension": ".py",
   "mimetype": "text/x-python",
   "name": "python",
   "nbconvert_exporter": "python",
   "pygments_lexer": "ipython3",
   "version": "3.9.6"
  }
 },
 "nbformat": 4,
 "nbformat_minor": 5
}
