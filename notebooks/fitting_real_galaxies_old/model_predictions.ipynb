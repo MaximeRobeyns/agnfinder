{
 "cells": [
  {
   "cell_type": "markdown",
   "metadata": {},
   "source": [
    "## Investigate model predictions"
   ]
  },
  {
   "cell_type": "code",
   "execution_count": 5,
   "metadata": {},
   "outputs": [
    {
     "name": "stdout",
     "output_type": "stream",
     "text": [
      "The autoreload extension is already loaded. To reload it, use:\n",
      "  %reload_ext autoreload\n"
     ]
    }
   ],
   "source": [
    "%load_ext autoreload\n",
    "%autoreload 2\n",
    "%matplotlib inline"
   ]
  },
  {
   "cell_type": "code",
   "execution_count": 6,
   "metadata": {},
   "outputs": [],
   "source": [
    "import os\n",
    "\n",
    "import numpy as np\n",
    "import pandas as pd\n",
    "from astropy.table import Table\n",
    "import matplotlib.pyplot as plt\n",
    "import seaborn as sns\n",
    "sns.set_context('notebook')"
   ]
  },
  {
   "cell_type": "code",
   "execution_count": 7,
   "metadata": {},
   "outputs": [],
   "source": [
    "DATA_ROOT='/media/mike/internal/agnfinder'"
   ]
  },
  {
   "cell_type": "code",
   "execution_count": 8,
   "metadata": {},
   "outputs": [
    {
     "name": "stdout",
     "output_type": "stream",
     "text": [
      "clumpy_models_201410_tvavg.hdf5        LIBRARY_XXLN_Spirals.lib.dat.fits\n",
      "CPz_filters\t\t\t       LIBRARY_XXLN_Starburst.lib.dat.fits\n",
      "cpz_paper_sample.parquet\t       LIBRARY_XXLN_Starburst.parquet\n",
      "cpz_paper_sample_week3.parquet\t       photometry_simulation.hdf5\n",
      "fsps_cache.hdf5\t\t\t       README\n",
      "LIBRARY_STAR_XXL_North.dat.fits        results\n",
      "LIBRARY_XXLN_AGN.lib.dat.fits\t       SMC_prevot.dat\n",
      "LIBRARY_XXLN_Ellipticals.lib.dat.fits  uK_IR_final.fits\n",
      "LIBRARY_XXLN_QSO.lib.dat.fits\t       uK_IR_week3.fits\n"
     ]
    }
   ],
   "source": [
    "!ls {DATA_ROOT}"
   ]
  },
  {
   "cell_type": "markdown",
   "metadata": {},
   "source": [
    "# Visualise Observed Galaxies"
   ]
  },
  {
   "cell_type": "code",
   "execution_count": 9,
   "metadata": {},
   "outputs": [],
   "source": [
    "parquet_loc = os.path.join(DATA_ROOT, 'cpz_paper_sample_week3.parquet')"
   ]
  },
  {
   "cell_type": "code",
   "execution_count": 10,
   "metadata": {},
   "outputs": [],
   "source": [
    "# save to parquet for quick reading, including of specific columns\n",
    "if not os.path.isfile(parquet_loc):\n",
    "    df = Table.read(os.path.join(DATA_ROOT, 'uK_IR_week3.fits')).to_pandas()\n",
    "    df.replace(-99, np.nan, inplace=True)\n",
    "    df.to_parquet(parquet_loc)"
   ]
  },
  {
   "cell_type": "code",
   "execution_count": 11,
   "metadata": {},
   "outputs": [],
   "source": [
    "metadata_cols = ['id', 'alpha', 'delta', 'redshift', 'hclass', 'hquality',\n",
    "       'survey_quality', 'survey_comment', 'sp_survey']"
   ]
  },
  {
   "cell_type": "code",
   "execution_count": 12,
   "metadata": {},
   "outputs": [],
   "source": [
    "case_cols = ['CASE_I_a0_01', 'CASE_I_a0_001', 'CASE_I_a0', 'CASE_II_a0_05',\n",
    "       'CASE_II_a0_01', 'CASE_II_a0_001', 'CASE_II_a0', 'CASE_II_b0_05',\n",
    "       'CASE_II_b0_01', 'CASE_II_b0_001', 'CASE_II_b0', 'CASE_III_a0_05',\n",
    "       'CASE_III_a0_01', 'CASE_III_a0_001', 'CASE_III_a0',\n",
    "       'CASE_III_b0_05', 'CASE_III_b0_01', 'CASE_III_b0_001',\n",
    "       'CASE_III_b0', 'CASE_III_c0_05', 'CASE_III_c0_01',\n",
    "       'CASE_III_c0_001', 'CASE_III_c0', 'CASE_III_d0_05',\n",
    "       'CASE_III_d0_01', 'CASE_III_d0_001', 'CASE_III_d0']"
   ]
  },
  {
   "cell_type": "code",
   "execution_count": 13,
   "metadata": {},
   "outputs": [],
   "source": [
    "unified_cols = ['fuv', 'nuv',\n",
    "       'u', 'g', 'r', 'i', 'z', 'y', 'j', 'h', 'k', 'w1', 'w2', 'w3',\n",
    "       'w4', 'fuv3', 'nuv3', 'u3', 'g3', 'r3', 'i3', 'z3', 'y3', 'j3',\n",
    "       'h3', 'k3', 'fuv_err', 'nuv_err', 'u_err', 'g_err', 'r_err',\n",
    "       'i_err', 'z_err', 'y_err', 'j_err', 'h_err', 'k_err', 'w1_err',\n",
    "       'w2_err', 'w3_err', 'w4_err', 'fuv3_err', 'nuv3_err', 'u3_err',\n",
    "       'g3_err', 'r3_err', 'i3_err', 'z3_err', 'y3_err', 'j3_err',\n",
    "       'h3_err', 'k3_err', 'u_hlr', 'g_hlr', 'r_hlr', 'i_hlr', 'z_hlr',\n",
    "       'y_hlr', 'j_hlr', 'h_hlr', 'k_hlr']  # what is hlr?"
   ]
  },
  {
   "cell_type": "code",
   "execution_count": 14,
   "metadata": {},
   "outputs": [],
   "source": [
    "sdss_cols = ['id_sdss_u_dr12',\n",
    "       'tile_name_sdss_u_dr12', 'alpha_sdss_u_dr12', 'delta_sdss_u_dr12',\n",
    "       'flags_sdss_u_dr12', 'flux_radius_sdss_u_dr12', 'fwhm_sdss_u_dr12',\n",
    "       'mag_auto_sdss_u_dr12', 'magerr_auto_sdss_u_dr12',\n",
    "       'mag_aper2_sdss_u_dr12', 'magerr_aper2_sdss_u_dr12',\n",
    "       'mag_aper3_sdss_u_dr12', 'magerr_aper3_sdss_u_dr12',\n",
    "       'id_sdss_g_dr12', 'tile_name_sdss_g_dr12', 'alpha_sdss_g_dr12',\n",
    "       'delta_sdss_g_dr12', 'flags_sdss_g_dr12',\n",
    "       'flux_radius_sdss_g_dr12', 'fwhm_sdss_g_dr12',\n",
    "       'mag_auto_sdss_g_dr12', 'magerr_auto_sdss_g_dr12',\n",
    "       'mag_aper2_sdss_g_dr12', 'magerr_aper2_sdss_g_dr12',\n",
    "       'mag_aper3_sdss_g_dr12', 'magerr_aper3_sdss_g_dr12',\n",
    "       'id_sdss_r_dr12', 'tile_name_sdss_r_dr12', 'alpha_sdss_r_dr12',\n",
    "       'delta_sdss_r_dr12', 'flags_sdss_r_dr12',\n",
    "       'flux_radius_sdss_r_dr12', 'fwhm_sdss_r_dr12',\n",
    "       'mag_auto_sdss_r_dr12', 'magerr_auto_sdss_r_dr12',\n",
    "       'mag_aper2_sdss_r_dr12', 'magerr_aper2_sdss_r_dr12',\n",
    "       'mag_aper3_sdss_r_dr12', 'magerr_aper3_sdss_r_dr12',\n",
    "       'id_sdss_i_dr12', 'tile_name_sdss_i_dr12', 'alpha_sdss_i_dr12',\n",
    "       'delta_sdss_i_dr12', 'flags_sdss_i_dr12',\n",
    "       'flux_radius_sdss_i_dr12', 'fwhm_sdss_i_dr12',\n",
    "       'mag_auto_sdss_i_dr12', 'magerr_auto_sdss_i_dr12',\n",
    "       'mag_aper2_sdss_i_dr12', 'magerr_aper2_sdss_i_dr12',\n",
    "       'mag_aper3_sdss_i_dr12', 'magerr_aper3_sdss_i_dr12',\n",
    "       'id_sdss_z_dr12', 'tile_name_sdss_z_dr12', 'alpha_sdss_z_dr12',\n",
    "       'delta_sdss_z_dr12', 'flags_sdss_z_dr12',\n",
    "       'flux_radius_sdss_z_dr12', 'fwhm_sdss_z_dr12',\n",
    "       'mag_auto_sdss_z_dr12', 'magerr_auto_sdss_z_dr12',\n",
    "       'mag_aper2_sdss_z_dr12', 'magerr_aper2_sdss_z_dr12',\n",
    "       'mag_aper3_sdss_z_dr12', 'magerr_aper3_sdss_z_dr12']"
   ]
  },
  {
   "cell_type": "markdown",
   "metadata": {},
   "source": [
    "### For convenience, define groups of columns"
   ]
  },
  {
   "cell_type": "code",
   "execution_count": 15,
   "metadata": {},
   "outputs": [],
   "source": [
    "\"\"\"\n",
    "Schema:\n",
    "- IDENT: unique id?\n",
    "- Z_BEST: best matching template from library\n",
    "- Z_BEST68_{LOW}{HIGH}: solutions for 68% confidence (chi-squared = 1.0) in z likelihood from template\n",
    "- Z_ML: \"Zphot from Median of ML distribution\"\n",
    "- CHI_BEST: lowest chi-squared value from template fit\n",
    "- MOD_BEST: index of best-fitting template?\n",
    "- EXTLAW_BEST: index of best extinction law?\n",
    "- EBV_BEST: Extinction value?\n",
    "- MAG_ABS: Absolute magnitude (over all bands?) of best-fitting template?\n",
    "- PDZ_BEST: Integrated template probability between z_best +/- 0.1(1+z)\n",
    "- SCALE_BEST: \"Scaling factor\", presumably a free param. to scale the template from normalised form to match the observed mags.\n",
    "- DIST_MOD_BEST: Distance modulus ('DM') of best-fitting template\n",
    "Suffix: template library used\n",
    "\"\"\"\n",
    "\n",
    "template_cols_all_models = [\n",
    "    'IDENT_ALL_MODELS', 'Z_BEST_ALL_MODELS', 'Z_BEST68_LOW_ALL_MODELS',\n",
    "       'Z_BEST68_HIGH_ALL_MODELS', 'Z_ML_ALL_MODELS',\n",
    "       'CHI_BEST_ALL_MODELS', 'MOD_BEST_ALL_MODELS',\n",
    "       'EXTLAW_BEST_ALL_MODELS', 'EBV_BEST_ALL_MODELS',\n",
    "       'MAG_ABS_BEST_ALL_MODELS', 'PDZ_BEST_ALL_MODELS',\n",
    "       'SCALE_BEST_ALL_MODELS', 'DIST_MOD_BEST_ALL_MODELS',\n",
    "       'NBAND_USED_ALL_MODELS', 'Z_SEC_ALL_MODELS', 'CHI_SEC_ALL_MODELS',\n",
    "       'MOD_SEC_ALL_MODELS', 'MOD_STAR_ALL_MODELS', 'CHI_STAR_ALL_MODELS',\n",
    "       'CONTEXT_ALL_MODELS', 'ZSPEC_ALL_MODELS']\n",
    "\n",
    "template_cols_passive = [\n",
    "    'IDENT_PASSIVE_pure',\n",
    "       'Z_BEST_PASSIVE_pure', 'Z_BEST68_LOW_PASSIVE_pure',\n",
    "       'Z_BEST68_HIGH_PASSIVE_pure', 'Z_ML_PASSIVE_pure',\n",
    "       'CHI_BEST_PASSIVE_pure', 'MOD_BEST_PASSIVE_pure',\n",
    "       'EXTLAW_BEST_PASSIVE_pure', 'EBV_BEST_PASSIVE_pure',\n",
    "       'MAG_ABS_BEST_PASSIVE_pure', 'PDZ_BEST_PASSIVE_pure',\n",
    "       'SCALE_BEST_PASSIVE_pure', 'DIST_MOD_BEST_PASSIVE_pure',\n",
    "       'NBAND_USED_PASSIVE_pure', 'Z_SEC_PASSIVE_pure',\n",
    "       'CHI_SEC_PASSIVE_pure', 'MOD_SEC_PASSIVE_pure',\n",
    "       'MOD_STAR_PASSIVE_pure', 'CHI_STAR_PASSIVE_pure',\n",
    "       'CONTEXT_PASSIVE_pure', 'ZSPEC_PASSIVE_pure']\n",
    "\n",
    "template_cols_starforming = [\n",
    "       'IDENT_STARFORMING_pure', 'Z_BEST_STARFORMING_pure',\n",
    "       'Z_BEST68_LOW_STARFORMING_pure', 'Z_BEST68_HIGH_STARFORMING_pure',\n",
    "       'Z_ML_STARFORMING_pure', 'CHI_BEST_STARFORMING_pure',\n",
    "       'MOD_BEST_STARFORMING_pure', 'EXTLAW_BEST_STARFORMING_pure',\n",
    "       'EBV_BEST_STARFORMING_pure', 'MAG_ABS_BEST_STARFORMING_pure',\n",
    "       'PDZ_BEST_STARFORMING_pure', 'SCALE_BEST_STARFORMING_pure',\n",
    "       'DIST_MOD_BEST_STARFORMING_pure', 'NBAND_USED_STARFORMING_pure',\n",
    "       'Z_SEC_STARFORMING_pure', 'CHI_SEC_STARFORMING_pure',\n",
    "       'MOD_SEC_STARFORMING_pure', 'MOD_STAR_STARFORMING_pure',\n",
    "       'CHI_STAR_STARFORMING_pure', 'CONTEXT_STARFORMING_pure',\n",
    "       'ZSPEC_STARFORMING_pure']\n",
    "\n",
    "template_cols_extreme_starforming = [\n",
    "    'IDENT_EXTREME_STARFORMING_pure',\n",
    "       'Z_BEST_EXTREME_STARFORMING_pure',\n",
    "       'Z_BEST68_LOW_EXTREME_STARFORMING_pure',\n",
    "       'Z_BEST68_HIGH_EXTREME_STARFORMING_pure',\n",
    "       'Z_ML_EXTREME_STARFORMING_pure',\n",
    "       'CHI_BEST_EXTREME_STARFORMING_pure',\n",
    "       'MOD_BEST_EXTREME_STARFORMING_pure',\n",
    "       'EXTLAW_BEST_EXTREME_STARFORMING_pure',\n",
    "       'EBV_BEST_EXTREME_STARFORMING_pure',\n",
    "       'MAG_ABS_BEST_EXTREME_STARFORMING_pure',\n",
    "       'PDZ_BEST_EXTREME_STARFORMING_pure',\n",
    "       'SCALE_BEST_EXTREME_STARFORMING_pure',\n",
    "       'DIST_MOD_BEST_EXTREME_STARFORMING_pure',\n",
    "       'NBAND_USED_EXTREME_STARFORMING_pure',\n",
    "       'Z_SEC_EXTREME_STARFORMING_pure',\n",
    "       'CHI_SEC_EXTREME_STARFORMING_pure',\n",
    "       'MOD_SEC_EXTREME_STARFORMING_pure',\n",
    "       'MOD_STAR_EXTREME_STARFORMING_pure',\n",
    "       'CHI_STAR_EXTREME_STARFORMING_pure',\n",
    "       'CONTEXT_EXTREME_STARFORMING_pure',\n",
    "       'ZSPEC_EXTREME_STARFORMING_pure']\n",
    "\n",
    "template_cols_agn = ['IDENT_AGN_pure',\n",
    "       'Z_BEST_AGN_pure', 'Z_BEST68_LOW_AGN_pure',\n",
    "       'Z_BEST68_HIGH_AGN_pure', 'Z_ML_AGN_pure', 'CHI_BEST_AGN_pure',\n",
    "       'MOD_BEST_AGN_pure', 'EXTLAW_BEST_AGN_pure', 'EBV_BEST_AGN_pure',\n",
    "       'MAG_ABS_BEST_AGN_pure', 'PDZ_BEST_AGN_pure',\n",
    "       'SCALE_BEST_AGN_pure', 'DIST_MOD_BEST_AGN_pure',\n",
    "       'NBAND_USED_AGN_pure', 'Z_SEC_AGN_pure', 'CHI_SEC_AGN_pure',\n",
    "       'MOD_SEC_AGN_pure', 'MOD_STAR_AGN_pure', 'CHI_STAR_AGN_pure',\n",
    "       'CONTEXT_AGN_pure', 'ZSPEC_AGN_pure']\n",
    "\n",
    "template_cols_qso_pure = ['IDENT_QSO_pure',\n",
    "       'Z_BEST_QSO_pure', 'Z_BEST68_LOW_QSO_pure',\n",
    "       'Z_BEST68_HIGH_QSO_pure', 'Z_ML_QSO_pure', 'CHI_BEST_QSO_pure',\n",
    "       'MOD_BEST_QSO_pure', 'EXTLAW_BEST_QSO_pure', 'EBV_BEST_QSO_pure',\n",
    "       'MAG_ABS_BEST_QSO_pure', 'PDZ_BEST_QSO_pure',\n",
    "       'SCALE_BEST_QSO_pure', 'DIST_MOD_BEST_QSO_pure',\n",
    "       'NBAND_USED_QSO_pure', 'Z_SEC_QSO_pure', 'CHI_SEC_QSO_pure',\n",
    "       'MOD_SEC_QSO_pure', 'MOD_STAR_QSO_pure', 'CHI_STAR_QSO_pure',\n",
    "       'CONTEXT_QSO_pure', 'ZSPEC_QSO_pure']\n",
    "\n",
    "template_cols_star = ['IDENT_STAR', 'Z_BEST_STAR',\n",
    "       'Z_BEST68_LOW_STAR', 'Z_BEST68_HIGH_STAR', 'Z_ML_STAR',\n",
    "       'CHI_BEST_STAR', 'MOD_BEST_STAR', 'EXTLAW_BEST_STAR',\n",
    "       'EBV_BEST_STAR', 'MAG_ABS_BEST_STAR', 'PDZ_BEST_STAR',\n",
    "       'SCALE_BEST_STAR', 'DIST_MOD_BEST_STAR', 'NBAND_USED_STAR',\n",
    "       'Z_SEC_STAR', 'CHI_SEC_STAR', 'MOD_SEC_STAR', 'MOD_STAR_STAR',\n",
    "       'CHI_STAR_STAR', 'CONTEXT_STAR', 'ZSPEC_STAR']\n",
    "\n",
    "template_cols_galaxies = ['IDENT_GALAXIES',\n",
    "       'Z_BEST_GALAXIES', 'Z_BEST68_LOW_GALAXIES',\n",
    "       'Z_BEST68_HIGH_GALAXIES', 'Z_ML_GALAXIES', 'CHI_BEST_GALAXIES',\n",
    "       'MOD_BEST_GALAXIES', 'EXTLAW_BEST_GALAXIES', 'EBV_BEST_GALAXIES',\n",
    "       'MAG_ABS_BEST_GALAXIES', 'PDZ_BEST_GALAXIES',\n",
    "       'SCALE_BEST_GALAXIES', 'DIST_MOD_BEST_GALAXIES',\n",
    "       'NBAND_USED_GALAXIES', 'Z_SEC_GALAXIES', 'CHI_SEC_GALAXIES',\n",
    "       'MOD_SEC_GALAXIES', 'MOD_STAR_GALAXIES', 'CHI_STAR_GALAXIES',\n",
    "       'CONTEXT_GALAXIES', 'ZSPEC_GALAXIES']\n",
    "\n",
    "template_cols_agn = ['IDENT_AGN', 'Z_BEST_AGN',\n",
    "       'Z_BEST68_LOW_AGN', 'Z_BEST68_HIGH_AGN', 'Z_ML_AGN',\n",
    "       'CHI_BEST_AGN', 'MOD_BEST_AGN', 'EXTLAW_BEST_AGN', 'EBV_BEST_AGN',\n",
    "       'MAG_ABS_BEST_AGN', 'PDZ_BEST_AGN', 'SCALE_BEST_AGN',\n",
    "       'DIST_MOD_BEST_AGN', 'NBAND_USED_AGN', 'Z_SEC_AGN', 'CHI_SEC_AGN',\n",
    "       'MOD_SEC_AGN', 'MOD_STAR_AGN', 'CHI_STAR_AGN', 'CONTEXT_AGN',\n",
    "       'ZSPEC_AGN']\n",
    "\n",
    "# what's the difference between these and qso_pure?\n",
    "template_cols_qso_impure = ['IDENT_QSO', 'Z_BEST_QSO', 'Z_BEST68_LOW_QSO',\n",
    "       'Z_BEST68_HIGH_QSO', 'Z_ML_QSO', 'CHI_BEST_QSO', 'MOD_BEST_QSO',\n",
    "       'EXTLAW_BEST_QSO', 'EBV_BEST_QSO', 'MAG_ABS_BEST_QSO',\n",
    "       'PDZ_BEST_QSO', 'SCALE_BEST_QSO', 'DIST_MOD_BEST_QSO',\n",
    "       'NBAND_USED_QSO', 'Z_SEC_QSO', 'CHI_SEC_QSO', 'MOD_SEC_QSO',\n",
    "       'MOD_STAR_QSO', 'CHI_STAR_QSO', 'CONTEXT_QSO', 'ZSPEC_QSO']\n",
    "\n",
    "# what's the difference betwen these and STARFORMING?\n",
    "template_cols_starforming_v2 = [\n",
    "       'IDENT_starforming', 'Z_BEST_starforming',\n",
    "       'Z_BEST68_LOW_starforming', 'Z_BEST68_HIGH_starforming',\n",
    "       'Z_ML_starforming', 'CHI_BEST_starforming', 'MOD_BEST_starforming',\n",
    "       'EXTLAW_BEST_starforming', 'EBV_BEST_starforming',\n",
    "       'MAG_ABS_BEST_starforming', 'PDZ_BEST_starforming',\n",
    "       'SCALE_BEST_starforming', 'DIST_MOD_BEST_starforming',\n",
    "       'NBAND_USED_starforming', 'Z_SEC_starforming',\n",
    "       'CHI_SEC_starforming', 'MOD_SEC_starforming',\n",
    "       'MOD_STAR_starforming', 'CHI_STAR_starforming',\n",
    "       'CONTEXT_starforming', 'ZSPEC_starforming']\n",
    "\n",
    "z_errors_vs_spectro = ['Dz_ALL_MODELS',\n",
    "       'Dz_GALAXIES', 'Dz_AGN', 'Dz_QSO', 'Dz_PASSIVE_pure',\n",
    "       'Dz_STARFORMING_pure', 'Dz_EXTREME_STARFORMING_pure',\n",
    "       'Dz_starforming', 'Dz_AGN_pure']"
   ]
  },
  {
   "cell_type": "code",
   "execution_count": 16,
   "metadata": {},
   "outputs": [],
   "source": [
    "df = pd.read_parquet(parquet_loc, columns=metadata_cols + unified_cols)\n",
    "# df = pd.read_parquet(parquet_loc)"
   ]
  },
  {
   "cell_type": "code",
   "execution_count": 17,
   "metadata": {},
   "outputs": [
    {
     "data": {
      "text/plain": [
       "array(['id', 'alpha', 'delta', 'redshift', 'hclass', 'hquality',\n",
       "       'survey_quality', 'survey_comment', 'sp_survey', 'fuv', 'nuv', 'u',\n",
       "       'g', 'r', 'i', 'z', 'y', 'j', 'h', 'k', 'w1', 'w2', 'w3', 'w4',\n",
       "       'fuv3', 'nuv3', 'u3', 'g3', 'r3', 'i3', 'z3', 'y3', 'j3', 'h3',\n",
       "       'k3', 'fuv_err', 'nuv_err', 'u_err', 'g_err', 'r_err', 'i_err',\n",
       "       'z_err', 'y_err', 'j_err', 'h_err', 'k_err', 'w1_err', 'w2_err',\n",
       "       'w3_err', 'w4_err', 'fuv3_err', 'nuv3_err', 'u3_err', 'g3_err',\n",
       "       'r3_err', 'i3_err', 'z3_err', 'y3_err', 'j3_err', 'h3_err',\n",
       "       'k3_err', 'u_hlr', 'g_hlr', 'r_hlr', 'i_hlr', 'z_hlr', 'y_hlr',\n",
       "       'j_hlr', 'h_hlr', 'k_hlr'], dtype=object)"
      ]
     },
     "execution_count": 17,
     "metadata": {},
     "output_type": "execute_result"
    }
   ],
   "source": [
    "df.columns.values"
   ]
  },
  {
   "cell_type": "code",
   "execution_count": 18,
   "metadata": {},
   "outputs": [
    {
     "data": {
      "text/plain": [
       "-1    25343\n",
       " 1    11369\n",
       " 3     4192\n",
       " 2      495\n",
       "Name: hclass, dtype: int64"
      ]
     },
     "execution_count": 18,
     "metadata": {},
     "output_type": "execute_result"
    }
   ],
   "source": [
    "df['hclass'].value_counts()"
   ]
  },
  {
   "cell_type": "code",
   "execution_count": 23,
   "metadata": {},
   "outputs": [],
   "source": [
    "hclass_schema = {\n",
    "    -1: np.nan,\n",
    "    1: 'galaxy',\n",
    "    2: 'agn',\n",
    "    3: 'qso'\n",
    "}"
   ]
  },
  {
   "cell_type": "code",
   "execution_count": 24,
   "metadata": {},
   "outputs": [],
   "source": [
    "df['spectroscopic_label'] = df['hclass'].apply(lambda x: hclass_schema[x])"
   ]
  },
  {
   "cell_type": "code",
   "execution_count": 25,
   "metadata": {},
   "outputs": [
    {
     "data": {
      "text/plain": [
       "galaxy    11369\n",
       "qso        4192\n",
       "agn         495\n",
       "Name: spectroscopic_label, dtype: int64"
      ]
     },
     "execution_count": 25,
     "metadata": {},
     "output_type": "execute_result"
    }
   ],
   "source": [
    "df['spectroscopic_label'].value_counts()"
   ]
  },
  {
   "cell_type": "code",
   "execution_count": 41,
   "metadata": {},
   "outputs": [
    {
     "data": {
      "text/plain": [
       "<matplotlib.legend.Legend at 0x7fa077223320>"
      ]
     },
     "execution_count": 41,
     "metadata": {},
     "output_type": "execute_result"
    },
    {
     "data": {
      "image/png": "[encoded data removed]",
      "text/plain": [
       "<Figure size 432x288 with 1 Axes>"
      ]
     },
     "metadata": {
      "needs_background": "light"
     },
     "output_type": "display_data"
    }
   ],
   "source": [
    "plt.hist(df[df['spectroscopic_label'] == 'qso']['redshift'], density=True, alpha=0.3, label='qso')\n",
    "plt.hist(df[df['spectroscopic_label'] == 'agn']['redshift'], density=True, alpha=0.3, label='agn')\n",
    "plt.hist(df[df['spectroscopic_label'] == 'galaxy']['redshift'], density=True, alpha=0.3, label='galaxy')\n",
    "plt.legend()"
   ]
  },
  {
   "cell_type": "code",
   "execution_count": null,
   "metadata": {},
   "outputs": [],
   "source": []
  }
 ],
 "metadata": {
  "kernelspec": {
   "display_name": "Python 3",
   "language": "python",
   "name": "python3"
  },
  "language_info": {
   "codemirror_mode": {
    "name": "ipython",
    "version": 3
   },
   "file_extension": ".py",
   "mimetype": "text/x-python",
   "name": "python",
   "nbconvert_exporter": "python",
   "pygments_lexer": "ipython3",
   "version": "3.7.5"
  }
 },
 "nbformat": 4,
 "nbformat_minor": 4
}
