{
 "cells": [
  {
   "cell_type": "code",
   "execution_count": 1,
   "metadata": {},
   "outputs": [],
   "source": [
    "%load_ext autoreload\n",
    "%autoreload 2\n",
    "%matplotlib inline"
   ]
  },
  {
   "cell_type": "code",
   "execution_count": 2,
   "metadata": {},
   "outputs": [],
   "source": [
    "import os\n",
    "from collections import OrderedDict\n",
    "\n",
    "import h5py\n",
    "import numpy as np\n",
    "import pandas as pd\n",
    "import matplotlib.pyplot as plt\n",
    "from prospect.utils.obsutils import fix_obs\n",
    "import pyDOE2\n",
    "\n",
    "from agnfinder.prospector import main, cpz_builders, visualise\n",
    "from agnfinder import simulation_utils"
   ]
  },
  {
   "cell_type": "code",
   "execution_count": 3,
   "metadata": {},
   "outputs": [],
   "source": [
    "os.chdir('/home/mike/repos/agnfinder')"
   ]
  },
  {
   "cell_type": "code",
   "execution_count": 4,
   "metadata": {},
   "outputs": [
    {
     "name": "stdout",
     "output_type": "stream",
     "text": [
      "/home/mike/repos/agnfinder\n"
     ]
    }
   ],
   "source": [
    "!pwd"
   ]
  },
  {
   "cell_type": "markdown",
   "metadata": {},
   "source": [
    "# Setup"
   ]
  },
  {
   "cell_type": "code",
   "execution_count": 5,
   "metadata": {},
   "outputs": [],
   "source": [
    "galaxy_index = 1\n",
    "galaxy = main.load_galaxy(galaxy_index)\n",
    "redshift = galaxy['redshift']"
   ]
  },
  {
   "cell_type": "code",
   "execution_count": 6,
   "metadata": {},
   "outputs": [],
   "source": [
    "agn_mass = True\n",
    "agn_eb_v = True\n",
    "agn_torus_mass = True\n",
    "igm_absorbtion = True\n",
    "emulate_ssp = True"
   ]
  },
  {
   "cell_type": "code",
   "execution_count": 7,
   "metadata": {},
   "outputs": [
    {
     "name": "stderr",
     "output_type": "stream",
     "text": [
      "WARNING:root:Building custom CSPSpecBasisAGN as agn_mass is True\n",
      "WARNING:root:Using custom FSPS emulator for SSP\n",
      "WARNING:root:Using cached SSP!\n",
      " /media/mike/Windows/linux_cache/py36/lib/python3.6/site-packages/sklearn/base.py:253: UserWarning:Trying to unpickle estimator PCA from version 0.21.2 when using version 0.20.3. This might lead to breaking code or invalid results. Use at your own risk.\n"
     ]
    }
   ],
   "source": [
    "run_params, obs, model, sps = main.construct_problem(galaxy, redshift=redshift, agn_mass=agn_mass, agn_eb_v=agn_eb_v, agn_torus_mass=agn_torus_mass, igm_absorbtion=igm_absorbtion, emulate_ssp=emulate_ssp)"
   ]
  },
  {
   "cell_type": "code",
   "execution_count": 8,
   "metadata": {},
   "outputs": [
    {
     "data": {
      "text/plain": [
       "<agnfinder.prospector.cpz_builders.CSPSpecBasisAGN at 0x7fc0edbd4c18>"
      ]
     },
     "execution_count": 8,
     "metadata": {},
     "output_type": "execute_result"
    }
   ],
   "source": [
    "sps"
   ]
  },
  {
   "cell_type": "code",
   "execution_count": 9,
   "metadata": {},
   "outputs": [
    {
     "data": {
      "text/plain": [
       ":::::::\n",
       "<class 'prospect.models.sedmodel.SedModel'>\n",
       "\n",
       "Free Parameters: (name: prior) \n",
       "-----------\n",
       "  mass: <class 'prospect.models.priors.LogUniform'>(mini=100000000.0,maxi=1000000000000.0)\n",
       "  dust2: <class 'prospect.models.priors.TopHat'>(mini=0.0,maxi=2.0)\n",
       "  tage: <class 'prospect.models.priors.TopHat'>(mini=0.001,maxi=13.8)\n",
       "  tau: <class 'prospect.models.priors.LogUniform'>(mini=0.1,maxi=30)\n",
       "  agn_mass: <class 'prospect.models.priors.LogUniform'>(mini=1e-07,maxi=15)\n",
       "  agn_eb_v: <class 'prospect.models.priors.TopHat'>(mini=0.0,maxi=0.5)\n",
       "  agn_torus_mass: <class 'prospect.models.priors.LogUniform'>(mini=1e-07,maxi=15)\n",
       "\n",
       "Fixed Parameters: (name: value [, depends_on]) \n",
       "-----------\n",
       "  zred: 0.155 \n",
       "  logzsol: 0.0 \n",
       "  sfh: 4 \n",
       "  imf_type: 2 \n",
       "  dust_type: 2 \n",
       "  add_dust_emission: True \n",
       "  duste_umin: 1.0 \n",
       "  duste_qpah: 4.0 \n",
       "  duste_gamma: 0.001 \n",
       "  add_igm_absorption: True \n",
       "  igm_factor: 1.0 "
      ]
     },
     "execution_count": 9,
     "metadata": {},
     "output_type": "execute_result"
    }
   ],
   "source": [
    "model"
   ]
  },
  {
   "cell_type": "markdown",
   "metadata": {},
   "source": [
    "And model should include agn_mass and agn_eb_v"
   ]
  },
  {
   "cell_type": "code",
   "execution_count": 10,
   "metadata": {},
   "outputs": [
    {
     "data": {
      "text/plain": [
       "['mass', 'dust2', 'tage', 'tau', 'agn_mass', 'agn_eb_v', 'agn_torus_mass']"
      ]
     },
     "execution_count": 10,
     "metadata": {},
     "output_type": "execute_result"
    }
   ],
   "source": [
    "model.free_params"
   ]
  },
  {
   "cell_type": "code",
   "execution_count": 11,
   "metadata": {},
   "outputs": [
    {
     "data": {
      "text/plain": [
       "['zred',\n",
       " 'logzsol',\n",
       " 'sfh',\n",
       " 'imf_type',\n",
       " 'dust_type',\n",
       " 'add_dust_emission',\n",
       " 'duste_umin',\n",
       " 'duste_qpah',\n",
       " 'duste_gamma',\n",
       " 'add_igm_absorption',\n",
       " 'igm_factor']"
      ]
     },
     "execution_count": 11,
     "metadata": {},
     "output_type": "execute_result"
    }
   ],
   "source": [
    "model.fixed_params"
   ]
  },
  {
   "cell_type": "markdown",
   "metadata": {},
   "source": [
    "# Create Parameter Hypercube"
   ]
  },
  {
   "cell_type": "code",
   "execution_count": 28,
   "metadata": {},
   "outputs": [],
   "source": [
    "# a bit hacky - log* keys will be 10 ** within simulator function below\n",
    "free_params = OrderedDict({\n",
    "    'log_mass': [8, 12], \n",
    "    'dust2': [0.001, 13.8],\n",
    "    'tage': [0., 2.],\n",
    "    'tau': [.1, 30],\n",
    "    'log_agn_mass': [-7, np.log10(15)],\n",
    "    'agn_eb_v': [0., 0.5],\n",
    "    'log_agn_torus_mass': [-7, np.log10(15)]\n",
    "})\n",
    "param_dim = len(free_params.keys())\n",
    "\n",
    "n_samples = 100"
   ]
  },
  {
   "cell_type": "code",
   "execution_count": 29,
   "metadata": {},
   "outputs": [],
   "source": [
    "hcube = simulation_utils.get_unit_latin_hypercube(param_dim, n_samples)"
   ]
  },
  {
   "cell_type": "code",
   "execution_count": 30,
   "metadata": {},
   "outputs": [
    {
     "data": {
      "text/plain": [
       "(100, 7)"
      ]
     },
     "execution_count": 30,
     "metadata": {},
     "output_type": "execute_result"
    }
   ],
   "source": [
    "hcube.shape"
   ]
  },
  {
   "cell_type": "code",
   "execution_count": 31,
   "metadata": {},
   "outputs": [
    {
     "data": {
      "text/plain": [
       "<matplotlib.collections.PathCollection at 0x7fc0596811d0>"
      ]
     },
     "execution_count": 31,
     "metadata": {},
     "output_type": "execute_result"
    },
    {
     "data": {
      "image/png": "[encoded data removed]",
      "text/plain": [
       "<Figure size 432x288 with 1 Axes>"
      ]
     },
     "metadata": {
      "needs_background": "light"
     },
     "output_type": "display_data"
    }
   ],
   "source": [
    "plt.scatter(hcube[:, 0], hcube[:, 1], alpha=0.3)"
   ]
  },
  {
   "cell_type": "code",
   "execution_count": 15,
   "metadata": {},
   "outputs": [
    {
     "name": "stderr",
     "output_type": "stream",
     "text": [
      "WARNING:root:Automatically exponentiating log_mass\n",
      "WARNING:root:Automatically exponentiating log_agn_mass\n",
      "WARNING:root:Automatically exponentiating log_agn_torus_mass\n"
     ]
    }
   ],
   "source": [
    "denormalised_hcube = simulation_utils.denormalise_hypercube(hcube, free_params)"
   ]
  },
  {
   "cell_type": "code",
   "execution_count": 16,
   "metadata": {},
   "outputs": [
    {
     "data": {
      "text/html": [
       "<div>\n",
       "<style scoped>\n",
       "    .dataframe tbody tr th:only-of-type {\n",
       "        vertical-align: middle;\n",
       "    }\n",
       "\n",
       "    .dataframe tbody tr th {\n",
       "        vertical-align: top;\n",
       "    }\n",
       "\n",
       "    .dataframe thead th {\n",
       "        text-align: right;\n",
       "    }\n",
       "</style>\n",
       "<table border=\"1\" class=\"dataframe\">\n",
       "  <thead>\n",
       "    <tr style=\"text-align: right;\">\n",
       "      <th></th>\n",
       "      <th>log_mass</th>\n",
       "      <th>dust2</th>\n",
       "      <th>tage</th>\n",
       "      <th>tau</th>\n",
       "      <th>log_agn_mass</th>\n",
       "      <th>agn_eb_v</th>\n",
       "      <th>log_agn_torus_mass</th>\n",
       "    </tr>\n",
       "  </thead>\n",
       "  <tbody>\n",
       "    <tr>\n",
       "      <th>0</th>\n",
       "      <td>1.374791e+15</td>\n",
       "      <td>8.959729</td>\n",
       "      <td>0.595974</td>\n",
       "      <td>18.550716</td>\n",
       "      <td>1.703113e+17</td>\n",
       "      <td>0.344548</td>\n",
       "      <td>3.040943e+17</td>\n",
       "    </tr>\n",
       "    <tr>\n",
       "      <th>1</th>\n",
       "      <td>1.977149e+15</td>\n",
       "      <td>13.726794</td>\n",
       "      <td>1.556750</td>\n",
       "      <td>9.414965</td>\n",
       "      <td>1.524533e+17</td>\n",
       "      <td>0.245928</td>\n",
       "      <td>1.102782e+17</td>\n",
       "    </tr>\n",
       "    <tr>\n",
       "      <th>2</th>\n",
       "      <td>2.154861e+15</td>\n",
       "      <td>8.804108</td>\n",
       "      <td>1.630058</td>\n",
       "      <td>18.981914</td>\n",
       "      <td>2.567881e+17</td>\n",
       "      <td>0.360679</td>\n",
       "      <td>2.618598e+17</td>\n",
       "    </tr>\n",
       "    <tr>\n",
       "      <th>3</th>\n",
       "      <td>1.562174e+15</td>\n",
       "      <td>9.156391</td>\n",
       "      <td>0.663658</td>\n",
       "      <td>11.137817</td>\n",
       "      <td>9.290079e+16</td>\n",
       "      <td>0.220151</td>\n",
       "      <td>2.261708e+17</td>\n",
       "    </tr>\n",
       "    <tr>\n",
       "      <th>4</th>\n",
       "      <td>1.712060e+15</td>\n",
       "      <td>8.868730</td>\n",
       "      <td>0.054694</td>\n",
       "      <td>13.070924</td>\n",
       "      <td>8.099502e+16</td>\n",
       "      <td>0.402856</td>\n",
       "      <td>2.381854e+17</td>\n",
       "    </tr>\n",
       "  </tbody>\n",
       "</table>\n",
       "</div>"
      ],
      "text/plain": [
       "       log_mass      dust2      tage        tau  log_agn_mass  agn_eb_v  \\\n",
       "0  1.374791e+15   8.959729  0.595974  18.550716  1.703113e+17  0.344548   \n",
       "1  1.977149e+15  13.726794  1.556750   9.414965  1.524533e+17  0.245928   \n",
       "2  2.154861e+15   8.804108  1.630058  18.981914  2.567881e+17  0.360679   \n",
       "3  1.562174e+15   9.156391  0.663658  11.137817  9.290079e+16  0.220151   \n",
       "4  1.712060e+15   8.868730  0.054694  13.070924  8.099502e+16  0.402856   \n",
       "\n",
       "   log_agn_torus_mass  \n",
       "0        3.040943e+17  \n",
       "1        1.102782e+17  \n",
       "2        2.618598e+17  \n",
       "3        2.261708e+17  \n",
       "4        2.381854e+17  "
      ]
     },
     "execution_count": 16,
     "metadata": {},
     "output_type": "execute_result"
    }
   ],
   "source": [
    "theta_df = pd.DataFrame(denormalised_hcube, columns=free_params.keys())\n",
    "theta_df.head()"
   ]
  },
  {
   "cell_type": "code",
   "execution_count": 17,
   "metadata": {},
   "outputs": [
    {
     "data": {
      "text/plain": [
       "<matplotlib.axes._subplots.AxesSubplot at 0x7fc05dec8f28>"
      ]
     },
     "execution_count": 17,
     "metadata": {},
     "output_type": "execute_result"
    },
    {
     "data": {
      "image/png": "[encoded data removed]",
      "text/plain": [
       "<Figure size 432x288 with 1 Axes>"
      ]
     },
     "metadata": {
      "needs_background": "light"
     },
     "output_type": "display_data"
    }
   ],
   "source": [
    "theta_df['log_agn_torus_mass'].hist()"
   ]
  },
  {
   "cell_type": "code",
   "execution_count": 18,
   "metadata": {},
   "outputs": [
    {
     "data": {
      "text/html": [
       "<div>\n",
       "<style scoped>\n",
       "    .dataframe tbody tr th:only-of-type {\n",
       "        vertical-align: middle;\n",
       "    }\n",
       "\n",
       "    .dataframe tbody tr th {\n",
       "        vertical-align: top;\n",
       "    }\n",
       "\n",
       "    .dataframe thead th {\n",
       "        text-align: right;\n",
       "    }\n",
       "</style>\n",
       "<table border=\"1\" class=\"dataframe\">\n",
       "  <thead>\n",
       "    <tr style=\"text-align: right;\">\n",
       "      <th></th>\n",
       "      <th>log_mass</th>\n",
       "      <th>dust2</th>\n",
       "      <th>tage</th>\n",
       "      <th>tau</th>\n",
       "      <th>log_agn_mass</th>\n",
       "      <th>agn_eb_v</th>\n",
       "      <th>log_agn_torus_mass</th>\n",
       "    </tr>\n",
       "  </thead>\n",
       "  <tbody>\n",
       "    <tr>\n",
       "      <th>0</th>\n",
       "      <td>0.161382</td>\n",
       "      <td>0.648303</td>\n",
       "      <td>0.297987</td>\n",
       "      <td>0.520425</td>\n",
       "      <td>0.534850</td>\n",
       "      <td>0.689095</td>\n",
       "      <td>0.148982</td>\n",
       "    </tr>\n",
       "    <tr>\n",
       "      <th>1</th>\n",
       "      <td>0.463382</td>\n",
       "      <td>0.993767</td>\n",
       "      <td>0.778375</td>\n",
       "      <td>0.214882</td>\n",
       "      <td>0.606069</td>\n",
       "      <td>0.491856</td>\n",
       "      <td>0.809821</td>\n",
       "    </tr>\n",
       "    <tr>\n",
       "      <th>2</th>\n",
       "      <td>0.536541</td>\n",
       "      <td>0.637025</td>\n",
       "      <td>0.815029</td>\n",
       "      <td>0.534847</td>\n",
       "      <td>0.263850</td>\n",
       "      <td>0.721359</td>\n",
       "      <td>0.250662</td>\n",
       "    </tr>\n",
       "    <tr>\n",
       "      <th>3</th>\n",
       "      <td>0.266334</td>\n",
       "      <td>0.662555</td>\n",
       "      <td>0.331829</td>\n",
       "      <td>0.272502</td>\n",
       "      <td>0.915061</td>\n",
       "      <td>0.440302</td>\n",
       "      <td>0.348832</td>\n",
       "    </tr>\n",
       "    <tr>\n",
       "      <th>4</th>\n",
       "      <td>0.342417</td>\n",
       "      <td>0.641708</td>\n",
       "      <td>0.027347</td>\n",
       "      <td>0.337155</td>\n",
       "      <td>0.997943</td>\n",
       "      <td>0.805711</td>\n",
       "      <td>0.314317</td>\n",
       "    </tr>\n",
       "  </tbody>\n",
       "</table>\n",
       "</div>"
      ],
      "text/plain": [
       "   log_mass     dust2      tage       tau  log_agn_mass  agn_eb_v  \\\n",
       "0  0.161382  0.648303  0.297987  0.520425      0.534850  0.689095   \n",
       "1  0.463382  0.993767  0.778375  0.214882      0.606069  0.491856   \n",
       "2  0.536541  0.637025  0.815029  0.534847      0.263850  0.721359   \n",
       "3  0.266334  0.662555  0.331829  0.272502      0.915061  0.440302   \n",
       "4  0.342417  0.641708  0.027347  0.337155      0.997943  0.805711   \n",
       "\n",
       "   log_agn_torus_mass  \n",
       "0            0.148982  \n",
       "1            0.809821  \n",
       "2            0.250662  \n",
       "3            0.348832  \n",
       "4            0.314317  "
      ]
     },
     "execution_count": 18,
     "metadata": {},
     "output_type": "execute_result"
    }
   ],
   "source": [
    "normalised_theta_df = pd.DataFrame(hcube, columns=free_params.keys())\n",
    "normalised_theta_df.head()"
   ]
  },
  {
   "cell_type": "code",
   "execution_count": 19,
   "metadata": {},
   "outputs": [
    {
     "data": {
      "text/plain": [
       "<matplotlib.axes._subplots.AxesSubplot at 0x7fc05e17f668>"
      ]
     },
     "execution_count": 19,
     "metadata": {},
     "output_type": "execute_result"
    },
    {
     "data": {
      "image/png": "[encoded data removed]",
      "text/plain": [
       "<Figure size 432x288 with 1 Axes>"
      ]
     },
     "metadata": {
      "needs_background": "light"
     },
     "output_type": "display_data"
    }
   ],
   "source": [
    "normalised_theta_df['log_agn_torus_mass'].hist()"
   ]
  },
  {
   "cell_type": "markdown",
   "metadata": {},
   "source": [
    "*Don't modify these!*"
   ]
  },
  {
   "cell_type": "markdown",
   "metadata": {},
   "source": [
    "# Infer Observations"
   ]
  },
  {
   "cell_type": "markdown",
   "metadata": {},
   "source": [
    "- Calculate observations with denomalised hypercube (i.e. param space)\n",
    "- Show LFI hypercube -> observations"
   ]
  },
  {
   "cell_type": "code",
   "execution_count": 20,
   "metadata": {},
   "outputs": [],
   "source": [
    "model_spectra, model_photometry, spec_wavelengths = visualise.calculate_sed(model, model.theta, obs, sps) \n",
    "phot_wavelengths = obs['phot_wave']"
   ]
  },
  {
   "cell_type": "code",
   "execution_count": 21,
   "metadata": {},
   "outputs": [
    {
     "data": {
      "text/plain": [
       "Text(0, 0.5, 'Observed Flux')"
      ]
     },
     "execution_count": 21,
     "metadata": {},
     "output_type": "execute_result"
    },
    {
     "data": {
      "image/png": "[encoded data removed]",
      "text/plain": [
       "<Figure size 432x288 with 1 Axes>"
      ]
     },
     "metadata": {
      "needs_background": "light"
     },
     "output_type": "display_data"
    }
   ],
   "source": [
    "plt.loglog(phot_wavelengths, model_photometry, 'o', color='r')\n",
    "plt.loglog(spec_wavelengths, model_spectra, 'k--', alpha=0.5)\n",
    "plt.xlabel('Wavelength (A), Observer Frame')\n",
    "plt.ylabel('Observed Flux')"
   ]
  },
  {
   "cell_type": "code",
   "execution_count": 22,
   "metadata": {},
   "outputs": [],
   "source": [
    "def simulator(theta):\n",
    "    _, model_photometry, _ = visualise.calculate_sed(model, theta, obs, sps)  # via closure\n",
    "#     phot_wavelengths = obs['phot_wave']  # always the same, as in observer frame\n",
    "    return model_photometry"
   ]
  },
  {
   "cell_type": "code",
   "execution_count": 23,
   "metadata": {},
   "outputs": [
    {
     "data": {
      "text/plain": [
       "array([1.e+10, 6.e-01, 1.e+00, 1.e+00, 1.e+00, 1.e-01, 1.e-01])"
      ]
     },
     "execution_count": 23,
     "metadata": {},
     "output_type": "execute_result"
    }
   ],
   "source": [
    "model.theta"
   ]
  },
  {
   "cell_type": "code",
   "execution_count": 24,
   "metadata": {},
   "outputs": [
    {
     "data": {
      "text/plain": [
       "array([7.92091070e+15, 1.58152430e+15, 2.37415349e+16, 2.55560041e+16,\n",
       "       3.10783335e+16, 4.09549822e+16, 4.14358272e+16, 1.29559917e+17,\n",
       "       6.07486425e+16, 3.09084361e+17, 4.86019205e+16, 4.13517784e+16,\n",
       "       6.22943041e+17, 6.29423396e+17])"
      ]
     },
     "execution_count": 24,
     "metadata": {},
     "output_type": "execute_result"
    }
   ],
   "source": [
    "simulator(theta_df.iloc[0].values)"
   ]
  },
  {
   "cell_type": "code",
   "execution_count": 25,
   "metadata": {},
   "outputs": [
    {
     "name": "stderr",
     "output_type": "stream",
     "text": [
      "ERROR:root:Internal Python error in the inspect module.\n",
      "Below is the traceback from this internal error.\n",
      "\n"
     ]
    },
    {
     "name": "stdout",
     "output_type": "stream",
     "text": [
      "Traceback (most recent call last):\n",
      "  File \"/media/mike/Windows/linux_cache/py36/lib/python3.6/site-packages/IPython/core/interactiveshell.py\", line 3296, in run_code\n",
      "    exec(code_obj, self.user_global_ns, self.user_ns)\n",
      "  File \"<ipython-input-25-4c09961f2a70>\", line 5, in <module>\n",
      "    simulator=simulator\n",
      "  File \"/home/mike/repos/agnfinder/agnfinder/simulation_utils.py\", line 29, in sample\n",
      "    Y[n] = simulator(X[n])\n",
      "  File \"<ipython-input-22-825e81dab193>\", line 2, in simulator\n",
      "    _, model_photometry, _ = visualise.calculate_sed(model, theta, obs, sps)  # via closure\n",
      "  File \"/home/mike/repos/agnfinder/agnfinder/prospector/visualise.py\", line 70, in calculate_sed\n",
      "    model_spectra, model_photometry, _ = model.sed(theta, obs=obs, sps=sps)  # call sps.get_spectrum()\n",
      "  File \"/home/mike/repos/prospector/prospect/models/sedmodel.py\", line 83, in sed\n",
      "    **self.params)\n",
      "  File \"/home/mike/repos/prospector/prospect/sources/ssp_basis.py\", line 179, in get_spectrum\n",
      "    wave, spectrum, mfrac = self.get_galaxy_spectrum(**params)\n",
      "  File \"/home/mike/repos/agnfinder/agnfinder/prospector/cpz_builders.py\", line 259, in get_galaxy_spectrum\n",
      "    peraa=False\n",
      "  File \"/home/mike/repos/agnfinder/agnfinder/prospector/cpz_builders.py\", line 332, in get_spectrum\n",
      "    spectra = np.hstack([np.ones(100) * 1e-60, self._spectrum_emulator(param_vector)])\n",
      "  File \"/home/mike/repos/agnfinder/agnfinder/fsps/emulate.py\", line 59, in __call__\n",
      "    return self.emulator(params)\n",
      "  File \"/home/mike/repos/agnfinder/agnfinder/fsps/emulate.py\", line 50, in emulator\n",
      "    pred_weights = gp_predict(self._gp_model, params)\n",
      "  File \"/home/mike/repos/agnfinder/agnfinder/fsps/emulate.py\", line 73, in gp_predict\n",
      "    return model.predict(params)[0]\n",
      "  File \"/media/mike/Windows/linux_cache/py36/lib/python3.6/site-packages/GPy/core/gp.py\", line 335, in predict\n",
      "    mean, var = self._raw_predict(Xnew, full_cov=full_cov, kern=kern)\n",
      "  File \"/media/mike/Windows/linux_cache/py36/lib/python3.6/site-packages/GPy/core/gp.py\", line 292, in _raw_predict\n",
      "    mu, var = self.posterior._raw_predict(kern=self.kern if kern is None else kern, Xnew=Xnew, pred_var=self._predictive_variable, full_cov=full_cov)\n",
      "  File \"/media/mike/Windows/linux_cache/py36/lib/python3.6/site-packages/GPy/inference/latent_function_inference/posterior.py\", line 294, in _raw_predict\n",
      "    tmp = dtrtrs(self._woodbury_chol, Kx)[0]\n",
      "  File \"/media/mike/Windows/linux_cache/py36/lib/python3.6/site-packages/GPy/util/linalg.py\", line 114, in dtrtrs\n",
      "    return lapack.dtrtrs(A, B, lower=lower, trans=trans, unitdiag=unitdiag)\n",
      "KeyboardInterrupt\n",
      "\n",
      "During handling of the above exception, another exception occurred:\n",
      "\n",
      "Traceback (most recent call last):\n",
      "  File \"/media/mike/Windows/linux_cache/py36/lib/python3.6/site-packages/IPython/core/interactiveshell.py\", line 2033, in showtraceback\n",
      "    stb = value._render_traceback_()\n",
      "AttributeError: 'KeyboardInterrupt' object has no attribute '_render_traceback_'\n",
      "\n",
      "During handling of the above exception, another exception occurred:\n",
      "\n",
      "Traceback (most recent call last):\n",
      "  File \"/media/mike/Windows/linux_cache/py36/lib/python3.6/site-packages/IPython/core/ultratb.py\", line 1095, in get_records\n",
      "    return _fixed_getinnerframes(etb, number_of_lines_of_context, tb_offset)\n",
      "  File \"/media/mike/Windows/linux_cache/py36/lib/python3.6/site-packages/IPython/core/ultratb.py\", line 313, in wrapped\n",
      "    return f(*args, **kwargs)\n",
      "  File \"/media/mike/Windows/linux_cache/py36/lib/python3.6/site-packages/IPython/core/ultratb.py\", line 347, in _fixed_getinnerframes\n",
      "    records = fix_frame_records_filenames(inspect.getinnerframes(etb, context))\n",
      "  File \"/usr/lib/python3.6/inspect.py\", line 1490, in getinnerframes\n",
      "    frameinfo = (tb.tb_frame,) + getframeinfo(tb, context)\n",
      "  File \"/usr/lib/python3.6/inspect.py\", line 1448, in getframeinfo\n",
      "    filename = getsourcefile(frame) or getfile(frame)\n",
      "  File \"/usr/lib/python3.6/inspect.py\", line 696, in getsourcefile\n",
      "    if getattr(getmodule(object, filename), '__loader__', None) is not None:\n",
      "  File \"/usr/lib/python3.6/inspect.py\", line 742, in getmodule\n",
      "    os.path.realpath(f)] = module.__name__\n",
      "  File \"/media/mike/Windows/linux_cache/py36/lib/python3.6/posixpath.py\", line 395, in realpath\n",
      "    path, ok = _joinrealpath(filename[:0], filename, {})\n",
      "  File \"/media/mike/Windows/linux_cache/py36/lib/python3.6/posixpath.py\", line 429, in _joinrealpath\n",
      "    if not islink(newpath):\n",
      "  File \"/media/mike/Windows/linux_cache/py36/lib/python3.6/posixpath.py\", line 171, in islink\n",
      "    st = os.lstat(path)\n",
      "KeyboardInterrupt\n"
     ]
    },
    {
     "ename": "KeyboardInterrupt",
     "evalue": "",
     "output_type": "error",
     "traceback": [
      "\u001b[0;31m---------------------------------------------------------------------------\u001b[0m"
     ]
    }
   ],
   "source": [
    "normalised_params, photometry = simulation_utils.sample(\n",
    "    theta_df=theta_df,\n",
    "    n_samples=n_samples,\n",
    "    output_dim=14,\n",
    "    simulator=simulator\n",
    ")"
   ]
  },
  {
   "cell_type": "code",
   "execution_count": null,
   "metadata": {},
   "outputs": [],
   "source": [
    "for galaxy in photometry[:15]:\n",
    "    plt.loglog(phot_wavelengths, galaxy, 'o--', alpha=0.5)  # re-using wavelengths from earlier"
   ]
  },
  {
   "cell_type": "code",
   "execution_count": null,
   "metadata": {},
   "outputs": [],
   "source": [
    "simulation_utils.save_samples(\n",
    "    save_loc='/media/mike/internal/agnfinder/photometry_simulation.hdf5',\n",
    "    free_params=free_params,\n",
    "    theta_df=theta_df,\n",
    "    normalised_theta_df=normalised_theta_df,\n",
    "    simulated_y=photometry,\n",
    "    wavelengths=phot_wavelengths\n",
    ")"
   ]
  },
  {
   "cell_type": "code",
   "execution_count": null,
   "metadata": {},
   "outputs": [],
   "source": []
  }
 ],
 "metadata": {
  "kernelspec": {
   "display_name": "Python 3",
   "language": "python",
   "name": "python3"
  },
  "language_info": {
   "codemirror_mode": {
    "name": "ipython",
    "version": 3
   },
   "file_extension": ".py",
   "mimetype": "text/x-python",
   "name": "python",
   "nbconvert_exporter": "python",
   "pygments_lexer": "ipython3",
   "version": "3.6.7"
  }
 },
 "nbformat": 4,
 "nbformat_minor": 2
}
