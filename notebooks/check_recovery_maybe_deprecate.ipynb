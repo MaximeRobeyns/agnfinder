{
 "cells": [
  {
   "cell_type": "markdown",
   "metadata": {},
   "source": [
    "Copied from the end of visualise_how_params_change_sed, will probably deprecate"
   ]
  },
  {
   "cell_type": "markdown",
   "metadata": {},
   "source": [
    "## Can we recover the original parameters?"
   ]
  },
  {
   "cell_type": "code",
   "execution_count": null,
   "metadata": {},
   "outputs": [],
   "source": [
    "theta_to_recover = theta_agn_extinction"
   ]
  },
  {
   "cell_type": "code",
   "execution_count": null,
   "metadata": {},
   "outputs": [],
   "source": [
    "model_spectrum, model_photometry, _ = model.sed(theta_to_recover, obs, sps)  # trigger fsps calculation, takes a couple of minutes - then cached"
   ]
  },
  {
   "cell_type": "code",
   "execution_count": null,
   "metadata": {},
   "outputs": [],
   "source": []
  },
  {
   "cell_type": "code",
   "execution_count": null,
   "metadata": {},
   "outputs": [],
   "source": [
    "def make_synthetic_obs_from_model(real_obs, maggies, snr=10.):\n",
    "    synthetic_obs = {}\n",
    "    synthetic_obs[\"filters\"] =  real_obs['filters']\n",
    "    synthetic_obs[\"maggies\"] = maggies\n",
    "    synthetic_obs['maggies_unc'] = maggies / snr\n",
    "\n",
    "    synthetic_obs[\"phot_mask\"] = np.array([True for _ in synthetic_obs['filters']])\n",
    "    synthetic_obs[\"phot_wave\"] = np.array([f.wave_effective for f in synthetic_obs[\"filters\"]])\n",
    "    synthetic_obs[\"wavelength\"] = None\n",
    "    synthetic_obs[\"spectrum\"] = None\n",
    "    synthetic_obs['unc'] = None\n",
    "    synthetic_obs['mask'] = None\n",
    "    synthetic_obs = fix_obs(synthetic_obs)\n",
    "    return synthetic_obs\n"
   ]
  },
  {
   "cell_type": "code",
   "execution_count": null,
   "metadata": {},
   "outputs": [],
   "source": [
    "synthetic_obs = make_synthetic_obs_from_model(obs, model_photometry)"
   ]
  },
  {
   "cell_type": "markdown",
   "metadata": {},
   "source": [
    "### Max Likelihood (starting from correct values, so unhelpful!)"
   ]
  },
  {
   "cell_type": "code",
   "execution_count": null,
   "metadata": {},
   "outputs": [],
   "source": [
    "# theta_best, time_elapsed = main.fit_galaxy(run_params, synthetic_obs, model, sps)"
   ]
  },
  {
   "cell_type": "markdown",
   "metadata": {},
   "source": [
    "### MCMC"
   ]
  },
  {
   "cell_type": "code",
   "execution_count": null,
   "metadata": {},
   "outputs": [],
   "source": [
    "samples, mcmc_time_elapsed = main.mcmc_galaxy(run_params, synthetic_obs, model, sps, initial_theta=None, test=False)"
   ]
  },
  {
   "cell_type": "code",
   "execution_count": null,
   "metadata": {},
   "outputs": [],
   "source": [
    "synthetic_obs = build_synthetic_obs_from_model(obs, model_photometry, snr=10.)"
   ]
  },
  {
   "cell_type": "code",
   "execution_count": null,
   "metadata": {},
   "outputs": [],
   "source": [
    "visualise.visualise_obs(synthetic_obs)"
   ]
  },
  {
   "cell_type": "code",
   "execution_count": null,
   "metadata": {},
   "outputs": [],
   "source": [
    "name = 'inference_to_recover_theta'\n",
    "output_dir = '/home/mike/repos/agnfinder/results'"
   ]
  },
  {
   "cell_type": "code",
   "execution_count": null,
   "metadata": {},
   "outputs": [],
   "source": [
    "sample_loc = os.path.join(output_dir, '{}_mcmc_samples.h5py'.format(name))\n",
    "main.save_samples(samples, model, sample_loc)\n",
    "corner_loc = os.path.join(output_dir, '{}_mcmc_corner.png'.format(name))\n",
    "main.save_corner(samples[int(len(samples)/2):], model, corner_loc)  # nested sampling has no burn-in phase, early samples are bad"
   ]
  },
  {
   "cell_type": "code",
   "execution_count": null,
   "metadata": {},
   "outputs": [],
   "source": [
    "theta_to_recover"
   ]
  },
  {
   "cell_type": "code",
   "execution_count": null,
   "metadata": {},
   "outputs": [],
   "source": [
    "import corner"
   ]
  },
  {
   "cell_type": "code",
   "execution_count": null,
   "metadata": {},
   "outputs": [],
   "source": [
    "for index in range(len(theta_to_recover)):\n",
    "    print('Name: {}'.format(model.free_params[index]))\n",
    "    print('True value: {:3.1E}'.format(theta_to_recover[index]))\n",
    "    low, med, up = corner.quantile(samples[:, index], [.1, .5, .9])\n",
    "    print('Estimate: {:3.1E} (min {:3.2E}, max {:3.3E})'.format(low, med, up))\n",
    "    print('\\n')\n",
    "    "
   ]
  },
  {
   "cell_type": "code",
   "execution_count": null,
   "metadata": {},
   "outputs": [],
   "source": [
    "traces_loc = os.path.join(output_dir, '{}_mcmc_traces.png'.format(name))\n",
    "main.save_sed_traces(samples[-2000:], synthetic_obs, model, sps, traces_loc)\n"
   ]
  },
  {
   "cell_type": "code",
   "execution_count": null,
   "metadata": {},
   "outputs": [],
   "source": [
    "plt.loglog(sps.wavelengths, sps.extincted_quasar_flux)\n",
    "_, spectra, _ = sps.get_galaxy_spectrum()\n",
    "plt.loglog(sps.wavelengths, spectra)"
   ]
  },
  {
   "cell_type": "code",
   "execution_count": null,
   "metadata": {},
   "outputs": [],
   "source": []
  },
  {
   "cell_type": "code",
   "execution_count": null,
   "metadata": {},
   "outputs": [],
   "source": [
    "len(sps.wavelengths)"
   ]
  },
  {
   "cell_type": "code",
   "execution_count": null,
   "metadata": {},
   "outputs": [],
   "source": [
    "sps.extincted_quasar_flux.sum() / model_spectrum.sum()"
   ]
  },
  {
   "cell_type": "code",
   "execution_count": null,
   "metadata": {},
   "outputs": [],
   "source": [
    "len(sps.extincted_quasar_flux)"
   ]
  },
  {
   "cell_type": "code",
   "execution_count": null,
   "metadata": {},
   "outputs": [],
   "source": [
    "len(model_spectrum)"
   ]
  },
  {
   "cell_type": "code",
   "execution_count": null,
   "metadata": {},
   "outputs": [],
   "source": []
  }
 ],
 "metadata": {
  "kernelspec": {
   "display_name": "Python 3",
   "language": "python",
   "name": "python3"
  },
  "language_info": {
   "codemirror_mode": {
    "name": "ipython",
    "version": 3
   },
   "file_extension": ".py",
   "mimetype": "text/x-python",
   "name": "python",
   "nbconvert_exporter": "python",
   "pygments_lexer": "ipython3",
   "version": "3.7.5"
  }
 },
 "nbformat": 4,
 "nbformat_minor": 4
}
