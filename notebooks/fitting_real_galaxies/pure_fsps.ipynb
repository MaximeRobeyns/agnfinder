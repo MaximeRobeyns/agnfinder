{
 "cells": [
  {
   "cell_type": "code",
   "execution_count": 3,
   "metadata": {},
   "outputs": [
    {
     "name": "stdout",
     "output_type": "stream",
     "text": [
      "The autoreload extension is already loaded. To reload it, use:\n",
      "  %reload_ext autoreload\n"
     ]
    }
   ],
   "source": [
    "%load_ext autoreload\n",
    "%autoreload 2\n",
    "%matplotlib inline"
   ]
  },
  {
   "cell_type": "code",
   "execution_count": 4,
   "metadata": {},
   "outputs": [],
   "source": [
    "import os\n",
    "import glob\n",
    "\n",
    "import h5py\n",
    "import numpy as np\n",
    "import pandas as pd\n",
    "import matplotlib.pyplot as plt\n",
    "import seaborn as sns\n",
    "sns.set_context('notebook')"
   ]
  },
  {
   "cell_type": "code",
   "execution_count": 5,
   "metadata": {},
   "outputs": [],
   "source": [
    "os.chdir('/home/mike/repos/agnfinder')\n",
    "# sotiria, change this to repo loc"
   ]
  },
  {
   "cell_type": "code",
   "execution_count": 6,
   "metadata": {},
   "outputs": [],
   "source": [
    "# scp -r -oProxyJump=mikewalmsley@aquila.star.bris.ac.uk mike@zeus.star.bris.ac.uk:/scratch/agnfinder/agnfinder/results/vanilla_nested /media/mike/beta/agnfinder_results/vanilla_nested"
   ]
  },
  {
   "cell_type": "code",
   "execution_count": 8,
   "metadata": {},
   "outputs": [
    {
     "ename": "AssertionError",
     "evalue": "",
     "output_type": "error",
     "traceback": [
      "\u001b[0;31m---------------------------------------------------------------------------\u001b[0m",
      "\u001b[0;31mAssertionError\u001b[0m                            Traceback (most recent call last)",
      "\u001b[0;32m<ipython-input-8-ad92c620d5dc>\u001b[0m in \u001b[0;36m<module>\u001b[0;34m\u001b[0m\n\u001b[1;32m      3\u001b[0m \u001b[0;34m\u001b[0m\u001b[0m\n\u001b[1;32m      4\u001b[0m \u001b[0mgalaxy_locs\u001b[0m \u001b[0;34m=\u001b[0m \u001b[0mglob\u001b[0m\u001b[0;34m.\u001b[0m\u001b[0mglob\u001b[0m\u001b[0;34m(\u001b[0m\u001b[0msave_dir\u001b[0m \u001b[0;34m+\u001b[0m \u001b[0;34m'/galaxy*.h5py'\u001b[0m\u001b[0;34m)\u001b[0m\u001b[0;34m\u001b[0m\u001b[0;34m\u001b[0m\u001b[0m\n\u001b[0;32m----> 5\u001b[0;31m \u001b[0;32massert\u001b[0m \u001b[0mgalaxy_locs\u001b[0m\u001b[0;34m\u001b[0m\u001b[0;34m\u001b[0m\u001b[0m\n\u001b[0m\u001b[1;32m      6\u001b[0m \u001b[0;34m\u001b[0m\u001b[0m\n\u001b[1;32m      7\u001b[0m \u001b[0;34m\u001b[0m\u001b[0m\n",
      "\u001b[0;31mAssertionError\u001b[0m: "
     ]
    }
   ],
   "source": [
    "# save_dir = 'results/emulated_sampling/real'\n",
    "save_dir = '/media/mike/beta/agnfinder_results/vanilla_nested'\n",
    "\n",
    "galaxy_locs = glob.glob(save_dir + '/galaxy*.h5py')\n",
    "assert galaxy_locs\n",
    "\n",
    "\n",
    "# open one galaxy for params\n",
    "with h5py.File(galaxy_locs[0], mode='r') as f:\n",
    "    params = f['samples'].attrs['free_param_names']\n",
    "\n",
    "galaxies = []\n",
    "true_observations = len(galaxy_locs)\n",
    "for n, galaxy_loc in enumerate(galaxy_locs):\n",
    "    try:\n",
    "        with h5py.File(galaxy_loc, mode='r') as f:\n",
    "            galaxies.append({\n",
    "                'samples': np.squeeze(f['samples'][::100]),\n",
    "                'true_observations': np.squeeze(f['true_observations'][...]),\n",
    "                'uncertainty': f['uncertainty'][...],\n",
    "                'name': n\n",
    "            })\n",
    "    except OSError:\n",
    "        pass\n",
    "    \n",
    "n_samples = galaxies[0]['samples'].shape[0]\n",
    "# samples = np.stack(sample_list, axis=1)"
   ]
  },
  {
   "cell_type": "code",
   "execution_count": null,
   "metadata": {},
   "outputs": [],
   "source": [
    "wavelengths = np.array([ 3545.9515156 ,  4669.6375124 ,  6156.34362463,  7470.59215536,\n",
    "        8917.58185532, 16397.13029184, 12513.8266968 , 21392.23213854,\n",
    "       10205.12640526,  8801.6644194 , 33461.019081  , 45952.08900757])"
   ]
  },
  {
   "cell_type": "code",
   "execution_count": null,
   "metadata": {},
   "outputs": [],
   "source": [
    "def plot_galaxy(galaxy, ax, emulator, wavelengths):\n",
    "    true_photometry = galaxy['true_observations']\n",
    "    input_params = galaxy['samples']\n",
    "\n",
    "    ax.errorbar(wavelengths, true_photometry, label=r'true observation $\\pm 2\\sigma$', marker='+', linestyle='', yerr=galaxy['uncertainty']*2)\n",
    "    ax.set_yscale('log')\n",
    "    ax.set_xscale('log')\n",
    "    for trace in sample_photometry[:50]:\n",
    "        ax.scatter(wavelengths, trace, color='r', marker='+', alpha=0.05)\n",
    "    ax.legend()\n",
    "    ax.set_title('{} {}'.format(galaxy['rf_class'], galaxy['name']))\n",
    "    ax.set_ylabel('Maggies')\n",
    "    ax.set_xlabel('Wavelength (A)')"
   ]
  }
 ],
 "metadata": {
  "kernelspec": {
   "display_name": "Python 3",
   "language": "python",
   "name": "python3"
  },
  "language_info": {
   "codemirror_mode": {
    "name": "ipython",
    "version": 3
   },
   "file_extension": ".py",
   "mimetype": "text/x-python",
   "name": "python",
   "nbconvert_exporter": "python",
   "pygments_lexer": "ipython3",
   "version": "3.7.5"
  }
 },
 "nbformat": 4,
 "nbformat_minor": 4
}
