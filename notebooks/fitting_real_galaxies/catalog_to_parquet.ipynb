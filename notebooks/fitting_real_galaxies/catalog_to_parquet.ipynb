{
 "cells": [
  {
   "cell_type": "code",
   "execution_count": 32,
   "metadata": {},
   "outputs": [
    {
     "name": "stdout",
     "output_type": "stream",
     "text": [
      "The autoreload extension is already loaded. To reload it, use:\n",
      "  %reload_ext autoreload\n"
     ]
    }
   ],
   "source": [
    "%load_ext autoreload\n",
    "%autoreload 2\n",
    "%matplotlib inline"
   ]
  },
  {
   "cell_type": "code",
   "execution_count": 33,
   "metadata": {},
   "outputs": [],
   "source": [
    "import os\n",
    "import json\n",
    "import glob\n",
    "\n",
    "import tensorflow as tf\n",
    "import numpy as np\n",
    "import pandas as pd\n",
    "from astropy.table import Table\n",
    "import matplotlib.pyplot as plt\n",
    "import seaborn as sns\n",
    "sns.set_context('notebook')"
   ]
  },
  {
   "cell_type": "code",
   "execution_count": 34,
   "metadata": {},
   "outputs": [],
   "source": [
    "from agnfinder.prospector import load_photometry\n",
    "from agnfinder.tf_sampling import deep_emulator"
   ]
  },
  {
   "cell_type": "code",
   "execution_count": 35,
   "metadata": {},
   "outputs": [],
   "source": [
    "os.chdir('/home/mike/repos/agnfinder')"
   ]
  },
  {
   "cell_type": "markdown",
   "metadata": {},
   "source": [
    "### Convert everything to parquet"
   ]
  },
  {
   "cell_type": "code",
   "execution_count": 36,
   "metadata": {},
   "outputs": [],
   "source": [
    "data_dir = '/media/mike/beta/agnfinder/uK_IR/selected'\n",
    "assert os.path.isdir(data_dir)\n",
    "fits_locs = glob.glob(data_dir + '/*.fits')\n",
    "assert fits_locs"
   ]
  },
  {
   "cell_type": "code",
   "execution_count": 37,
   "metadata": {},
   "outputs": [],
   "source": [
    "for fits_loc in fits_locs:\n",
    "    fits = Table.read(fits_loc)\n",
    "    df = fits.to_pandas()\n",
    "    parquet_loc = fits_loc.rstrip('fits') + 'parquet'\n",
    "    df.to_parquet(parquet_loc)"
   ]
  },
  {
   "cell_type": "markdown",
   "metadata": {},
   "source": [
    "### Check they load and normalise/denormalise correctly"
   ]
  },
  {
   "cell_type": "code",
   "execution_count": 38,
   "metadata": {},
   "outputs": [],
   "source": [
    "parquet_locs = glob.glob(data_dir + '/*.parquet')\n",
    "assert parquet_locs"
   ]
  },
  {
   "cell_type": "code",
   "execution_count": 39,
   "metadata": {},
   "outputs": [],
   "source": [
    "def load_real_galaxy(parquet_loc):\n",
    "    # not designed to scale easily, loads df every time. Can change to hdf5 later\n",
    "    df = pd.read_parquet(parquet_loc)\n",
    "    galaxy = df.iloc[0]\n",
    "    _, maggies, maggies_unc = load_photometry.load_maggies_from_galaxy(galaxy, reliable=True)\n",
    "    return maggies, maggies_unc"
   ]
  },
  {
   "cell_type": "code",
   "execution_count": 40,
   "metadata": {},
   "outputs": [],
   "source": [
    "maggies, maggies_unc = load_real_galaxy(parquet_locs[0])"
   ]
  },
  {
   "cell_type": "code",
   "execution_count": 41,
   "metadata": {},
   "outputs": [
    {
     "data": {
      "text/plain": [
       "array([8.97925081e-09, 5.50088098e-08, 1.36326123e-07, 2.03466345e-07,\n",
       "       2.86353580e-07, 4.03908316e-07, 3.27287289e-07, 3.92900064e-07,\n",
       "       2.73501478e-07, 2.32374996e-07, 1.96871625e-07, 1.25575484e-07])"
      ]
     },
     "execution_count": 41,
     "metadata": {},
     "output_type": "execute_result"
    }
   ],
   "source": [
    "maggies"
   ]
  },
  {
   "cell_type": "code",
   "execution_count": 42,
   "metadata": {},
   "outputs": [
    {
     "data": {
      "text/plain": [
       "array([8.97925081e-09, 5.50088098e-08, 1.36326123e-07, 2.03466345e-07,\n",
       "       2.86353580e-07, 4.03908316e-07, 3.27287289e-07, 3.92900064e-07,\n",
       "       2.73501478e-07, 2.32374996e-07, 1.96871625e-07, 1.25575484e-07])"
      ]
     },
     "execution_count": 42,
     "metadata": {},
     "output_type": "execute_result"
    }
   ],
   "source": [
    "deep_emulator.denormalise_photometry(deep_emulator.normalise_photometry(maggies))"
   ]
  },
  {
   "cell_type": "markdown",
   "metadata": {},
   "source": [
    "### Save as one parquet with a feature column indicating galaxy type"
   ]
  },
  {
   "cell_type": "code",
   "execution_count": 43,
   "metadata": {},
   "outputs": [
    {
     "data": {
      "text/plain": [
       "6"
      ]
     },
     "execution_count": 43,
     "metadata": {},
     "output_type": "execute_result"
    }
   ],
   "source": [
    "dfs = []\n",
    "for loc in parquet_locs:\n",
    "    dfs.append(pd.read_parquet(loc))\n",
    "len(dfs)"
   ]
  },
  {
   "cell_type": "code",
   "execution_count": null,
   "metadata": {},
   "outputs": [],
   "source": []
  },
  {
   "cell_type": "code",
   "execution_count": 44,
   "metadata": {},
   "outputs": [
    {
     "name": "stderr",
     "output_type": "stream",
     "text": [
      "/media/mike/Windows/linux_cache/miniconda37/envs/agnfinder/lib/python3.7/site-packages/ipykernel_launcher.py:1: FutureWarning: Sorting because non-concatenation axis is not aligned. A future version\n",
      "of pandas will change to not sort by default.\n",
      "\n",
      "To accept the future behavior, pass 'sort=False'.\n",
      "\n",
      "To retain the current behavior and silence the warning, pass 'sort=True'.\n",
      "\n",
      "  \"\"\"Entry point for launching an IPython kernel.\n"
     ]
    },
    {
     "data": {
      "text/plain": [
       "69"
      ]
     },
     "execution_count": 44,
     "metadata": {},
     "output_type": "execute_result"
    }
   ],
   "source": [
    "df = pd.concat(dfs, axis=0).reset_index(drop=True)\n",
    "len(df)"
   ]
  },
  {
   "cell_type": "code",
   "execution_count": 45,
   "metadata": {},
   "outputs": [
    {
     "data": {
      "text/html": [
       "<div>\n",
       "<style scoped>\n",
       "    .dataframe tbody tr th:only-of-type {\n",
       "        vertical-align: middle;\n",
       "    }\n",
       "\n",
       "    .dataframe tbody tr th {\n",
       "        vertical-align: top;\n",
       "    }\n",
       "\n",
       "    .dataframe thead th {\n",
       "        text-align: right;\n",
       "    }\n",
       "</style>\n",
       "<table border=\"1\" class=\"dataframe\">\n",
       "  <thead>\n",
       "    <tr style=\"text-align: right;\">\n",
       "      <th></th>\n",
       "      <th>CASE_III_a0</th>\n",
       "      <th>CASE_III_a0_001</th>\n",
       "      <th>CASE_III_a0_01</th>\n",
       "      <th>CASE_III_a0_05</th>\n",
       "      <th>CASE_III_b0</th>\n",
       "      <th>CASE_III_b0_001</th>\n",
       "      <th>CASE_III_b0_01</th>\n",
       "      <th>CASE_III_b0_05</th>\n",
       "      <th>CASE_III_c0</th>\n",
       "      <th>CASE_III_c0_001</th>\n",
       "      <th>...</th>\n",
       "      <th>zphot_II_a0_01</th>\n",
       "      <th>zphot_II_a0_05</th>\n",
       "      <th>zphot_II_b0</th>\n",
       "      <th>zphot_II_b0_001</th>\n",
       "      <th>zphot_II_b0_01</th>\n",
       "      <th>zphot_II_b0_05</th>\n",
       "      <th>zphot_I_a0</th>\n",
       "      <th>zphot_I_a0_001</th>\n",
       "      <th>zphot_I_a0_01</th>\n",
       "      <th>zphot_I_a0_05</th>\n",
       "    </tr>\n",
       "  </thead>\n",
       "  <tbody>\n",
       "    <tr>\n",
       "      <th>3</th>\n",
       "      <td>2</td>\n",
       "      <td>2</td>\n",
       "      <td>2</td>\n",
       "      <td>1</td>\n",
       "      <td>1</td>\n",
       "      <td>1</td>\n",
       "      <td>1</td>\n",
       "      <td>1</td>\n",
       "      <td>2</td>\n",
       "      <td>2</td>\n",
       "      <td>...</td>\n",
       "      <td>0.0361</td>\n",
       "      <td>0.0245</td>\n",
       "      <td>0.0361</td>\n",
       "      <td>0.0361</td>\n",
       "      <td>0.0361</td>\n",
       "      <td>0.0361</td>\n",
       "      <td>0.0844</td>\n",
       "      <td>0.0844</td>\n",
       "      <td>0.0844</td>\n",
       "      <td>0.0844</td>\n",
       "    </tr>\n",
       "    <tr>\n",
       "      <th>38</th>\n",
       "      <td>2</td>\n",
       "      <td>2</td>\n",
       "      <td>2</td>\n",
       "      <td>1</td>\n",
       "      <td>1</td>\n",
       "      <td>1</td>\n",
       "      <td>1</td>\n",
       "      <td>1</td>\n",
       "      <td>2</td>\n",
       "      <td>2</td>\n",
       "      <td>...</td>\n",
       "      <td>0.0361</td>\n",
       "      <td>0.0245</td>\n",
       "      <td>0.0361</td>\n",
       "      <td>0.0361</td>\n",
       "      <td>0.0361</td>\n",
       "      <td>0.0361</td>\n",
       "      <td>0.0844</td>\n",
       "      <td>0.0844</td>\n",
       "      <td>0.0844</td>\n",
       "      <td>0.0844</td>\n",
       "    </tr>\n",
       "    <tr>\n",
       "      <th>25</th>\n",
       "      <td>1</td>\n",
       "      <td>1</td>\n",
       "      <td>1</td>\n",
       "      <td>1</td>\n",
       "      <td>2</td>\n",
       "      <td>2</td>\n",
       "      <td>2</td>\n",
       "      <td>2</td>\n",
       "      <td>3</td>\n",
       "      <td>3</td>\n",
       "      <td>...</td>\n",
       "      <td>0.0648</td>\n",
       "      <td>0.0648</td>\n",
       "      <td>0.0648</td>\n",
       "      <td>0.0648</td>\n",
       "      <td>0.0648</td>\n",
       "      <td>0.0648</td>\n",
       "      <td>0.0826</td>\n",
       "      <td>0.0826</td>\n",
       "      <td>0.0826</td>\n",
       "      <td>0.0648</td>\n",
       "    </tr>\n",
       "    <tr>\n",
       "      <th>19</th>\n",
       "      <td>5</td>\n",
       "      <td>5</td>\n",
       "      <td>5</td>\n",
       "      <td>5</td>\n",
       "      <td>5</td>\n",
       "      <td>5</td>\n",
       "      <td>5</td>\n",
       "      <td>5</td>\n",
       "      <td>5</td>\n",
       "      <td>5</td>\n",
       "      <td>...</td>\n",
       "      <td>2.1334</td>\n",
       "      <td>2.1334</td>\n",
       "      <td>2.1334</td>\n",
       "      <td>2.1334</td>\n",
       "      <td>2.1334</td>\n",
       "      <td>2.1334</td>\n",
       "      <td>2.1334</td>\n",
       "      <td>2.1334</td>\n",
       "      <td>2.1334</td>\n",
       "      <td>2.1334</td>\n",
       "    </tr>\n",
       "    <tr>\n",
       "      <th>2</th>\n",
       "      <td>2</td>\n",
       "      <td>2</td>\n",
       "      <td>2</td>\n",
       "      <td>1</td>\n",
       "      <td>1</td>\n",
       "      <td>1</td>\n",
       "      <td>1</td>\n",
       "      <td>1</td>\n",
       "      <td>2</td>\n",
       "      <td>2</td>\n",
       "      <td>...</td>\n",
       "      <td>0.1067</td>\n",
       "      <td>0.0904</td>\n",
       "      <td>0.1067</td>\n",
       "      <td>0.1067</td>\n",
       "      <td>0.1067</td>\n",
       "      <td>0.1067</td>\n",
       "      <td>0.0950</td>\n",
       "      <td>0.0950</td>\n",
       "      <td>0.0904</td>\n",
       "      <td>0.0904</td>\n",
       "    </tr>\n",
       "  </tbody>\n",
       "</table>\n",
       "<p>5 rows × 800 columns</p>\n",
       "</div>"
      ],
      "text/plain": [
       "    CASE_III_a0  CASE_III_a0_001  CASE_III_a0_01  CASE_III_a0_05  CASE_III_b0  \\\n",
       "3             2                2               2               1            1   \n",
       "38            2                2               2               1            1   \n",
       "25            1                1               1               1            2   \n",
       "19            5                5               5               5            5   \n",
       "2             2                2               2               1            1   \n",
       "\n",
       "    CASE_III_b0_001  CASE_III_b0_01  CASE_III_b0_05  CASE_III_c0  \\\n",
       "3                 1               1               1            2   \n",
       "38                1               1               1            2   \n",
       "25                2               2               2            3   \n",
       "19                5               5               5            5   \n",
       "2                 1               1               1            2   \n",
       "\n",
       "    CASE_III_c0_001  ...  zphot_II_a0_01  zphot_II_a0_05  zphot_II_b0  \\\n",
       "3                 2  ...          0.0361          0.0245       0.0361   \n",
       "38                2  ...          0.0361          0.0245       0.0361   \n",
       "25                3  ...          0.0648          0.0648       0.0648   \n",
       "19                5  ...          2.1334          2.1334       2.1334   \n",
       "2                 2  ...          0.1067          0.0904       0.1067   \n",
       "\n",
       "    zphot_II_b0_001  zphot_II_b0_01  zphot_II_b0_05  zphot_I_a0  \\\n",
       "3            0.0361          0.0361          0.0361      0.0844   \n",
       "38           0.0361          0.0361          0.0361      0.0844   \n",
       "25           0.0648          0.0648          0.0648      0.0826   \n",
       "19           2.1334          2.1334          2.1334      2.1334   \n",
       "2            0.1067          0.1067          0.1067      0.0950   \n",
       "\n",
       "    zphot_I_a0_001  zphot_I_a0_01  zphot_I_a0_05  \n",
       "3           0.0844         0.0844         0.0844  \n",
       "38          0.0844         0.0844         0.0844  \n",
       "25          0.0826         0.0826         0.0648  \n",
       "19          2.1334         2.1334         2.1334  \n",
       "2           0.0950         0.0904         0.0904  \n",
       "\n",
       "[5 rows x 800 columns]"
      ]
     },
     "execution_count": 45,
     "metadata": {},
     "output_type": "execute_result"
    }
   ],
   "source": [
    "df.sample(5)"
   ]
  },
  {
   "cell_type": "code",
   "execution_count": 46,
   "metadata": {},
   "outputs": [],
   "source": [
    "# df.columns.values"
   ]
  },
  {
   "cell_type": "markdown",
   "metadata": {},
   "source": [
    "### Having done that, turns out we actually want a bigger selection - so let's just use the main catalog..."
   ]
  },
  {
   "cell_type": "code",
   "execution_count": 47,
   "metadata": {},
   "outputs": [],
   "source": [
    "catalog_loc = '/media/mike/beta/agnfinder/cpz_paper_sample_week3.parquet'\n",
    "df = pd.read_parquet(catalog_loc)"
   ]
  },
  {
   "cell_type": "code",
   "execution_count": 48,
   "metadata": {},
   "outputs": [
    {
     "data": {
      "text/plain": [
       "unknown    25343\n",
       "galaxy     11369\n",
       "qso         4192\n",
       "agn          495\n",
       "Name: hclass_name, dtype: int64"
      ]
     },
     "execution_count": 48,
     "metadata": {},
     "output_type": "execute_result"
    }
   ],
   "source": [
    "hclass_schema = {\n",
    "    1: 'galaxy',\n",
    "    2: 'agn',\n",
    "    3: 'qso',\n",
    "    -1: 'unknown'\n",
    "}\n",
    "df['hclass_name'] = df['hclass'].apply(lambda x: hclass_schema[x])\n",
    "df['hclass_name'].value_counts()"
   ]
  },
  {
   "cell_type": "code",
   "execution_count": 49,
   "metadata": {},
   "outputs": [],
   "source": [
    "rf_classes = ['passive', 'starforming', 'starburst', 'agn', 'qso', 'outlier']\n"
   ]
  },
  {
   "cell_type": "code",
   "execution_count": 50,
   "metadata": {},
   "outputs": [
    {
     "name": "stdout",
     "output_type": "stream",
     "text": [
      "passive: 14852.45\n",
      "starforming: 12800.21\n",
      "starburst: 6735.99\n",
      "agn: 4113.60\n",
      "qso: 2896.75\n",
      "outlier: 906.92\n"
     ]
    }
   ],
   "source": [
    "for c in rf_classes:\n",
    "    print('{}: {:.2f}'.format(c, df[f'Pr[{c}]_case_III'].sum()))"
   ]
  },
  {
   "cell_type": "code",
   "execution_count": 51,
   "metadata": {},
   "outputs": [
    {
     "data": {
      "text/plain": [
       "<matplotlib.axes._subplots.AxesSubplot at 0x7f8aee855e10>"
      ]
     },
     "execution_count": 51,
     "metadata": {},
     "output_type": "execute_result"
    },
    {
     "data": {
      "image/png": "[encoded data removed]",
      "text/plain": [
       "<Figure size 432x288 with 1 Axes>"
      ]
     },
     "metadata": {
      "needs_background": "light"
     },
     "output_type": "display_data"
    }
   ],
   "source": [
    "# check p's sum to 1\n",
    "rf_cols = [f'Pr[{c}]_case_III' for c in rf_classes]\n",
    "df[rf_cols].sum(axis=1).hist()\n",
    "# close enough!"
   ]
  },
  {
   "cell_type": "code",
   "execution_count": 52,
   "metadata": {},
   "outputs": [
    {
     "data": {
      "text/plain": [
       "['passive', 'starforming', 'starburst', 'agn', 'qso', 'outlier']"
      ]
     },
     "execution_count": 52,
     "metadata": {},
     "output_type": "execute_result"
    }
   ],
   "source": [
    "rf_classes"
   ]
  },
  {
   "cell_type": "code",
   "execution_count": 53,
   "metadata": {},
   "outputs": [
    {
     "data": {
      "text/plain": [
       "['Pr[passive]_case_III',\n",
       " 'Pr[starforming]_case_III',\n",
       " 'Pr[starburst]_case_III',\n",
       " 'Pr[agn]_case_III',\n",
       " 'Pr[qso]_case_III',\n",
       " 'Pr[outlier]_case_III']"
      ]
     },
     "execution_count": 53,
     "metadata": {},
     "output_type": "execute_result"
    }
   ],
   "source": [
    "rf_cols"
   ]
  },
  {
   "cell_type": "code",
   "execution_count": null,
   "metadata": {},
   "outputs": [],
   "source": []
  },
  {
   "cell_type": "code",
   "execution_count": 54,
   "metadata": {},
   "outputs": [],
   "source": [
    "df = df.sample(int(len(df) / 3))  # for memory"
   ]
  },
  {
   "cell_type": "code",
   "execution_count": 55,
   "metadata": {},
   "outputs": [],
   "source": [
    "df['most_likely_rf_class'] = df[rf_cols].apply(lambda x: rf_classes[np.argmax(x.values)], axis=1)"
   ]
  },
  {
   "cell_type": "code",
   "execution_count": 56,
   "metadata": {},
   "outputs": [],
   "source": [
    "def get_p(x):\n",
    "    c = x['most_likely_rf_class']\n",
    "    return x[f'Pr[{c}]_case_III']"
   ]
  },
  {
   "cell_type": "code",
   "execution_count": 57,
   "metadata": {},
   "outputs": [],
   "source": [
    "df['p_of_most_likely_rf_class'] = df.apply(get_p, axis=1)"
   ]
  },
  {
   "cell_type": "code",
   "execution_count": 61,
   "metadata": {},
   "outputs": [
    {
     "data": {
      "text/plain": [
       "passive        5230\n",
       "starforming    4986\n",
       "starburst      1503\n",
       "qso            1106\n",
       "agn             918\n",
       "outlier          56\n",
       "Name: most_likely_rf_class, dtype: int64"
      ]
     },
     "execution_count": 61,
     "metadata": {},
     "output_type": "execute_result"
    }
   ],
   "source": [
    "df['most_likely_rf_class'].value_counts()"
   ]
  },
  {
   "cell_type": "code",
   "execution_count": 59,
   "metadata": {},
   "outputs": [],
   "source": [
    "def does_galaxy_load(galaxy):\n",
    "    try:\n",
    "        _ = load_photometry.load_maggies_from_galaxy(galaxy, reliable=True)\n",
    "        return True\n",
    "    except ValueError:\n",
    "        return False"
   ]
  },
  {
   "cell_type": "code",
   "execution_count": 78,
   "metadata": {},
   "outputs": [],
   "source": [
    "rf_cols_no_outlier = rf_cols[:-1]"
   ]
  },
  {
   "cell_type": "code",
   "execution_count": 84,
   "metadata": {},
   "outputs": [],
   "source": [
    "n_per_class = 150\n",
    "candidate_dfs = []\n",
    "for col in rf_cols_no_outlier:\n",
    "    cdf = df.sort_values(col, ascending=False)[:n_per_class]\n",
    "    cdf['has_valid_filters'] = cdf.apply(does_galaxy_load, axis=1)\n",
    "    cdf = cdf.query('has_valid_filters==True').reset_index()\n",
    "    candidate_dfs.append(cdf)\n"
   ]
  },
  {
   "cell_type": "code",
   "execution_count": null,
   "metadata": {},
   "outputs": [],
   "source": []
  },
  {
   "cell_type": "code",
   "execution_count": 85,
   "metadata": {},
   "outputs": [
    {
     "data": {
      "text/html": [
       "<div>\n",
       "<style scoped>\n",
       "    .dataframe tbody tr th:only-of-type {\n",
       "        vertical-align: middle;\n",
       "    }\n",
       "\n",
       "    .dataframe tbody tr th {\n",
       "        vertical-align: top;\n",
       "    }\n",
       "\n",
       "    .dataframe thead th {\n",
       "        text-align: right;\n",
       "    }\n",
       "</style>\n",
       "<table border=\"1\" class=\"dataframe\">\n",
       "  <thead>\n",
       "    <tr style=\"text-align: right;\">\n",
       "      <th></th>\n",
       "      <th>index</th>\n",
       "      <th>id</th>\n",
       "      <th>alpha</th>\n",
       "      <th>delta</th>\n",
       "      <th>redshift</th>\n",
       "      <th>hclass</th>\n",
       "      <th>hquality</th>\n",
       "      <th>survey_quality</th>\n",
       "      <th>survey_comment</th>\n",
       "      <th>sp_survey</th>\n",
       "      <th>...</th>\n",
       "      <th>class_opt_a_2_case_III</th>\n",
       "      <th>class_opt_a_3_case_III</th>\n",
       "      <th>class_opt_b_0_case_III</th>\n",
       "      <th>class_opt_b_1_case_III</th>\n",
       "      <th>class_opt_b_2_case_III</th>\n",
       "      <th>class_opt_b_3_case_III</th>\n",
       "      <th>hclass_name</th>\n",
       "      <th>most_likely_rf_class</th>\n",
       "      <th>p_of_most_likely_rf_class</th>\n",
       "      <th>has_valid_filters</th>\n",
       "    </tr>\n",
       "  </thead>\n",
       "  <tbody>\n",
       "    <tr>\n",
       "      <th>0</th>\n",
       "      <td>38324</td>\n",
       "      <td>b'333426377841731584               '</td>\n",
       "      <td>200.92518</td>\n",
       "      <td>0.693665</td>\n",
       "      <td>0.084568</td>\n",
       "      <td>-1</td>\n",
       "      <td>1</td>\n",
       "      <td>b'0   '</td>\n",
       "      <td>b'-99                         '</td>\n",
       "      <td>b'sdss_dr12  '</td>\n",
       "      <td>...</td>\n",
       "      <td>1.0</td>\n",
       "      <td>1.0</td>\n",
       "      <td>1.0</td>\n",
       "      <td>1.0</td>\n",
       "      <td>1.0</td>\n",
       "      <td>1.0</td>\n",
       "      <td>unknown</td>\n",
       "      <td>passive</td>\n",
       "      <td>0.999583</td>\n",
       "      <td>True</td>\n",
       "    </tr>\n",
       "    <tr>\n",
       "      <th>1</th>\n",
       "      <td>35607</td>\n",
       "      <td>b'314177228277573632               '</td>\n",
       "      <td>168.83238</td>\n",
       "      <td>-0.111866</td>\n",
       "      <td>0.077333</td>\n",
       "      <td>-1</td>\n",
       "      <td>1</td>\n",
       "      <td>b'0   '</td>\n",
       "      <td>b'-99                         '</td>\n",
       "      <td>b'sdss_dr12  '</td>\n",
       "      <td>...</td>\n",
       "      <td>1.0</td>\n",
       "      <td>1.0</td>\n",
       "      <td>1.0</td>\n",
       "      <td>1.0</td>\n",
       "      <td>1.0</td>\n",
       "      <td>1.0</td>\n",
       "      <td>unknown</td>\n",
       "      <td>passive</td>\n",
       "      <td>0.999286</td>\n",
       "      <td>True</td>\n",
       "    </tr>\n",
       "    <tr>\n",
       "      <th>2</th>\n",
       "      <td>39552</td>\n",
       "      <td>b'340094366745913344               '</td>\n",
       "      <td>211.21558</td>\n",
       "      <td>-0.641613</td>\n",
       "      <td>0.024392</td>\n",
       "      <td>-1</td>\n",
       "      <td>1</td>\n",
       "      <td>b'0   '</td>\n",
       "      <td>b'-99                         '</td>\n",
       "      <td>b'sdss_dr12  '</td>\n",
       "      <td>...</td>\n",
       "      <td>1.0</td>\n",
       "      <td>1.0</td>\n",
       "      <td>1.0</td>\n",
       "      <td>1.0</td>\n",
       "      <td>1.0</td>\n",
       "      <td>1.0</td>\n",
       "      <td>unknown</td>\n",
       "      <td>passive</td>\n",
       "      <td>0.998000</td>\n",
       "      <td>True</td>\n",
       "    </tr>\n",
       "    <tr>\n",
       "      <th>3</th>\n",
       "      <td>2151</td>\n",
       "      <td>b'257774847134793728               '</td>\n",
       "      <td>211.71473</td>\n",
       "      <td>-1.540750</td>\n",
       "      <td>0.029570</td>\n",
       "      <td>-1</td>\n",
       "      <td>1</td>\n",
       "      <td>b'5   '</td>\n",
       "      <td>b'0.999                       '</td>\n",
       "      <td>b'gama_dr2   '</td>\n",
       "      <td>...</td>\n",
       "      <td>1.0</td>\n",
       "      <td>1.0</td>\n",
       "      <td>1.0</td>\n",
       "      <td>1.0</td>\n",
       "      <td>1.0</td>\n",
       "      <td>1.0</td>\n",
       "      <td>unknown</td>\n",
       "      <td>passive</td>\n",
       "      <td>0.997727</td>\n",
       "      <td>True</td>\n",
       "    </tr>\n",
       "    <tr>\n",
       "      <th>4</th>\n",
       "      <td>2397</td>\n",
       "      <td>b'258900600253579264               '</td>\n",
       "      <td>218.85669</td>\n",
       "      <td>-1.399070</td>\n",
       "      <td>0.055740</td>\n",
       "      <td>-1</td>\n",
       "      <td>1</td>\n",
       "      <td>b'5   '</td>\n",
       "      <td>b'1.0                         '</td>\n",
       "      <td>b'gama_dr2   '</td>\n",
       "      <td>...</td>\n",
       "      <td>1.0</td>\n",
       "      <td>1.0</td>\n",
       "      <td>1.0</td>\n",
       "      <td>1.0</td>\n",
       "      <td>1.0</td>\n",
       "      <td>1.0</td>\n",
       "      <td>unknown</td>\n",
       "      <td>passive</td>\n",
       "      <td>0.996859</td>\n",
       "      <td>True</td>\n",
       "    </tr>\n",
       "  </tbody>\n",
       "</table>\n",
       "<p>5 rows × 803 columns</p>\n",
       "</div>"
      ],
      "text/plain": [
       "   index                                    id      alpha     delta  redshift  \\\n",
       "0  38324  b'333426377841731584               '  200.92518  0.693665  0.084568   \n",
       "1  35607  b'314177228277573632               '  168.83238 -0.111866  0.077333   \n",
       "2  39552  b'340094366745913344               '  211.21558 -0.641613  0.024392   \n",
       "3   2151  b'257774847134793728               '  211.71473 -1.540750  0.029570   \n",
       "4   2397  b'258900600253579264               '  218.85669 -1.399070  0.055740   \n",
       "\n",
       "   hclass  hquality survey_quality                   survey_comment  \\\n",
       "0      -1         1        b'0   '  b'-99                         '   \n",
       "1      -1         1        b'0   '  b'-99                         '   \n",
       "2      -1         1        b'0   '  b'-99                         '   \n",
       "3      -1         1        b'5   '  b'0.999                       '   \n",
       "4      -1         1        b'5   '  b'1.0                         '   \n",
       "\n",
       "        sp_survey  ...  class_opt_a_2_case_III  class_opt_a_3_case_III  \\\n",
       "0  b'sdss_dr12  '  ...                     1.0                     1.0   \n",
       "1  b'sdss_dr12  '  ...                     1.0                     1.0   \n",
       "2  b'sdss_dr12  '  ...                     1.0                     1.0   \n",
       "3  b'gama_dr2   '  ...                     1.0                     1.0   \n",
       "4  b'gama_dr2   '  ...                     1.0                     1.0   \n",
       "\n",
       "   class_opt_b_0_case_III  class_opt_b_1_case_III  class_opt_b_2_case_III  \\\n",
       "0                     1.0                     1.0                     1.0   \n",
       "1                     1.0                     1.0                     1.0   \n",
       "2                     1.0                     1.0                     1.0   \n",
       "3                     1.0                     1.0                     1.0   \n",
       "4                     1.0                     1.0                     1.0   \n",
       "\n",
       "   class_opt_b_3_case_III  hclass_name  most_likely_rf_class  \\\n",
       "0                     1.0      unknown               passive   \n",
       "1                     1.0      unknown               passive   \n",
       "2                     1.0      unknown               passive   \n",
       "3                     1.0      unknown               passive   \n",
       "4                     1.0      unknown               passive   \n",
       "\n",
       "   p_of_most_likely_rf_class  has_valid_filters  \n",
       "0                   0.999583               True  \n",
       "1                   0.999286               True  \n",
       "2                   0.998000               True  \n",
       "3                   0.997727               True  \n",
       "4                   0.996859               True  \n",
       "\n",
       "[5 rows x 803 columns]"
      ]
     },
     "execution_count": 85,
     "metadata": {},
     "output_type": "execute_result"
    }
   ],
   "source": [
    "selected_df = pd.concat(candidate_dfs, axis=0)\n",
    "selected_df.head()"
   ]
  },
  {
   "cell_type": "code",
   "execution_count": 86,
   "metadata": {},
   "outputs": [
    {
     "data": {
      "text/html": [
       "<div>\n",
       "<style scoped>\n",
       "    .dataframe tbody tr th:only-of-type {\n",
       "        vertical-align: middle;\n",
       "    }\n",
       "\n",
       "    .dataframe tbody tr th {\n",
       "        vertical-align: top;\n",
       "    }\n",
       "\n",
       "    .dataframe thead th {\n",
       "        text-align: right;\n",
       "    }\n",
       "</style>\n",
       "<table border=\"1\" class=\"dataframe\">\n",
       "  <thead>\n",
       "    <tr style=\"text-align: right;\">\n",
       "      <th></th>\n",
       "      <th>most_likely_rf_class</th>\n",
       "      <th>p_of_most_likely_rf_class</th>\n",
       "    </tr>\n",
       "  </thead>\n",
       "  <tbody>\n",
       "    <tr>\n",
       "      <th>20</th>\n",
       "      <td>agn</td>\n",
       "      <td>0.781287</td>\n",
       "    </tr>\n",
       "    <tr>\n",
       "      <th>21</th>\n",
       "      <td>agn</td>\n",
       "      <td>0.780546</td>\n",
       "    </tr>\n",
       "    <tr>\n",
       "      <th>22</th>\n",
       "      <td>agn</td>\n",
       "      <td>0.779557</td>\n",
       "    </tr>\n",
       "    <tr>\n",
       "      <th>23</th>\n",
       "      <td>agn</td>\n",
       "      <td>0.778571</td>\n",
       "    </tr>\n",
       "    <tr>\n",
       "      <th>24</th>\n",
       "      <td>agn</td>\n",
       "      <td>0.777968</td>\n",
       "    </tr>\n",
       "    <tr>\n",
       "      <th>...</th>\n",
       "      <td>...</td>\n",
       "      <td>...</td>\n",
       "    </tr>\n",
       "    <tr>\n",
       "      <th>8</th>\n",
       "      <td>qso</td>\n",
       "      <td>1.000000</td>\n",
       "    </tr>\n",
       "    <tr>\n",
       "      <th>9</th>\n",
       "      <td>qso</td>\n",
       "      <td>1.000000</td>\n",
       "    </tr>\n",
       "    <tr>\n",
       "      <th>10</th>\n",
       "      <td>qso</td>\n",
       "      <td>1.000000</td>\n",
       "    </tr>\n",
       "    <tr>\n",
       "      <th>11</th>\n",
       "      <td>qso</td>\n",
       "      <td>1.000000</td>\n",
       "    </tr>\n",
       "    <tr>\n",
       "      <th>12</th>\n",
       "      <td>qso</td>\n",
       "      <td>1.000000</td>\n",
       "    </tr>\n",
       "  </tbody>\n",
       "</table>\n",
       "<p>100 rows × 2 columns</p>\n",
       "</div>"
      ],
      "text/plain": [
       "   most_likely_rf_class  p_of_most_likely_rf_class\n",
       "20                  agn                   0.781287\n",
       "21                  agn                   0.780546\n",
       "22                  agn                   0.779557\n",
       "23                  agn                   0.778571\n",
       "24                  agn                   0.777968\n",
       "..                  ...                        ...\n",
       "8                   qso                   1.000000\n",
       "9                   qso                   1.000000\n",
       "10                  qso                   1.000000\n",
       "11                  qso                   1.000000\n",
       "12                  qso                   1.000000\n",
       "\n",
       "[100 rows x 2 columns]"
      ]
     },
     "execution_count": 86,
     "metadata": {},
     "output_type": "execute_result"
    }
   ],
   "source": [
    "selected_df[['most_likely_rf_class', 'p_of_most_likely_rf_class']][340:440]"
   ]
  },
  {
   "cell_type": "code",
   "execution_count": 87,
   "metadata": {},
   "outputs": [
    {
     "data": {
      "text/plain": [
       "577"
      ]
     },
     "execution_count": 87,
     "metadata": {},
     "output_type": "execute_result"
    }
   ],
   "source": [
    "len(selected_df)"
   ]
  },
  {
   "cell_type": "code",
   "execution_count": 88,
   "metadata": {},
   "outputs": [],
   "source": [
    "selected_df.reset_index().to_parquet(f'data/uk_ir_selection_{len(selected_df)}.parquet')"
   ]
  },
  {
   "cell_type": "code",
   "execution_count": null,
   "metadata": {},
   "outputs": [],
   "source": [
    "# deep_emulator.normalise_photometry(maggies_unc)"
   ]
  },
  {
   "cell_type": "code",
   "execution_count": null,
   "metadata": {},
   "outputs": [],
   "source": [
    "# parquet_loc = fits_loc.rstrip('.fits') + '.parquet'\n",
    "# parquet_loc\n",
    "# if not os.path.exists(parquet_loc):\n",
    "#     df.to_parquet(parquet_loc)"
   ]
  },
  {
   "cell_type": "code",
   "execution_count": null,
   "metadata": {},
   "outputs": [],
   "source": []
  },
  {
   "cell_type": "code",
   "execution_count": null,
   "metadata": {},
   "outputs": [],
   "source": []
  }
 ],
 "metadata": {
  "kernelspec": {
   "display_name": "Python 3",
   "language": "python",
   "name": "python3"
  },
  "language_info": {
   "codemirror_mode": {
    "name": "ipython",
    "version": 3
   },
   "file_extension": ".py",
   "mimetype": "text/x-python",
   "name": "python",
   "nbconvert_exporter": "python",
   "pygments_lexer": "ipython3",
   "version": "3.7.5"
  }
 },
 "nbformat": 4,
 "nbformat_minor": 4
}
