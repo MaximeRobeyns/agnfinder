{
 "cells": [
  {
   "cell_type": "code",
   "execution_count": 1,
   "metadata": {},
   "outputs": [],
   "source": [
    "%load_ext autoreload\n",
    "%autoreload 2\n",
    "%matplotlib inline"
   ]
  },
  {
   "cell_type": "code",
   "execution_count": 2,
   "metadata": {},
   "outputs": [],
   "source": [
    "import os\n",
    "import json\n",
    "import glob\n",
    "\n",
    "import tensorflow as tf\n",
    "import numpy as np\n",
    "import pandas as pd\n",
    "from astropy.table import Table\n",
    "import matplotlib.pyplot as plt\n",
    "import seaborn as sns\n",
    "sns.set_context('notebook')"
   ]
  },
  {
   "cell_type": "code",
   "execution_count": 3,
   "metadata": {},
   "outputs": [],
   "source": [
    "from agnfinder.prospector import load_photometry\n",
    "from agnfinder.tf_sampling import deep_emulator"
   ]
  },
  {
   "cell_type": "code",
   "execution_count": 65,
   "metadata": {},
   "outputs": [],
   "source": [
    "os.chdir('/home/mike/repos/agnfinder')"
   ]
  },
  {
   "cell_type": "markdown",
   "metadata": {},
   "source": [
    "### Convert everything to parquet"
   ]
  },
  {
   "cell_type": "code",
   "execution_count": 4,
   "metadata": {},
   "outputs": [],
   "source": [
    "data_dir = '/media/mike/beta/agnfinder/uK_IR/selected'\n",
    "assert os.path.isdir(data_dir)\n",
    "fits_locs = glob.glob(data_dir + '/*.fits')\n",
    "assert fits_locs"
   ]
  },
  {
   "cell_type": "code",
   "execution_count": 5,
   "metadata": {},
   "outputs": [],
   "source": [
    "for fits_loc in fits_locs:\n",
    "    fits = Table.read(fits_loc)\n",
    "    df = fits.to_pandas()\n",
    "    parquet_loc = fits_loc.rstrip('fits') + 'parquet'\n",
    "    df.to_parquet(parquet_loc)"
   ]
  },
  {
   "cell_type": "markdown",
   "metadata": {},
   "source": [
    "### Check they load and normalise/denormalise correctly"
   ]
  },
  {
   "cell_type": "code",
   "execution_count": 6,
   "metadata": {},
   "outputs": [],
   "source": [
    "parquet_locs = glob.glob(data_dir + '/*.parquet')\n",
    "assert parquet_locs"
   ]
  },
  {
   "cell_type": "code",
   "execution_count": 7,
   "metadata": {},
   "outputs": [],
   "source": [
    "def load_real_galaxy(parquet_loc):\n",
    "    # not designed to scale easily, loads df every time. Can change to hdf5 later\n",
    "    df = pd.read_parquet(parquet_loc)\n",
    "    galaxy = df.iloc[0]\n",
    "    _, maggies, maggies_unc = load_photometry.load_maggies_from_galaxy(galaxy, reliable=True)\n",
    "    return maggies, maggies_unc"
   ]
  },
  {
   "cell_type": "code",
   "execution_count": 8,
   "metadata": {},
   "outputs": [],
   "source": [
    "maggies, maggies_unc = load_real_galaxy(parquet_locs[0])"
   ]
  },
  {
   "cell_type": "code",
   "execution_count": 9,
   "metadata": {},
   "outputs": [
    {
     "data": {
      "text/plain": [
       "array([8.97925081e-09, 5.50088098e-08, 1.36326123e-07, 2.03466345e-07,\n",
       "       2.86353580e-07, 4.03908316e-07, 3.27287289e-07, 3.92900064e-07,\n",
       "       2.73501478e-07, 2.32374996e-07, 1.96871625e-07, 1.25575484e-07])"
      ]
     },
     "execution_count": 9,
     "metadata": {},
     "output_type": "execute_result"
    }
   ],
   "source": [
    "maggies"
   ]
  },
  {
   "cell_type": "code",
   "execution_count": 10,
   "metadata": {},
   "outputs": [
    {
     "data": {
      "text/plain": [
       "array([8.97925081e-09, 5.50088098e-08, 1.36326123e-07, 2.03466345e-07,\n",
       "       2.86353580e-07, 4.03908316e-07, 3.27287289e-07, 3.92900064e-07,\n",
       "       2.73501478e-07, 2.32374996e-07, 1.96871625e-07, 1.25575484e-07])"
      ]
     },
     "execution_count": 10,
     "metadata": {},
     "output_type": "execute_result"
    }
   ],
   "source": [
    "deep_emulator.denormalise_photometry(deep_emulator.normalise_photometry(maggies))"
   ]
  },
  {
   "cell_type": "markdown",
   "metadata": {},
   "source": [
    "### Save as one parquet with a feature column indicating galaxy type"
   ]
  },
  {
   "cell_type": "code",
   "execution_count": 14,
   "metadata": {},
   "outputs": [],
   "source": [
    "dfs = []\n",
    "for loc in parquet_locs:\n",
    "    dfs.append(pd.read_parquet(loc))\n",
    "len(dfs)"
   ]
  },
  {
   "cell_type": "code",
   "execution_count": 20,
   "metadata": {},
   "outputs": [
    {
     "data": {
      "text/plain": [
       "5"
      ]
     },
     "execution_count": 20,
     "metadata": {},
     "output_type": "execute_result"
    }
   ],
   "source": []
  },
  {
   "cell_type": "code",
   "execution_count": 29,
   "metadata": {},
   "outputs": [
    {
     "data": {
      "text/plain": [
       "35"
      ]
     },
     "execution_count": 29,
     "metadata": {},
     "output_type": "execute_result"
    }
   ],
   "source": [
    "df = pd.concat(dfs, axis=0).reset_index(drop=True)\n",
    "len(df)"
   ]
  },
  {
   "cell_type": "code",
   "execution_count": 30,
   "metadata": {},
   "outputs": [
    {
     "data": {
      "text/html": [
       "<div>\n",
       "<style scoped>\n",
       "    .dataframe tbody tr th:only-of-type {\n",
       "        vertical-align: middle;\n",
       "    }\n",
       "\n",
       "    .dataframe tbody tr th {\n",
       "        vertical-align: top;\n",
       "    }\n",
       "\n",
       "    .dataframe thead th {\n",
       "        text-align: right;\n",
       "    }\n",
       "</style>\n",
       "<table border=\"1\" class=\"dataframe\">\n",
       "  <thead>\n",
       "    <tr style=\"text-align: right;\">\n",
       "      <th></th>\n",
       "      <th>id</th>\n",
       "      <th>alpha</th>\n",
       "      <th>delta</th>\n",
       "      <th>redshift</th>\n",
       "      <th>hclass</th>\n",
       "      <th>hquality</th>\n",
       "      <th>survey_quality</th>\n",
       "      <th>survey_comment</th>\n",
       "      <th>sp_survey</th>\n",
       "      <th>id_sdss_u_dr12</th>\n",
       "      <th>...</th>\n",
       "      <th>zopt_b_2_case_III</th>\n",
       "      <th>zopt_b_3_case_III</th>\n",
       "      <th>class_opt_a_0_case_III</th>\n",
       "      <th>class_opt_a_1_case_III</th>\n",
       "      <th>class_opt_a_2_case_III</th>\n",
       "      <th>class_opt_a_3_case_III</th>\n",
       "      <th>class_opt_b_0_case_III</th>\n",
       "      <th>class_opt_b_1_case_III</th>\n",
       "      <th>class_opt_b_2_case_III</th>\n",
       "      <th>class_opt_b_3_case_III</th>\n",
       "    </tr>\n",
       "  </thead>\n",
       "  <tbody>\n",
       "    <tr>\n",
       "      <th>30</th>\n",
       "      <td>b'337884624090851328               '</td>\n",
       "      <td>207.06202</td>\n",
       "      <td>1.049917</td>\n",
       "      <td>0.471133</td>\n",
       "      <td>3</td>\n",
       "      <td>1</td>\n",
       "      <td>b'0   '</td>\n",
       "      <td>b'QSO_BROADLINE               '</td>\n",
       "      <td>b'sdss_dr12  '</td>\n",
       "      <td>1237648705661173944</td>\n",
       "      <td>...</td>\n",
       "      <td>0.4545</td>\n",
       "      <td>0.4545</td>\n",
       "      <td>4.0</td>\n",
       "      <td>4.0</td>\n",
       "      <td>4.0</td>\n",
       "      <td>4.0</td>\n",
       "      <td>4.0</td>\n",
       "      <td>4.0</td>\n",
       "      <td>4.0</td>\n",
       "      <td>4.0</td>\n",
       "    </tr>\n",
       "    <tr>\n",
       "      <th>32</th>\n",
       "      <td>b'151657002131521536               '</td>\n",
       "      <td>223.23181</td>\n",
       "      <td>1.972190</td>\n",
       "      <td>0.097560</td>\n",
       "      <td>-1</td>\n",
       "      <td>1</td>\n",
       "      <td>b'4   '</td>\n",
       "      <td>b'0.912                       '</td>\n",
       "      <td>b'gama_dr2   '</td>\n",
       "      <td>1237651754029220008</td>\n",
       "      <td>...</td>\n",
       "      <td>0.0921</td>\n",
       "      <td>0.0921</td>\n",
       "      <td>4.0</td>\n",
       "      <td>4.0</td>\n",
       "      <td>4.0</td>\n",
       "      <td>4.0</td>\n",
       "      <td>4.0</td>\n",
       "      <td>4.0</td>\n",
       "      <td>4.0</td>\n",
       "      <td>4.0</td>\n",
       "    </tr>\n",
       "    <tr>\n",
       "      <th>31</th>\n",
       "      <td>b'368179478507055104               '</td>\n",
       "      <td>174.67725</td>\n",
       "      <td>-2.554872</td>\n",
       "      <td>0.105049</td>\n",
       "      <td>1</td>\n",
       "      <td>1</td>\n",
       "      <td>b'0   '</td>\n",
       "      <td>b'GALAXY_STARFORMING          '</td>\n",
       "      <td>b'sdss_dr12  '</td>\n",
       "      <td>1237671141479678223</td>\n",
       "      <td>...</td>\n",
       "      <td>0.1394</td>\n",
       "      <td>0.1394</td>\n",
       "      <td>4.0</td>\n",
       "      <td>4.0</td>\n",
       "      <td>4.0</td>\n",
       "      <td>4.0</td>\n",
       "      <td>4.0</td>\n",
       "      <td>4.0</td>\n",
       "      <td>4.0</td>\n",
       "      <td>4.0</td>\n",
       "    </tr>\n",
       "    <tr>\n",
       "      <th>7</th>\n",
       "      <td>b'336783463279519744               '</td>\n",
       "      <td>205.78589</td>\n",
       "      <td>0.417359</td>\n",
       "      <td>0.104608</td>\n",
       "      <td>1</td>\n",
       "      <td>1</td>\n",
       "      <td>b'0   '</td>\n",
       "      <td>b'GALAXY_STARBURST            '</td>\n",
       "      <td>b'sdss_dr12  '</td>\n",
       "      <td>1237671991341940979</td>\n",
       "      <td>...</td>\n",
       "      <td>0.1618</td>\n",
       "      <td>0.1618</td>\n",
       "      <td>3.0</td>\n",
       "      <td>3.0</td>\n",
       "      <td>3.0</td>\n",
       "      <td>3.0</td>\n",
       "      <td>3.0</td>\n",
       "      <td>3.0</td>\n",
       "      <td>3.0</td>\n",
       "      <td>3.0</td>\n",
       "    </tr>\n",
       "    <tr>\n",
       "      <th>18</th>\n",
       "      <td>b'4251528427758874624              '</td>\n",
       "      <td>178.47312</td>\n",
       "      <td>-2.245790</td>\n",
       "      <td>2.266393</td>\n",
       "      <td>3</td>\n",
       "      <td>1</td>\n",
       "      <td>b'0   '</td>\n",
       "      <td>b'QSO_BROADLINE               '</td>\n",
       "      <td>b'sdss_dr12  '</td>\n",
       "      <td>1237650371018162282</td>\n",
       "      <td>...</td>\n",
       "      <td>2.0451</td>\n",
       "      <td>2.0451</td>\n",
       "      <td>5.0</td>\n",
       "      <td>5.0</td>\n",
       "      <td>5.0</td>\n",
       "      <td>5.0</td>\n",
       "      <td>5.0</td>\n",
       "      <td>5.0</td>\n",
       "      <td>5.0</td>\n",
       "      <td>5.0</td>\n",
       "    </tr>\n",
       "  </tbody>\n",
       "</table>\n",
       "<p>5 rows × 798 columns</p>\n",
       "</div>"
      ],
      "text/plain": [
       "                                      id      alpha     delta  redshift  \\\n",
       "30  b'337884624090851328               '  207.06202  1.049917  0.471133   \n",
       "32  b'151657002131521536               '  223.23181  1.972190  0.097560   \n",
       "31  b'368179478507055104               '  174.67725 -2.554872  0.105049   \n",
       "7   b'336783463279519744               '  205.78589  0.417359  0.104608   \n",
       "18  b'4251528427758874624              '  178.47312 -2.245790  2.266393   \n",
       "\n",
       "    hclass  hquality survey_quality                   survey_comment  \\\n",
       "30       3         1        b'0   '  b'QSO_BROADLINE               '   \n",
       "32      -1         1        b'4   '  b'0.912                       '   \n",
       "31       1         1        b'0   '  b'GALAXY_STARFORMING          '   \n",
       "7        1         1        b'0   '  b'GALAXY_STARBURST            '   \n",
       "18       3         1        b'0   '  b'QSO_BROADLINE               '   \n",
       "\n",
       "         sp_survey       id_sdss_u_dr12  ...  zopt_b_2_case_III  \\\n",
       "30  b'sdss_dr12  '  1237648705661173944  ...             0.4545   \n",
       "32  b'gama_dr2   '  1237651754029220008  ...             0.0921   \n",
       "31  b'sdss_dr12  '  1237671141479678223  ...             0.1394   \n",
       "7   b'sdss_dr12  '  1237671991341940979  ...             0.1618   \n",
       "18  b'sdss_dr12  '  1237650371018162282  ...             2.0451   \n",
       "\n",
       "    zopt_b_3_case_III  class_opt_a_0_case_III  class_opt_a_1_case_III  \\\n",
       "30             0.4545                     4.0                     4.0   \n",
       "32             0.0921                     4.0                     4.0   \n",
       "31             0.1394                     4.0                     4.0   \n",
       "7              0.1618                     3.0                     3.0   \n",
       "18             2.0451                     5.0                     5.0   \n",
       "\n",
       "    class_opt_a_2_case_III  class_opt_a_3_case_III  class_opt_b_0_case_III  \\\n",
       "30                     4.0                     4.0                     4.0   \n",
       "32                     4.0                     4.0                     4.0   \n",
       "31                     4.0                     4.0                     4.0   \n",
       "7                      3.0                     3.0                     3.0   \n",
       "18                     5.0                     5.0                     5.0   \n",
       "\n",
       "    class_opt_b_1_case_III  class_opt_b_2_case_III  class_opt_b_3_case_III  \n",
       "30                     4.0                     4.0                     4.0  \n",
       "32                     4.0                     4.0                     4.0  \n",
       "31                     4.0                     4.0                     4.0  \n",
       "7                      3.0                     3.0                     3.0  \n",
       "18                     5.0                     5.0                     5.0  \n",
       "\n",
       "[5 rows x 798 columns]"
      ]
     },
     "execution_count": 30,
     "metadata": {},
     "output_type": "execute_result"
    }
   ],
   "source": [
    "df.sample(5)"
   ]
  },
  {
   "cell_type": "code",
   "execution_count": 32,
   "metadata": {},
   "outputs": [
    {
     "data": {
      "text/plain": [
       "array(['id', 'alpha', 'delta', 'redshift', 'hclass', 'hquality',\n",
       "       'survey_quality', 'survey_comment', 'sp_survey', 'id_sdss_u_dr12',\n",
       "       'tile_name_sdss_u_dr12', 'alpha_sdss_u_dr12', 'delta_sdss_u_dr12',\n",
       "       'flags_sdss_u_dr12', 'flux_radius_sdss_u_dr12', 'fwhm_sdss_u_dr12',\n",
       "       'mag_auto_sdss_u_dr12', 'magerr_auto_sdss_u_dr12',\n",
       "       'mag_aper2_sdss_u_dr12', 'magerr_aper2_sdss_u_dr12',\n",
       "       'mag_aper3_sdss_u_dr12', 'magerr_aper3_sdss_u_dr12',\n",
       "       'id_sdss_g_dr12', 'tile_name_sdss_g_dr12', 'alpha_sdss_g_dr12',\n",
       "       'delta_sdss_g_dr12', 'flags_sdss_g_dr12',\n",
       "       'flux_radius_sdss_g_dr12', 'fwhm_sdss_g_dr12',\n",
       "       'mag_auto_sdss_g_dr12', 'magerr_auto_sdss_g_dr12',\n",
       "       'mag_aper2_sdss_g_dr12', 'magerr_aper2_sdss_g_dr12',\n",
       "       'mag_aper3_sdss_g_dr12', 'magerr_aper3_sdss_g_dr12',\n",
       "       'id_sdss_r_dr12', 'tile_name_sdss_r_dr12', 'alpha_sdss_r_dr12',\n",
       "       'delta_sdss_r_dr12', 'flags_sdss_r_dr12',\n",
       "       'flux_radius_sdss_r_dr12', 'fwhm_sdss_r_dr12',\n",
       "       'mag_auto_sdss_r_dr12', 'magerr_auto_sdss_r_dr12',\n",
       "       'mag_aper2_sdss_r_dr12', 'magerr_aper2_sdss_r_dr12',\n",
       "       'mag_aper3_sdss_r_dr12', 'magerr_aper3_sdss_r_dr12',\n",
       "       'id_sdss_i_dr12', 'tile_name_sdss_i_dr12', 'alpha_sdss_i_dr12',\n",
       "       'delta_sdss_i_dr12', 'flags_sdss_i_dr12',\n",
       "       'flux_radius_sdss_i_dr12', 'fwhm_sdss_i_dr12',\n",
       "       'mag_auto_sdss_i_dr12', 'magerr_auto_sdss_i_dr12',\n",
       "       'mag_aper2_sdss_i_dr12', 'magerr_aper2_sdss_i_dr12',\n",
       "       'mag_aper3_sdss_i_dr12', 'magerr_aper3_sdss_i_dr12',\n",
       "       'id_sdss_z_dr12', 'tile_name_sdss_z_dr12', 'alpha_sdss_z_dr12',\n",
       "       'delta_sdss_z_dr12', 'flags_sdss_z_dr12',\n",
       "       'flux_radius_sdss_z_dr12', 'fwhm_sdss_z_dr12',\n",
       "       'mag_auto_sdss_z_dr12', 'magerr_auto_sdss_z_dr12',\n",
       "       'mag_aper2_sdss_z_dr12', 'magerr_aper2_sdss_z_dr12',\n",
       "       'mag_aper3_sdss_z_dr12', 'magerr_aper3_sdss_z_dr12',\n",
       "       'id_cfhtwide_u_dr7', 'tile_name_cfhtwide_u_dr7',\n",
       "       'alpha_cfhtwide_u_dr7', 'delta_cfhtwide_u_dr7',\n",
       "       'flags_cfhtwide_u_dr7', 'flux_radius_cfhtwide_u_dr7',\n",
       "       'mag_auto_cfhtwide_u_dr7', 'magerr_auto_cfhtwide_u_dr7',\n",
       "       'mag_aper3_cfhtwide_u_dr7', 'magerr_aper3_cfhtwide_u_dr7',\n",
       "       'id_cfhtwide_g_dr7', 'tile_name_cfhtwide_g_dr7',\n",
       "       'alpha_cfhtwide_g_dr7', 'delta_cfhtwide_g_dr7',\n",
       "       'flags_cfhtwide_g_dr7', 'flux_radius_cfhtwide_g_dr7',\n",
       "       'mag_auto_cfhtwide_g_dr7', 'magerr_auto_cfhtwide_g_dr7',\n",
       "       'mag_aper3_cfhtwide_g_dr7', 'magerr_aper3_cfhtwide_g_dr7',\n",
       "       'id_cfhtwide_r_dr7', 'tile_name_cfhtwide_r_dr7',\n",
       "       'alpha_cfhtwide_r_dr7', 'delta_cfhtwide_r_dr7',\n",
       "       'flags_cfhtwide_r_dr7', 'flux_radius_cfhtwide_r_dr7',\n",
       "       'mag_auto_cfhtwide_r_dr7', 'magerr_auto_cfhtwide_r_dr7',\n",
       "       'mag_aper3_cfhtwide_r_dr7', 'magerr_aper3_cfhtwide_r_dr7',\n",
       "       'id_cfhtwide_i_dr7', 'tile_name_cfhtwide_i_dr7',\n",
       "       'alpha_cfhtwide_i_dr7', 'delta_cfhtwide_i_dr7',\n",
       "       'flags_cfhtwide_i_dr7', 'flux_radius_cfhtwide_i_dr7',\n",
       "       'mag_auto_cfhtwide_i_dr7', 'magerr_auto_cfhtwide_i_dr7',\n",
       "       'mag_aper3_cfhtwide_i_dr7', 'magerr_aper3_cfhtwide_i_dr7',\n",
       "       'id_cfhtwide_z_dr7', 'tile_name_cfhtwide_z_dr7',\n",
       "       'alpha_cfhtwide_z_dr7', 'delta_cfhtwide_z_dr7',\n",
       "       'flags_cfhtwide_z_dr7', 'flux_radius_cfhtwide_z_dr7',\n",
       "       'mag_auto_cfhtwide_z_dr7', 'magerr_auto_cfhtwide_z_dr7',\n",
       "       'mag_aper3_cfhtwide_z_dr7', 'magerr_aper3_cfhtwide_z_dr7',\n",
       "       'id_kids_u_dr2', 'tile_name_kids_u_dr2', 'alpha_kids_u_dr2',\n",
       "       'delta_kids_u_dr2', 'flags_kids_u_dr2', 'flux_radius_kids_u_dr2',\n",
       "       'kron_radius_kids_u_dr2', 'fwhm_kids_u_dr2', 'mag_auto_kids_u_dr2',\n",
       "       'magerr_auto_kids_u_dr2', 'mag_aper2_kids_u_dr2',\n",
       "       'magerr_aper2_kids_u_dr2', 'mag_aper3_kids_u_dr2',\n",
       "       'magerr_aper3_kids_u_dr2', 'id_kids_g_dr2', 'tile_name_kids_g_dr2',\n",
       "       'alpha_kids_g_dr2', 'delta_kids_g_dr2', 'flags_kids_g_dr2',\n",
       "       'flux_radius_kids_g_dr2', 'kron_radius_kids_g_dr2',\n",
       "       'fwhm_kids_g_dr2', 'mag_auto_kids_g_dr2', 'magerr_auto_kids_g_dr2',\n",
       "       'mag_aper2_kids_g_dr2', 'magerr_aper2_kids_g_dr2',\n",
       "       'mag_aper3_kids_g_dr2', 'magerr_aper3_kids_g_dr2', 'id_kids_r_dr2',\n",
       "       'tile_name_kids_r_dr2', 'alpha_kids_r_dr2', 'delta_kids_r_dr2',\n",
       "       'flags_kids_r_dr2', 'flux_radius_kids_r_dr2',\n",
       "       'kron_radius_kids_r_dr2', 'fwhm_kids_r_dr2', 'mag_auto_kids_r_dr2',\n",
       "       'magerr_auto_kids_r_dr2', 'mag_aper2_kids_r_dr2',\n",
       "       'magerr_aper2_kids_r_dr2', 'mag_aper3_kids_r_dr2',\n",
       "       'magerr_aper3_kids_r_dr2', 'id_kids_i_dr2', 'tile_name_kids_i_dr2',\n",
       "       'alpha_kids_i_dr2', 'delta_kids_i_dr2', 'flags_kids_i_dr2',\n",
       "       'flux_radius_kids_i_dr2', 'kron_radius_kids_i_dr2',\n",
       "       'fwhm_kids_i_dr2', 'mag_auto_kids_i_dr2', 'magerr_auto_kids_i_dr2',\n",
       "       'mag_aper2_kids_i_dr2', 'magerr_aper2_kids_i_dr2',\n",
       "       'mag_aper3_kids_i_dr2', 'magerr_aper3_kids_i_dr2',\n",
       "       'id_viking_z_dr2', 'tile_name_viking_z_dr2', 'alpha_viking_z_dr2',\n",
       "       'delta_viking_z_dr2', 'flags_viking_z_dr2',\n",
       "       'flux_radius_viking_z_dr2', 'kron_radius_viking_z_dr2',\n",
       "       'fwhm_viking_z_dr2', 'mag_auto_viking_z_dr2',\n",
       "       'magerr_auto_viking_z_dr2', 'mag_aper2_viking_z_dr2',\n",
       "       'magerr_aper2_viking_z_dr2', 'mag_aper3_viking_z_dr2',\n",
       "       'magerr_aper3_viking_z_dr2', 'id_viking_y_dr2',\n",
       "       'tile_name_viking_y_dr2', 'alpha_viking_y_dr2',\n",
       "       'delta_viking_y_dr2', 'flags_viking_y_dr2',\n",
       "       'flux_radius_viking_y_dr2', 'kron_radius_viking_y_dr2',\n",
       "       'fwhm_viking_y_dr2', 'mag_auto_viking_y_dr2',\n",
       "       'magerr_auto_viking_y_dr2', 'mag_aper2_viking_y_dr2',\n",
       "       'magerr_aper2_viking_y_dr2', 'mag_aper3_viking_y_dr2',\n",
       "       'magerr_aper3_viking_y_dr2', 'id_viking_j_dr2',\n",
       "       'tile_name_viking_j_dr2', 'alpha_viking_j_dr2',\n",
       "       'delta_viking_j_dr2', 'flags_viking_j_dr2',\n",
       "       'flux_radius_viking_j_dr2', 'kron_radius_viking_j_dr2',\n",
       "       'fwhm_viking_j_dr2', 'mag_auto_viking_j_dr2',\n",
       "       'magerr_auto_viking_j_dr2', 'mag_aper2_viking_j_dr2',\n",
       "       'magerr_aper2_viking_j_dr2', 'mag_aper3_viking_j_dr2',\n",
       "       'magerr_aper3_viking_j_dr2', 'id_viking_h_dr2',\n",
       "       'tile_name_viking_h_dr2', 'alpha_viking_h_dr2',\n",
       "       'delta_viking_h_dr2', 'flags_viking_h_dr2',\n",
       "       'flux_radius_viking_h_dr2', 'kron_radius_viking_h_dr2',\n",
       "       'fwhm_viking_h_dr2', 'mag_auto_viking_h_dr2',\n",
       "       'magerr_auto_viking_h_dr2', 'mag_aper2_viking_h_dr2',\n",
       "       'magerr_aper2_viking_h_dr2', 'mag_aper3_viking_h_dr2',\n",
       "       'magerr_aper3_viking_h_dr2', 'id_viking_k_dr2',\n",
       "       'tile_name_viking_k_dr2', 'alpha_viking_k_dr2',\n",
       "       'delta_viking_k_dr2', 'flags_viking_k_dr2',\n",
       "       'flux_radius_viking_k_dr2', 'kron_radius_viking_k_dr2',\n",
       "       'fwhm_viking_k_dr2', 'mag_auto_viking_k_dr2',\n",
       "       'magerr_auto_viking_k_dr2', 'mag_aper2_viking_k_dr2',\n",
       "       'magerr_aper2_viking_k_dr2', 'mag_aper3_viking_k_dr2',\n",
       "       'magerr_aper3_viking_k_dr2', 'id_video_z_dr3',\n",
       "       'tile_name_video_z_dr3', 'alpha_video_z_dr3', 'delta_video_z_dr3',\n",
       "       'flags_video_z_dr3', 'flux_radius_video_z_dr3',\n",
       "       'kron_radius_video_z_dr3', 'fwhm_video_z_dr3',\n",
       "       'mag_auto_video_z_dr3', 'magerr_auto_video_z_dr3',\n",
       "       'mag_aper2_video_z_dr3', 'magerr_aper2_video_z_dr3',\n",
       "       'mag_aper3_video_z_dr3', 'magerr_aper3_video_z_dr3',\n",
       "       'id_video_y_dr3', 'tile_name_video_y_dr3', 'alpha_video_y_dr3',\n",
       "       'delta_video_y_dr3', 'flags_video_y_dr3',\n",
       "       'flux_radius_video_y_dr3', 'kron_radius_video_y_dr3',\n",
       "       'fwhm_video_y_dr3', 'mag_auto_video_y_dr3',\n",
       "       'magerr_auto_video_y_dr3', 'mag_aper2_video_y_dr3',\n",
       "       'magerr_aper2_video_y_dr3', 'mag_aper3_video_y_dr3',\n",
       "       'magerr_aper3_video_y_dr3', 'id_video_j_dr3',\n",
       "       'tile_name_video_j_dr3', 'alpha_video_j_dr3', 'delta_video_j_dr3',\n",
       "       'flags_video_j_dr3', 'flux_radius_video_j_dr3',\n",
       "       'kron_radius_video_j_dr3', 'fwhm_video_j_dr3',\n",
       "       'mag_auto_video_j_dr3', 'magerr_auto_video_j_dr3',\n",
       "       'mag_aper2_video_j_dr3', 'magerr_aper2_video_j_dr3',\n",
       "       'mag_aper3_video_j_dr3', 'magerr_aper3_video_j_dr3',\n",
       "       'id_video_h_dr3', 'tile_name_video_h_dr3', 'alpha_video_h_dr3',\n",
       "       'delta_video_h_dr3', 'flags_video_h_dr3',\n",
       "       'flux_radius_video_h_dr3', 'kron_radius_video_h_dr3',\n",
       "       'fwhm_video_h_dr3', 'mag_auto_video_h_dr3',\n",
       "       'magerr_auto_video_h_dr3', 'mag_aper2_video_h_dr3',\n",
       "       'magerr_aper2_video_h_dr3', 'mag_aper3_video_h_dr3',\n",
       "       'magerr_aper3_video_h_dr3', 'id_video_k_dr3',\n",
       "       'tile_name_video_k_dr3', 'alpha_video_k_dr3', 'delta_video_k_dr3',\n",
       "       'flags_video_k_dr3', 'flux_radius_video_k_dr3',\n",
       "       'kron_radius_video_k_dr3', 'fwhm_video_k_dr3',\n",
       "       'mag_auto_video_k_dr3', 'magerr_auto_video_k_dr3',\n",
       "       'mag_aper2_video_k_dr3', 'magerr_aper2_video_k_dr3',\n",
       "       'mag_aper3_video_k_dr3', 'magerr_aper3_video_k_dr3',\n",
       "       'id_GALEX_DR67', 'alpha_GALEX_DR67', 'delta_galex_dr67',\n",
       "       'mag_aper3_galex_nuv_dr67', 'magerr_aper3_galex_nuv_dr67',\n",
       "       'mag_auto_galex_nuv_dr67', 'magerr_auto_galex_nuv_dr67',\n",
       "       'mag_aper3_galex_fuv_dr67', 'magerr_aper3_galex_fuv_dr67',\n",
       "       'mag_auto_galex_fuv_dr67', 'magerr_auto_galex_fuv_dr67',\n",
       "       'id_AllWISE', 'alpha_AllWISE', 'delta_AllWISE',\n",
       "       'mag_auto_AllWISE_W1', 'mag_auto_AllWISE_W2',\n",
       "       'mag_auto_AllWISE_W3', 'mag_auto_AllWISE_W4',\n",
       "       'magerr_auto_AllWISE_W1', 'magerr_auto_AllWISE_W2',\n",
       "       'magerr_auto_AllWISE_W3', 'magerr_auto_AllWISE_W4', 'fuv', 'nuv',\n",
       "       'u', 'g', 'r', 'i', 'z', 'y', 'j', 'h', 'k', 'w1', 'w2', 'w3',\n",
       "       'w4', 'fuv3', 'nuv3', 'u3', 'g3', 'r3', 'i3', 'z3', 'y3', 'j3',\n",
       "       'h3', 'k3', 'fuv_err', 'nuv_err', 'u_err', 'g_err', 'r_err',\n",
       "       'i_err', 'z_err', 'y_err', 'j_err', 'h_err', 'k_err', 'w1_err',\n",
       "       'w2_err', 'w3_err', 'w4_err', 'fuv3_err', 'nuv3_err', 'u3_err',\n",
       "       'g3_err', 'r3_err', 'i3_err', 'z3_err', 'y3_err', 'j3_err',\n",
       "       'h3_err', 'k3_err', 'u_hlr', 'g_hlr', 'r_hlr', 'i_hlr', 'z_hlr',\n",
       "       'y_hlr', 'j_hlr', 'h_hlr', 'k_hlr', 'CONTEXT', 'Nband',\n",
       "       'IDENT_ALL_MODELS', 'Z_BEST_ALL_MODELS', 'Z_BEST68_LOW_ALL_MODELS',\n",
       "       'Z_BEST68_HIGH_ALL_MODELS', 'Z_ML_ALL_MODELS',\n",
       "       'CHI_BEST_ALL_MODELS', 'MOD_BEST_ALL_MODELS',\n",
       "       'EXTLAW_BEST_ALL_MODELS', 'EBV_BEST_ALL_MODELS',\n",
       "       'MAG_ABS_BEST_ALL_MODELS', 'PDZ_BEST_ALL_MODELS',\n",
       "       'SCALE_BEST_ALL_MODELS', 'DIST_MOD_BEST_ALL_MODELS',\n",
       "       'NBAND_USED_ALL_MODELS', 'Z_SEC_ALL_MODELS', 'CHI_SEC_ALL_MODELS',\n",
       "       'MOD_SEC_ALL_MODELS', 'MOD_STAR_ALL_MODELS', 'CHI_STAR_ALL_MODELS',\n",
       "       'CONTEXT_ALL_MODELS', 'ZSPEC_ALL_MODELS', 'IDENT_PASSIVE_pure',\n",
       "       'Z_BEST_PASSIVE_pure', 'Z_BEST68_LOW_PASSIVE_pure',\n",
       "       'Z_BEST68_HIGH_PASSIVE_pure', 'Z_ML_PASSIVE_pure',\n",
       "       'CHI_BEST_PASSIVE_pure', 'MOD_BEST_PASSIVE_pure',\n",
       "       'EXTLAW_BEST_PASSIVE_pure', 'EBV_BEST_PASSIVE_pure',\n",
       "       'MAG_ABS_BEST_PASSIVE_pure', 'PDZ_BEST_PASSIVE_pure',\n",
       "       'SCALE_BEST_PASSIVE_pure', 'DIST_MOD_BEST_PASSIVE_pure',\n",
       "       'NBAND_USED_PASSIVE_pure', 'Z_SEC_PASSIVE_pure',\n",
       "       'CHI_SEC_PASSIVE_pure', 'MOD_SEC_PASSIVE_pure',\n",
       "       'MOD_STAR_PASSIVE_pure', 'CHI_STAR_PASSIVE_pure',\n",
       "       'CONTEXT_PASSIVE_pure', 'ZSPEC_PASSIVE_pure',\n",
       "       'IDENT_STARFORMING_pure', 'Z_BEST_STARFORMING_pure',\n",
       "       'Z_BEST68_LOW_STARFORMING_pure', 'Z_BEST68_HIGH_STARFORMING_pure',\n",
       "       'Z_ML_STARFORMING_pure', 'CHI_BEST_STARFORMING_pure',\n",
       "       'MOD_BEST_STARFORMING_pure', 'EXTLAW_BEST_STARFORMING_pure',\n",
       "       'EBV_BEST_STARFORMING_pure', 'MAG_ABS_BEST_STARFORMING_pure',\n",
       "       'PDZ_BEST_STARFORMING_pure', 'SCALE_BEST_STARFORMING_pure',\n",
       "       'DIST_MOD_BEST_STARFORMING_pure', 'NBAND_USED_STARFORMING_pure',\n",
       "       'Z_SEC_STARFORMING_pure', 'CHI_SEC_STARFORMING_pure',\n",
       "       'MOD_SEC_STARFORMING_pure', 'MOD_STAR_STARFORMING_pure',\n",
       "       'CHI_STAR_STARFORMING_pure', 'CONTEXT_STARFORMING_pure',\n",
       "       'ZSPEC_STARFORMING_pure', 'IDENT_EXTREME_STARFORMING_pure',\n",
       "       'Z_BEST_EXTREME_STARFORMING_pure',\n",
       "       'Z_BEST68_LOW_EXTREME_STARFORMING_pure',\n",
       "       'Z_BEST68_HIGH_EXTREME_STARFORMING_pure',\n",
       "       'Z_ML_EXTREME_STARFORMING_pure',\n",
       "       'CHI_BEST_EXTREME_STARFORMING_pure',\n",
       "       'MOD_BEST_EXTREME_STARFORMING_pure',\n",
       "       'EXTLAW_BEST_EXTREME_STARFORMING_pure',\n",
       "       'EBV_BEST_EXTREME_STARFORMING_pure',\n",
       "       'MAG_ABS_BEST_EXTREME_STARFORMING_pure',\n",
       "       'PDZ_BEST_EXTREME_STARFORMING_pure',\n",
       "       'SCALE_BEST_EXTREME_STARFORMING_pure',\n",
       "       'DIST_MOD_BEST_EXTREME_STARFORMING_pure',\n",
       "       'NBAND_USED_EXTREME_STARFORMING_pure',\n",
       "       'Z_SEC_EXTREME_STARFORMING_pure',\n",
       "       'CHI_SEC_EXTREME_STARFORMING_pure',\n",
       "       'MOD_SEC_EXTREME_STARFORMING_pure',\n",
       "       'MOD_STAR_EXTREME_STARFORMING_pure',\n",
       "       'CHI_STAR_EXTREME_STARFORMING_pure',\n",
       "       'CONTEXT_EXTREME_STARFORMING_pure',\n",
       "       'ZSPEC_EXTREME_STARFORMING_pure', 'IDENT_AGN_pure',\n",
       "       'Z_BEST_AGN_pure', 'Z_BEST68_LOW_AGN_pure',\n",
       "       'Z_BEST68_HIGH_AGN_pure', 'Z_ML_AGN_pure', 'CHI_BEST_AGN_pure',\n",
       "       'MOD_BEST_AGN_pure', 'EXTLAW_BEST_AGN_pure', 'EBV_BEST_AGN_pure',\n",
       "       'MAG_ABS_BEST_AGN_pure', 'PDZ_BEST_AGN_pure',\n",
       "       'SCALE_BEST_AGN_pure', 'DIST_MOD_BEST_AGN_pure',\n",
       "       'NBAND_USED_AGN_pure', 'Z_SEC_AGN_pure', 'CHI_SEC_AGN_pure',\n",
       "       'MOD_SEC_AGN_pure', 'MOD_STAR_AGN_pure', 'CHI_STAR_AGN_pure',\n",
       "       'CONTEXT_AGN_pure', 'ZSPEC_AGN_pure', 'IDENT_QSO_pure',\n",
       "       'Z_BEST_QSO_pure', 'Z_BEST68_LOW_QSO_pure',\n",
       "       'Z_BEST68_HIGH_QSO_pure', 'Z_ML_QSO_pure', 'CHI_BEST_QSO_pure',\n",
       "       'MOD_BEST_QSO_pure', 'EXTLAW_BEST_QSO_pure', 'EBV_BEST_QSO_pure',\n",
       "       'MAG_ABS_BEST_QSO_pure', 'PDZ_BEST_QSO_pure',\n",
       "       'SCALE_BEST_QSO_pure', 'DIST_MOD_BEST_QSO_pure',\n",
       "       'NBAND_USED_QSO_pure', 'Z_SEC_QSO_pure', 'CHI_SEC_QSO_pure',\n",
       "       'MOD_SEC_QSO_pure', 'MOD_STAR_QSO_pure', 'CHI_STAR_QSO_pure',\n",
       "       'CONTEXT_QSO_pure', 'ZSPEC_QSO_pure', 'IDENT_STAR', 'Z_BEST_STAR',\n",
       "       'Z_BEST68_LOW_STAR', 'Z_BEST68_HIGH_STAR', 'Z_ML_STAR',\n",
       "       'CHI_BEST_STAR', 'MOD_BEST_STAR', 'EXTLAW_BEST_STAR',\n",
       "       'EBV_BEST_STAR', 'MAG_ABS_BEST_STAR', 'PDZ_BEST_STAR',\n",
       "       'SCALE_BEST_STAR', 'DIST_MOD_BEST_STAR', 'NBAND_USED_STAR',\n",
       "       'Z_SEC_STAR', 'CHI_SEC_STAR', 'MOD_SEC_STAR', 'MOD_STAR_STAR',\n",
       "       'CHI_STAR_STAR', 'CONTEXT_STAR', 'ZSPEC_STAR', 'IDENT_GALAXIES',\n",
       "       'Z_BEST_GALAXIES', 'Z_BEST68_LOW_GALAXIES',\n",
       "       'Z_BEST68_HIGH_GALAXIES', 'Z_ML_GALAXIES', 'CHI_BEST_GALAXIES',\n",
       "       'MOD_BEST_GALAXIES', 'EXTLAW_BEST_GALAXIES', 'EBV_BEST_GALAXIES',\n",
       "       'MAG_ABS_BEST_GALAXIES', 'PDZ_BEST_GALAXIES',\n",
       "       'SCALE_BEST_GALAXIES', 'DIST_MOD_BEST_GALAXIES',\n",
       "       'NBAND_USED_GALAXIES', 'Z_SEC_GALAXIES', 'CHI_SEC_GALAXIES',\n",
       "       'MOD_SEC_GALAXIES', 'MOD_STAR_GALAXIES', 'CHI_STAR_GALAXIES',\n",
       "       'CONTEXT_GALAXIES', 'ZSPEC_GALAXIES', 'IDENT_AGN', 'Z_BEST_AGN',\n",
       "       'Z_BEST68_LOW_AGN', 'Z_BEST68_HIGH_AGN', 'Z_ML_AGN',\n",
       "       'CHI_BEST_AGN', 'MOD_BEST_AGN', 'EXTLAW_BEST_AGN', 'EBV_BEST_AGN',\n",
       "       'MAG_ABS_BEST_AGN', 'PDZ_BEST_AGN', 'SCALE_BEST_AGN',\n",
       "       'DIST_MOD_BEST_AGN', 'NBAND_USED_AGN', 'Z_SEC_AGN', 'CHI_SEC_AGN',\n",
       "       'MOD_SEC_AGN', 'MOD_STAR_AGN', 'CHI_STAR_AGN', 'CONTEXT_AGN',\n",
       "       'ZSPEC_AGN', 'IDENT_QSO', 'Z_BEST_QSO', 'Z_BEST68_LOW_QSO',\n",
       "       'Z_BEST68_HIGH_QSO', 'Z_ML_QSO', 'CHI_BEST_QSO', 'MOD_BEST_QSO',\n",
       "       'EXTLAW_BEST_QSO', 'EBV_BEST_QSO', 'MAG_ABS_BEST_QSO',\n",
       "       'PDZ_BEST_QSO', 'SCALE_BEST_QSO', 'DIST_MOD_BEST_QSO',\n",
       "       'NBAND_USED_QSO', 'Z_SEC_QSO', 'CHI_SEC_QSO', 'MOD_SEC_QSO',\n",
       "       'MOD_STAR_QSO', 'CHI_STAR_QSO', 'CONTEXT_QSO', 'ZSPEC_QSO',\n",
       "       'IDENT_starforming', 'Z_BEST_starforming',\n",
       "       'Z_BEST68_LOW_starforming', 'Z_BEST68_HIGH_starforming',\n",
       "       'Z_ML_starforming', 'CHI_BEST_starforming', 'MOD_BEST_starforming',\n",
       "       'EXTLAW_BEST_starforming', 'EBV_BEST_starforming',\n",
       "       'MAG_ABS_BEST_starforming', 'PDZ_BEST_starforming',\n",
       "       'SCALE_BEST_starforming', 'DIST_MOD_BEST_starforming',\n",
       "       'NBAND_USED_starforming', 'Z_SEC_starforming',\n",
       "       'CHI_SEC_starforming', 'MOD_SEC_starforming',\n",
       "       'MOD_STAR_starforming', 'CHI_STAR_starforming',\n",
       "       'CONTEXT_starforming', 'ZSPEC_starforming', 'Dz_ALL_MODELS',\n",
       "       'Dz_GALAXIES', 'Dz_AGN', 'Dz_QSO', 'Dz_PASSIVE_pure',\n",
       "       'Dz_STARFORMING_pure', 'Dz_EXTREME_STARFORMING_pure',\n",
       "       'Dz_starforming', 'Dz_AGN_pure', 'Dz_QSO_pure', 'CASE_I_a0_05',\n",
       "       'CASE_I_a0_01', 'CASE_I_a0_001', 'CASE_I_a0', 'CASE_II_a0_05',\n",
       "       'CASE_II_a0_01', 'CASE_II_a0_001', 'CASE_II_a0', 'CASE_II_b0_05',\n",
       "       'CASE_II_b0_01', 'CASE_II_b0_001', 'CASE_II_b0', 'CASE_III_a0_05',\n",
       "       'CASE_III_a0_01', 'CASE_III_a0_001', 'CASE_III_a0',\n",
       "       'CASE_III_b0_05', 'CASE_III_b0_01', 'CASE_III_b0_001',\n",
       "       'CASE_III_b0', 'CASE_III_c0_05', 'CASE_III_c0_01',\n",
       "       'CASE_III_c0_001', 'CASE_III_c0', 'CASE_III_d0_05',\n",
       "       'CASE_III_d0_01', 'CASE_III_d0_001', 'CASE_III_d0', 'zphot_0',\n",
       "       'zphot_I_a0_05', 'zphot_I_a0_01', 'zphot_I_a0_001', 'zphot_I_a0',\n",
       "       'zphot_II_a0_05', 'zphot_II_a0_01', 'zphot_II_a0_001',\n",
       "       'zphot_II_a0', 'zphot_II_b0_05', 'zphot_II_b0_01',\n",
       "       'zphot_II_b0_001', 'zphot_II_b0', 'zphot_III_a0_05',\n",
       "       'zphot_III_a0_01', 'zphot_III_a0_001', 'zphot_III_a0',\n",
       "       'zphot_III_b0_05', 'zphot_III_b0_01', 'zphot_III_b0_001',\n",
       "       'zphot_III_b0', 'zphot_III_c0_05', 'zphot_III_c0_01',\n",
       "       'zphot_III_c0_001', 'zphot_III_c0', 'zphot_III_d0_05',\n",
       "       'zphot_III_d0_01', 'zphot_III_d0_001', 'zphot_III_d0', 'outlier_0',\n",
       "       'outlier_I_a0_05', 'outlier_I_a0_01', 'outlier_I_a0_001',\n",
       "       'outlier_I_a0', 'outlier_II_a0_05', 'outlier_II_a0_01',\n",
       "       'outlier_II_a0_001', 'outlier_II_a0', 'outlier_II_b0_05',\n",
       "       'outlier_II_b0_01', 'outlier_II_b0_001', 'outlier_II_b0',\n",
       "       'outlier_III_a0_05', 'outlier_III_a0_01', 'outlier_III_a0_001',\n",
       "       'outlier_III_a0', 'outlier_III_b0_05', 'outlier_III_b0_01',\n",
       "       'outlier_III_b0_001', 'outlier_III_b0', 'outlier_III_c0_05',\n",
       "       'outlier_III_c0_01', 'outlier_III_c0_001', 'outlier_III_c0',\n",
       "       'outlier_III_d0_05', 'outlier_III_d0_01', 'outlier_III_d0_001',\n",
       "       'outlier_III_d0', 'STAR', 'train', 'Pr[star]', 'Pr[galaxy]_case_I',\n",
       "       'Pr[extnv]_case_I', 'Pr[qsov]_case_I', 'Pr[outlier]_case_I',\n",
       "       'zopt_a_0_case_I', 'zopt_a_1_case_I', 'zopt_a_2_case_I',\n",
       "       'zopt_a_3_case_I', 'zopt_b_0_case_I', 'zopt_b_1_case_I',\n",
       "       'zopt_b_2_case_I', 'zopt_b_3_case_I', 'class_opt_a_0_case_I',\n",
       "       'class_opt_a_1_case_I', 'class_opt_a_2_case_I',\n",
       "       'class_opt_a_3_case_I', 'class_opt_b_0_case_I',\n",
       "       'class_opt_b_1_case_I', 'class_opt_b_2_case_I',\n",
       "       'class_opt_b_3_case_I', 'Pr[passive]_case_II',\n",
       "       'Pr[starforming]_case_II', 'Pr[agn]_case_II', 'Pr[qso]_case_II',\n",
       "       'Pr[outlier]_case_II', 'zopt_a_0_case_II', 'zopt_a_1_case_II',\n",
       "       'zopt_a_2_case_II', 'zopt_a_3_case_II', 'zopt_b_0_case_II',\n",
       "       'zopt_b_1_case_II', 'zopt_b_2_case_II', 'zopt_b_3_case_II',\n",
       "       'class_opt_a_0_case_II', 'class_opt_a_1_case_II',\n",
       "       'class_opt_a_2_case_II', 'class_opt_a_3_case_II',\n",
       "       'class_opt_b_0_case_II', 'class_opt_b_1_case_II',\n",
       "       'class_opt_b_2_case_II', 'class_opt_b_3_case_II',\n",
       "       'Pr[passive]_case_III', 'Pr[starforming]_case_III',\n",
       "       'Pr[starburst]_case_III', 'Pr[agn]_case_III', 'Pr[qso]_case_III',\n",
       "       'Pr[outlier]_case_III', 'zopt_a_0_case_III', 'zopt_a_1_case_III',\n",
       "       'zopt_a_2_case_III', 'zopt_a_3_case_III', 'zopt_b_0_case_III',\n",
       "       'zopt_b_1_case_III', 'zopt_b_2_case_III', 'zopt_b_3_case_III',\n",
       "       'class_opt_a_0_case_III', 'class_opt_a_1_case_III',\n",
       "       'class_opt_a_2_case_III', 'class_opt_a_3_case_III',\n",
       "       'class_opt_b_0_case_III', 'class_opt_b_1_case_III',\n",
       "       'class_opt_b_2_case_III', 'class_opt_b_3_case_III'], dtype=object)"
      ]
     },
     "execution_count": 32,
     "metadata": {},
     "output_type": "execute_result"
    }
   ],
   "source": [
    "df.columns.values"
   ]
  },
  {
   "cell_type": "code",
   "execution_count": 40,
   "metadata": {},
   "outputs": [
    {
     "data": {
      "text/plain": [
       "unknown    16\n",
       "galaxy      9\n",
       "qso         8\n",
       "agn         2\n",
       "Name: hclass_name, dtype: int64"
      ]
     },
     "execution_count": 40,
     "metadata": {},
     "output_type": "execute_result"
    }
   ],
   "source": [
    "hclass_schema = {\n",
    "    1: 'galaxy',\n",
    "    2: 'agn',\n",
    "    3: 'qso',\n",
    "    -1: 'unknown'\n",
    "}\n",
    "df['hclass_name'] = df['hclass'].apply(lambda x: hclass_schema[x])\n",
    "df['hclass_name'].value_counts()"
   ]
  },
  {
   "cell_type": "code",
   "execution_count": 48,
   "metadata": {},
   "outputs": [],
   "source": [
    "rf_classes = ['passive', 'starforming', 'starburst', 'agn', 'qso', 'outlier']\n"
   ]
  },
  {
   "cell_type": "code",
   "execution_count": 49,
   "metadata": {},
   "outputs": [
    {
     "name": "stdout",
     "output_type": "stream",
     "text": [
      "passive: 9.75\n",
      "starforming: 6.82\n",
      "starburst: 6.83\n",
      "agn: 4.55\n",
      "qso: 7.05\n",
      "outlier: 0.34\n"
     ]
    }
   ],
   "source": [
    "for c in rf_classes:\n",
    "    print('{}: {:.2f}'.format(c, df[f'Pr[{c}]_case_III'].sum()))"
   ]
  },
  {
   "cell_type": "code",
   "execution_count": 51,
   "metadata": {},
   "outputs": [
    {
     "data": {
      "text/plain": [
       "<matplotlib.axes._subplots.AxesSubplot at 0x7f11eb740950>"
      ]
     },
     "execution_count": 51,
     "metadata": {},
     "output_type": "execute_result"
    },
    {
     "data": {
      "image/png": "[encoded data removed]",
      "text/plain": [
       "<Figure size 432x288 with 1 Axes>"
      ]
     },
     "metadata": {
      "needs_background": "light"
     },
     "output_type": "display_data"
    }
   ],
   "source": [
    "# check p's sum to 1\n",
    "rf_cols = [f'Pr[{c}]_case_III' for c in rf_classes]\n",
    "df[rf_cols].sum(axis=1).hist()\n",
    "# close enough!"
   ]
  },
  {
   "cell_type": "code",
   "execution_count": 59,
   "metadata": {},
   "outputs": [],
   "source": [
    "def does_galaxy_load(galaxy):\n",
    "    try:\n",
    "        _ = load_photometry.load_maggies_from_galaxy(galaxy, reliable=True)\n",
    "        return True\n",
    "    except ValueError:\n",
    "        return False"
   ]
  },
  {
   "cell_type": "code",
   "execution_count": 60,
   "metadata": {},
   "outputs": [
    {
     "data": {
      "text/plain": [
       "True     34\n",
       "False     1\n",
       "Name: has_valid_filters, dtype: int64"
      ]
     },
     "execution_count": 60,
     "metadata": {},
     "output_type": "execute_result"
    }
   ],
   "source": [
    "df['has_valid_filters'] = df.apply(does_galaxy_load, axis=1)\n",
    "df['has_valid_filters'].value_counts()"
   ]
  },
  {
   "cell_type": "code",
   "execution_count": 66,
   "metadata": {},
   "outputs": [],
   "source": [
    "df = df.query('has_valid_filters==True')\n",
    "df.to_parquet(os.path.join(data_dir, 'uk_ir_selection.parquet'))\n",
    "df.to_parquet('data/uk_ir_selection.parquet')"
   ]
  },
  {
   "cell_type": "code",
   "execution_count": 11,
   "metadata": {},
   "outputs": [],
   "source": [
    "# deep_emulator.normalise_photometry(maggies_unc)"
   ]
  },
  {
   "cell_type": "code",
   "execution_count": 12,
   "metadata": {},
   "outputs": [],
   "source": [
    "# parquet_loc = fits_loc.rstrip('.fits') + '.parquet'\n",
    "# parquet_loc\n",
    "# if not os.path.exists(parquet_loc):\n",
    "#     df.to_parquet(parquet_loc)"
   ]
  },
  {
   "cell_type": "code",
   "execution_count": null,
   "metadata": {},
   "outputs": [],
   "source": []
  },
  {
   "cell_type": "code",
   "execution_count": null,
   "metadata": {},
   "outputs": [],
   "source": []
  }
 ],
 "metadata": {
  "kernelspec": {
   "display_name": "Python 3",
   "language": "python",
   "name": "python3"
  },
  "language_info": {
   "codemirror_mode": {
    "name": "ipython",
    "version": 3
   },
   "file_extension": ".py",
   "mimetype": "text/x-python",
   "name": "python",
   "nbconvert_exporter": "python",
   "pygments_lexer": "ipython3",
   "version": "3.7.5"
  }
 },
 "nbformat": 4,
 "nbformat_minor": 4
}
