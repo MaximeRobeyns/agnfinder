{
 "cells": [
  {
   "cell_type": "markdown",
   "id": "c4f18f19-ea83-4b53-9fc1-b111e9cb491b",
   "metadata": {},
   "source": [
    "# AGNFinder CVAE Framework Test (1)\n",
    "\n",
    "**Author:** Maxime Robeyns (2021) <maximerobeyns@gmail.com>\n",
    "\n",
    "In this notebook, we perform conditional handwritten digit generation to test the CVAE implementation in the AGNFinder codebase. We use the MNIST dataset for training."
   ]
  },
  {
   "cell_type": "code",
   "execution_count": 1,
   "id": "fd80a5cd-4274-41f5-be55-68f224cf2f0c",
   "metadata": {},
   "outputs": [],
   "source": [
    "import os\n",
    "import numpy as np\n",
    "import torch as t\n",
    "import torch.nn as nn\n",
    "\n",
    "from typing import Union\n",
    "from IPython import display\n",
    "from matplotlib import pyplot as plt\n",
    "from torch.utils.data import DataLoader\n",
    "from torchvision import datasets, transforms\n",
    "\n",
    "import agnfinder.inference.distributions as dist\n",
    "\n",
    "from agnfinder import config as cfg\n",
    "from agnfinder.types import DistParams, arch_t\n",
    "from agnfinder.inference.utils import _load_mnist, _onehot\n",
    "from agnfinder.inference.base import CVAE, CVAEPrior, CVAEEnc, CVAEDec, \\\n",
    "                                      CVAEParams, _CVAE_Dist, _CVAE_RDist"
   ]
  },
  {
   "cell_type": "code",
   "execution_count": null,
   "id": "31083021-5795-4e37-9801-5701606ffe26",
   "metadata": {},
   "outputs": [],
   "source": [
    "try: # One-time setup\n",
    "    assert(_SETUP)\n",
    "except NameError:\n",
    "    import warnings\n",
    "    warnings.filterwarnings('ignore', category=UserWarning)  # see torchvision pr #4184\n",
    "    cfg.configure_logging()\n",
    "    # %matplotlib inline\n",
    "    while not '.git' in os.listdir():\n",
    "        os.chdir(\"../\")\n",
    "    dtype = t.float64\n",
    "    device = t.device(\"cuda\") if t.cuda.is_available() else t.device(\"cpu\")\n",
    "    if device == t.device(\"cuda\"):\n",
    "        !nvidia-smi\n",
    "    else:\n",
    "        print('CUDA is unavailable; training on CPU.')\n",
    "    _SETUP = True"
   ]
  },
  {
   "cell_type": "markdown",
   "id": "2dcc800b-96fc-473d-9995-2f0ce197a23a",
   "metadata": {},
   "source": [
    "## CVAE Setup\n",
    "\n",
    "Recall that our training objective, the ELBO, can be expressed as follows:\n",
    "\n",
    "\\begin{align*}\n",
    "    \\mathcal{L}_{\\text{CVAE}}(\\theta, \\phi; x, y) &= \n",
    "    \\mathbb{E}_{q_{\\phi}(z \\vert y, x)}\\left[\\log p_{\\theta}(y \\vert z, x)\\right]\n",
    "     - D_{\\text{KL}}\\left[q_{\\phi}(z \\vert y, x) \\Vert p_{\\theta}(z \\vert x)\\right] \\\\\n",
    "       &= \\mathbb{E}_{q_{\\phi}(z \\vert y, x)}\\big[\\log p_{\\theta}(y \\vert z, x) + \\log p_{\\theta}(z \\vert x) - \\log q_{\\phi}(z \\vert y, x)\\big] \\\\\n",
    "       &\\doteq \\mathbb{E}\\big[\\mathcal{L}_{\\text{logpy}} +\n",
    "       \\mathcal{L}_{\\text{logpz}} - \\mathcal{L}_{\\text{logqz}} \\big].\n",
    "\\end{align*}\n",
    "\n",
    "Here we will select a standard Gaussian prior $p_{\\theta}(z \\vert x) = \\mathcal{N}(z; 0, \\mathbf{I})$ (that is, we do not condition this distribution on $x$), which we implement by extending the `CVAEPrior` class, and using the factorised Gaussian distribution made available in `agnfinder.inference.distributions`.\n",
    "\n",
    "For the encoder network $q_{\\phi}(z \\vert y, x)$, we also select a factorised Gaussian. This time, when we extend the `CVAEEnc` class, we must return a reparametrised distribution from the `get_dist` method (i.e. a `_CVAE_RDist`). Once again, we use one of the distributions in `agnfinder.inference.distributions`.\n",
    "\n",
    "The decoder $p_{\\theta}(y \\vert z, x)$ is also Gaussian; it needn't use reparametrised sampling—indeed, we never sample from it in the CVAE training procedure, however even if we did it wouldn't be beneficial nor detrimental."
   ]
  },
  {
   "cell_type": "code",
   "execution_count": 3,
   "id": "6151849c-82bd-4ddf-9c66-99561fc32d8c",
   "metadata": {},
   "outputs": [],
   "source": [
    "class StandardGaussianPrior(CVAEPrior):\n",
    "    def get_dist(self, _) -> _CVAE_Dist:\n",
    "        mean = t.zeros(self.latent_dim, device=self.device, dtype=self.dtype)\n",
    "        std = t.ones(self.latent_dim, device=self.device, dtype=self.dtype)\n",
    "        return dist.Gaussian(mean, std)\n",
    "\n",
    "\n",
    "class GaussianEncoder(CVAEEnc):\n",
    "    def get_dist(self, dist_params: Union[t.Tensor, DistParams]) -> _CVAE_RDist:\n",
    "        assert isinstance(dist_params, list)\n",
    "        mean = dist_params[0]\n",
    "        std = t.exp(dist_params[1])  # network outputs log_std as 2nd param\n",
    "        return dist.R_Gaussian(mean, std)\n",
    "    \n",
    "\n",
    "class GaussianDecoder(CVAEDec):\n",
    "    def get_dist(self, dist_params: Union[t.Tensor, DistParams]) -> _CVAE_Dist:\n",
    "        assert isinstance(dist_params, list) and len(dist_params) == 2\n",
    "        [mean, log_std] = dist_params\n",
    "        std = t.exp(log_std)\n",
    "        return dist.Gaussian(mean, std)"
   ]
  },
  {
   "cell_type": "markdown",
   "id": "1d98f749-9c88-4e2b-9c62-a8ab69a3210a",
   "metadata": {},
   "source": [
    "We now parametrise the CVAE instance. The `cond_dim` is 10, since we may choose to condition on digits $x \\in \\{0, \\ldots, 9\\}$, and we one-hot encode these. The `data_dim` is $784 = 28\\times 28$ to reflect the size of a flattened MNIST image. \n",
    "\n",
    "The `latent_dim` is arbitrarily chosen; make this too large and the representations we learn will suffer, since the VAE has little incentive to compress an input image efficiently in order to acheive a good reconstruction. Make this too small, and the network may struggle to retain enough information in the latent code to reconstruct the input again effectively (although this is unlikely for this toy MNIST example, even at $\\mathtt{latent\\_dim} = 1$).\n",
    "\n",
    "Since the `StandardGaussianPrior` doesn't use the conditioning information $x$ provided to it, we use a `prior_arch = None` to avoid instantiating an unnecessary network.\n",
    "\n",
    "For the encoder and decoder, the number of output 'heads' matches the number of parameters that the corresponding distribution is expecting. For the decoder, we use a sigmoid activation on the mean since the MNIST pixel data lies in $y \\in [0, 1]^{28\\times 28}$."
   ]
  },
  {
   "cell_type": "code",
   "execution_count": 4,
   "id": "386621f9-0bd2-4ed8-8b41-646d25032e94",
   "metadata": {},
   "outputs": [],
   "source": [
    "class MNIST_img_params(CVAEParams):\n",
    "    cond_dim = 10  # x; dimension of one-hot labels\n",
    "    data_dim = 28*28  # y; size of MNIST image\n",
    "    latent_dim = 2  # z\n",
    "\n",
    "    prior = StandardGaussianPrior\n",
    "    prior_arch = None\n",
    "\n",
    "    encoder = GaussianEncoder\n",
    "    enc_arch = arch_t([data_dim + cond_dim, 256], [latent_dim, latent_dim],\n",
    "                      nn.ReLU(), batch_norm=False)\n",
    "\n",
    "    decoder = GaussianDecoder\n",
    "    dec_arch = arch_t([latent_dim + cond_dim, 256], [data_dim, data_dim],\n",
    "                      nn.ReLU(), [nn.Sigmoid(), nn.ReLU()], batch_norm=False)"
   ]
  },
  {
   "cell_type": "markdown",
   "id": "969ad345-0972-4211-a5dd-21e1e8a3493a",
   "metadata": {},
   "source": [
    "This class is called at every logging iteration, and just visualises the current state of the decoder network by conditioning on digits $x = \\{0, \\ldots, 9\\}$ and plotting the mean."
   ]
  },
  {
   "cell_type": "code",
   "execution_count": 46,
   "id": "7e8de9c0-b21f-44bb-81b1-25e51f4128cd",
   "metadata": {},
   "outputs": [],
   "source": [
    "class LogVisual():\n",
    "    def __init__(self, figure, display):\n",
    "        self.fig = figure\n",
    "        self.disp = display\n",
    "        self.ax = figure.subplots(1, 10)\n",
    "        for i in range(10):\n",
    "            self.ax[i].axis('off')\n",
    "            self.ax[i].set_title(f'x={i}', fontsize=15)\n",
    "\n",
    "    def __call__(self, cvae: CVAE):\n",
    "        with t.no_grad():\n",
    "            x = t.eye(10, device=cvae.device, dtype=cvae.dtype)\n",
    "            z = cvae.prior.get_dist(None).sample((10,))\n",
    "            ys, _ = cvae.decoder.forward(t.cat((z, x), -1))\n",
    "            for i in range(10):\n",
    "                self.ax[i].imshow(-ys[i].view(28, 28).cpu().data.numpy(), \n",
    "                                  cmap=plt.get_cmap('PuBu'))\n",
    "            self.fig.tight_layout()\n",
    "            self.disp.update(self.fig)"
   ]
  },
  {
   "cell_type": "markdown",
   "id": "c0db2648-d80b-44b7-8d9d-fef2527db976",
   "metadata": {},
   "source": [
    "Here we minimally modify the base CVAE class by overriding the base `preprocess` method to work with the MNIST data.\n",
    "\n",
    "Since MNIST is usually used for classification tasks, the data coming out of  the data loader will have $x$ as the pixel data, and $y$ as the corresponding integer MNIST labels.\n",
    "\n",
    "However, here we want $x$ to be one-hot encoded labels, and $y$ to be the flattened pixel data; so we apply the necessary transformations in this function, and switch the order of the two before returning."
   ]
  },
  {
   "cell_type": "code",
   "execution_count": 47,
   "id": "1022e8f8-00dc-4b0e-b951-8b9fc4309e74",
   "metadata": {},
   "outputs": [],
   "source": [
    "class MNIST_img_cvae(CVAE):\n",
    "\n",
    "    def preprocess(self, x: t.Tensor, y: t.Tensor) -> tuple[t.Tensor, t.Tensor]:\n",
    "        if x.dim() > 2:\n",
    "            x = x.view(-1, 28*28)\n",
    "        switched_x = _onehot(y, 10).to(self.device, self.dtype)\n",
    "        switched_y = x.to(self.device, self.dtype)\n",
    "        return switched_x, switched_y\n",
    "    \n",
    "    # trainmodel and ELBO methods kept as in base class"
   ]
  },
  {
   "cell_type": "code",
   "execution_count": 48,
   "id": "85b7ae07-28d0-46c9-9de6-113e56e380be",
   "metadata": {},
   "outputs": [
    {
     "data": {
      "image/png": "[encoded data removed]",
      "text/plain": [
       "<Figure size 1440x180 with 10 Axes>"
      ]
     },
     "metadata": {},
     "output_type": "display_data"
    },
    {
     "name": "stdout",
     "output_type": "stream",
     "text": [
      "2021-08-27 10:39:12,742 [INFO] Epoch: 00/05, Batch: 000/937, Loss  846.5312\n",
      "2021-08-27 10:39:13,827 [INFO] Epoch: 00/05, Batch: 100/937, Loss  744.6399\n",
      "2021-08-27 10:39:15,061 [INFO] Epoch: 00/05, Batch: 200/937, Loss  742.2092\n",
      "2021-08-27 10:39:16,270 [INFO] Epoch: 00/05, Batch: 300/937, Loss  740.1060\n",
      "2021-08-27 10:39:17,381 [INFO] Epoch: 00/05, Batch: 400/937, Loss  739.3348\n",
      "2021-08-27 10:39:18,521 [INFO] Epoch: 00/05, Batch: 500/937, Loss  738.8299\n",
      "2021-08-27 10:39:19,738 [INFO] Epoch: 00/05, Batch: 600/937, Loss  740.6019\n",
      "2021-08-27 10:39:20,950 [INFO] Epoch: 00/05, Batch: 700/937, Loss  739.5086\n",
      "2021-08-27 10:39:22,190 [INFO] Epoch: 00/05, Batch: 800/937, Loss  740.1409\n",
      "2021-08-27 10:39:23,458 [INFO] Epoch: 00/05, Batch: 900/937, Loss  738.3460\n",
      "2021-08-27 10:39:24,198 [INFO] Epoch: 00/05, Batch: 937/937, Loss  739.4543\n",
      "2021-08-27 10:39:24,852 [INFO] Epoch: 01/05, Batch: 000/937, Loss  738.7666\n",
      "2021-08-27 10:39:26,206 [INFO] Epoch: 01/05, Batch: 100/937, Loss  738.7147\n",
      "2021-08-27 10:39:27,806 [INFO] Epoch: 01/05, Batch: 200/937, Loss  739.4864\n",
      "2021-08-27 10:39:29,345 [INFO] Epoch: 01/05, Batch: 300/937, Loss  738.2005\n",
      "2021-08-27 10:39:30,921 [INFO] Epoch: 01/05, Batch: 400/937, Loss  737.6460\n",
      "2021-08-27 10:39:32,404 [INFO] Epoch: 01/05, Batch: 500/937, Loss  736.8758\n",
      "2021-08-27 10:39:33,926 [INFO] Epoch: 01/05, Batch: 600/937, Loss  738.1870\n",
      "2021-08-27 10:39:35,468 [INFO] Epoch: 01/05, Batch: 700/937, Loss  736.0133\n",
      "2021-08-27 10:39:37,046 [INFO] Epoch: 01/05, Batch: 800/937, Loss  738.3432\n",
      "2021-08-27 10:39:38,694 [INFO] Epoch: 01/05, Batch: 900/937, Loss  739.4516\n",
      "2021-08-27 10:39:39,902 [INFO] Epoch: 01/05, Batch: 937/937, Loss  739.4205\n",
      "2021-08-27 10:39:40,910 [INFO] Epoch: 02/05, Batch: 000/937, Loss  737.8211\n",
      "2021-08-27 10:39:42,619 [INFO] Epoch: 02/05, Batch: 100/937, Loss  738.2781\n",
      "2021-08-27 10:39:44,390 [INFO] Epoch: 02/05, Batch: 200/937, Loss  738.5497\n",
      "2021-08-27 10:39:46,230 [INFO] Epoch: 02/05, Batch: 300/937, Loss  737.6249\n",
      "2021-08-27 10:39:48,065 [INFO] Epoch: 02/05, Batch: 400/937, Loss  737.8177\n",
      "2021-08-27 10:39:49,924 [INFO] Epoch: 02/05, Batch: 500/937, Loss  736.9835\n",
      "2021-08-27 10:39:52,028 [INFO] Epoch: 02/05, Batch: 600/937, Loss  737.6112\n",
      "2021-08-27 10:39:53,965 [INFO] Epoch: 02/05, Batch: 700/937, Loss  739.3154\n",
      "2021-08-27 10:39:55,893 [INFO] Epoch: 02/05, Batch: 800/937, Loss  736.6765\n",
      "2021-08-27 10:39:57,869 [INFO] Epoch: 02/05, Batch: 900/937, Loss  737.9304\n",
      "2021-08-27 10:39:59,451 [INFO] Epoch: 02/05, Batch: 937/937, Loss  739.9159\n",
      "2021-08-27 10:40:00,846 [INFO] Epoch: 03/05, Batch: 000/937, Loss  738.1013\n",
      "2021-08-27 10:40:02,899 [INFO] Epoch: 03/05, Batch: 100/937, Loss  739.6988\n",
      "2021-08-27 10:40:04,969 [INFO] Epoch: 03/05, Batch: 200/937, Loss  736.9958\n",
      "2021-08-27 10:40:07,110 [INFO] Epoch: 03/05, Batch: 300/937, Loss  737.2864\n",
      "2021-08-27 10:40:09,282 [INFO] Epoch: 03/05, Batch: 400/937, Loss  738.6190\n",
      "2021-08-27 10:40:11,465 [INFO] Epoch: 03/05, Batch: 500/937, Loss  738.0336\n",
      "2021-08-27 10:40:13,679 [INFO] Epoch: 03/05, Batch: 600/937, Loss  738.5550\n",
      "2021-08-27 10:40:15,894 [INFO] Epoch: 03/05, Batch: 700/937, Loss  736.7993\n",
      "2021-08-27 10:40:18,216 [INFO] Epoch: 03/05, Batch: 800/937, Loss  739.5040\n",
      "2021-08-27 10:40:20,532 [INFO] Epoch: 03/05, Batch: 900/937, Loss  736.9619\n",
      "2021-08-27 10:40:22,345 [INFO] Epoch: 03/05, Batch: 937/937, Loss  736.4517\n",
      "2021-08-27 10:40:24,043 [INFO] Epoch: 04/05, Batch: 000/937, Loss  737.7530\n",
      "2021-08-27 10:40:26,474 [INFO] Epoch: 04/05, Batch: 100/937, Loss  738.3309\n",
      "2021-08-27 10:40:29,357 [INFO] Epoch: 04/05, Batch: 200/937, Loss  739.1905\n",
      "2021-08-27 10:40:31,847 [INFO] Epoch: 04/05, Batch: 300/937, Loss  738.1696\n",
      "2021-08-27 10:40:34,364 [INFO] Epoch: 04/05, Batch: 400/937, Loss  737.4395\n",
      "2021-08-27 10:40:36,884 [INFO] Epoch: 04/05, Batch: 500/937, Loss  737.4508\n",
      "2021-08-27 10:40:39,405 [INFO] Epoch: 04/05, Batch: 600/937, Loss  736.6710\n",
      "2021-08-27 10:40:42,396 [INFO] Epoch: 04/05, Batch: 700/937, Loss  738.5886\n",
      "2021-08-27 10:40:45,253 [INFO] Epoch: 04/05, Batch: 800/937, Loss  737.1005\n",
      "2021-08-27 10:40:48,101 [INFO] Epoch: 04/05, Batch: 900/937, Loss  737.6019\n",
      "2021-08-27 10:40:50,452 [INFO] Epoch: 04/05, Batch: 937/937, Loss  739.2283\n"
     ]
    }
   ],
   "source": [
    "fig = plt.figure(figsize=(20, 2.5))\n",
    "disp = display.display(\"\", display_id=True)\n",
    "\n",
    "cvae = MNIST_img_cvae(MNIST_img_params(), device=device, dtype=dtype, \n",
    "                      logging_callbacks=[LogVisual(fig, disp)])\n",
    "train_loader, _ = _load_mnist()\n",
    "\n",
    "cvae.trainmodel(train_loader, epochs=5)\n",
    "plt.close()"
   ]
  }
 ],
 "metadata": {
  "kernelspec": {
   "display_name": "agnvenv (Python 3.9)",
   "language": "python",
   "name": "agnvenv"
  },
  "language_info": {
   "codemirror_mode": {
    "name": "ipython",
    "version": 3
   },
   "file_extension": ".py",
   "mimetype": "text/x-python",
   "name": "python",
   "nbconvert_exporter": "python",
   "pygments_lexer": "ipython3",
   "version": "3.9.6"
  }
 },
 "nbformat": 4,
 "nbformat_minor": 5
}
