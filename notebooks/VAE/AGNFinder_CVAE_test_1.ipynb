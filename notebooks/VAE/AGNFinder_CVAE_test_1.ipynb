{
 "cells": [
  {
   "cell_type": "markdown",
   "id": "c4f18f19-ea83-4b53-9fc1-b111e9cb491b",
   "metadata": {},
   "source": [
    "# AGNFinder CVAE Framework Test (1)\n",
    "\n",
    "**Author:** Maxime Robeyns (2021) <maximerobeyns@gmail.com>\n",
    "\n",
    "**Digit Generation**\n",
    "\n",
    "In this notebook, we perform conditional handwritten digit generation to test the CVAE implementation in the AGNFinder codebase. We use the MNIST dataset for training."
   ]
  },
  {
   "cell_type": "code",
   "execution_count": 1,
   "id": "fd80a5cd-4274-41f5-be55-68f224cf2f0c",
   "metadata": {},
   "outputs": [],
   "source": [
    "import os\n",
    "import numpy as np\n",
    "import torch as t\n",
    "import torch.nn as nn\n",
    "\n",
    "from typing import Union\n",
    "from IPython import display\n",
    "from matplotlib import pyplot as plt\n",
    "from torch.utils.data import DataLoader\n",
    "from torchvision import datasets, transforms\n",
    "\n",
    "import agnfinder.inference.distributions as dist\n",
    "\n",
    "from agnfinder import config as cfg\n",
    "from agnfinder.types import DistParams, arch_t\n",
    "from agnfinder.inference.utils import _load_mnist, _onehot\n",
    "from agnfinder.inference.base import CVAE, CVAEPrior, CVAEEnc, CVAEDec, \\\n",
    "                                     CVAEParams, _CVAE_Dist, _CVAE_RDist"
   ]
  },
  {
   "cell_type": "code",
   "execution_count": 2,
   "id": "31083021-5795-4e37-9801-5701606ffe26",
   "metadata": {},
   "outputs": [
    {
     "name": "stdout",
     "output_type": "stream",
     "text": [
      "[INFO] \n",
      "\n",
      "~~~~~~~~~~~~~~~~~~~~~~~~~~~~~~~~~~~~~~~~~~~~~~~~~~~~~~~~~~~~~~~~~~~~~~~~~~~~~~~\n",
      "\n",
      "\tAGNFinder\n",
      "\tFri Aug 27 11:49:03 2021\n",
      "\n",
      "~~~~~~~~~~~~~~~~~~~~~~~~~~~~~~~~~~~~~~~~~~~~~~~~~~~~~~~~~~~~~~~~~~~~~~~~~~~~~~~\n",
      "\n",
      "\n",
      "Fri Aug 27 11:49:03 2021       \n",
      "+-----------------------------------------------------------------------------+\n",
      "| NVIDIA-SMI 470.57.02    Driver Version: 470.57.02    CUDA Version: 11.4     |\n",
      "|-------------------------------+----------------------+----------------------+\n",
      "| GPU  Name        Persistence-M| Bus-Id        Disp.A | Volatile Uncorr. ECC |\n",
      "| Fan  Temp  Perf  Pwr:Usage/Cap|         Memory-Usage | GPU-Util  Compute M. |\n",
      "|                               |                      |               MIG M. |\n",
      "|===============================+======================+======================|\n",
      "|   0  NVIDIA GeForce ...  Off  | 00000000:01:00.0 Off |                  N/A |\n",
      "| N/A   43C    P8    N/A /  N/A |     11MiB /  4042MiB |      0%      Default |\n",
      "|                               |                      |                  N/A |\n",
      "+-------------------------------+----------------------+----------------------+\n",
      "                                                                               \n",
      "+-----------------------------------------------------------------------------+\n",
      "| Processes:                                                                  |\n",
      "|  GPU   GI   CI        PID   Type   Process name                  GPU Memory |\n",
      "|        ID   ID                                                   Usage      |\n",
      "|=============================================================================|\n",
      "|    0   N/A  N/A      1730      G   /usr/lib/xorg/Xorg                  4MiB |\n",
      "|    0   N/A  N/A      4509      G   /usr/lib/xorg/Xorg                  4MiB |\n",
      "+-----------------------------------------------------------------------------+\n"
     ]
    }
   ],
   "source": [
    "try: # One-time setup\n",
    "    assert(_SETUP)\n",
    "except NameError:\n",
    "    import warnings\n",
    "    warnings.filterwarnings('ignore', category=UserWarning)  # see torchvision pr #4184\n",
    "    cfg.configure_logging()\n",
    "    while not '.git' in os.listdir():\n",
    "        os.chdir(\"../\")\n",
    "    dtype = t.float64\n",
    "    device = t.device(\"cuda\") if t.cuda.is_available() else t.device(\"cpu\")\n",
    "    if device == t.device(\"cuda\"):\n",
    "        !nvidia-smi\n",
    "    else:\n",
    "        print('CUDA is unavailable; training on CPU.')\n",
    "    _SETUP = True"
   ]
  },
  {
   "cell_type": "markdown",
   "id": "2dcc800b-96fc-473d-9995-2f0ce197a23a",
   "metadata": {},
   "source": [
    "## CVAE Setup\n",
    "\n",
    "Recall that our training objective, the ELBO, can be expressed as follows:\n",
    "\n",
    "\\begin{align*}\n",
    "    \\mathcal{L}_{\\text{CVAE}}(\\theta, \\phi; x, y) &= \n",
    "    \\mathbb{E}_{q_{\\phi}(z \\vert y, x)}\\left[\\log p_{\\theta}(y \\vert z, x)\\right]\n",
    "     - D_{\\text{KL}}\\left[q_{\\phi}(z \\vert y, x) \\Vert p_{\\theta}(z \\vert x)\\right] \\\\\n",
    "       &= \\mathbb{E}_{q_{\\phi}(z \\vert y, x)}\\big[\\log p_{\\theta}(y \\vert z, x) + \\log p_{\\theta}(z \\vert x) - \\log q_{\\phi}(z \\vert y, x)\\big] \\\\\n",
    "       &\\doteq \\mathbb{E}\\big[\\mathcal{L}_{\\text{logpy}} +\n",
    "       \\mathcal{L}_{\\text{logpz}} - \\mathcal{L}_{\\text{logqz}} \\big].\n",
    "\\end{align*}\n",
    "\n",
    "Here we will select a standard Gaussian prior $p_{\\theta}(z \\vert x) = \\mathcal{N}(z; 0, \\mathbf{I})$ (that is, we do not condition this distribution on $x$), which we implement by extending the `CVAEPrior` class, and using the factorised Gaussian distribution made available in `agnfinder.inference.distributions`.\n",
    "\n",
    "For the encoder network $q_{\\phi}(z \\vert y, x)$, we also select a factorised Gaussian. This time, when we extend the `CVAEEnc` class, we must return a reparametrised distribution from the `get_dist` method (i.e. a `_CVAE_RDist`). Once again, we use one of the distributions in `agnfinder.inference.distributions`.\n",
    "\n",
    "The decoder $p_{\\theta}(y \\vert z, x)$ is also Gaussian; it needn't use reparametrised sampling—indeed, we never sample from it in the CVAE training procedure, however even if we did it wouldn't be beneficial nor detrimental."
   ]
  },
  {
   "cell_type": "code",
   "execution_count": 3,
   "id": "6151849c-82bd-4ddf-9c66-99561fc32d8c",
   "metadata": {},
   "outputs": [],
   "source": [
    "class StandardGaussianPrior(CVAEPrior):\n",
    "    def get_dist(self, _) -> _CVAE_Dist:\n",
    "        mean = t.zeros(self.latent_dim, device=self.device, dtype=self.dtype)\n",
    "        std = t.ones(self.latent_dim, device=self.device, dtype=self.dtype)\n",
    "        return dist.Gaussian(mean, std)\n",
    "\n",
    "\n",
    "class GaussianEncoder(CVAEEnc):\n",
    "    def get_dist(self, dist_params: Union[t.Tensor, DistParams]) -> _CVAE_RDist:\n",
    "        assert isinstance(dist_params, list)\n",
    "        mean = dist_params[0]\n",
    "        std = t.exp(dist_params[1])  # network outputs log_std as 2nd param\n",
    "        return dist.R_Gaussian(mean, std)\n",
    "    \n",
    "\n",
    "class GaussianDecoder(CVAEDec):\n",
    "    def get_dist(self, dist_params: Union[t.Tensor, DistParams]) -> _CVAE_Dist:\n",
    "        assert isinstance(dist_params, list) and len(dist_params) == 2\n",
    "        [mean, log_std] = dist_params\n",
    "        std = t.exp(log_std)\n",
    "        return dist.Gaussian(mean, std)"
   ]
  },
  {
   "cell_type": "markdown",
   "id": "1d98f749-9c88-4e2b-9c62-a8ab69a3210a",
   "metadata": {},
   "source": [
    "We now parametrise the CVAE instance. The `cond_dim` is 10, since we may choose to condition on digits $x \\in \\{0, \\ldots, 9\\}$, and we one-hot encode these. The `data_dim` is $784 = 28\\times 28$ to reflect the size of a flattened MNIST image. \n",
    "\n",
    "The `latent_dim` is arbitrarily chosen; make this too large and the representations we learn will suffer, since the VAE has little incentive to compress an input image efficiently in order to acheive a good reconstruction. Make this too small, and the network may struggle to retain enough information in the latent code to reconstruct the input again effectively (although this is unlikely for this toy MNIST example, even at $\\mathtt{latent\\_dim} = 1$).\n",
    "\n",
    "Since the `StandardGaussianPrior` doesn't use the conditioning information $x$ provided to it, we use a `prior_arch = None` to avoid instantiating an unnecessary network.\n",
    "\n",
    "For the encoder and decoder, the number of output 'heads' matches the number of parameters that the corresponding distribution is expecting. For the decoder, we use a sigmoid activation on the mean since the MNIST pixel data lies in $y \\in [0, 1]^{28\\times 28}$."
   ]
  },
  {
   "cell_type": "code",
   "execution_count": 4,
   "id": "386621f9-0bd2-4ed8-8b41-646d25032e94",
   "metadata": {},
   "outputs": [],
   "source": [
    "class MNIST_img_params(CVAEParams):\n",
    "    cond_dim = 10  # x; dimension of one-hot labels\n",
    "    data_dim = 28*28  # y; size of MNIST image\n",
    "    latent_dim = 2  # z\n",
    "\n",
    "    prior = StandardGaussianPrior\n",
    "    prior_arch = None\n",
    "\n",
    "    encoder = GaussianEncoder\n",
    "    enc_arch = arch_t([data_dim + cond_dim, 256], [latent_dim, latent_dim],\n",
    "                      nn.ReLU(), batch_norm=False)\n",
    "\n",
    "    decoder = GaussianDecoder\n",
    "    dec_arch = arch_t([latent_dim + cond_dim, 256], [data_dim, data_dim],\n",
    "                      nn.ReLU(), [nn.Sigmoid(), nn.ReLU()], batch_norm=False)"
   ]
  },
  {
   "cell_type": "markdown",
   "id": "969ad345-0972-4211-a5dd-21e1e8a3493a",
   "metadata": {},
   "source": [
    "This class is called at every logging iteration, and just visualises the current state of the decoder network by conditioning on digits $x = \\{0, \\ldots, 9\\}$ and plotting the mean."
   ]
  },
  {
   "cell_type": "code",
   "execution_count": 8,
   "id": "7e8de9c0-b21f-44bb-81b1-25e51f4128cd",
   "metadata": {},
   "outputs": [],
   "source": [
    "class LogVisual():\n",
    "    def __init__(self, figure, display):\n",
    "        self.fig = figure\n",
    "        self.disp = display\n",
    "        self.ax = figure.subplots(1, 10)\n",
    "        for i in range(10):\n",
    "            self.ax[i].axis('off')\n",
    "            self.ax[i].set_title(f'x={i}', fontsize=15, color=(.5, .5, .5))\n",
    "\n",
    "    def __call__(self, cvae: CVAE):\n",
    "        with t.no_grad():\n",
    "            x = t.eye(10, device=cvae.device, dtype=cvae.dtype)\n",
    "            z = cvae.prior.get_dist(None).sample((10,))\n",
    "            ys, _ = cvae.decoder.forward(t.cat((z, x), -1))\n",
    "            for i in range(10):\n",
    "                self.ax[i].imshow(-ys[i].view(28, 28).cpu().data.numpy(), \n",
    "                                  cmap=plt.get_cmap('PuBu'))\n",
    "            self.fig.tight_layout()\n",
    "            self.disp.update(self.fig)"
   ]
  },
  {
   "cell_type": "markdown",
   "id": "c0db2648-d80b-44b7-8d9d-fef2527db976",
   "metadata": {},
   "source": [
    "Here we minimally modify the base CVAE class by overriding the base `preprocess` method to work with the MNIST data.\n",
    "\n",
    "Since MNIST is usually used for classification tasks, the data coming out of  the data loader will have $x$ as the pixel data, and $y$ as the corresponding integer MNIST labels.\n",
    "\n",
    "However, here we want $x$ to be one-hot encoded labels, and $y$ to be the flattened pixel data; so we apply the necessary transformations in this function, and switch the order of the two before returning."
   ]
  },
  {
   "cell_type": "code",
   "execution_count": 9,
   "id": "1022e8f8-00dc-4b0e-b951-8b9fc4309e74",
   "metadata": {},
   "outputs": [],
   "source": [
    "class MNIST_img_cvae(CVAE):\n",
    "\n",
    "    def preprocess(self, x: t.Tensor, y: t.Tensor) -> tuple[t.Tensor, t.Tensor]:\n",
    "        if x.dim() > 2:\n",
    "            x = x.view(-1, 28*28)\n",
    "        switched_x = _onehot(y, 10).to(self.device, self.dtype)\n",
    "        switched_y = x.to(self.device, self.dtype)\n",
    "        return switched_x, switched_y\n",
    "    \n",
    "    # trainmodel and ELBO methods kept as in base class"
   ]
  },
  {
   "cell_type": "code",
   "execution_count": 10,
   "id": "85b7ae07-28d0-46c9-9de6-113e56e380be",
   "metadata": {},
   "outputs": [
    {
     "data": {
      "image/png": "[encoded data removed]",
      "text/plain": [
       "<Figure size 1440x180 with 10 Axes>"
      ]
     },
     "metadata": {},
     "output_type": "display_data"
    },
    {
     "name": "stdout",
     "output_type": "stream",
     "text": [
      "[INFO] Epoch: 00/05, Batch: 000/937, Loss  850.1805\n",
      "[INFO] Epoch: 00/05, Batch: 100/937, Loss  747.8313\n",
      "[INFO] Epoch: 00/05, Batch: 200/937, Loss  742.2980\n",
      "[INFO] Epoch: 00/05, Batch: 300/937, Loss  740.9663\n",
      "[INFO] Epoch: 00/05, Batch: 400/937, Loss  739.4528\n",
      "[INFO] Epoch: 00/05, Batch: 500/937, Loss  739.5564\n",
      "[INFO] Epoch: 00/05, Batch: 600/937, Loss  740.4205\n",
      "[INFO] Epoch: 00/05, Batch: 700/937, Loss  739.1342\n",
      "[INFO] Epoch: 00/05, Batch: 800/937, Loss  738.6381\n",
      "[INFO] Epoch: 00/05, Batch: 900/937, Loss  740.8644\n",
      "[INFO] Epoch: 00/05, Batch: 937/937, Loss  738.8599\n",
      "[INFO] Epoch: 01/05, Batch: 000/937, Loss  739.3402\n",
      "[INFO] Epoch: 01/05, Batch: 100/937, Loss  738.4698\n",
      "[INFO] Epoch: 01/05, Batch: 200/937, Loss  737.7762\n",
      "[INFO] Epoch: 01/05, Batch: 300/937, Loss  738.6387\n",
      "[INFO] Epoch: 01/05, Batch: 400/937, Loss  738.6324\n",
      "[INFO] Epoch: 01/05, Batch: 500/937, Loss  737.7169\n",
      "[INFO] Epoch: 01/05, Batch: 600/937, Loss  738.8723\n",
      "[INFO] Epoch: 01/05, Batch: 700/937, Loss  738.7418\n",
      "[INFO] Epoch: 01/05, Batch: 800/937, Loss  738.5451\n",
      "[INFO] Epoch: 01/05, Batch: 900/937, Loss  738.2246\n",
      "[INFO] Epoch: 01/05, Batch: 937/937, Loss  736.8844\n",
      "[INFO] Epoch: 02/05, Batch: 000/937, Loss  738.2789\n",
      "[INFO] Epoch: 02/05, Batch: 100/937, Loss  737.5872\n",
      "[INFO] Epoch: 02/05, Batch: 200/937, Loss  738.6324\n",
      "[INFO] Epoch: 02/05, Batch: 300/937, Loss  737.4922\n",
      "[INFO] Epoch: 02/05, Batch: 400/937, Loss  738.8837\n",
      "[INFO] Epoch: 02/05, Batch: 500/937, Loss  739.0363\n",
      "[INFO] Epoch: 02/05, Batch: 600/937, Loss  740.0708\n",
      "[INFO] Epoch: 02/05, Batch: 700/937, Loss  737.5906\n",
      "[INFO] Epoch: 02/05, Batch: 800/937, Loss  738.4379\n",
      "[INFO] Epoch: 02/05, Batch: 900/937, Loss  737.2888\n",
      "[INFO] Epoch: 02/05, Batch: 937/937, Loss  738.5648\n",
      "[INFO] Epoch: 03/05, Batch: 000/937, Loss  736.7371\n",
      "[INFO] Epoch: 03/05, Batch: 100/937, Loss  738.7194\n",
      "[INFO] Epoch: 03/05, Batch: 200/937, Loss  738.8019\n",
      "[INFO] Epoch: 03/05, Batch: 300/937, Loss  738.4752\n",
      "[INFO] Epoch: 03/05, Batch: 400/937, Loss  739.3656\n",
      "[INFO] Epoch: 03/05, Batch: 500/937, Loss  738.1653\n",
      "[INFO] Epoch: 03/05, Batch: 600/937, Loss  736.3945\n",
      "[INFO] Epoch: 03/05, Batch: 700/937, Loss  737.2277\n",
      "[INFO] Epoch: 03/05, Batch: 800/937, Loss  738.0281\n",
      "[INFO] Epoch: 03/05, Batch: 900/937, Loss  738.4991\n",
      "[INFO] Epoch: 03/05, Batch: 937/937, Loss  737.8074\n",
      "[INFO] Epoch: 04/05, Batch: 000/937, Loss  738.6618\n",
      "[INFO] Epoch: 04/05, Batch: 100/937, Loss  738.0786\n",
      "[INFO] Epoch: 04/05, Batch: 200/937, Loss  739.2631\n",
      "[INFO] Epoch: 04/05, Batch: 300/937, Loss  738.1135\n",
      "[INFO] Epoch: 04/05, Batch: 400/937, Loss  738.1077\n",
      "[INFO] Epoch: 04/05, Batch: 500/937, Loss  738.7184\n",
      "[INFO] Epoch: 04/05, Batch: 600/937, Loss  738.8534\n",
      "[INFO] Epoch: 04/05, Batch: 700/937, Loss  737.3314\n",
      "[INFO] Epoch: 04/05, Batch: 800/937, Loss  739.1175\n",
      "[INFO] Epoch: 04/05, Batch: 900/937, Loss  737.8838\n",
      "[INFO] Epoch: 04/05, Batch: 937/937, Loss  735.9568\n"
     ]
    }
   ],
   "source": [
    "fig = plt.figure(figsize=(20, 2.5))\n",
    "disp = display.display(\"\", display_id=True)\n",
    "\n",
    "cvae = MNIST_img_cvae(MNIST_img_params(), device=device, dtype=dtype, \n",
    "                      logging_callbacks=[LogVisual(fig, disp)])\n",
    "train_loader, _ = _load_mnist()\n",
    "\n",
    "cvae.trainmodel(train_loader, epochs=5)\n",
    "plt.close()"
   ]
  },
  {
   "cell_type": "code",
   "execution_count": null,
   "id": "0dfd5eb8-e6f7-4d96-8ff4-588a48a0aa7e",
   "metadata": {},
   "outputs": [],
   "source": []
  }
 ],
 "metadata": {
  "kernelspec": {
   "display_name": "agnvenv (Python 3.9)",
   "language": "python",
   "name": "agnvenv"
  },
  "language_info": {
   "codemirror_mode": {
    "name": "ipython",
    "version": 3
   },
   "file_extension": ".py",
   "mimetype": "text/x-python",
   "name": "python",
   "nbconvert_exporter": "python",
   "pygments_lexer": "ipython3",
   "version": "3.9.6"
  }
 },
 "nbformat": 4,
 "nbformat_minor": 5
}
