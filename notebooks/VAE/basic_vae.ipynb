{
 "cells": [
  {
   "cell_type": "markdown",
   "id": "6bf8fca3-2809-4990-bed5-cac8e183b688",
   "metadata": {},
   "source": [
    "# Basic VAE"
   ]
  },
  {
   "cell_type": "code",
   "execution_count": 1,
   "id": "9c8fe11f-ee5d-4438-b46b-f54e8c59bda4",
   "metadata": {},
   "outputs": [],
   "source": [
    "import os\n",
    "import torch as t\n",
    "import torch.nn as nn\n",
    "from torchvision import datasets, transforms\n",
    "from torch.utils.data import DataLoader\n",
    "import matplotlib.pyplot as plt"
   ]
  },
  {
   "cell_type": "code",
   "execution_count": 2,
   "id": "f1ffbc2a-afe6-46dd-b648-41ae59d76e78",
   "metadata": {},
   "outputs": [
    {
     "name": "stdout",
     "output_type": "stream",
     "text": [
      "Thu Aug 12 18:05:58 2021       \n",
      "+-----------------------------------------------------------------------------+\n",
      "| NVIDIA-SMI 470.57.02    Driver Version: 470.57.02    CUDA Version: 11.4     |\n",
      "|-------------------------------+----------------------+----------------------+\n",
      "| GPU  Name        Persistence-M| Bus-Id        Disp.A | Volatile Uncorr. ECC |\n",
      "| Fan  Temp  Perf  Pwr:Usage/Cap|         Memory-Usage | GPU-Util  Compute M. |\n",
      "|                               |                      |               MIG M. |\n",
      "|===============================+======================+======================|\n",
      "|   0  NVIDIA GeForce ...  Off  | 00000000:01:00.0 Off |                  N/A |\n",
      "| N/A   50C    P8    N/A /  N/A |     11MiB /  4042MiB |      0%      Default |\n",
      "|                               |                      |                  N/A |\n",
      "+-------------------------------+----------------------+----------------------+\n",
      "                                                                               \n",
      "+-----------------------------------------------------------------------------+\n",
      "| Processes:                                                                  |\n",
      "|  GPU   GI   CI        PID   Type   Process name                  GPU Memory |\n",
      "|        ID   ID                                                   Usage      |\n",
      "|=============================================================================|\n",
      "|    0   N/A  N/A      1783      G   /usr/lib/xorg/Xorg                  4MiB |\n",
      "|    0   N/A  N/A      4603      G   /usr/lib/xorg/Xorg                  4MiB |\n",
      "+-----------------------------------------------------------------------------+\n"
     ]
    }
   ],
   "source": [
    "try: # One-time setup\n",
    "    assert(_SETUP)\n",
    "except NameError:\n",
    "    while not '.git' in os.listdir():\n",
    "        os.chdir(\"../\")\n",
    "    device = t.device(\"cuda\") if t.cuda.is_available() else t.device(\"cpu\")\n",
    "    if device == t.device(\"cuda\"):\n",
    "        !nvidia-smi\n",
    "    else:\n",
    "        print('CUDA is unavailable; training on CPU.')\n",
    "    _SETUP = True"
   ]
  },
  {
   "cell_type": "markdown",
   "id": "a570f78c-2126-4d7b-a12b-33da6c959136",
   "metadata": {},
   "source": [
    "## Utility functions"
   ]
  },
  {
   "cell_type": "code",
   "execution_count": 13,
   "id": "e195932b-2759-44d0-8f19-8940a0e9ae38",
   "metadata": {},
   "outputs": [],
   "source": [
    "def load_mnist(batch_size: int = 64) -> tuple[DataLoader, DataLoader]:\n",
    "    \"\"\"(Down)load MNIST dataset in ./data/testdata, and return training and\n",
    "    test DataLoaders using specified batch_size.\n",
    "    \"\"\"\n",
    "\n",
    "    cuda_kwargs = {'num_workers': 1} #, 'pin_memory': True}\n",
    "    train_kwargs = {'batch_size': batch_size, 'shuffle': True} | cuda_kwargs\n",
    "    test_kwargs = {'batch_size': batch_size, 'shuffle': False} | cuda_kwargs\n",
    "\n",
    "    transform = transforms.Compose([\n",
    "        transforms.ToTensor(),\n",
    "        # transforms.Normalize((0.1307,), (0.3081,))\n",
    "    ])\n",
    "\n",
    "    train_set = datasets.MNIST('./data/testdata', train=True, download=True, \n",
    "                               transform=transform)\n",
    "    test_set = datasets.MNIST('./data/testdata', train=False, download=True, \n",
    "                              transform=transform)\n",
    "\n",
    "    train_loader = DataLoader(train_set, **train_kwargs)\n",
    "    test_loader = DataLoader(test_set, **test_kwargs)\n",
    "\n",
    "    return train_loader, test_loader\n",
    "\n",
    "def onehot(idx: t.Tensor, n: int) -> t.Tensor:\n",
    "    \"\"\"Turns an index into a one-hot encoded vector, of length n\"\"\"\n",
    "    assert t.max(idx).item() < n\n",
    "    \n",
    "    if idx.dim() == 1:\n",
    "        idx = idx.unsqueeze(1)\n",
    "    onehot = t.zeros(idx.size(0), n).to(idx.device)\n",
    "    onehot.scatter_(1, idx, 1)\n",
    "    \n",
    "    return onehot"
   ]
  },
  {
   "cell_type": "code",
   "execution_count": 4,
   "id": "391bf436-3a11-435a-919d-099e8ef61519",
   "metadata": {},
   "outputs": [],
   "source": [
    "class VAE(nn.Module):\n",
    "    \"\"\"Variational AutoEncoder\"\"\"\n",
    "    \n",
    "    def __init__(self, encoder_layers: list[int], latent_size: int,\n",
    "                 decoder_layers: list[int], num_labels: int = 0):\n",
    "        super().__init__()\n",
    "        assert num_labels > 0\n",
    "        self.latent_size = latent_size\n",
    "        self.encoder = Encoder(\n",
    "            encoder_layers, latent_size, num_labels)\n",
    "        self.decoder = Decoder(\n",
    "            decoder_layers, latent_size, num_labels)\n",
    "        \n",
    "    def forward(self, x: t.Tensor, c: t.Tensor) -> tuple[\n",
    "        t.Tensor, t.Tensor, t.Tensor, t.Tensor]:\n",
    "        \n",
    "        if x.dim() > 2:\n",
    "            x = x.view(-1, 28*28)\n",
    "        \n",
    "        means, log_var = self.encoder(x, c)\n",
    "        z = self.reparametrise(means, log_var)\n",
    "        recon_x = self.decoder(z, c)\n",
    "        \n",
    "        return recon_x, means, log_var, z\n",
    "    \n",
    "    def reparametrise(self, mu: t.Tensor, log_var: t.Tensor) -> t.Tensor:\n",
    "        \n",
    "        std = t.exp(0.5 * log_var)\n",
    "        eps = t.randn_like(std)\n",
    "        \n",
    "        return mu + eps * std\n",
    "    \n",
    "    def inference(self, z: t.Tensor, c: t.Tensor) -> t.Tensor:\n",
    "        \n",
    "        recon_x = self.decoder(z, c)\n",
    "        \n",
    "        return recon_x"
   ]
  },
  {
   "cell_type": "code",
   "execution_count": 5,
   "id": "7a5de166-a733-436f-bbc1-20b553c50195",
   "metadata": {},
   "outputs": [],
   "source": [
    "class Encoder(nn.Module):\n",
    "    def __init__(self, layer_sizes: list[int], latent_size: int,\n",
    "                 num_labels: int):\n",
    "        super().__init__()\n",
    "        \n",
    "        layer_sizes[0] += num_labels\n",
    "        \n",
    "        self.MLP = nn.Sequential()\n",
    "        for i, (j, k) in enumerate(zip(layer_sizes[:-1], layer_sizes[1:])):\n",
    "            self.MLP.add_module(name=f'L{i}', module=nn.Linear(j, k))\n",
    "            self.MLP.add_module(name=f'A{i}', module=nn.ReLU())\n",
    "            \n",
    "        self.linear_means = nn.Linear(layer_sizes[-1], latent_size)\n",
    "        self.linear_log_var = nn.Linear(layer_sizes[-1], latent_size)\n",
    "        \n",
    "    def forward(self, x: t.Tensor, c: t.Tensor) -> tuple[\n",
    "        t.Tensor, t.Tensor]:\n",
    "        \n",
    "        c = onehot(c, n=10)\n",
    "        x = t.cat((x, c), -1)\n",
    "        \n",
    "        x = self.MLP(x)\n",
    "        \n",
    "        means = self.linear_means(x)\n",
    "        log_vars = self.linear_log_var(x)\n",
    "        \n",
    "        return means, log_vars"
   ]
  },
  {
   "cell_type": "code",
   "execution_count": 6,
   "id": "2e5bfc6e-2838-4a7d-8f04-7142a15388e8",
   "metadata": {},
   "outputs": [],
   "source": [
    "class Decoder(nn.Module):\n",
    "    def __init__(self, layer_sizes: list[int], latent_size: int,\n",
    "                 num_labels: int):\n",
    "        super().__init__()\n",
    "        \n",
    "        self.MLP = nn.Sequential()\n",
    "        input_size = latent_size + num_labels\n",
    "        \n",
    "        for i, (j, k) in enumerate(\n",
    "            zip([input_size]+layer_sizes[:-1], layer_sizes)):\n",
    "            self.MLP.add_module(name=f'L{i}', module=nn.Linear(j, k))\n",
    "            if i + 1 < len(layer_sizes):\n",
    "                self.MLP.add_module(name=f'A{i}', module=nn.ReLU())\n",
    "            else:\n",
    "                self.MLP.add_module(name='sigmoid', module=nn.Sigmoid())\n",
    "                \n",
    "    def forward(self, z: t.Tensor, c: t.Tensor) -> t.Tensor:\n",
    "        assert c is not None\n",
    "        c = onehot(c, n=10)\n",
    "        z = t.cat((z, c), -1)\n",
    "        \n",
    "        x = self.MLP(z)\n",
    "        \n",
    "        return x"
   ]
  },
  {
   "cell_type": "code",
   "execution_count": 28,
   "id": "b57b85a3-6cb8-4bec-b099-13153527a5c0",
   "metadata": {},
   "outputs": [],
   "source": [
    "def vae_loss(recon_x: t.Tensor, x: t.Tensor, mean: t.Tensor,\n",
    "             log_var: t.Tensor) -> t.Tensor:\n",
    "    BCE = t.nn.functional.binary_cross_entropy(\n",
    "        recon_x.view(-1, 28*28), x.view(-1, 28*28), reduction='sum')\n",
    "    DKL = -0.5 * t.sum(1 + log_var - mean.pow(2) - log_var.exp())\n",
    "    \n",
    "    return (BCE + DKL) / x.size(0)"
   ]
  },
  {
   "cell_type": "code",
   "execution_count": 9,
   "id": "0d99fefa-cd27-4b26-8ea6-22320e066495",
   "metadata": {},
   "outputs": [],
   "source": [
    "def train(train_loader: DataLoader, vae: VAE, opt: t.optim.Optimizer, \n",
    "          epochs: int = 10,latent_size: int = 2, log_every: int = 100):\n",
    "    for e in range(epochs):\n",
    "        for iteration, (x, y) in enumerate(train_loader):\n",
    "            \n",
    "            x, y = x.to(device), y.to(device)\n",
    "            recon_x, mean, log_var, z = vae(x, y)\n",
    "\n",
    "            loss = vae_loss(recon_x, x, mean, log_var)\n",
    "            \n",
    "            opt.zero_grad()\n",
    "            loss.backward()\n",
    "            opt.step()\n",
    "            \n",
    "            if iteration % log_every == 0 or iteration == len(train_loader)-1:\n",
    "                print(\"Epoch {:02d}/{:02d} Batch {:04d}{:d}, Loss {:9.4f}\".format(\n",
    "                    e, epochs, iteration, len(train_loader)-1, loss.item()))"
   ]
  },
  {
   "cell_type": "code",
   "execution_count": null,
   "id": "b0be5489-9720-4330-af3b-58f6b3586b8d",
   "metadata": {},
   "outputs": [],
   "source": [
    "train_loader, test_loader = load_mnist()\n",
    "vae = VAE(encoder_layers=[784, 256],\n",
    "          latent_size=2,\n",
    "          decoder_layers=[256, 784],\n",
    "          num_labels=10).to(device)\n",
    "opt = t.optim.Adam(vae.parameters(), lr=1e-3)\n",
    "train(train_loader, vae, opt)"
   ]
  },
  {
   "cell_type": "code",
   "execution_count": 26,
   "id": "f31612d3-3210-4cfc-8b9c-b9c77f915b90",
   "metadata": {},
   "outputs": [],
   "source": [
    "def generate(vae: VAE):\n",
    "    c = t.arange(0, 10).long().unsqueeze(1).to(device)\n",
    "    z = t.randn([c.size(0), vae.latent_size]).to(device)\n",
    "    x = vae.inference(z, c=c)\n",
    "    plt.figure()\n",
    "    plt.figure(figsize=(5, 10))\n",
    "    for p in range(10):\n",
    "        plt.subplot(5, 2, p+1)\n",
    "        plt.text(0, 0, f'c={c[p].item():d}', color='black',\n",
    "                 backgroundcolor='white', fontsize=8)\n",
    "        plt.imshow(x[p].view(28, 28).cpu().data.numpy())\n",
    "        plt.axis('off')\n",
    "    plt.show()"
   ]
  },
  {
   "cell_type": "code",
   "execution_count": 33,
   "id": "dce63431-60a8-446e-a274-9d9bcc527a03",
   "metadata": {},
   "outputs": [
    {
     "data": {
      "text/plain": [
       "<Figure size 432x288 with 0 Axes>"
      ]
     },
     "metadata": {},
     "output_type": "display_data"
    },
    {
     "data": {
      "image/png": "[encoded data removed]",
      "text/plain": [
       "<Figure size 360x720 with 10 Axes>"
      ]
     },
     "metadata": {
      "needs_background": "light"
     },
     "output_type": "display_data"
    }
   ],
   "source": [
    "generate(vae)"
   ]
  },
  {
   "cell_type": "code",
   "execution_count": null,
   "id": "35d3f160-cf2f-47db-aa63-0bcef076aff4",
   "metadata": {},
   "outputs": [],
   "source": []
  }
 ],
 "metadata": {
  "kernelspec": {
   "display_name": "agnvenv (Python 3.9)",
   "language": "python",
   "name": "agnvenv"
  },
  "language_info": {
   "codemirror_mode": {
    "name": "ipython",
    "version": 3
   },
   "file_extension": ".py",
   "mimetype": "text/x-python",
   "name": "python",
   "nbconvert_exporter": "python",
   "pygments_lexer": "ipython3",
   "version": "3.9.6"
  }
 },
 "nbformat": 4,
 "nbformat_minor": 5
}
