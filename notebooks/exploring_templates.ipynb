{
 "cells": [
  {
   "cell_type": "code",
   "execution_count": null,
   "id": "0e265b25-2846-4af7-abbc-6ca4411e70ba",
   "metadata": {},
   "outputs": [],
   "source": [
    "# Exploring templates\n",
    "\n",
    "import os\n",
    "import logging\n",
    "import torch as t\n",
    "import numpy as np\n",
    "import matplotlib.pyplot as plt\n",
    "\n",
    "import pandas as pd\n",
    "\n",
    "from agnfinder import config as cfg\n",
    "from agnfinder.types import Filters\n",
    "from agnfinder.prospector import Prospector, visualise"
   ]
  },
  {
   "cell_type": "code",
   "execution_count": null,
   "id": "0c1eb6f2-2cde-48ae-b0e5-e6e4a17353ae",
   "metadata": {},
   "outputs": [],
   "source": [
    "# NOTE: only run this cell once\n",
    "# change the working directory to the root of the `agnfinder` project:\n",
    "os.chdir(os.path.join(os.getcwd(), '../'))"
   ]
  },
  {
   "cell_type": "code",
   "execution_count": null,
   "id": "384fca2c-8920-49a2-81bc-7f1a9a26affd",
   "metadata": {},
   "outputs": [],
   "source": [
    "# configure logging\n",
    "# change to (e.g.) logging.ERROR for less verbose output\n",
    "cfg.configure_logging(debug_level=logging.INFO)"
   ]
  },
  {
   "cell_type": "code",
   "execution_count": null,
   "id": "fa49090a-20d0-4bfe-9ea6-615bfbccf66f",
   "metadata": {},
   "outputs": [],
   "source": [
    "p = Prospector(filter_selection=Filters.Euclid,\n",
    "               emulate_ssp=False)"
   ]
  },
  {
   "cell_type": "code",
   "execution_count": null,
   "id": "25d1c8c7-3e67-4e1e-a68e-29c6dc6ec7dd",
   "metadata": {},
   "outputs": [],
   "source": [
    "visualise.visualise_obs(p.obs)"
   ]
  },
  {
   "cell_type": "code",
   "execution_count": null,
   "id": "217c535b-8671-4299-b7ee-9dfd66fde2b1",
   "metadata": {},
   "outputs": [],
   "source": []
  }
 ],
 "metadata": {
  "kernelspec": {
   "display_name": "agnvenv (Python 3.9)",
   "language": "python",
   "name": "agnvenv"
  },
  "language_info": {
   "codemirror_mode": {
    "name": "ipython",
    "version": 3
   },
   "file_extension": ".py",
   "mimetype": "text/x-python",
   "name": "python",
   "nbconvert_exporter": "python",
   "pygments_lexer": "ipython3",
   "version": "3.9.6"
  }
 },
 "nbformat": 4,
 "nbformat_minor": 5
}
