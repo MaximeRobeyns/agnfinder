{
 "cells": [
  {
   "cell_type": "markdown",
   "metadata": {},
   "source": [
    "# Visualise How FSPS Params Change SED\n",
    "\n",
    "This notebook is much like gridding_foward_model/grid_verification.ipynb, in that it looks at how the photometry changes with each parameter, but is a test one step earlier. It's directly checking what FSPS says about the SED."
   ]
  },
  {
   "cell_type": "code",
   "execution_count": 1,
   "metadata": {},
   "outputs": [],
   "source": [
    "%load_ext autoreload\n",
    "%autoreload 2\n",
    "%matplotlib inline"
   ]
  },
  {
   "cell_type": "code",
   "execution_count": 2,
   "metadata": {},
   "outputs": [],
   "source": [
    "# you can do this, but it'll grind to a halt once you start making plots due to matplotlib really enjoying DEBUG statements...\n",
    "# import logging\n",
    "# logging.basicConfig(level=logging.DEBUG)"
   ]
  },
  {
   "cell_type": "code",
   "execution_count": 3,
   "metadata": {},
   "outputs": [],
   "source": [
    "import os\n",
    "\n",
    "import h5py\n",
    "import numpy as np\n",
    "import matplotlib.pyplot as plt\n",
    "from matplotlib import cm\n",
    "import seaborn as sns\n",
    "from prospect.utils.obsutils import fix_obs\n",
    "\n",
    "from agnfinder.prospector import visualise, main, cpz_builders"
   ]
  },
  {
   "cell_type": "code",
   "execution_count": 5,
   "metadata": {},
   "outputs": [],
   "source": [
    "os.chdir('/home/walml/repos/agnfinder')"
   ]
  },
  {
   "cell_type": "code",
   "execution_count": null,
   "metadata": {},
   "outputs": [],
   "source": [
    "!pwd"
   ]
  },
  {
   "cell_type": "code",
   "execution_count": 6,
   "metadata": {},
   "outputs": [],
   "source": [
    "catalog_loc = 'data/cpz_paper_sample_week3_maggies.parquet'\n",
    "galaxy_index = 10\n",
    "galaxy = main.load_galaxy(catalog_loc, galaxy_index)\n",
    "# redshift = galaxy['redshift']\n",
    "# redshift = 0.001  # for now, to avoid rest/observer frame shifts (can't be exactly 0 or will evaluate False)\n",
    "redshift = True"
   ]
  },
  {
   "cell_type": "code",
   "execution_count": 7,
   "metadata": {},
   "outputs": [],
   "source": [
    "agn_mass = True\n",
    "agn_eb_v = True\n",
    "agn_torus_mass = True\n",
    "igm_absorbtion = True\n",
    "inclination = True"
   ]
  },
  {
   "cell_type": "code",
   "execution_count": 9,
   "metadata": {},
   "outputs": [
    {
     "name": "stderr",
     "output_type": "stream",
     "text": [
      "WARNING:root:Galaxy not supplied - creating default obs for Prospector compatability only\n",
      "WARNING:root:Building custom CSPSpecBasisAGN as agn_mass is True\n",
      "WARNING:root:Using standard FSPS for SSP, no emulation\n"
     ]
    }
   ],
   "source": [
    "run_params, obs, model, sps = main.construct_problem(redshift=redshift, agn_mass=agn_mass, agn_eb_v=agn_eb_v, agn_torus_mass=agn_torus_mass, igm_absorbtion=igm_absorbtion, inclination=True, emulate_ssp=False, filter_selection='euclid')"
   ]
  },
  {
   "cell_type": "code",
   "execution_count": null,
   "metadata": {},
   "outputs": [],
   "source": []
  },
  {
   "cell_type": "code",
   "execution_count": 17,
   "metadata": {},
   "outputs": [
    {
     "data": {
      "text/plain": [
       "array([0.1])"
      ]
     },
     "execution_count": 17,
     "metadata": {},
     "output_type": "execute_result"
    }
   ],
   "source": [
    "model.params['zred']"
   ]
  },
  {
   "cell_type": "markdown",
   "metadata": {},
   "source": [
    "sps should be an instance of my custom CSPSpecBasisAGN class"
   ]
  },
  {
   "cell_type": "code",
   "execution_count": 10,
   "metadata": {},
   "outputs": [
    {
     "data": {
      "text/plain": [
       "<agnfinder.prospector.cpz_builders.CSPSpecBasisAGN at 0x7fd3e18c65d0>"
      ]
     },
     "execution_count": 10,
     "metadata": {},
     "output_type": "execute_result"
    }
   ],
   "source": [
    "sps"
   ]
  },
  {
   "cell_type": "code",
   "execution_count": 11,
   "metadata": {},
   "outputs": [
    {
     "data": {
      "text/plain": [
       ":::::::\n",
       "<class 'prospect.models.sedmodel.SedModel'>\n",
       "\n",
       "Free Parameters: (name: prior) \n",
       "-----------\n",
       "  zred: <class 'prospect.models.priors.TopHat'>(mini=0.0,maxi=4.0)\n",
       "  mass: <class 'prospect.models.priors.LogUniform'>(mini=100000000.0,maxi=1000000000000.0)\n",
       "  dust2: <class 'prospect.models.priors.TopHat'>(mini=0.0,maxi=2.0)\n",
       "  tage: <class 'prospect.models.priors.TopHat'>(mini=0.001,maxi=13.8)\n",
       "  tau: <class 'prospect.models.priors.LogUniform'>(mini=0.1,maxi=30)\n",
       "  agn_mass: <class 'prospect.models.priors.LogUniform'>(mini=1e-07,maxi=15)\n",
       "  agn_eb_v: <class 'prospect.models.priors.TopHat'>(mini=0.0,maxi=0.5)\n",
       "  agn_torus_mass: <class 'prospect.models.priors.LogUniform'>(mini=1e-07,maxi=15)\n",
       "  inclination: <class 'prospect.models.priors.TopHat'>(mini=0.0,maxi=90.0)\n",
       "\n",
       "Fixed Parameters: (name: value [, depends_on]) \n",
       "-----------\n",
       "  logzsol: 0.0 \n",
       "  sfh: 4 \n",
       "  imf_type: 2 \n",
       "  dust_type: 2 \n",
       "  add_dust_emission: True \n",
       "  duste_umin: 1.0 \n",
       "  duste_qpah: 4.0 \n",
       "  duste_gamma: 0.001 \n",
       "  add_igm_absorption: True \n",
       "  igm_factor: 1.0 "
      ]
     },
     "execution_count": 11,
     "metadata": {},
     "output_type": "execute_result"
    }
   ],
   "source": [
    "model"
   ]
  },
  {
   "cell_type": "markdown",
   "metadata": {},
   "source": [
    "And model should include agn_mass and agn_eb_v"
   ]
  },
  {
   "cell_type": "code",
   "execution_count": 12,
   "metadata": {},
   "outputs": [
    {
     "data": {
      "text/plain": [
       "['zred',\n",
       " 'mass',\n",
       " 'dust2',\n",
       " 'tage',\n",
       " 'tau',\n",
       " 'agn_mass',\n",
       " 'agn_eb_v',\n",
       " 'agn_torus_mass',\n",
       " 'inclination']"
      ]
     },
     "execution_count": 12,
     "metadata": {},
     "output_type": "execute_result"
    }
   ],
   "source": [
    "model.free_params"
   ]
  },
  {
   "cell_type": "code",
   "execution_count": 13,
   "metadata": {},
   "outputs": [
    {
     "data": {
      "text/plain": [
       "['logzsol',\n",
       " 'sfh',\n",
       " 'imf_type',\n",
       " 'dust_type',\n",
       " 'add_dust_emission',\n",
       " 'duste_umin',\n",
       " 'duste_qpah',\n",
       " 'duste_gamma',\n",
       " 'add_igm_absorption',\n",
       " 'igm_factor']"
      ]
     },
     "execution_count": 13,
     "metadata": {},
     "output_type": "execute_result"
    }
   ],
   "source": [
    "model.fixed_params"
   ]
  },
  {
   "cell_type": "code",
   "execution_count": 14,
   "metadata": {},
   "outputs": [
    {
     "ename": "AssertionError",
     "evalue": "",
     "output_type": "error",
     "traceback": [
      "\u001b[0;31m---------------------------------------------------------------------------\u001b[0m",
      "\u001b[0;31mAssertionError\u001b[0m                            Traceback (most recent call last)",
      "\u001b[0;32m<ipython-input-14-a871fdc9ebee>\u001b[0m in \u001b[0;36m<module>\u001b[0;34m\u001b[0m\n\u001b[0;32m----> 1\u001b[0;31m \u001b[0;32massert\u001b[0m \u001b[0;32mFalse\u001b[0m\u001b[0;34m\u001b[0m\u001b[0;34m\u001b[0m\u001b[0m\n\u001b[0m",
      "\u001b[0;31mAssertionError\u001b[0m: "
     ]
    }
   ],
   "source": [
    "assert False"
   ]
  },
  {
   "cell_type": "code",
   "execution_count": null,
   "metadata": {},
   "outputs": [],
   "source": [
    "model.initial_theta"
   ]
  },
  {
   "cell_type": "code",
   "execution_count": null,
   "metadata": {},
   "outputs": [],
   "source": [
    "model.theta"
   ]
  },
  {
   "cell_type": "code",
   "execution_count": null,
   "metadata": {},
   "outputs": [],
   "source": [
    "model_spectrum, model_photometry, _ = model.sed(model.initial_theta, obs, sps)  # trigger fsps calculation, takes a couple of minutes - then cached"
   ]
  },
  {
   "cell_type": "code",
   "execution_count": null,
   "metadata": {},
   "outputs": [],
   "source": [
    "model_photometry"
   ]
  },
  {
   "cell_type": "code",
   "execution_count": null,
   "metadata": {},
   "outputs": [],
   "source": [
    "sps.quasar_flux"
   ]
  },
  {
   "cell_type": "code",
   "execution_count": null,
   "metadata": {},
   "outputs": [],
   "source": [
    "assert max(sps.quasar_flux) > min(sps.quasar_flux)  # quasar component should be SOMETHING"
   ]
  },
  {
   "cell_type": "code",
   "execution_count": null,
   "metadata": {},
   "outputs": [],
   "source": [
    "model_param_index = dict(zip(model.free_params, range(len(model.free_params))))"
   ]
  },
  {
   "cell_type": "code",
   "execution_count": null,
   "metadata": {},
   "outputs": [],
   "source": [
    "def set_galaxy_param(galaxy, param, value):\n",
    "    new_galaxy = galaxy.copy()\n",
    "    new_galaxy[model_param_index[param]] = value\n",
    "    return new_galaxy"
   ]
  },
  {
   "cell_type": "code",
   "execution_count": null,
   "metadata": {},
   "outputs": [],
   "source": [
    "def visualise_models(models, varying_param, ylim=[10**-18, None]):\n",
    "    fig, ax = plt.subplots(figsize=(16, 8))\n",
    "    for galaxy in galaxies:\n",
    "        visualise.plot_model_at_obs(ax, model, galaxy, obs, sps, spectra_label='{}={:.3e}'.format(varying_param, galaxy[model_param_index[varying_param]]), photo_label=None)\n",
    "        ax.legend()\n",
    "    ax.set_ylim(ylim)\n",
    "    # plt.loglog(sps.wavelengths, sps.galaxy_flux, label='Galaxy')"
   ]
  },
  {
   "cell_type": "markdown",
   "metadata": {},
   "source": [
    "## How does the SED change as we vary the galaxy (non-AGN) parameters?"
   ]
  },
  {
   "cell_type": "code",
   "execution_count": null,
   "metadata": {},
   "outputs": [],
   "source": [
    "# ['mass', 'dust2', 'tage', 'tau',\n",
    "theta_no_agn = model.initial_theta\n",
    "theta_no_agn = set_galaxy_param(theta_no_agn, 'agn_torus_mass', 0)\n",
    "theta_no_agn = set_galaxy_param(theta_no_agn, 'agn_mass', 0)"
   ]
  },
  {
   "cell_type": "code",
   "execution_count": null,
   "metadata": {},
   "outputs": [],
   "source": [
    "galaxies = [set_galaxy_param(theta_no_agn, 'mass', x) for x in np.logspace(10, 13, num=5)]\n",
    "visualise_models(galaxies, varying_param='mass')"
   ]
  },
  {
   "cell_type": "markdown",
   "metadata": {},
   "source": [
    "Mass is a straight-up scale, as expected"
   ]
  },
  {
   "cell_type": "code",
   "execution_count": null,
   "metadata": {},
   "outputs": [],
   "source": [
    "galaxies = [set_galaxy_param(theta_no_agn, 'dust2', x) for x in np.linspace(0, 2, num=5)]\n",
    "visualise_models(galaxies, varying_param='dust2')"
   ]
  },
  {
   "cell_type": "code",
   "execution_count": null,
   "metadata": {},
   "outputs": [],
   "source": [
    "theta_no_agn[model_param_index['tage']]"
   ]
  },
  {
   "cell_type": "code",
   "execution_count": null,
   "metadata": {},
   "outputs": [],
   "source": [
    "galaxies = [set_galaxy_param(theta_no_agn, 'tage', x) for x in np.linspace(0.001, 13.8, num=5)]\n",
    "visualise_models(galaxies, varying_param='tage')"
   ]
  },
  {
   "cell_type": "code",
   "execution_count": null,
   "metadata": {},
   "outputs": [],
   "source": [
    "theta_no_agn[model_param_index['tage']]"
   ]
  },
  {
   "cell_type": "code",
   "execution_count": null,
   "metadata": {},
   "outputs": [],
   "source": [
    "np.log(.1)"
   ]
  },
  {
   "cell_type": "code",
   "execution_count": null,
   "metadata": {},
   "outputs": [],
   "source": [
    "np.log(2)"
   ]
  },
  {
   "cell_type": "code",
   "execution_count": null,
   "metadata": {},
   "outputs": [],
   "source": [
    "np.logspace(np.log10(0.1), np.log10(2), num=15)"
   ]
  },
  {
   "cell_type": "code",
   "execution_count": null,
   "metadata": {},
   "outputs": [],
   "source": [
    "galaxies = [set_galaxy_param(theta_no_agn, 'tau', x) for x in np.logspace(np.log10(0.1), np.log10(2), num=15)]\n",
    "visualise_models(galaxies, varying_param='tau', ylim=[10**-18, 10**6])"
   ]
  },
  {
   "cell_type": "code",
   "execution_count": null,
   "metadata": {},
   "outputs": [],
   "source": [
    "galaxies = [set_galaxy_param(theta_no_agn, 'tau', x) for x in np.logspace(np.log10(2), np.log10(10), num=15)]\n",
    "visualise_models(galaxies, varying_param='tau', ylim=[10**-18, 10**6])"
   ]
  },
  {
   "cell_type": "code",
   "execution_count": null,
   "metadata": {},
   "outputs": [],
   "source": [
    "galaxies = [set_galaxy_param(theta_no_agn, 'tau', x) for x in np.logspace(np.log10(10), np.log10(30), num=15)]\n",
    "visualise_models(galaxies, varying_param='tau', ylim=[10**-18, 10**6])"
   ]
  },
  {
   "cell_type": "markdown",
   "metadata": {},
   "source": [
    "How do tau and tage jointly affect the SED?"
   ]
  },
  {
   "cell_type": "code",
   "execution_count": null,
   "metadata": {},
   "outputs": [],
   "source": [
    "\n",
    "tages = np.linspace(0.001, 13.8, num=5)\n",
    "taus = np.logspace(np.log10(0.1), np.log10(2), num=8)\n",
    "\n",
    "fig, axes = plt.subplots(ncols=len(tages), figsize=(25, 4), sharex=True, sharey=True)\n",
    "ylim=[10**-9, 10**5]\n",
    "for col_n, tage in enumerate(tages):\n",
    "    base_galaxy = set_galaxy_param(theta_no_agn, 'tage', tage)\n",
    "    galaxies = [set_galaxy_param(base_galaxy, 'tau', x) for x in taus]\n",
    "    ax = axes[col_n]\n",
    "    varying_param = 'tau'\n",
    "    for galaxy_n, galaxy in enumerate(galaxies):\n",
    "        normalised_taus = 1. * (taus - taus.min()) / (taus.max() - taus.min())\n",
    "        color = cm.magma(normalised_taus[galaxy_n])\n",
    "        visualise.plot_model_at_obs(ax, model, galaxy, obs, sps, spectra_label='{}={:.3e}'.format(varying_param, galaxy[model_param_index[varying_param]]), spectra_kwargs={'color': color}, photo_kwargs={'alpha': .001}, photo_label=None)\n",
    "    ax.legend()\n",
    "    ax.set_title('tage={:.3e}'.format(tage))\n",
    "    ax.set_ylim(ylim)"
   ]
  },
  {
   "cell_type": "markdown",
   "metadata": {},
   "source": [
    "## How does the SED change as we vary the AGN parameters?"
   ]
  },
  {
   "cell_type": "code",
   "execution_count": null,
   "metadata": {},
   "outputs": [],
   "source": [
    "galaxies = [set_galaxy_param(model.theta, 'agn_mass', x) for x in np.logspace(10, 15, num=5)]\n",
    "visualise_models(galaxies, varying_param='agn_mass')"
   ]
  },
  {
   "cell_type": "code",
   "execution_count": null,
   "metadata": {},
   "outputs": [],
   "source": [
    "observer_wavelengths = visualise.get_observer_frame_wavelengths(model, sps)"
   ]
  },
  {
   "cell_type": "code",
   "execution_count": null,
   "metadata": {},
   "outputs": [],
   "source": [
    "plt.loglog(observer_wavelengths, sps.galaxy_flux, label='Galaxy')\n",
    "plt.loglog(observer_wavelengths, sps.unextincted_quasar_flux, 'b--', label='Unextincted Quasar (not used)')\n",
    "plt.loglog(observer_wavelengths, sps.extincted_quasar_flux, label='Extincted Quasar')\n",
    "# plt.loglog(observer_wavelengths, sps.torus_flux, label='Torus')\n",
    "# plt.loglog(observer_wavelengths, sps.quasar_flux, 'k', label='Net (Quasar)')\n",
    "plt.legend()"
   ]
  },
  {
   "cell_type": "markdown",
   "metadata": {},
   "source": [
    "What if we add extinction?"
   ]
  },
  {
   "cell_type": "code",
   "execution_count": null,
   "metadata": {},
   "outputs": [],
   "source": [
    "galaxies = [set_galaxy_param(model.theta, 'agn_eb_v', x) for x in np.linspace(0, .5, num=5)]\n",
    "visualise_models(galaxies, varying_param='agn_eb_v')"
   ]
  },
  {
   "cell_type": "markdown",
   "metadata": {},
   "source": [
    "What about the torus?"
   ]
  },
  {
   "cell_type": "code",
   "execution_count": null,
   "metadata": {},
   "outputs": [],
   "source": [
    "galaxies = [set_galaxy_param(model.theta, 'agn_torus_mass', x) for x in np.logspace(10, 15, num=5)]\n",
    "visualise_models(galaxies, varying_param='agn_torus_mass')"
   ]
  },
  {
   "cell_type": "markdown",
   "metadata": {},
   "source": [
    "And let's just check that extinction also applies to the torus"
   ]
  },
  {
   "cell_type": "code",
   "execution_count": null,
   "metadata": {},
   "outputs": [],
   "source": [
    "model_strong_torus = model.theta\n",
    "model_strong_torus = set_galaxy_param(model_strong_torus, 'agn_torus_mass', 10 ** 15)\n",
    "model_strong_torus = set_galaxy_param(model_strong_torus, 'agn_mass', 10 ** 10)\n",
    "galaxies = [set_galaxy_param(model_strong_torus, 'agn_eb_v', x) for x in np.linspace(0, .5, num=5)]\n",
    "visualise_models(galaxies, varying_param='agn_eb_v')"
   ]
  },
  {
   "cell_type": "markdown",
   "metadata": {},
   "source": [
    "So AGN extinction doesn't have much effect on the torus, and will have a much bigger effect on AGN-disk-dominated galaxies - as expected"
   ]
  },
  {
   "cell_type": "code",
   "execution_count": null,
   "metadata": {},
   "outputs": [],
   "source": [
    "plot_components(observer_wavelengths, sps)\n",
    "plt.ylim([1e-30, 1e-13])\n",
    "plt.xlim([1e3, 1e7])"
   ]
  },
  {
   "cell_type": "code",
   "execution_count": null,
   "metadata": {},
   "outputs": [],
   "source": [
    "theta_agn[model_param_index['mass']]"
   ]
  },
  {
   "cell_type": "code",
   "execution_count": null,
   "metadata": {},
   "outputs": [],
   "source": []
  },
  {
   "cell_type": "markdown",
   "metadata": {},
   "source": [
    "## What does this look like for a model that we've actually fit?"
   ]
  },
  {
   "cell_type": "markdown",
   "metadata": {},
   "source": [
    "Latest results: loguniform priors, 1e14 rescaling"
   ]
  },
  {
   "cell_type": "code",
   "execution_count": null,
   "metadata": {},
   "outputs": [],
   "source": [
    "def load_theta_from_samples(samples_loc):\n",
    "    with h5py.File(samples_loc, 'r') as f:\n",
    "        samples = f['samples'][...]\n",
    "        return np.median(samples, axis=0)"
   ]
  },
  {
   "cell_type": "code",
   "execution_count": null,
   "metadata": {},
   "outputs": [],
   "source": [
    "# old: AGN now 1e14 bigger"
   ]
  },
  {
   "cell_type": "markdown",
   "metadata": {},
   "source": [
    "### Quasar?"
   ]
  },
  {
   "cell_type": "code",
   "execution_count": null,
   "metadata": {},
   "outputs": [],
   "source": [
    "samples_loc = '/home/mike/repos/agnfinder/results/mixed_wide_loguniform_priors_fixed_inclination/qso_loguniform_mass_0_1564681166_multinest_samples.h5py'\n",
    "assert os.path.isfile(samples_loc)\n",
    "fit_theta = load_theta_from_samples(samples_loc)\n",
    "dict(zip(model.free_params, fit_theta))"
   ]
  },
  {
   "cell_type": "code",
   "execution_count": null,
   "metadata": {},
   "outputs": [],
   "source": [
    "fit_theta"
   ]
  },
  {
   "cell_type": "code",
   "execution_count": null,
   "metadata": {},
   "outputs": [],
   "source": [
    "fig, ax = plt.subplots(figsize=(16, 6))\n",
    "visualise.plot_model_at_obs(ax, model, fit_theta, obs, sps)  \n",
    "ax.set_ylim([1e-20, 1e1])\n",
    "ax.set_xlim([1e3, 1e7])"
   ]
  },
  {
   "cell_type": "code",
   "execution_count": null,
   "metadata": {},
   "outputs": [],
   "source": [
    "plot_components(observer_wavelengths, sps)\n",
    "plt.ylim([1e-17, 1e-10])\n",
    "plt.xlim([1e3, 1e7])"
   ]
  },
  {
   "cell_type": "markdown",
   "metadata": {},
   "source": [
    "Quasar and torus dominate all except the cold gas component, just as we'd like."
   ]
  },
  {
   "cell_type": "markdown",
   "metadata": {},
   "source": [
    "### Starforming?"
   ]
  },
  {
   "cell_type": "code",
   "execution_count": null,
   "metadata": {},
   "outputs": [],
   "source": [
    "samples_loc = '/home/mike/repos/agnfinder/results/mixed_wide_loguniform_priors_fixed_inclination/starforming_loguniform_mass_0_1564679182_multinest_samples.h5py'\n",
    "assert os.path.isfile(samples_loc)\n",
    "fit_theta = load_theta_from_samples(samples_loc)\n",
    "dict(zip(model.free_params, fit_theta))\n",
    "\n",
    "\n",
    "fig, ax = plt.subplots(figsize=(16, 6))\n",
    "visualise.plot_model_at_obs(ax, model, fit_theta, obs, sps)  \n",
    "ax.set_ylim([1e-25, 1e-6])\n",
    "ax.set_xlim([1e3, 1e7])\n"
   ]
  },
  {
   "cell_type": "code",
   "execution_count": null,
   "metadata": {},
   "outputs": [],
   "source": [
    "components = visualise.get_components(sps)  # order matters! must be most recent sps calc....\n",
    "visualise.plot_components(components)\n",
    "plt.ylim([1e-20, 1e-14])\n",
    "plt.xlim([1e3, 1e7])"
   ]
  },
  {
   "cell_type": "markdown",
   "metadata": {},
   "source": [
    "The quasar still makes a noticeable contribution at the bluest wavelengths, where the galaxy flux is lowest. So I still need a prior that allows for an even lower quasar contribution, by 2 orders of magnitude or so.\n",
    "\n",
    "GALEX FUV is at about 1500 angstroms, which would be in the agn-contribution zone - except for redshift, which (for this particular quasar) pushes FUV observations to the longer-wavelength galaxy-dominated regime - so we get away with it here."
   ]
  },
  {
   "cell_type": "code",
   "execution_count": null,
   "metadata": {},
   "outputs": [],
   "source": []
  },
  {
   "cell_type": "markdown",
   "metadata": {},
   "source": [
    "### AGN?"
   ]
  },
  {
   "cell_type": "code",
   "execution_count": null,
   "metadata": {},
   "outputs": [],
   "source": [
    "samples_loc = '/home/mike/repos/agnfinder/results/mixed_wide_loguniform_priors_fixed_inclination/agn_loguniform_mass_0_1564679232_multinest_samples.h5py'\n",
    "assert os.path.isfile(samples_loc)\n",
    "fit_theta = load_theta_from_samples(samples_loc)\n",
    "dict(zip(model.free_params, fit_theta))\n",
    "\n",
    "fig, ax = plt.subplots(figsize=(16, 6))\n",
    "visualise.plot_model_at_obs(ax, model, fit_theta, obs, sps)  \n",
    "# ax.set_ylim([1e-10, 1e-6])\n",
    "# ax.set_xlim([1e3, 1e7])"
   ]
  },
  {
   "cell_type": "code",
   "execution_count": null,
   "metadata": {},
   "outputs": [],
   "source": [
    "plot_components(observer_wavelengths, sps)\n",
    "plt.ylim([1e-18, 1e-11])\n",
    "plt.xlim([1e3, 1e7])"
   ]
  },
  {
   "cell_type": "code",
   "execution_count": null,
   "metadata": {},
   "outputs": [],
   "source": [
    "samples_loc = '/home/mike/repos/agnfinder/results/mixed_wide_loguniform_priors_fixed_inclination/agn_loguniform_mass_0_1564679232_multinest_samples.h5py'\n",
    "assert os.path.isfile(samples_loc)\n",
    "fit_theta = load_theta_from_samples(samples_loc)\n",
    "dict(zip(model.free_params, fit_theta))\n",
    "\n",
    "fig, ax = plt.subplots(figsize=(16, 6))\n",
    "visualise.plot_model_at_obs(ax, model, fit_theta, obs, sps)  \n",
    "ax.set_ylim([1e-10, 1e-6])\n",
    "ax.set_xlim([1e3, 17])"
   ]
  },
  {
   "cell_type": "code",
   "execution_count": null,
   "metadata": {},
   "outputs": [],
   "source": [
    "plot_components(observer_wavelengths, sps)\n",
    "plt.ylim([1e-18, 1e-11])\n",
    "plt.xlim([1e3, 1e7])"
   ]
  },
  {
   "cell_type": "markdown",
   "metadata": {},
   "source": [
    "Is it worrying that the torus extinction can be so small? I think it would be a good idea to decide on a link between these..."
   ]
  }
 ],
 "metadata": {
  "kernelspec": {
   "display_name": "Python 3",
   "language": "python",
   "name": "python3"
  },
  "language_info": {
   "codemirror_mode": {
    "name": "ipython",
    "version": 3
   },
   "file_extension": ".py",
   "mimetype": "text/x-python",
   "name": "python",
   "nbconvert_exporter": "python",
   "pygments_lexer": "ipython3",
   "version": "3.7.6"
  }
 },
 "nbformat": 4,
 "nbformat_minor": 4
}
