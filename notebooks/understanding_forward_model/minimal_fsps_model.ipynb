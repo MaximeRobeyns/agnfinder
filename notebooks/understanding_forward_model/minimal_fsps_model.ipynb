{
 "cells": [
  {
   "cell_type": "markdown",
   "metadata": {},
   "source": [
    "## Minimal pyFSPS model\n",
    "\n",
    "Useful to check if FSPS is working properly"
   ]
  },
  {
   "cell_type": "code",
   "execution_count": null,
   "metadata": {},
   "outputs": [],
   "source": [
    "import fsps\n",
    "sp = fsps.StellarPopulation(compute_vega_mags=False, zcontinuous=1,\n",
    "                                sfh=0, logzsol=0.0, dust_type=2, dust2=0.2)\n",
    "sdss_bands = fsps.find_filter('sdss')\n",
    "sp.get_mags(tage=13.7, bands=sdss_bands)"
   ]
  },
  {
   "cell_type": "code",
   "execution_count": null,
   "metadata": {},
   "outputs": [],
   "source": []
  }
 ],
 "metadata": {
  "kernelspec": {
   "display_name": "Python 3",
   "language": "python",
   "name": "python3"
  },
  "language_info": {
   "codemirror_mode": {
    "name": "ipython",
    "version": 3
   },
   "file_extension": ".py",
   "mimetype": "text/x-python",
   "name": "python",
   "nbconvert_exporter": "python",
   "pygments_lexer": "ipython3",
   "version": "3.7.5"
  }
 },
 "nbformat": 4,
 "nbformat_minor": 4
}
