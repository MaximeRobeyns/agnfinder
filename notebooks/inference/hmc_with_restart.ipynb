{
 "cells": [
  {
   "cell_type": "code",
   "execution_count": 1,
   "metadata": {},
   "outputs": [],
   "source": [
    "%load_ext autoreload\n",
    "%autoreload 2\n",
    "%matplotlib inline"
   ]
  },
  {
   "cell_type": "code",
   "execution_count": 2,
   "metadata": {},
   "outputs": [],
   "source": [
    "import os\n",
    "import json\n",
    "import tensorflow as tf\n",
    "import numpy as np\n",
    "import pandas as pd\n",
    "import matplotlib.pyplot as plt\n",
    "import seaborn as sns\n",
    "sns.set_context('notebook')\n",
    "from matplotlib import cm\n",
    "import corner\n",
    "import datetime"
   ]
  },
  {
   "cell_type": "code",
   "execution_count": 3,
   "metadata": {},
   "outputs": [],
   "source": [
    "tf.enable_eager_execution()"
   ]
  },
  {
   "cell_type": "code",
   "execution_count": 4,
   "metadata": {},
   "outputs": [],
   "source": [
    "import tensorflow_probability as tfp\n",
    "tfd = tfp.distributions"
   ]
  },
  {
   "cell_type": "code",
   "execution_count": 5,
   "metadata": {},
   "outputs": [
    {
     "name": "stdout",
     "output_type": "stream",
     "text": [
      "WARNING:tensorflow:From /media/mike/Windows/linux_cache/miniconda37/envs/agnfinder/lib/python3.7/site-packages/tensorflow_probability/python/distributions/categorical.py:225: Categorical._logits_deprecated_behavior (from tensorflow_probability.python.distributions.categorical) is deprecated and will be removed after 2019-10-01.\n",
      "Instructions for updating:\n",
      "The `logits` property will return `None` when the distribution is parameterized with `logits=None`. Use `logits_parameter()` instead.\n"
     ]
    }
   ],
   "source": [
    "dist = tfd.MixtureSameFamily(\n",
    "    mixture_distribution=tfd.Categorical(\n",
    "        probs=[0.5, 0.5]),\n",
    "    components_distribution=tfd.MultivariateNormalDiag(\n",
    "    loc=[[.8, .5], [.2, .5]],\n",
    "    scale_diag=[[.2, .4], [.2, .4]])\n",
    ")"
   ]
  },
  {
   "cell_type": "code",
   "execution_count": 17,
   "metadata": {},
   "outputs": [],
   "source": [
    "\n",
    "log_prob = dist.log_prob\n",
    " \n",
    "n_chains = 128\n",
    "# initial_state = tf.constant([0.1, 0.15, 0.2])\n",
    "initial_state = tf.constant(np.random.rand(n_chains, 2), dtype=tf.float32)\n",
    "num_results = 100000\n",
    "num_burnin = 10000\n",
    "step_size = .01"
   ]
  },
  {
   "cell_type": "code",
   "execution_count": 18,
   "metadata": {},
   "outputs": [],
   "source": [
    "hmc_kernel = tfp.mcmc.HamiltonianMonteCarlo(\n",
    "    target_log_prob_fn=log_prob,\n",
    "    num_leapfrog_steps=3,\n",
    "    step_size=step_size\n",
    ")\n",
    "\n",
    "hmc_adaptive_kernel = tfp.mcmc.DualAveragingStepSizeAdaptation(\n",
    "    inner_kernel=hmc_kernel,\n",
    "    num_adaptation_steps=int(num_burnin * 0.8)\n",
    ")\n"
   ]
  },
  {
   "cell_type": "code",
   "execution_count": 21,
   "metadata": {},
   "outputs": [
    {
     "name": "stdout",
     "output_type": "stream",
     "text": [
      "HMC sampling complete in 0:00:08.328150\n"
     ]
    }
   ],
   "source": [
    "\n",
    "@tf.function(experimental_compile=True)\n",
    "# @tf.function\n",
    "def run_sampler():\n",
    "    chain_output = tfp.mcmc.sample_chain(\n",
    "        num_results=num_results,\n",
    "        num_burnin_steps=num_burnin,\n",
    "        current_state=initial_state,\n",
    "        kernel=hmc_adaptive_kernel,\n",
    "        trace_fn=None,\n",
    "        return_final_kernel_results=True\n",
    "    )\n",
    "\n",
    "start_time = datetime.datetime.now()\n",
    "\n",
    "run_sampler()\n",
    "time_elapsed = datetime.datetime.now() - start_time\n",
    "print(f'HMC sampling complete in {time_elapsed}')"
   ]
  },
  {
   "cell_type": "markdown",
   "metadata": {},
   "source": [
    "100,000 results, 10,000 burn-in, 128 chains\n",
    "\n",
    "\n",
    "2 min 11 seconds with decorator!\n",
    "8.4 seconds with XLA\n",
    "\n",
    "\n",
    "1000 results, 100 burnin, 30 chains:\n",
    "\n",
    "46 seconds with eager\n",
    "\n",
    "1.15 seconds with graph\n",
    "\n",
    "3.2 seconds with decorator, no XLA\n",
    "\n",
    "4.0 seconds with XLA (but probably due to overheads)"
   ]
  },
  {
   "cell_type": "code",
   "execution_count": null,
   "metadata": {},
   "outputs": [],
   "source": [
    "chain_output.all_states"
   ]
  },
  {
   "cell_type": "code",
   "execution_count": null,
   "metadata": {},
   "outputs": [],
   "source": [
    "chain_output.all_states."
   ]
  },
  {
   "cell_type": "code",
   "execution_count": null,
   "metadata": {},
   "outputs": [],
   "source": [
    "chain_output.final_kernel_results"
   ]
  },
  {
   "cell_type": "code",
   "execution_count": null,
   "metadata": {},
   "outputs": [],
   "source": [
    "chain_output.final_kernel_results."
   ]
  },
  {
   "cell_type": "code",
   "execution_count": null,
   "metadata": {},
   "outputs": [],
   "source": []
  },
  {
   "cell_type": "code",
   "execution_count": null,
   "metadata": {},
   "outputs": [],
   "source": []
  },
  {
   "cell_type": "code",
   "execution_count": null,
   "metadata": {},
   "outputs": [],
   "source": []
  }
 ],
 "metadata": {
  "kernelspec": {
   "display_name": "Python 3",
   "language": "python",
   "name": "python3"
  },
  "language_info": {
   "codemirror_mode": {
    "name": "ipython",
    "version": 3
   },
   "file_extension": ".py",
   "mimetype": "text/x-python",
   "name": "python",
   "nbconvert_exporter": "python",
   "pygments_lexer": "ipython3",
   "version": "3.7.5"
  }
 },
 "nbformat": 4,
 "nbformat_minor": 4
}
