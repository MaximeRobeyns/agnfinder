{
 "cells": [
  {
   "cell_type": "markdown",
   "id": "f51c5b7f-6213-4e56-bc29-2d7fc0ecb0f5",
   "metadata": {},
   "source": [
    "# FITS test\n",
    "\n",
    "Here we load some real-world observations, and attempt to use our model trained on the simulated catalogue to output PDFs for the observations."
   ]
  },
  {
   "cell_type": "markdown",
   "id": "042d6558-3809-4fcd-ab6f-62f4fb469585",
   "metadata": {},
   "source": [
    "The first step is to open up the FITS catalogue, and have a peek inside"
   ]
  },
  {
   "cell_type": "code",
   "execution_count": null,
   "id": "c11e79ef-e053-474b-8c20-69f62e18cf18",
   "metadata": {},
   "outputs": [],
   "source": [
    "import os\n",
    "import logging\n",
    "import numpy as np\n",
    "import torch as t\n",
    "import matplotlib.pyplot as plt\n",
    "\n",
    "from astropy.io import fits\n",
    "\n",
    "import agnfinder\n",
    "\n",
    "from agnfinder import config as cfg\n",
    "from agnfinder.prospector.load_photometry import get_filters\n",
    "\n",
    "try:\n",
    "    assert(_SETUP)\n",
    "except NameError:\n",
    "    cfg.configure_logging()\n",
    "    os.chdir(os.path.split(agnfinder.__path__[0])[0])\n",
    "    dtype = t.float32\n",
    "    device = t.device(\"cuda\") if t.cuda.is_available() else t.device(\"cpu\")\n",
    "    if device == t.device(\"cuda\"):\n",
    "        logging.info(\"Using GPU for models\")\n",
    "    else:\n",
    "        logging.info(\"CUDA is unavailable; using CPU for models\")\n",
    "    _SETUP = True"
   ]
  },
  {
   "cell_type": "code",
   "execution_count": null,
   "id": "73688b20-eaed-40b0-a538-930eb89cf218",
   "metadata": {},
   "outputs": [],
   "source": [
    "data_fpath: str = './data/DES_VIDEO_v1.0.1.fits'\n",
    "hdul = fits.open(data_fpath)"
   ]
  },
  {
   "cell_type": "code",
   "execution_count": null,
   "id": "c839c344-f7c0-4d05-8538-bbb18de5ff29",
   "metadata": {},
   "outputs": [],
   "source": [
    "hdul.info()"
   ]
  },
  {
   "cell_type": "code",
   "execution_count": null,
   "id": "d2d3460a-cd5c-4cd0-babf-9fa808b13a77",
   "metadata": {},
   "outputs": [],
   "source": [
    "hdul[0].header"
   ]
  },
  {
   "cell_type": "code",
   "execution_count": null,
   "id": "934bbe09-3bac-468a-9cf2-10a5d9b105bb",
   "metadata": {},
   "outputs": [],
   "source": [
    "hdul[1].columns"
   ]
  },
  {
   "cell_type": "code",
   "execution_count": null,
   "id": "7da8d125-e13f-44b8-9e07-442c16bab8f0",
   "metadata": {},
   "outputs": [],
   "source": [
    "hdul[1].header"
   ]
  },
  {
   "cell_type": "code",
   "execution_count": null,
   "id": "3135f650-aeac-4600-802e-87dbbd944ecc",
   "metadata": {},
   "outputs": [],
   "source": [
    "import h5py"
   ]
  },
  {
   "cell_type": "code",
   "execution_count": null,
   "id": "ed9b1187-e006-4caf-aed6-b9e5dad8e1e2",
   "metadata": {},
   "outputs": [],
   "source": [
    "f = h5py.File('./data/cubes/des_sample/photometry_simulation_40000000n_z_0p0000_to_6p0000.hdf5')"
   ]
  },
  {
   "cell_type": "code",
   "execution_count": null,
   "id": "0f95cc93-d730-49d6-beda-a282c7feb4d5",
   "metadata": {},
   "outputs": [],
   "source": [
    "samples = f.get('samples')"
   ]
  },
  {
   "cell_type": "code",
   "execution_count": null,
   "id": "b57206ec-528c-453b-aed2-23d6d98d5fdd",
   "metadata": {},
   "outputs": [],
   "source": [
    "simulated_y = samples.get('simulated_y')"
   ]
  },
  {
   "cell_type": "markdown",
   "id": "bf0fbd30-03f7-40b2-8573-3d6ddfb815a3",
   "metadata": {},
   "source": [
    "We need to make sure that the columns (i.e. filters) for the photometric measurements from the real-world observations are in the same order as the filters in the simulated catalogue."
   ]
  },
  {
   "cell_type": "code",
   "execution_count": null,
   "id": "7640f64c-d70f-4515-b937-caccd309e793",
   "metadata": {},
   "outputs": [],
   "source": [
    "hdul[1].data.shape[0]"
   ]
  },
  {
   "cell_type": "code",
   "execution_count": null,
   "id": "faeadc49-cb9e-42c9-af41-db912b29a73a",
   "metadata": {},
   "outputs": [],
   "source": [
    "hdul[1].columns"
   ]
  },
  {
   "cell_type": "code",
   "execution_count": null,
   "id": "8db82313-45b4-439b-9516-1dbf5aabfcfb",
   "metadata": {},
   "outputs": [],
   "source": [
    "hdul[1].data['ZAUTOMAG']"
   ]
  },
  {
   "cell_type": "code",
   "execution_count": null,
   "id": "99962a26-02df-45ad-821b-276081a62a11",
   "metadata": {},
   "outputs": [],
   "source": [
    "from agnfinder.types import Filters"
   ]
  },
  {
   "cell_type": "code",
   "execution_count": null,
   "id": "b3ae996a-d4d5-458e-9046-94ac1d6357b9",
   "metadata": {},
   "outputs": [],
   "source": [
    "Filters.DES.dim"
   ]
  },
  {
   "cell_type": "markdown",
   "id": "16817bb4-987b-4b88-be69-9c74476976a9",
   "metadata": {},
   "source": [
    "Load up the mags columns of the dataset in the correct order:\n",
    "\n",
    "NOTE: these are mags, not maggies. Need to convert them."
   ]
  },
  {
   "cell_type": "code",
   "execution_count": null,
   "id": "9fd5ca98-716e-433f-a04a-ffe2e14f5c5d",
   "metadata": {},
   "outputs": [],
   "source": [
    "cols = [hdul[1].data[f.mag_col][:,None] for f in get_filters('des')]\n",
    "dset = np.concatenate(cols, 1)\n",
    "assert dset.shape == (hdul[1].data.shape[0], Filters.DES.dim)"
   ]
  },
  {
   "cell_type": "code",
   "execution_count": null,
   "id": "e5af4edc-716c-4f37-a1dd-2500e991accd",
   "metadata": {},
   "outputs": [],
   "source": []
  }
 ],
 "metadata": {
  "kernelspec": {
   "display_name": "agnvenv (Python 3.9)",
   "language": "python",
   "name": "agnvenv"
  },
  "language_info": {
   "codemirror_mode": {
    "name": "ipython",
    "version": 3
   },
   "file_extension": ".py",
   "mimetype": "text/x-python",
   "name": "python",
   "nbconvert_exporter": "python",
   "pygments_lexer": "ipython3",
   "version": "3.9.7"
  }
 },
 "nbformat": 4,
 "nbformat_minor": 5
}
