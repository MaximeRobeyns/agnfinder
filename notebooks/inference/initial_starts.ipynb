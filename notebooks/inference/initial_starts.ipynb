{
 "cells": [
  {
   "cell_type": "code",
   "execution_count": 1,
   "metadata": {},
   "outputs": [],
   "source": [
    "%load_ext autoreload\n",
    "%autoreload 2\n",
    "%matplotlib inline"
   ]
  },
  {
   "cell_type": "code",
   "execution_count": 2,
   "metadata": {},
   "outputs": [],
   "source": [
    "import os\n",
    "import json\n",
    "from collections import OrderedDict\n",
    "import tensorflow as tf\n",
    "import numpy as np\n",
    "import pandas as pd\n",
    "import matplotlib.pyplot as plt\n",
    "import seaborn as sns\n",
    "sns.set_context('notebook')\n",
    "from matplotlib import cm"
   ]
  },
  {
   "cell_type": "code",
   "execution_count": 3,
   "metadata": {},
   "outputs": [
    {
     "name": "stderr",
     "output_type": "stream",
     "text": [
      "Using TensorFlow backend.\n"
     ]
    }
   ],
   "source": [
    "from agnfinder.tf_sampling import deep_emulator, api, run_sampler\n",
    "from agnfinder.tf_sampling.api import SamplingProblem\n",
    "from agnfinder.tf_sampling.hmc import SamplerHMC\n",
    "from agnfinder import simulation_utils, simulation_samples\n",
    "from agnfinder.prospector import visualise, main, cpz_builders"
   ]
  },
  {
   "cell_type": "code",
   "execution_count": 10,
   "metadata": {},
   "outputs": [],
   "source": [
    "from agnfinder.tf_sampling import hmc"
   ]
  },
  {
   "cell_type": "code",
   "execution_count": null,
   "metadata": {},
   "outputs": [],
   "source": []
  },
  {
   "cell_type": "code",
   "execution_count": 4,
   "metadata": {},
   "outputs": [],
   "source": [
    "tf.enable_eager_execution()"
   ]
  },
  {
   "cell_type": "code",
   "execution_count": 5,
   "metadata": {},
   "outputs": [],
   "source": [
    "os.chdir('/home/mike/repos/agnfinder')"
   ]
  },
  {
   "cell_type": "code",
   "execution_count": 6,
   "metadata": {},
   "outputs": [],
   "source": [
    "checkpoint_dir = 'results/checkpoints/hyperband_15_epochs'\n",
    "new_emulator = False"
   ]
  },
  {
   "cell_type": "code",
   "execution_count": 7,
   "metadata": {},
   "outputs": [],
   "source": [
    "emulator = deep_emulator.get_trained_keras_emulator(deep_emulator.tf_model(), checkpoint_dir, new=new_emulator)"
   ]
  },
  {
   "cell_type": "code",
   "execution_count": 8,
   "metadata": {},
   "outputs": [
    {
     "name": "stderr",
     "output_type": "stream",
     "text": [
      "WARNING:root:Using data loc /media/mike/beta/agnfinder/photometry_simulation_1000000.hdf5\n"
     ]
    }
   ],
   "source": [
    "_, _, x_test, y_test = deep_emulator.data()\n",
    "x_test = x_test.astype(np.float32)\n",
    "y_test = y_test.astype(np.float32)\n"
   ]
  },
  {
   "cell_type": "code",
   "execution_count": 9,
   "metadata": {},
   "outputs": [],
   "source": [
    "galaxy_n = 5\n",
    "true_params = x_test[galaxy_n]\n",
    "true_observation = deep_emulator.denormalise_photometry(y_test[galaxy_n])"
   ]
  },
  {
   "cell_type": "code",
   "execution_count": 12,
   "metadata": {},
   "outputs": [
    {
     "name": "stdout",
     "output_type": "stream",
     "text": [
      "WARNING:tensorflow:From /media/mike/Windows/linux_cache/miniconda37/envs/agnfinder/lib/python3.7/site-packages/tensorflow_core/python/ops/math_grad.py:1375: where (from tensorflow.python.ops.array_ops) is deprecated and will be removed in a future version.\n",
      "Instructions for updating:\n",
      "Use tf.where in 2.0, which has the same broadcast rule as np.where\n"
     ]
    },
    {
     "name": "stderr",
     "output_type": "stream",
     "text": [
      "WARNING:tensorflow:From /media/mike/Windows/linux_cache/miniconda37/envs/agnfinder/lib/python3.7/site-packages/tensorflow_core/python/ops/math_grad.py:1375: where (from tensorflow.python.ops.array_ops) is deprecated and will be removed in a future version.\n",
      "Instructions for updating:\n",
      "Use tf.where in 2.0, which has the same broadcast rule as np.where\n"
     ]
    },
    {
     "name": "stdout",
     "output_type": "stream",
     "text": [
      "WARNING:tensorflow:From /home/mike/repos/agnfinder/agnfinder/tf_sampling/hmc.py:148: The name tf.assign is deprecated. Please use tf.compat.v1.assign instead.\n",
      "\n"
     ]
    },
    {
     "name": "stderr",
     "output_type": "stream",
     "text": [
      "WARNING:tensorflow:From /home/mike/repos/agnfinder/agnfinder/tf_sampling/hmc.py:148: The name tf.assign is deprecated. Please use tf.compat.v1.assign instead.\n",
      "\n"
     ]
    }
   ],
   "source": [
    "chosen_start = hmc.optimised_start(forward_model=emulator, observation=true_observation, param_dim=7, n_chains=12, steps=3000)"
   ]
  },
  {
   "cell_type": "code",
   "execution_count": 13,
   "metadata": {},
   "outputs": [
    {
     "data": {
      "text/plain": [
       "<tf.Tensor: id=204805, shape=(12, 7), dtype=float32, numpy=\n",
       "array([[0.5925604 , 0.06745448, 0.4828442 , 0.3279402 , 0.37536862,\n",
       "        0.273969  , 0.2685208 ],\n",
       "       [0.5925604 , 0.06745448, 0.4828442 , 0.3279402 , 0.37536862,\n",
       "        0.273969  , 0.2685208 ],\n",
       "       [0.61252856, 0.04266741, 0.68176675, 0.42379317, 0.3940095 ,\n",
       "        0.5443071 , 0.27777174],\n",
       "       [0.5925604 , 0.06745448, 0.4828442 , 0.3279402 , 0.37536862,\n",
       "        0.273969  , 0.2685208 ],\n",
       "       [0.5925604 , 0.06745448, 0.4828442 , 0.3279402 , 0.37536862,\n",
       "        0.273969  , 0.2685208 ],\n",
       "       [0.61252856, 0.04266741, 0.68176675, 0.42379317, 0.3940095 ,\n",
       "        0.5443071 , 0.27777174],\n",
       "       [0.5687615 , 0.10637511, 0.3148583 , 0.24963754, 0.35201508,\n",
       "        0.02347435, 0.01      ],\n",
       "       [0.5687615 , 0.10637511, 0.3148583 , 0.24963754, 0.35201508,\n",
       "        0.02347435, 0.01      ],\n",
       "       [0.61252856, 0.04266741, 0.68176675, 0.42379317, 0.3940095 ,\n",
       "        0.5443071 , 0.27777174],\n",
       "       [0.61252856, 0.04266741, 0.68176675, 0.42379317, 0.3940095 ,\n",
       "        0.5443071 , 0.27777174],\n",
       "       [0.5925604 , 0.06745448, 0.4828442 , 0.3279402 , 0.37536862,\n",
       "        0.273969  , 0.2685208 ],\n",
       "       [0.5925604 , 0.06745448, 0.4828442 , 0.3279402 , 0.37536862,\n",
       "        0.273969  , 0.2685208 ]], dtype=float32)>"
      ]
     },
     "execution_count": 13,
     "metadata": {},
     "output_type": "execute_result"
    }
   ],
   "source": [
    "chosen_start"
   ]
  },
  {
   "cell_type": "code",
   "execution_count": null,
   "metadata": {},
   "outputs": [],
   "source": []
  }
 ],
 "metadata": {
  "kernelspec": {
   "display_name": "Python 3",
   "language": "python",
   "name": "python3"
  },
  "language_info": {
   "codemirror_mode": {
    "name": "ipython",
    "version": 3
   },
   "file_extension": ".py",
   "mimetype": "text/x-python",
   "name": "python",
   "nbconvert_exporter": "python",
   "pygments_lexer": "ipython3",
   "version": "3.7.5"
  }
 },
 "nbformat": 4,
 "nbformat_minor": 4
}
