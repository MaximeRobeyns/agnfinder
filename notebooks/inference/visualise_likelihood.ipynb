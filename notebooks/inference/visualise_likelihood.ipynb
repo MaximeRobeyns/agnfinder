{
 "cells": [
  {
   "cell_type": "code",
   "execution_count": 10,
   "metadata": {},
   "outputs": [
    {
     "name": "stdout",
     "output_type": "stream",
     "text": [
      "The autoreload extension is already loaded. To reload it, use:\n",
      "  %reload_ext autoreload\n"
     ]
    }
   ],
   "source": [
    "%load_ext autoreload\n",
    "%autoreload 2\n",
    "%matplotlib inline"
   ]
  },
  {
   "cell_type": "code",
   "execution_count": 11,
   "metadata": {},
   "outputs": [],
   "source": [
    "import os\n",
    "import json\n",
    "from collections import OrderedDict\n",
    "import tensorflow as tf\n",
    "import numpy as np\n",
    "import pandas as pd\n",
    "from astropy.table import Table\n",
    "import matplotlib.pyplot as plt\n",
    "import seaborn as sns\n",
    "sns.set_context('notebook')\n",
    "from matplotlib import cm"
   ]
  },
  {
   "cell_type": "code",
   "execution_count": 12,
   "metadata": {},
   "outputs": [],
   "source": [
    "from agnfinder.tf_sampling import deep_emulator, api, run_sampler\n",
    "from agnfinder.tf_sampling.api import SamplingProblem\n",
    "from agnfinder.tf_sampling.hmc import SamplerHMC\n",
    "from agnfinder import simulation_utils, simulation_samples\n",
    "from agnfinder.prospector import visualise, main, cpz_builders"
   ]
  },
  {
   "cell_type": "code",
   "execution_count": 13,
   "metadata": {},
   "outputs": [],
   "source": [
    "os.chdir('/home/walml/repos/agnfinder')"
   ]
  },
  {
   "cell_type": "markdown",
   "metadata": {},
   "source": [
    "### Boilerplate to get the 'true' FSPS forward model"
   ]
  },
  {
   "cell_type": "code",
   "execution_count": 14,
   "metadata": {},
   "outputs": [],
   "source": [
    "catalog_loc = 'data/cpz_paper_sample_week3_maggies.parquet'\n",
    "free_params = OrderedDict({\n",
    "    'log_mass': [8, 12], \n",
    "    'dust2': [0., 2.],  # not age of universe, as mistakenly done before...\n",
    "    'tage': [0.001, 13.8],  # not 0->2, as mistakenly done before...might consider bringing the bounds a bit tighter\n",
    "    'log_tau': [np.log10(.1), np.log10(30)],  # careful, this is log prior! >2, has very little effect\n",
    "    'log_agn_mass': [-7, np.log10(15)],  # i.e. from 10**-7 to 15 (not 10**15!)\n",
    "    'agn_eb_v': [0., 0.5],\n",
    "    'log_agn_torus_mass': [-7, np.log10(15)]\n",
    "})"
   ]
  },
  {
   "cell_type": "code",
   "execution_count": 16,
   "metadata": {},
   "outputs": [
    {
     "name": "stderr",
     "output_type": "stream",
     "text": [
      "WARNING:root:Galaxy not supplied - creating default obs for Prospector compatability only\n",
      "WARNING:root:Building custom CSPSpecBasisAGN as agn_mass is True\n",
      "WARNING:root:Using standard FSPS for SSP, no emulation\n"
     ]
    }
   ],
   "source": [
    "forward_model, wavelengths, output_dim = simulation_samples.get_forward_model(emulate_ssp=False, noise=False, filter_selection='euclid')"
   ]
  },
  {
   "cell_type": "code",
   "execution_count": 17,
   "metadata": {},
   "outputs": [
    {
     "data": {
      "text/plain": [
       "array([ 3545.9515156 ,  4669.6375124 ,  6156.34362463,  7470.59215536,\n",
       "        8917.58185532, 16397.13029184, 12513.8266968 , 10205.12640526])"
      ]
     },
     "execution_count": 17,
     "metadata": {},
     "output_type": "execute_result"
    }
   ],
   "source": [
    "wavelengths  # for use elsewhere"
   ]
  },
  {
   "cell_type": "markdown",
   "metadata": {},
   "source": [
    "### Load emulator"
   ]
  },
  {
   "cell_type": "code",
   "execution_count": 19,
   "metadata": {},
   "outputs": [],
   "source": [
    "\n",
    "checkpoint_dir = 'results/checkpoints/latest'"
   ]
  },
  {
   "cell_type": "code",
   "execution_count": 20,
   "metadata": {},
   "outputs": [],
   "source": [
    "emulator = deep_emulator.get_trained_keras_emulator(deep_emulator.tf_model(), checkpoint_dir)"
   ]
  },
  {
   "cell_type": "markdown",
   "metadata": {},
   "source": [
    "### Load simulated galaxy observation/params from hypercube"
   ]
  },
  {
   "cell_type": "code",
   "execution_count": 21,
   "metadata": {},
   "outputs": [],
   "source": [
    "use_full_cube = False\n",
    "if use_full_cube:\n",
    "    cube_dir = 'data/cubes/latest'\n",
    "    _, _, x_test, y_test = deep_emulator.data(cube_dir)\n",
    "    x_test = x_test.astype(np.float32)\n",
    "    y_test = y_test.astype(np.float32)\n",
    "else:\n",
    "    x_test = np.loadtxt('data/cubes/x_test_v2.npy')\n",
    "    y_test = np.loadtxt('data/cubes/y_test_v2.npy')"
   ]
  },
  {
   "cell_type": "code",
   "execution_count": null,
   "metadata": {},
   "outputs": [],
   "source": []
  },
  {
   "cell_type": "code",
   "execution_count": 53,
   "metadata": {},
   "outputs": [],
   "source": [
    "galaxy_n = 1977  # close to 0.5 in all params\n",
    "galaxy_n = 1975  # close to 0.5 in all params\n",
    "true_params = x_test[galaxy_n]\n",
    "true_observation = deep_emulator.denormalise_photometry(y_test[galaxy_n])"
   ]
  },
  {
   "cell_type": "code",
   "execution_count": 54,
   "metadata": {},
   "outputs": [
    {
     "data": {
      "text/plain": [
       "(8,)"
      ]
     },
     "execution_count": 54,
     "metadata": {},
     "output_type": "execute_result"
    }
   ],
   "source": [
    "true_observation.shape"
   ]
  },
  {
   "cell_type": "code",
   "execution_count": 55,
   "metadata": {},
   "outputs": [],
   "source": [
    "problem = SamplingProblem(\n",
    "    observation_ids=[galaxy_n],\n",
    "    true_observation=np.expand_dims(true_observation, 0),\n",
    "    true_params=np.expand_dims(true_params, 0),\n",
    "    forward_model=emulator,\n",
    "    fixed_params=np.zeros((1, 0)),\n",
    "    uncertainty=np.ones((1, 1))\n",
    ")"
   ]
  },
  {
   "cell_type": "code",
   "execution_count": 56,
   "metadata": {},
   "outputs": [],
   "source": [
    "params = ['mass', 'dust2', 'tage', 'tau', 'agn_disk_scaling', 'agn_eb_v', 'agn_torus_scaling']\n",
    "\n",
    "test_figure_dir = 'tests/test_figures'\n",
    "true_params_2d = np.expand_dims(true_params, 0)\n",
    "predicted_photometry = deep_emulator.denormalise_photometry(problem.forward_model(true_params_2d)).numpy().reshape(-1, 1)\n"
   ]
  },
  {
   "cell_type": "code",
   "execution_count": 57,
   "metadata": {},
   "outputs": [
    {
     "data": {
      "text/plain": [
       "array([[4.66071182e-09],\n",
       "       [4.71836898e-08],\n",
       "       [7.65157608e-08],\n",
       "       [8.40208330e-08],\n",
       "       [9.48139913e-08],\n",
       "       [1.12082340e-07],\n",
       "       [1.07071308e-07],\n",
       "       [1.01467656e-07]], dtype=float32)"
      ]
     },
     "execution_count": 57,
     "metadata": {},
     "output_type": "execute_result"
    }
   ],
   "source": [
    "predicted_photometry"
   ]
  },
  {
   "cell_type": "code",
   "execution_count": 58,
   "metadata": {},
   "outputs": [],
   "source": [
    "from agnfinder.tf_sampling import evaluate_emulator"
   ]
  },
  {
   "cell_type": "code",
   "execution_count": 59,
   "metadata": {},
   "outputs": [],
   "source": [
    "predicted_mags = evaluate_emulator.maggies_to_mags(predicted_photometry)\n",
    "true_mags = evaluate_emulator.maggies_to_mags(problem.true_observation)"
   ]
  },
  {
   "cell_type": "code",
   "execution_count": 60,
   "metadata": {},
   "outputs": [
    {
     "data": {
      "text/plain": [
       "array([ 3545.9515156 ,  4669.6375124 ,  6156.34362463,  7470.59215536,\n",
       "        8917.58185532, 16397.13029184, 12513.8266968 , 10205.12640526])"
      ]
     },
     "execution_count": 60,
     "metadata": {},
     "output_type": "execute_result"
    }
   ],
   "source": [
    "wavelengths"
   ]
  },
  {
   "cell_type": "code",
   "execution_count": null,
   "metadata": {},
   "outputs": [],
   "source": []
  },
  {
   "cell_type": "code",
   "execution_count": 61,
   "metadata": {},
   "outputs": [
    {
     "data": {
      "image/png": "[encoded data removed]",
      "text/plain": [
       "<Figure size 432x288 with 1 Axes>"
      ]
     },
     "metadata": {
      "needs_background": "light"
     },
     "output_type": "display_data"
    }
   ],
   "source": [
    "\n",
    "plt.figure()\n",
    "plt.scatter(wavelengths, predicted_mags, label='Emulator', marker='+')\n",
    "plt.scatter(wavelengths, true_mags, label='Full Simulation', marker='+')\n",
    "plt.xscale('log')\n",
    "plt.xlabel('Wavelength (A)')\n",
    "plt.ylabel('Magnitude')\n",
    "plt.legend()\n",
    "plt.tight_layout()\n",
    "# plt.savefig(os.path.join(test_figure_dir, 'model_vs_sim_at_logp_test_case.png'))\n"
   ]
  },
  {
   "cell_type": "code",
   "execution_count": 64,
   "metadata": {},
   "outputs": [
    {
     "data": {
      "image/png": "[encoded data removed]",
      "text/plain": [
       "<Figure size 432x288 with 1 Axes>"
      ]
     },
     "metadata": {
      "needs_background": "light"
     },
     "output_type": "display_data"
    }
   ],
   "source": [
    "\n",
    "plt.figure()\n",
    "plt.scatter(wavelengths, predicted_mags / predicted_mags.sum(), label='Emulator', marker='+')\n",
    "plt.scatter(wavelengths, true_mags / true_mags.sum(), label='Full Simulation', marker='+')\n",
    "plt.xscale('log')\n",
    "plt.xlabel('Wavelength (A)')\n",
    "plt.ylabel('Magnitude')\n",
    "plt.legend()\n",
    "plt.tight_layout()\n",
    "# plt.savefig(os.path.join(test_figure_dir, 'model_vs_sim_at_logp_test_case.png'))\n"
   ]
  },
  {
   "cell_type": "code",
   "execution_count": 66,
   "metadata": {},
   "outputs": [
    {
     "data": {
      "image/png": "[encoded data removed]",
      "text/plain": [
       "<Figure size 432x288 with 1 Axes>"
      ]
     },
     "metadata": {
      "needs_background": "light"
     },
     "output_type": "display_data"
    }
   ],
   "source": [
    "\n",
    "plt.figure()\n",
    "plt.scatter(wavelengths, np.squeeze(true_mags/true_mags.sum()) - np.squeeze(predicted_mags/predicted_mags.sum()), label='Residuals', marker='+')\n",
    "plt.axhline(0., linestyle='--', color='k')\n",
    "plt.xscale('log')\n",
    "plt.xlabel('Wavelength (A)')\n",
    "plt.ylabel('Magnitude')\n",
    "plt.legend()\n",
    "plt.tight_layout()\n",
    "# plt.savefig(os.path.join(test_figure_dir, 'model_vs_sim_at_logp_test_case.png'))\n"
   ]
  },
  {
   "cell_type": "code",
   "execution_count": 62,
   "metadata": {},
   "outputs": [
    {
     "data": {
      "text/plain": [
       "((8,), (8, 8), (1, 8))"
      ]
     },
     "execution_count": 62,
     "metadata": {},
     "output_type": "execute_result"
    }
   ],
   "source": [
    "wavelengths.shape, (true_mags - predicted_mags).shape, true_mags.shape"
   ]
  },
  {
   "cell_type": "code",
   "execution_count": 63,
   "metadata": {},
   "outputs": [
    {
     "data": {
      "image/png": "[encoded data removed]",
      "text/plain": [
       "<Figure size 432x288 with 1 Axes>"
      ]
     },
     "metadata": {
      "needs_background": "light"
     },
     "output_type": "display_data"
    }
   ],
   "source": [
    "\n",
    "plt.figure()\n",
    "plt.scatter(wavelengths, np.squeeze(true_mags) - np.squeeze(predicted_mags), label='Residuals', marker='+')\n",
    "plt.xscale('log')\n",
    "plt.xlabel('Wavelength (A)')\n",
    "plt.ylabel('Magnitude')\n",
    "plt.legend()\n",
    "plt.tight_layout()\n",
    "# plt.savefig(os.path.join(test_figure_dir, 'model_vs_sim_at_logp_test_case.png'))\n"
   ]
  },
  {
   "cell_type": "markdown",
   "metadata": {},
   "source": [
    "### Load actual samples"
   ]
  },
  {
   "cell_type": "code",
   "execution_count": null,
   "metadata": {},
   "outputs": [],
   "source": [
    "galaxy_loc = 'results/emulated_sampling/latest_128000_1_optimised/galaxy_{}_performance.h5'.format(galaxy_n)\n",
    "# galaxy_loc = 'results/emulated_sampling/latest_6000_96_random/galaxy_{}_performance.h5'.format(galaxy_n)"
   ]
  },
  {
   "cell_type": "code",
   "execution_count": null,
   "metadata": {},
   "outputs": [],
   "source": [
    "samples, _, _ = run_sampler.read_h5(galaxy_loc)"
   ]
  },
  {
   "cell_type": "code",
   "execution_count": null,
   "metadata": {},
   "outputs": [],
   "source": [
    "selected_indices = np.random.choice(range(len(samples)), 100)\n"
   ]
  },
  {
   "cell_type": "code",
   "execution_count": null,
   "metadata": {},
   "outputs": [],
   "source": [
    "samples.shape"
   ]
  },
  {
   "cell_type": "code",
   "execution_count": null,
   "metadata": {},
   "outputs": [],
   "source": [
    "selected_samples = samples[selected_indices, 0, :]  # only one chain"
   ]
  },
  {
   "cell_type": "markdown",
   "metadata": {},
   "source": [
    "# Visualise SED of Samples and True Theta for either FSPS or Emulator"
   ]
  },
  {
   "cell_type": "code",
   "execution_count": null,
   "metadata": {},
   "outputs": [],
   "source": [
    "traces = deep_emulator.denormalise_photometry(problem.forward_model(selected_samples))"
   ]
  },
  {
   "cell_type": "code",
   "execution_count": null,
   "metadata": {},
   "outputs": [],
   "source": [
    "denormalised_samples = simulation_utils.denormalise_hypercube(selected_samples, free_params)"
   ]
  },
  {
   "cell_type": "code",
   "execution_count": null,
   "metadata": {},
   "outputs": [],
   "source": [
    "fsps_photometry = np.zeros((len(selected_samples), 12))\n",
    "for n, sample in enumerate(denormalised_samples):\n",
    "    p = forward_model(sample)\n",
    "    fsps_photometry[n] = p"
   ]
  },
  {
   "cell_type": "code",
   "execution_count": null,
   "metadata": {},
   "outputs": [],
   "source": [
    "plt.figure(figsize=(18, 8))\n",
    "plt.scatter(np.log10(wavelengths), np.log10(predicted_photometry), label='model prediction at true theta', marker='+')\n",
    "plt.scatter(np.log10(wavelengths), np.log10(problem.true_observation), label='true observation (simulated)', marker='+')\n",
    "for trace in traces:\n",
    "    plt.scatter(np.log10(wavelengths), np.log10(trace), color='r', marker='+', alpha=0.02)\n",
    "for photometry in fsps_photometry:\n",
    "    plt.scatter(np.log10(wavelengths), np.log10(photometry), color='k', marker='+', alpha=0.02)\n",
    "plt.legend()"
   ]
  },
  {
   "cell_type": "markdown",
   "metadata": {},
   "source": [
    "Two observations:\n",
    "- according to emulator, expected photometry is bang on the observed photometry\n",
    "- putting those traces back through FSPS for the true expected photometry, you get another error ~ emulator error"
   ]
  },
  {
   "cell_type": "code",
   "execution_count": null,
   "metadata": {},
   "outputs": [],
   "source": [
    "forward_model(denormalised_samples[0])"
   ]
  },
  {
   "cell_type": "code",
   "execution_count": null,
   "metadata": {},
   "outputs": [],
   "source": [
    "dusts = np.linspace(0.2, 1.8)\n",
    "photometry_with_dust = np.zeros((len(dusts), 12))\n",
    "for n, dust in enumerate(dusts):\n",
    "    theta = denormalised_samples[0]\n",
    "    theta[2] = dust\n",
    "    actual_p = forward_model(denormalised_samples[0])\n",
    "    photometry_with_dust[n] = actual_p"
   ]
  },
  {
   "cell_type": "code",
   "execution_count": null,
   "metadata": {},
   "outputs": [],
   "source": [
    "fig, ax = plt.subplots()\n",
    "param_n = 0  # log mass\n",
    "for n in range(len(photometry_with_dust)):\n",
    "    ax.loglog(wavelengths, photometry_with_dust[n], marker='+', color=cm.magma(dusts[n]/1.8), linestyle='')\n",
    "#     ax.set_title(param_names[param_n])"
   ]
  },
  {
   "cell_type": "code",
   "execution_count": null,
   "metadata": {},
   "outputs": [],
   "source": [
    "def get_python_log_prob_fn(fsps_forward_model, true_observation):\n",
    "    def log_prob_fn(x):\n",
    "        assert x.shape[1] == 7  # must have batch dimension\n",
    "        denormalised_x = simulation_utils.denormalise_hypercube(x, free_params)\n",
    "        expected_photometry = np.stack([fsps_forward_model(param_row) for param_row in denormalised_x], axis=0)\n",
    "        deviation = np.abs(expected_photometry - true_observation)\n",
    "        sigma = expected_photometry * 0.05  # i.e. 5% sigma, will read in soon-ish\n",
    "        log_prob = -np.sum(deviation / sigma, axis=1)\n",
    "        return log_prob\n",
    "    return log_prob_fn\n"
   ]
  },
  {
   "cell_type": "code",
   "execution_count": null,
   "metadata": {},
   "outputs": [],
   "source": [
    "true_params.shape"
   ]
  },
  {
   "cell_type": "code",
   "execution_count": null,
   "metadata": {},
   "outputs": [],
   "source": [
    "true_log_prob_fn = get_python_log_prob_fn(forward_model, problem.true_observation)"
   ]
  },
  {
   "cell_type": "code",
   "execution_count": null,
   "metadata": {},
   "outputs": [],
   "source": [
    "\n",
    "# look at slices of log prob, where one param varies (0, 1) and the rest are the true solution\n",
    "# ideally, log prob is maximised in each case where the free param is near the true value\n",
    "# might not always be true due to degeneracy, but should mostly be true\n",
    "\n",
    "    \n",
    "fig, axes = plt.subplots(nrows=len(params), figsize=(6, 30))\n",
    "for param_n, param in enumerate(params):\n",
    "    ax = axes[param_n]\n",
    "    \n",
    "    # range to vary one param\n",
    "    param_values = np.linspace(0.01, 0.99, 50)\n",
    "    \n",
    "    # will record all log probs\n",
    "    emulator_log_prob_at_truth = np.zeros(len(param_values))\n",
    "    n_sample_log_probs = 25\n",
    "    emulator_log_prob_at_sample = np.zeros((n_sample_log_probs, len(param_values)))\n",
    "    true_log_prob_at_truth = np.zeros_like(emulator_log_prob_at_truth)\n",
    "#     true_log_prob_at_sample = np.zeros_like(emulator_log_prob_at_truth)\n",
    "    \n",
    "    # take the correct params and vary one param\n",
    "    modified_from_true = np.stack([true_params for _ in range(len(param_values))])\n",
    "    modified_from_true[:, param_n] = param_values\n",
    "    # take a few random samples and vary one param\n",
    "    modified_from_sample = np.zeros((n_sample_log_probs, len(param_values), 7))\n",
    "    for sample_n in range(n_sample_log_probs):\n",
    "        base_sample = selected_samples[np.random.choice(len(selected_samples))]\n",
    "        modified_from_sample[sample_n] = np.stack([base_sample for _ in range(len(param_values))])\n",
    "        modified_from_sample[sample_n, :, param_n] = param_values  # change value of one parameter\n",
    "\n",
    "    # find log prob of emulator or truth (simulator) around true params\n",
    "    emulator_log_prob_fn = api.get_log_prob_fn(problem.forward_model, problem.true_observation, batch_dim=len(param_values))\n",
    "    emulator_log_prob_at_truth = emulator_log_prob_fn(tf.Variable(modified_from_true)).numpy()\n",
    "    true_log_prob_at_truth = true_log_prob_fn(modified_from_true)\n",
    "    \n",
    "    # find log prob of emulator or truth (simulator) around samples\n",
    "    for sample_n in range(n_sample_log_probs):\n",
    "        theta = modified_from_sample[sample_n].astype(np.float32)\n",
    "        emulator_log_prob_at_sample[sample_n] = emulator_log_prob_fn(tf.Variable(theta)).numpy()\n",
    "#         true_log_prob_at_sample[n] = true_log_prob_fn(modified_from_sample)\n",
    "  \n",
    "    ax.plot(param_values, emulator_log_prob_at_truth, label='Emulator Log prob(truth)')\n",
    "\n",
    "    ax.plot(param_values, true_log_prob_at_truth, label='True Log prob(truth)')\n",
    "    for sample_n in range(n_sample_log_probs):\n",
    "        ax.plot(param_values, emulator_log_prob_at_sample[sample_n], alpha=0.1, color='r')\n",
    "#     plt.plot(param_values, true_log_prob_at_sample, label='True Log prob(sample)')\n",
    "    ax.set_xlabel(f'Param {param}')\n",
    "    ax.set_ylabel('Log prob with modified param')\n",
    "    lowest_logprob = np.min([true_log_prob_at_truth.min(), emulator_log_prob_at_truth.min(), emulator_log_prob_at_sample.min()])\n",
    "#     lowest_logprob = np.min([true_log_prob_at_truth.min(), emulator_log_prob_at_truth.min()])\n",
    "    highest_logprob = np.max([true_log_prob_at_truth.max(), true_log_prob_at_truth.max()])\n",
    "    lower_lim = np.max([-400, lowest_logprob])\n",
    "    upper_lim = np.min([0, highest_logprob])\n",
    "    ax.set_ylim([lower_lim, upper_lim])\n",
    "    \n",
    "    ax.axvline(true_params_2d[0, param_n].numpy(), c='g', label='True param value')\n",
    "    ax.axvline(np.median(selected_samples[:, param_n]), c='r', label='Median sample')\n",
    "    \n",
    "    \n",
    "    # let's also calculate the log prob, according to emulator, at each sample\n",
    "#     selected_sample = selected_samples[np.random.choice(len(selected_samples), size=100, replace=False)]\n",
    "#     selected_log_probs = emulator_log_prob_fn(tf.Variable(selected_sample)).numpy()\n",
    "#     for sample_n, sample in enumerate(selected_sample):\n",
    "#         plt.axvline(sample[param_n], c='k', alpha=0.1)\n",
    "#         plt.scatter(sample[param_n], selected_log_probs[sample_n] , marker='+', color='r')\n",
    "    ax.legend()\n",
    "    \n",
    "plt.tight_layout()\n",
    "#    plt.savefig(os.path.join(test_figure_dir, 'log_prob_modified_param_{}.png'.format(param_index)))\n"
   ]
  },
  {
   "cell_type": "markdown",
   "metadata": {},
   "source": [
    "The emulator does a good job at copying the true likelihood (definitely near the truth, and presumably elsewhere as well)\n",
    "The HMC does a good job at taking samples where the apparent likelihood is high\n",
    "\n",
    "When the samples are otherwise quite close to the true solution, the likelihood slices of each sample are similar to the likelihood slices around the truth (as they ought to be).\n",
    "But when the samples are not near the true solution, the slices for some parameters (correctly, I suppose) look very different around those 'other' theta"
   ]
  },
  {
   "cell_type": "markdown",
   "metadata": {},
   "source": [
    "My assumption is that the (correctly) different gradients were some parameters are significantly wrong make it very hard for HMC to correctly explore the space in reasonable time."
   ]
  },
  {
   "cell_type": "code",
   "execution_count": null,
   "metadata": {},
   "outputs": [],
   "source": []
  },
  {
   "cell_type": "code",
   "execution_count": null,
   "metadata": {},
   "outputs": [],
   "source": []
  },
  {
   "cell_type": "code",
   "execution_count": null,
   "metadata": {},
   "outputs": [],
   "source": []
  }
 ],
 "metadata": {
  "kernelspec": {
   "display_name": "Python 3",
   "language": "python",
   "name": "python3"
  },
  "language_info": {
   "codemirror_mode": {
    "name": "ipython",
    "version": 3
   },
   "file_extension": ".py",
   "mimetype": "text/x-python",
   "name": "python",
   "nbconvert_exporter": "python",
   "pygments_lexer": "ipython3",
   "version": "3.7.6"
  }
 },
 "nbformat": 4,
 "nbformat_minor": 4
}
