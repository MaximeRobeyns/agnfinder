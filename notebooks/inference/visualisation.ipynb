{
 "cells": [
  {
   "cell_type": "markdown",
   "id": "27c9c44d-2d33-4672-b6e8-0825ed2e100e",
   "metadata": {},
   "source": [
    "# Visualisations"
   ]
  },
  {
   "cell_type": "markdown",
   "id": "ee0154fc-2d53-4448-829c-e7ff5fd3da45",
   "metadata": {},
   "source": [
    "In this notebook, we visualise the (simulated) photometry that corresponds to the physical galaxy parameters; both the original underlying parameters, as well as the (conditional) marginal likelihood estimates."
   ]
  },
  {
   "cell_type": "code",
   "execution_count": null,
   "id": "3cf396df-4a00-4c1f-864d-b4410f09e851",
   "metadata": {},
   "outputs": [],
   "source": [
    "import os\n",
    "import h5py\n",
    "import torch as t\n",
    "import numpy as np\n",
    "import pandas as pd\n",
    "import matplotlib.pyplot as plt\n",
    "\n",
    "import agnfinder.prospector\n",
    "\n",
    "from agnfinder import config as cfg\n",
    "from agnfinder.types import Filters\n",
    "from agnfinder.prospector import Prospector\n",
    "from agnfinder.prospector import visualise"
   ]
  },
  {
   "cell_type": "code",
   "execution_count": null,
   "id": "69e581cc-abf5-4551-86da-d5ee59436092",
   "metadata": {},
   "outputs": [],
   "source": [
    "try: # One-time setup\n",
    "    assert(_SETUP)\n",
    "except NameError:\n",
    "    cfg.configure_logging()\n",
    "    while not '.git' in os.listdir():\n",
    "        os.chdir(\"../\")\n",
    "    dtype = t.float64\n",
    "    device = t.device(\"cuda\") if t.cuda.is_available() else t.device(\"cpu\")\n",
    "    if device == t.device(\"cuda\"):\n",
    "        print(f'Using GPU for training')\n",
    "    else:\n",
    "        print('CUDA is unavailable: training on CPU.')\n",
    "        _SETUP = True"
   ]
  },
  {
   "cell_type": "code",
   "execution_count": null,
   "id": "f379df39-32d2-40f7-abad-c534387adc38",
   "metadata": {},
   "outputs": [],
   "source": [
    "p = Prospector(filter_selection=Filters.Euclid, emulate_ssp=False, catalogue_loc=\"./data/cpz_paper_sample_week3.parquet\")\n",
    "print('initialised prospector')"
   ]
  },
  {
   "cell_type": "code",
   "execution_count": null,
   "id": "4b4b5b16-f157-4d9c-a7f7-51e32df6f5d0",
   "metadata": {},
   "outputs": [],
   "source": [
    "# fp = cfg.FreeParams()\n",
    "# print(fp.raw_members)\n",
    "\n",
    "samples_loc = \"./data/cubes/photometry_simulation_100000n_z_0p0000_to_1p0000.hdf5\"\n",
    "with h5py.File(samples_loc, 'r') as f:\n",
    "    samples = f['samples']\n",
    "    theta_array = samples['theta'][-2000:, :]  # get the last 2000 (of 10,000)\n",
    "    visualise.calculate_many_component(p, theta_array)\n",
    "    plt.legend()\n",
    "    plt.ylim([1e-25, None])\n",
    "    plt.tight_layout()"
   ]
  },
  {
   "cell_type": "code",
   "execution_count": null,
   "id": "24da444d-77cd-4094-8bc8-f9e8c0e6666a",
   "metadata": {},
   "outputs": [],
   "source": []
  }
 ],
 "metadata": {
  "kernelspec": {
   "display_name": "agnvenv (Python 3.9)",
   "language": "python",
   "name": "agnvenv"
  },
  "language_info": {
   "codemirror_mode": {
    "name": "ipython",
    "version": 3
   },
   "file_extension": ".py",
   "mimetype": "text/x-python",
   "name": "python",
   "nbconvert_exporter": "python",
   "pygments_lexer": "ipython3",
   "version": "3.9.6"
  }
 },
 "nbformat": 4,
 "nbformat_minor": 5
}
