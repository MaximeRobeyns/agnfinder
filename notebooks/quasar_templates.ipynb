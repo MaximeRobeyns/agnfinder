{
 "cells": [
  {
   "cell_type": "code",
   "execution_count": null,
   "id": "457db89c-1a25-4dad-867f-ee0152bd3e61",
   "metadata": {},
   "outputs": [],
   "source": [
    "import os\n",
    "import agnfinder\n",
    "import agnfinder.config as cfg"
   ]
  },
  {
   "cell_type": "code",
   "execution_count": null,
   "id": "cf8636f0-0531-48a5-affd-22c518f0844b",
   "metadata": {},
   "outputs": [],
   "source": [
    "# change working directory to root of `agnfinder` project\n",
    "os.chdir(os.path.join(os.getcwd(), \"../\"))"
   ]
  },
  {
   "cell_type": "code",
   "execution_count": null,
   "id": "e2713595-eb89-4c0c-80f9-08b2b9db25a5",
   "metadata": {
    "tags": []
   },
   "outputs": [],
   "source": [
    "params = cfg.QuasarTemplateParams()\n",
    "print(params)"
   ]
  },
  {
   "cell_type": "code",
   "execution_count": null,
   "id": "2d4dbef6-e21e-4620-8e08-adb0c9bb6ee7",
   "metadata": {
    "tags": []
   },
   "outputs": [],
   "source": [
    "quasar = agnfinder.quasar_templates.QuasarTemplate(\n",
    "    template_loc=params.interpolated_quasar_loc,\n",
    "    data_loc=params.quasar_data_loc,\n",
    "    recreate_template=True\n",
    ")"
   ]
  },
  {
   "cell_type": "code",
   "execution_count": null,
   "id": "b288726d-9b39-413a-ae2b-9baf02ef1a4d",
   "metadata": {},
   "outputs": [],
   "source": []
  }
 ],
 "metadata": {
  "kernelspec": {
   "display_name": "agnvenv (Python 3.9)",
   "language": "python",
   "name": "agnvenv"
  },
  "language_info": {
   "codemirror_mode": {
    "name": "ipython",
    "version": 3
   },
   "file_extension": ".py",
   "mimetype": "text/x-python",
   "name": "python",
   "nbconvert_exporter": "python",
   "pygments_lexer": "ipython3",
   "version": "3.9.6"
  }
 },
 "nbformat": 4,
 "nbformat_minor": 5
}
