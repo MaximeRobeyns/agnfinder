{
 "cells": [
  {
   "cell_type": "code",
   "execution_count": 1,
   "metadata": {},
   "outputs": [],
   "source": [
    "%load_ext autoreload\n",
    "%autoreload 2\n",
    "%matplotlib inline"
   ]
  },
  {
   "cell_type": "code",
   "execution_count": 2,
   "metadata": {},
   "outputs": [],
   "source": [
    "import os\n",
    "\n",
    "import numpy as np\n",
    "import pandas as pd\n",
    "from astropy.table import Table\n",
    "import matplotlib.pyplot as plt\n",
    "import seaborn as sns\n",
    "sns.set_context('notebook')\n",
    "# import holoviews as hv\n",
    "# from holoviews.operation.datashader import datashade\n",
    "# from holoviews import opts\n",
    "# hv.extension('bokeh')\n"
   ]
  },
  {
   "cell_type": "code",
   "execution_count": 3,
   "metadata": {},
   "outputs": [],
   "source": [
    "DATA_ROOT='/home/walml/repos/agnfinder/data'"
   ]
  },
  {
   "cell_type": "code",
   "execution_count": 4,
   "metadata": {},
   "outputs": [
    {
     "name": "stdout",
     "output_type": "stream",
     "text": [
      "cpz_maggie_kdes.pickle\t\t\tphotometry_quicksave.parquet\n",
      "cpz_paper_sample_week3_maggies.parquet\tquasar_template_interpolated.dill\n",
      "cpz_paper_sample_week3.parquet\t\tquasar_template_shang.txt\n",
      "cubes\t\t\t\t\tselected_torus_template.csv\n",
      "error_estimators.pickle\t\t\tsmc_extinction_prevot_1984.dat\n",
      "interpolated_smc_extinction.dill\ttorus_model_with_inclination.dill\n",
      "lfi_test_case.json\t\t\ttorus_template_interpolated.dill\n"
     ]
    }
   ],
   "source": [
    "!ls {DATA_ROOT}"
   ]
  },
  {
   "cell_type": "markdown",
   "metadata": {},
   "source": [
    "# Visualise Observed Galaxies"
   ]
  },
  {
   "cell_type": "code",
   "execution_count": 5,
   "metadata": {},
   "outputs": [],
   "source": [
    "parquet_loc = os.path.join(DATA_ROOT, 'cpz_paper_sample_week3.parquet')"
   ]
  },
  {
   "cell_type": "code",
   "execution_count": 6,
   "metadata": {},
   "outputs": [],
   "source": [
    "# save to parquet for quick reading, including of specific columns\n",
    "if not os.path.isfile(parquet_loc):\n",
    "    df = Table.read(os.path.join(DATA_ROOT, 'uK_IR_week3.fits')).to_pandas()\n",
    "    df.replace(-99, np.nan, inplace=True)\n",
    "    df.to_parquet(parquet_loc)"
   ]
  },
  {
   "cell_type": "code",
   "execution_count": 7,
   "metadata": {},
   "outputs": [],
   "source": [
    "metadata_cols = ['id', 'alpha', 'delta', 'redshift', 'hclass', 'hquality',\n",
    "       'survey_quality', 'survey_comment', 'sp_survey']"
   ]
  },
  {
   "cell_type": "code",
   "execution_count": 8,
   "metadata": {},
   "outputs": [],
   "source": [
    "case_cols = ['CASE_I_a0_01', 'CASE_I_a0_001', 'CASE_I_a0', 'CASE_II_a0_05',\n",
    "       'CASE_II_a0_01', 'CASE_II_a0_001', 'CASE_II_a0', 'CASE_II_b0_05',\n",
    "       'CASE_II_b0_01', 'CASE_II_b0_001', 'CASE_II_b0', 'CASE_III_a0_05',\n",
    "       'CASE_III_a0_01', 'CASE_III_a0_001', 'CASE_III_a0',\n",
    "       'CASE_III_b0_05', 'CASE_III_b0_01', 'CASE_III_b0_001',\n",
    "       'CASE_III_b0', 'CASE_III_c0_05', 'CASE_III_c0_01',\n",
    "       'CASE_III_c0_001', 'CASE_III_c0', 'CASE_III_d0_05',\n",
    "       'CASE_III_d0_01', 'CASE_III_d0_001', 'CASE_III_d0']"
   ]
  },
  {
   "cell_type": "code",
   "execution_count": 9,
   "metadata": {},
   "outputs": [],
   "source": [
    "unified_cols = ['fuv', 'nuv',\n",
    "       'u', 'g', 'r', 'i', 'z', 'y', 'j', 'h', 'k', 'w1', 'w2', 'w3',\n",
    "       'w4', 'fuv3', 'nuv3', 'u3', 'g3', 'r3', 'i3', 'z3', 'y3', 'j3',\n",
    "       'h3', 'k3', 'fuv_err', 'nuv_err', 'u_err', 'g_err', 'r_err',\n",
    "       'i_err', 'z_err', 'y_err', 'j_err', 'h_err', 'k_err', 'w1_err',\n",
    "       'w2_err', 'w3_err', 'w4_err', 'fuv3_err', 'nuv3_err', 'u3_err',\n",
    "       'g3_err', 'r3_err', 'i3_err', 'z3_err', 'y3_err', 'j3_err',\n",
    "       'h3_err', 'k3_err', 'u_hlr', 'g_hlr', 'r_hlr', 'i_hlr', 'z_hlr',\n",
    "       'y_hlr', 'j_hlr', 'h_hlr', 'k_hlr']  # what is hlr?"
   ]
  },
  {
   "cell_type": "code",
   "execution_count": 10,
   "metadata": {},
   "outputs": [],
   "source": [
    "sdss_cols = ['id_sdss_u_dr12',\n",
    "       'tile_name_sdss_u_dr12', 'alpha_sdss_u_dr12', 'delta_sdss_u_dr12',\n",
    "       'flags_sdss_u_dr12', 'flux_radius_sdss_u_dr12', 'fwhm_sdss_u_dr12',\n",
    "       'mag_auto_sdss_u_dr12', 'magerr_auto_sdss_u_dr12',\n",
    "       'mag_aper2_sdss_u_dr12', 'magerr_aper2_sdss_u_dr12',\n",
    "       'mag_aper3_sdss_u_dr12', 'magerr_aper3_sdss_u_dr12',\n",
    "       'id_sdss_g_dr12', 'tile_name_sdss_g_dr12', 'alpha_sdss_g_dr12',\n",
    "       'delta_sdss_g_dr12', 'flags_sdss_g_dr12',\n",
    "       'flux_radius_sdss_g_dr12', 'fwhm_sdss_g_dr12',\n",
    "       'mag_auto_sdss_g_dr12', 'magerr_auto_sdss_g_dr12',\n",
    "       'mag_aper2_sdss_g_dr12', 'magerr_aper2_sdss_g_dr12',\n",
    "       'mag_aper3_sdss_g_dr12', 'magerr_aper3_sdss_g_dr12',\n",
    "       'id_sdss_r_dr12', 'tile_name_sdss_r_dr12', 'alpha_sdss_r_dr12',\n",
    "       'delta_sdss_r_dr12', 'flags_sdss_r_dr12',\n",
    "       'flux_radius_sdss_r_dr12', 'fwhm_sdss_r_dr12',\n",
    "       'mag_auto_sdss_r_dr12', 'magerr_auto_sdss_r_dr12',\n",
    "       'mag_aper2_sdss_r_dr12', 'magerr_aper2_sdss_r_dr12',\n",
    "       'mag_aper3_sdss_r_dr12', 'magerr_aper3_sdss_r_dr12',\n",
    "       'id_sdss_i_dr12', 'tile_name_sdss_i_dr12', 'alpha_sdss_i_dr12',\n",
    "       'delta_sdss_i_dr12', 'flags_sdss_i_dr12',\n",
    "       'flux_radius_sdss_i_dr12', 'fwhm_sdss_i_dr12',\n",
    "       'mag_auto_sdss_i_dr12', 'magerr_auto_sdss_i_dr12',\n",
    "       'mag_aper2_sdss_i_dr12', 'magerr_aper2_sdss_i_dr12',\n",
    "       'mag_aper3_sdss_i_dr12', 'magerr_aper3_sdss_i_dr12',\n",
    "       'id_sdss_z_dr12', 'tile_name_sdss_z_dr12', 'alpha_sdss_z_dr12',\n",
    "       'delta_sdss_z_dr12', 'flags_sdss_z_dr12',\n",
    "       'flux_radius_sdss_z_dr12', 'fwhm_sdss_z_dr12',\n",
    "       'mag_auto_sdss_z_dr12', 'magerr_auto_sdss_z_dr12',\n",
    "       'mag_aper2_sdss_z_dr12', 'magerr_aper2_sdss_z_dr12',\n",
    "       'mag_aper3_sdss_z_dr12', 'magerr_aper3_sdss_z_dr12']"
   ]
  },
  {
   "cell_type": "markdown",
   "metadata": {},
   "source": [
    "### For convenience, define groups of columns"
   ]
  },
  {
   "cell_type": "code",
   "execution_count": 11,
   "metadata": {},
   "outputs": [],
   "source": [
    "\"\"\"\n",
    "Schema:\n",
    "- IDENT: unique id?\n",
    "- Z_BEST: best matching template from library\n",
    "- Z_BEST68_{LOW}{HIGH}: solutions for 68% confidence (chi-squared = 1.0) in z likelihood from template\n",
    "- Z_ML: \"Zphot from Median of ML distribution\"\n",
    "- CHI_BEST: lowest chi-squared value from template fit\n",
    "- MOD_BEST: index of best-fitting template?\n",
    "- EXTLAW_BEST: index of best extinction law?\n",
    "- EBV_BEST: Extinction value?\n",
    "- MAG_ABS: Absolute magnitude (over all bands?) of best-fitting template?\n",
    "- PDZ_BEST: Integrated template probability between z_best +/- 0.1(1+z)\n",
    "- SCALE_BEST: \"Scaling factor\", presumably a free param. to scale the template from normalised form to match the observed mags.\n",
    "- DIST_MOD_BEST: Distance modulus ('DM') of best-fitting template\n",
    "Suffix: template library used\n",
    "\"\"\"\n",
    "\n",
    "template_cols_all_models = [\n",
    "    'IDENT_ALL_MODELS', 'Z_BEST_ALL_MODELS', 'Z_BEST68_LOW_ALL_MODELS',\n",
    "       'Z_BEST68_HIGH_ALL_MODELS', 'Z_ML_ALL_MODELS',\n",
    "       'CHI_BEST_ALL_MODELS', 'MOD_BEST_ALL_MODELS',\n",
    "       'EXTLAW_BEST_ALL_MODELS', 'EBV_BEST_ALL_MODELS',\n",
    "       'MAG_ABS_BEST_ALL_MODELS', 'PDZ_BEST_ALL_MODELS',\n",
    "       'SCALE_BEST_ALL_MODELS', 'DIST_MOD_BEST_ALL_MODELS',\n",
    "       'NBAND_USED_ALL_MODELS', 'Z_SEC_ALL_MODELS', 'CHI_SEC_ALL_MODELS',\n",
    "       'MOD_SEC_ALL_MODELS', 'MOD_STAR_ALL_MODELS', 'CHI_STAR_ALL_MODELS',\n",
    "       'CONTEXT_ALL_MODELS', 'ZSPEC_ALL_MODELS']\n",
    "\n",
    "template_cols_passive = [\n",
    "    'IDENT_PASSIVE_pure',\n",
    "       'Z_BEST_PASSIVE_pure', 'Z_BEST68_LOW_PASSIVE_pure',\n",
    "       'Z_BEST68_HIGH_PASSIVE_pure', 'Z_ML_PASSIVE_pure',\n",
    "       'CHI_BEST_PASSIVE_pure', 'MOD_BEST_PASSIVE_pure',\n",
    "       'EXTLAW_BEST_PASSIVE_pure', 'EBV_BEST_PASSIVE_pure',\n",
    "       'MAG_ABS_BEST_PASSIVE_pure', 'PDZ_BEST_PASSIVE_pure',\n",
    "       'SCALE_BEST_PASSIVE_pure', 'DIST_MOD_BEST_PASSIVE_pure',\n",
    "       'NBAND_USED_PASSIVE_pure', 'Z_SEC_PASSIVE_pure',\n",
    "       'CHI_SEC_PASSIVE_pure', 'MOD_SEC_PASSIVE_pure',\n",
    "       'MOD_STAR_PASSIVE_pure', 'CHI_STAR_PASSIVE_pure',\n",
    "       'CONTEXT_PASSIVE_pure', 'ZSPEC_PASSIVE_pure']\n",
    "\n",
    "template_cols_starforming = [\n",
    "       'IDENT_STARFORMING_pure', 'Z_BEST_STARFORMING_pure',\n",
    "       'Z_BEST68_LOW_STARFORMING_pure', 'Z_BEST68_HIGH_STARFORMING_pure',\n",
    "       'Z_ML_STARFORMING_pure', 'CHI_BEST_STARFORMING_pure',\n",
    "       'MOD_BEST_STARFORMING_pure', 'EXTLAW_BEST_STARFORMING_pure',\n",
    "       'EBV_BEST_STARFORMING_pure', 'MAG_ABS_BEST_STARFORMING_pure',\n",
    "       'PDZ_BEST_STARFORMING_pure', 'SCALE_BEST_STARFORMING_pure',\n",
    "       'DIST_MOD_BEST_STARFORMING_pure', 'NBAND_USED_STARFORMING_pure',\n",
    "       'Z_SEC_STARFORMING_pure', 'CHI_SEC_STARFORMING_pure',\n",
    "       'MOD_SEC_STARFORMING_pure', 'MOD_STAR_STARFORMING_pure',\n",
    "       'CHI_STAR_STARFORMING_pure', 'CONTEXT_STARFORMING_pure',\n",
    "       'ZSPEC_STARFORMING_pure']\n",
    "\n",
    "template_cols_extreme_starforming = [\n",
    "    'IDENT_EXTREME_STARFORMING_pure',\n",
    "       'Z_BEST_EXTREME_STARFORMING_pure',\n",
    "       'Z_BEST68_LOW_EXTREME_STARFORMING_pure',\n",
    "       'Z_BEST68_HIGH_EXTREME_STARFORMING_pure',\n",
    "       'Z_ML_EXTREME_STARFORMING_pure',\n",
    "       'CHI_BEST_EXTREME_STARFORMING_pure',\n",
    "       'MOD_BEST_EXTREME_STARFORMING_pure',\n",
    "       'EXTLAW_BEST_EXTREME_STARFORMING_pure',\n",
    "       'EBV_BEST_EXTREME_STARFORMING_pure',\n",
    "       'MAG_ABS_BEST_EXTREME_STARFORMING_pure',\n",
    "       'PDZ_BEST_EXTREME_STARFORMING_pure',\n",
    "       'SCALE_BEST_EXTREME_STARFORMING_pure',\n",
    "       'DIST_MOD_BEST_EXTREME_STARFORMING_pure',\n",
    "       'NBAND_USED_EXTREME_STARFORMING_pure',\n",
    "       'Z_SEC_EXTREME_STARFORMING_pure',\n",
    "       'CHI_SEC_EXTREME_STARFORMING_pure',\n",
    "       'MOD_SEC_EXTREME_STARFORMING_pure',\n",
    "       'MOD_STAR_EXTREME_STARFORMING_pure',\n",
    "       'CHI_STAR_EXTREME_STARFORMING_pure',\n",
    "       'CONTEXT_EXTREME_STARFORMING_pure',\n",
    "       'ZSPEC_EXTREME_STARFORMING_pure']\n",
    "\n",
    "template_cols_agn = ['IDENT_AGN_pure',\n",
    "       'Z_BEST_AGN_pure', 'Z_BEST68_LOW_AGN_pure',\n",
    "       'Z_BEST68_HIGH_AGN_pure', 'Z_ML_AGN_pure', 'CHI_BEST_AGN_pure',\n",
    "       'MOD_BEST_AGN_pure', 'EXTLAW_BEST_AGN_pure', 'EBV_BEST_AGN_pure',\n",
    "       'MAG_ABS_BEST_AGN_pure', 'PDZ_BEST_AGN_pure',\n",
    "       'SCALE_BEST_AGN_pure', 'DIST_MOD_BEST_AGN_pure',\n",
    "       'NBAND_USED_AGN_pure', 'Z_SEC_AGN_pure', 'CHI_SEC_AGN_pure',\n",
    "       'MOD_SEC_AGN_pure', 'MOD_STAR_AGN_pure', 'CHI_STAR_AGN_pure',\n",
    "       'CONTEXT_AGN_pure', 'ZSPEC_AGN_pure']\n",
    "\n",
    "template_cols_qso_pure = ['IDENT_QSO_pure',\n",
    "       'Z_BEST_QSO_pure', 'Z_BEST68_LOW_QSO_pure',\n",
    "       'Z_BEST68_HIGH_QSO_pure', 'Z_ML_QSO_pure', 'CHI_BEST_QSO_pure',\n",
    "       'MOD_BEST_QSO_pure', 'EXTLAW_BEST_QSO_pure', 'EBV_BEST_QSO_pure',\n",
    "       'MAG_ABS_BEST_QSO_pure', 'PDZ_BEST_QSO_pure',\n",
    "       'SCALE_BEST_QSO_pure', 'DIST_MOD_BEST_QSO_pure',\n",
    "       'NBAND_USED_QSO_pure', 'Z_SEC_QSO_pure', 'CHI_SEC_QSO_pure',\n",
    "       'MOD_SEC_QSO_pure', 'MOD_STAR_QSO_pure', 'CHI_STAR_QSO_pure',\n",
    "       'CONTEXT_QSO_pure', 'ZSPEC_QSO_pure']\n",
    "\n",
    "template_cols_star = ['IDENT_STAR', 'Z_BEST_STAR',\n",
    "       'Z_BEST68_LOW_STAR', 'Z_BEST68_HIGH_STAR', 'Z_ML_STAR',\n",
    "       'CHI_BEST_STAR', 'MOD_BEST_STAR', 'EXTLAW_BEST_STAR',\n",
    "       'EBV_BEST_STAR', 'MAG_ABS_BEST_STAR', 'PDZ_BEST_STAR',\n",
    "       'SCALE_BEST_STAR', 'DIST_MOD_BEST_STAR', 'NBAND_USED_STAR',\n",
    "       'Z_SEC_STAR', 'CHI_SEC_STAR', 'MOD_SEC_STAR', 'MOD_STAR_STAR',\n",
    "       'CHI_STAR_STAR', 'CONTEXT_STAR', 'ZSPEC_STAR']\n",
    "\n",
    "template_cols_galaxies = ['IDENT_GALAXIES',\n",
    "       'Z_BEST_GALAXIES', 'Z_BEST68_LOW_GALAXIES',\n",
    "       'Z_BEST68_HIGH_GALAXIES', 'Z_ML_GALAXIES', 'CHI_BEST_GALAXIES',\n",
    "       'MOD_BEST_GALAXIES', 'EXTLAW_BEST_GALAXIES', 'EBV_BEST_GALAXIES',\n",
    "       'MAG_ABS_BEST_GALAXIES', 'PDZ_BEST_GALAXIES',\n",
    "       'SCALE_BEST_GALAXIES', 'DIST_MOD_BEST_GALAXIES',\n",
    "       'NBAND_USED_GALAXIES', 'Z_SEC_GALAXIES', 'CHI_SEC_GALAXIES',\n",
    "       'MOD_SEC_GALAXIES', 'MOD_STAR_GALAXIES', 'CHI_STAR_GALAXIES',\n",
    "       'CONTEXT_GALAXIES', 'ZSPEC_GALAXIES']\n",
    "\n",
    "template_cols_agn = ['IDENT_AGN', 'Z_BEST_AGN',\n",
    "       'Z_BEST68_LOW_AGN', 'Z_BEST68_HIGH_AGN', 'Z_ML_AGN',\n",
    "       'CHI_BEST_AGN', 'MOD_BEST_AGN', 'EXTLAW_BEST_AGN', 'EBV_BEST_AGN',\n",
    "       'MAG_ABS_BEST_AGN', 'PDZ_BEST_AGN', 'SCALE_BEST_AGN',\n",
    "       'DIST_MOD_BEST_AGN', 'NBAND_USED_AGN', 'Z_SEC_AGN', 'CHI_SEC_AGN',\n",
    "       'MOD_SEC_AGN', 'MOD_STAR_AGN', 'CHI_STAR_AGN', 'CONTEXT_AGN',\n",
    "       'ZSPEC_AGN']\n",
    "\n",
    "# what's the difference between these and qso_pure?\n",
    "template_cols_qso_impure = ['IDENT_QSO', 'Z_BEST_QSO', 'Z_BEST68_LOW_QSO',\n",
    "       'Z_BEST68_HIGH_QSO', 'Z_ML_QSO', 'CHI_BEST_QSO', 'MOD_BEST_QSO',\n",
    "       'EXTLAW_BEST_QSO', 'EBV_BEST_QSO', 'MAG_ABS_BEST_QSO',\n",
    "       'PDZ_BEST_QSO', 'SCALE_BEST_QSO', 'DIST_MOD_BEST_QSO',\n",
    "       'NBAND_USED_QSO', 'Z_SEC_QSO', 'CHI_SEC_QSO', 'MOD_SEC_QSO',\n",
    "       'MOD_STAR_QSO', 'CHI_STAR_QSO', 'CONTEXT_QSO', 'ZSPEC_QSO']\n",
    "\n",
    "# what's the difference betwen these and STARFORMING?\n",
    "template_cols_starforming_v2 = [\n",
    "       'IDENT_starforming', 'Z_BEST_starforming',\n",
    "       'Z_BEST68_LOW_starforming', 'Z_BEST68_HIGH_starforming',\n",
    "       'Z_ML_starforming', 'CHI_BEST_starforming', 'MOD_BEST_starforming',\n",
    "       'EXTLAW_BEST_starforming', 'EBV_BEST_starforming',\n",
    "       'MAG_ABS_BEST_starforming', 'PDZ_BEST_starforming',\n",
    "       'SCALE_BEST_starforming', 'DIST_MOD_BEST_starforming',\n",
    "       'NBAND_USED_starforming', 'Z_SEC_starforming',\n",
    "       'CHI_SEC_starforming', 'MOD_SEC_starforming',\n",
    "       'MOD_STAR_starforming', 'CHI_STAR_starforming',\n",
    "       'CONTEXT_starforming', 'ZSPEC_starforming']\n",
    "\n",
    "z_errors_vs_spectro = ['Dz_ALL_MODELS',\n",
    "       'Dz_GALAXIES', 'Dz_AGN', 'Dz_QSO', 'Dz_PASSIVE_pure',\n",
    "       'Dz_STARFORMING_pure', 'Dz_EXTREME_STARFORMING_pure',\n",
    "       'Dz_starforming', 'Dz_AGN_pure']"
   ]
  },
  {
   "cell_type": "code",
   "execution_count": 12,
   "metadata": {},
   "outputs": [],
   "source": [
    "# df = pd.read_parquet(parquet_loc, columns=metadata_cols + unified_cols)\n",
    "df = pd.read_parquet(parquet_loc)"
   ]
  },
  {
   "cell_type": "code",
   "execution_count": 13,
   "metadata": {},
   "outputs": [
    {
     "data": {
      "text/plain": [
       "<matplotlib.axes._subplots.AxesSubplot at 0x7f8ea8ebce10>"
      ]
     },
     "execution_count": 13,
     "metadata": {},
     "output_type": "execute_result"
    },
    {
     "data": {
      "image/png": "[encoded data removed]",
      "text/plain": [
       "<Figure size 432x288 with 1 Axes>"
      ]
     },
     "metadata": {
      "needs_background": "light"
     },
     "output_type": "display_data"
    }
   ],
   "source": [
    "df['mag_auto_sdss_u_dr12'].hist()"
   ]
  },
  {
   "cell_type": "code",
   "execution_count": 14,
   "metadata": {},
   "outputs": [
    {
     "data": {
      "text/plain": [
       "<matplotlib.axes._subplots.AxesSubplot at 0x7f8e6aec2210>"
      ]
     },
     "execution_count": 14,
     "metadata": {},
     "output_type": "execute_result"
    },
    {
     "data": {
      "image/png": "[encoded data removed]",
      "text/plain": [
       "<Figure size 432x288 with 1 Axes>"
      ]
     },
     "metadata": {
      "needs_background": "light"
     },
     "output_type": "display_data"
    }
   ],
   "source": [
    "df['magerr_auto_sdss_u_dr12'].hist()"
   ]
  },
  {
   "cell_type": "code",
   "execution_count": 15,
   "metadata": {},
   "outputs": [
    {
     "data": {
      "text/plain": [
       "<matplotlib.axes._subplots.AxesSubplot at 0x7f8e6a0c7cd0>"
      ]
     },
     "execution_count": 15,
     "metadata": {},
     "output_type": "execute_result"
    },
    {
     "data": {
      "image/png": "[encoded data removed]",
      "text/plain": [
       "<Figure size 432x288 with 1 Axes>"
      ]
     },
     "metadata": {
      "needs_background": "light"
     },
     "output_type": "display_data"
    }
   ],
   "source": [
    "df.query('magerr_auto_sdss_u_dr12 < 3')['magerr_auto_sdss_u_dr12'].hist(bins=50)"
   ]
  },
  {
   "cell_type": "code",
   "execution_count": 16,
   "metadata": {},
   "outputs": [
    {
     "data": {
      "text/plain": [
       "(array([18466.,  4384.,  3104.,  1840.,  1119.,   754.,   500.,   403.,\n",
       "          310.,   157.]),\n",
       " array([0.00033325, 0.01293705, 0.02554084, 0.03814464, 0.05074844,\n",
       "        0.06335224, 0.07595603, 0.08855983, 0.10116363, 0.11376742,\n",
       "        0.12637122]),\n",
       " <a list of 10 Patch objects>)"
      ]
     },
     "execution_count": 16,
     "metadata": {},
     "output_type": "execute_result"
    },
    {
     "data": {
      "image/png": "[encoded data removed]",
      "text/plain": [
       "<Figure size 432x288 with 1 Axes>"
      ]
     },
     "metadata": {
      "needs_background": "light"
     },
     "output_type": "display_data"
    }
   ],
   "source": [
    "plt.hist(df.query('magerr_auto_sdss_u_dr12 < 3')['magerr_auto_sdss_u_dr12']/df.query('magerr_auto_sdss_u_dr12 < 3')['mag_auto_sdss_u_dr12'])"
   ]
  },
  {
   "cell_type": "code",
   "execution_count": null,
   "metadata": {},
   "outputs": [],
   "source": []
  },
  {
   "cell_type": "code",
   "execution_count": 21,
   "metadata": {},
   "outputs": [],
   "source": [
    "from agnfinder.prospector import load_photometry\n",
    "from sedpy import observate"
   ]
  },
  {
   "cell_type": "code",
   "execution_count": 25,
   "metadata": {},
   "outputs": [
    {
     "data": {
      "text/plain": [
       "'mag_auto_viking_y_dr2'"
      ]
     },
     "execution_count": 25,
     "metadata": {},
     "output_type": "execute_result"
    }
   ],
   "source": [
    "f.mag_col"
   ]
  },
  {
   "cell_type": "code",
   "execution_count": 32,
   "metadata": {},
   "outputs": [],
   "source": [
    "galaxy_n = 500\n",
    "mags = []\n",
    "wavelengths = []\n",
    "filters = load_photometry.get_filters('euclid')\n",
    "loaded_filters = observate.load_filters([f.bandpass_file for f in filters])\n",
    "for n, f in enumerate(filters):\n",
    "    mags.append(df[f.mag_col][galaxy_n])\n",
    "    wavelengths.append(loaded_filters[n].wave_effective)\n"
   ]
  },
  {
   "cell_type": "code",
   "execution_count": 33,
   "metadata": {},
   "outputs": [
    {
     "data": {
      "text/plain": [
       "[18.8908825779197,\n",
       " 17.5816493324234,\n",
       " 16.9120410931125,\n",
       " 16.5363897670097,\n",
       " 16.2687249165711,\n",
       " 16.0908024794513,\n",
       " 16.321431856044,\n",
       " 16.4458247233943]"
      ]
     },
     "execution_count": 33,
     "metadata": {},
     "output_type": "execute_result"
    }
   ],
   "source": [
    "mags"
   ]
  },
  {
   "cell_type": "code",
   "execution_count": 34,
   "metadata": {},
   "outputs": [
    {
     "data": {
      "image/png": "[encoded data removed]",
      "text/plain": [
       "<Figure size 432x288 with 1 Axes>"
      ]
     },
     "metadata": {
      "needs_background": "light"
     },
     "output_type": "display_data"
    }
   ],
   "source": [
    "plt.scatter(wavelengths, mags)\n",
    "plt.xscale('log')"
   ]
  },
  {
   "cell_type": "code",
   "execution_count": 20,
   "metadata": {},
   "outputs": [],
   "source": [
    "\n",
    "filters = "
   ]
  },
  {
   "cell_type": "code",
   "execution_count": null,
   "metadata": {},
   "outputs": [],
   "source": []
  },
  {
   "cell_type": "code",
   "execution_count": 17,
   "metadata": {},
   "outputs": [
    {
     "ename": "NameError",
     "evalue": "name 'load_photometry' is not defined",
     "output_type": "error",
     "traceback": [
      "\u001b[0;31m---------------------------------------------------------------------------\u001b[0m",
      "\u001b[0;31mNameError\u001b[0m                                 Traceback (most recent call last)",
      "\u001b[0;32m<ipython-input-17-eb0c14f2b61c>\u001b[0m in \u001b[0;36m<module>\u001b[0;34m\u001b[0m\n\u001b[0;32m----> 1\u001b[0;31m \u001b[0mmaggies\u001b[0m \u001b[0;34m=\u001b[0m \u001b[0mload_photometry\u001b[0m\u001b[0;34m.\u001b[0m\u001b[0mmags_to_maggies\u001b[0m\u001b[0;34m(\u001b[0m\u001b[0mdf\u001b[0m\u001b[0;34m[\u001b[0m\u001b[0;34m'mag_auto_sdss_u_dr12'\u001b[0m\u001b[0;34m]\u001b[0m\u001b[0;34m)\u001b[0m\u001b[0;34m\u001b[0m\u001b[0;34m\u001b[0m\u001b[0m\n\u001b[0m\u001b[1;32m      2\u001b[0m \u001b[0mplt\u001b[0m\u001b[0;34m.\u001b[0m\u001b[0mhist\u001b[0m\u001b[0;34m(\u001b[0m\u001b[0mnp\u001b[0m\u001b[0;34m.\u001b[0m\u001b[0mlog10\u001b[0m\u001b[0;34m(\u001b[0m\u001b[0mmaggies\u001b[0m\u001b[0;34m)\u001b[0m\u001b[0;34m)\u001b[0m\u001b[0;34m\u001b[0m\u001b[0;34m\u001b[0m\u001b[0m\n",
      "\u001b[0;31mNameError\u001b[0m: name 'load_photometry' is not defined"
     ]
    }
   ],
   "source": [
    "maggies = load_photometry.mags_to_maggies(df['mag_auto_sdss_u_dr12'])\n",
    "plt.hist(np.log10(maggies))"
   ]
  },
  {
   "cell_type": "code",
   "execution_count": null,
   "metadata": {},
   "outputs": [],
   "source": [
    "mag_err = df['magerr_auto_sdss_u_dr12']\n",
    "maggies_err = load_photometry.calculate_maggie_uncertainty(mag_err, maggies)"
   ]
  },
  {
   "cell_type": "code",
   "execution_count": null,
   "metadata": {},
   "outputs": [],
   "source": [
    "plt.hist(np.log10(maggies_err))"
   ]
  },
  {
   "cell_type": "code",
   "execution_count": null,
   "metadata": {},
   "outputs": [],
   "source": []
  },
  {
   "cell_type": "markdown",
   "metadata": {},
   "source": [
    "# add maggie cols\n"
   ]
  },
  {
   "cell_type": "code",
   "execution_count": null,
   "metadata": {},
   "outputs": [],
   "source": [
    "from agnfinder.prospector import load_photometry"
   ]
  },
  {
   "cell_type": "code",
   "execution_count": null,
   "metadata": {},
   "outputs": [],
   "source": [
    "df_with_maggies = load_photometry.add_maggies_cols(df)"
   ]
  },
  {
   "cell_type": "code",
   "execution_count": null,
   "metadata": {},
   "outputs": [],
   "source": []
  },
  {
   "cell_type": "code",
   "execution_count": null,
   "metadata": {},
   "outputs": [],
   "source": [
    "df_with_maggies.to_parquet(os.path.join(DATA_ROOT, 'cpz_paper_sample_week3_maggies.parquet'), index=False)"
   ]
  },
  {
   "cell_type": "code",
   "execution_count": null,
   "metadata": {},
   "outputs": [],
   "source": [
    "filters = load_photometry.get_filters('euclid')"
   ]
  },
  {
   "cell_type": "code",
   "execution_count": null,
   "metadata": {},
   "outputs": [],
   "source": [
    "bands = [f.bandpass_file for f in filters]\n",
    "bands"
   ]
  },
  {
   "cell_type": "code",
   "execution_count": null,
   "metadata": {},
   "outputs": [],
   "source": [
    "plt.hist(np.log10(df_with_maggies[filters[0].maggie_error_col]))"
   ]
  },
  {
   "cell_type": "code",
   "execution_count": null,
   "metadata": {},
   "outputs": [],
   "source": [
    "relative_errors = df_with_maggies[filters[0].maggie_error_col] / df_with_maggies[filters[0].maggie_col]"
   ]
  },
  {
   "cell_type": "code",
   "execution_count": null,
   "metadata": {},
   "outputs": [],
   "source": [
    "relative_errors[relative_errors < 2].hist(bins=50)"
   ]
  },
  {
   "cell_type": "code",
   "execution_count": null,
   "metadata": {},
   "outputs": [],
   "source": [
    "# df.columns.values"
   ]
  },
  {
   "cell_type": "code",
   "execution_count": null,
   "metadata": {},
   "outputs": [],
   "source": [
    "df['Pr[agn]_case_III'].hist()"
   ]
  },
  {
   "cell_type": "code",
   "execution_count": null,
   "metadata": {},
   "outputs": [],
   "source": [
    "df['Pr[qso]_case_III'].hist()"
   ]
  },
  {
   "cell_type": "code",
   "execution_count": null,
   "metadata": {},
   "outputs": [],
   "source": [
    "df['redshift'].hist(bins=40)"
   ]
  },
  {
   "cell_type": "code",
   "execution_count": null,
   "metadata": {},
   "outputs": [],
   "source": [
    "plt.hist(df['redshift'], bins=40)\n",
    "plt.yscale('log')\n",
    "x = np.linspace(0., 5.)\n",
    "y = 10 ** (4 + x * -.8)  # this is a pretty good fit to the actual observed redshift distribution\n",
    "plt.plot(x, y)\n",
    "# hence I can use as a prior for z: 0->1 linear hcube space = 10 ** (4 + x * 5 * -.8) real space\n",
    "# not super important because I don't actually do inference on z, but hcube should have samples in prop. to real galaxies\n",
    "# or should it have samples in prop. to deviations??"
   ]
  },
  {
   "cell_type": "code",
   "execution_count": null,
   "metadata": {},
   "outputs": [],
   "source": [
    "_ = plt.hist(df.query('redshift < 1.')['redshift'], bins=40)"
   ]
  },
  {
   "cell_type": "markdown",
   "metadata": {},
   "source": [
    "Vast majority of galaxies are z < 1, so should make another z < 1 hypercube"
   ]
  },
  {
   "cell_type": "code",
   "execution_count": null,
   "metadata": {},
   "outputs": [],
   "source": [
    "df['hclass'].value_counts()  # need to review what this means"
   ]
  },
  {
   "cell_type": "code",
   "execution_count": null,
   "metadata": {},
   "outputs": [],
   "source": [
    "df['hquality'].value_counts()  # hquality is always 1"
   ]
  },
  {
   "cell_type": "code",
   "execution_count": null,
   "metadata": {},
   "outputs": [],
   "source": [
    "df['sp_survey'].value_counts()  # origin of the spectro. data. Vast majority is SDSS DR12."
   ]
  },
  {
   "cell_type": "code",
   "execution_count": null,
   "metadata": {},
   "outputs": [],
   "source": [
    "df[unified_cols].describe()"
   ]
  },
  {
   "cell_type": "code",
   "execution_count": null,
   "metadata": {},
   "outputs": [],
   "source": [
    "df = pd.read_parquet(parquet_loc, columns=metadata_cols+z_errors_vs_spectro+template_cols_all_models)"
   ]
  },
  {
   "cell_type": "code",
   "execution_count": null,
   "metadata": {},
   "outputs": [],
   "source": [
    "len(df.query('Z_BEST_ALL_MODELS < 0')) # df has an outlier"
   ]
  },
  {
   "cell_type": "code",
   "execution_count": null,
   "metadata": {},
   "outputs": [],
   "source": [
    "df = df[df['Z_BEST_ALL_MODELS'] > 0]"
   ]
  },
  {
   "cell_type": "code",
   "execution_count": null,
   "metadata": {},
   "outputs": [],
   "source": [
    "plt.scatter(df['Z_BEST_ALL_MODELS'], df['redshift'], marker='x')\n",
    "plt.xlim([0., 2.5])\n",
    "plt.ylim([0., 2.5])"
   ]
  },
  {
   "cell_type": "code",
   "execution_count": null,
   "metadata": {},
   "outputs": [],
   "source": [
    "plt.hist2d(df['Z_BEST_ALL_MODELS'], df['redshift'], bins=(50, 50))\n",
    "plt.xlim([0., 2.5])\n",
    "plt.ylim([0., 2.5])"
   ]
  },
  {
   "cell_type": "markdown",
   "metadata": {},
   "source": [
    "Those weren't very helpful...let's try something more serious...."
   ]
  },
  {
   "cell_type": "code",
   "execution_count": null,
   "metadata": {},
   "outputs": [],
   "source": [
    "points = datashade(hv.Scatter(df, 'Z_BEST_ALL_MODELS', 'redshift',label=\"Points\")).opts(height=800, width=800, xlim=(0., 2.5), ylim=(0., 2.5))\n",
    "points"
   ]
  },
  {
   "cell_type": "markdown",
   "metadata": {},
   "source": [
    "Some interesting artifacts from the 'all models' template fitting configuration:\n",
    "- many galaxies at all redshifts being placed at z=0.5, especially the highest redshift sources\n",
    "- some galaxies at all redshifts being placed at z=0\n",
    "- redshifts below z=1 seem far better than above z=1"
   ]
  },
  {
   "cell_type": "code",
   "execution_count": null,
   "metadata": {},
   "outputs": [],
   "source": [
    "# what does this column mean? If it means the row index of the best-fitting model, how do I work that back to the model itself?\n",
    "df['MOD_BEST_ALL_MODELS'].value_counts()"
   ]
  },
  {
   "cell_type": "code",
   "execution_count": null,
   "metadata": {},
   "outputs": [],
   "source": [
    "df[template_cols_all_models].iloc[54]"
   ]
  },
  {
   "cell_type": "markdown",
   "metadata": {},
   "source": [
    "### TODO break down by best-fitting class to see what's going on with the template artifacts above"
   ]
  },
  {
   "cell_type": "code",
   "execution_count": null,
   "metadata": {},
   "outputs": [],
   "source": []
  }
 ],
 "metadata": {
  "kernelspec": {
   "display_name": "Python 3",
   "language": "python",
   "name": "python3"
  },
  "language_info": {
   "codemirror_mode": {
    "name": "ipython",
    "version": 3
   },
   "file_extension": ".py",
   "mimetype": "text/x-python",
   "name": "python",
   "nbconvert_exporter": "python",
   "pygments_lexer": "ipython3",
   "version": "3.7.6"
  }
 },
 "nbformat": 4,
 "nbformat_minor": 4
}
