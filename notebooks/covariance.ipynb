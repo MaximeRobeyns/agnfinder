{
 "cells": [
  {
   "cell_type": "code",
   "execution_count": 1,
   "metadata": {},
   "outputs": [],
   "source": [
    "%load_ext autoreload\n",
    "%autoreload 2\n",
    "%matplotlib inline"
   ]
  },
  {
   "cell_type": "code",
   "execution_count": 2,
   "metadata": {},
   "outputs": [],
   "source": [
    "import os\n",
    "\n",
    "import numpy as np\n",
    "import pandas as pd\n",
    "from astropy.table import Table\n",
    "import matplotlib.pyplot as plt\n",
    "import seaborn as sns\n",
    "sns.set_context('notebook')\n",
    "\n",
    "from agnfinder.prospector import main, load_photometry\n",
    "from agnfinder import photometry_to_table\n",
    "\n",
    "from sklearn.covariance import GraphicalLasso, GraphicalLassoCV, MinCovDet, EmpiricalCovariance\n"
   ]
  },
  {
   "cell_type": "code",
   "execution_count": 3,
   "metadata": {},
   "outputs": [],
   "source": [
    "DATA_ROOT='/media/mike/internal/agnfinder'"
   ]
  },
  {
   "cell_type": "code",
   "execution_count": null,
   "metadata": {},
   "outputs": [],
   "source": [
    "parquet_loc = os.path.join(DATA_ROOT, 'cpz_paper_sample_week3.parquet')"
   ]
  },
  {
   "cell_type": "code",
   "execution_count": null,
   "metadata": {},
   "outputs": [],
   "source": [
    "# len(df)"
   ]
  },
  {
   "cell_type": "code",
   "execution_count": null,
   "metadata": {},
   "outputs": [],
   "source": [
    "# df = pd.read_parquet(parquet_loc, columns=metadata_cols + unified_cols)\n",
    "df = pd.read_parquet(parquet_loc)\n",
    "df = df[~pd.isnull(df['redshift'])].query('redshift > 1e-2').query('redshift < 4').reset_index()"
   ]
  },
  {
   "cell_type": "code",
   "execution_count": null,
   "metadata": {},
   "outputs": [],
   "source": [
    "reliable_df = photometry_to_table.get_table(df, reliable=True)"
   ]
  },
  {
   "cell_type": "code",
   "execution_count": 8,
   "metadata": {},
   "outputs": [],
   "source": []
  },
  {
   "cell_type": "code",
   "execution_count": 9,
   "metadata": {},
   "outputs": [],
   "source": []
  },
  {
   "cell_type": "code",
   "execution_count": null,
   "metadata": {},
   "outputs": [],
   "source": []
  },
  {
   "cell_type": "code",
   "execution_count": 12,
   "metadata": {},
   "outputs": [],
   "source": []
  },
  {
   "cell_type": "code",
   "execution_count": 13,
   "metadata": {},
   "outputs": [
    {
     "data": {
      "text/html": [
       "<div>\n",
       "<style scoped>\n",
       "    .dataframe tbody tr th:only-of-type {\n",
       "        vertical-align: middle;\n",
       "    }\n",
       "\n",
       "    .dataframe tbody tr th {\n",
       "        vertical-align: top;\n",
       "    }\n",
       "\n",
       "    .dataframe thead th {\n",
       "        text-align: right;\n",
       "    }\n",
       "</style>\n",
       "<table border=\"1\" class=\"dataframe\">\n",
       "  <thead>\n",
       "    <tr style=\"text-align: right;\">\n",
       "      <th></th>\n",
       "      <th>u_sloan</th>\n",
       "      <th>g_sloan</th>\n",
       "      <th>r_sloan</th>\n",
       "      <th>i_sloan</th>\n",
       "      <th>z_sloan</th>\n",
       "      <th>VISTA_H</th>\n",
       "      <th>VISTA_J</th>\n",
       "      <th>VISTA_Ks</th>\n",
       "      <th>VISTA_Y</th>\n",
       "      <th>VISTA_Z</th>\n",
       "      <th>wise_w1</th>\n",
       "      <th>wise_w2</th>\n",
       "    </tr>\n",
       "  </thead>\n",
       "  <tbody>\n",
       "    <tr>\n",
       "      <th>0</th>\n",
       "      <td>1.781900e-08</td>\n",
       "      <td>5.375302e-08</td>\n",
       "      <td>7.967488e-08</td>\n",
       "      <td>1.087319e-07</td>\n",
       "      <td>1.267261e-07</td>\n",
       "      <td>1.256065e-07</td>\n",
       "      <td>1.143024e-07</td>\n",
       "      <td>1.108993e-07</td>\n",
       "      <td>1.171704e-07</td>\n",
       "      <td>1.088652e-07</td>\n",
       "      <td>7.048906e-08</td>\n",
       "      <td>4.474119e-08</td>\n",
       "    </tr>\n",
       "    <tr>\n",
       "      <th>1</th>\n",
       "      <td>1.186709e-08</td>\n",
       "      <td>6.032281e-08</td>\n",
       "      <td>1.438846e-07</td>\n",
       "      <td>2.069894e-07</td>\n",
       "      <td>2.770264e-07</td>\n",
       "      <td>2.650874e-07</td>\n",
       "      <td>1.942970e-07</td>\n",
       "      <td>2.946234e-07</td>\n",
       "      <td>2.087550e-07</td>\n",
       "      <td>1.772930e-07</td>\n",
       "      <td>1.384870e-07</td>\n",
       "      <td>9.865526e-08</td>\n",
       "    </tr>\n",
       "    <tr>\n",
       "      <th>2</th>\n",
       "      <td>2.057348e-09</td>\n",
       "      <td>1.378700e-08</td>\n",
       "      <td>6.025764e-08</td>\n",
       "      <td>1.033550e-07</td>\n",
       "      <td>1.505270e-07</td>\n",
       "      <td>2.266809e-07</td>\n",
       "      <td>1.714673e-07</td>\n",
       "      <td>2.697247e-07</td>\n",
       "      <td>1.424872e-07</td>\n",
       "      <td>1.221603e-07</td>\n",
       "      <td>1.684658e-07</td>\n",
       "      <td>1.171390e-07</td>\n",
       "    </tr>\n",
       "    <tr>\n",
       "      <th>3</th>\n",
       "      <td>2.150587e-08</td>\n",
       "      <td>6.545114e-08</td>\n",
       "      <td>1.140264e-07</td>\n",
       "      <td>1.509821e-07</td>\n",
       "      <td>1.807405e-07</td>\n",
       "      <td>1.783612e-07</td>\n",
       "      <td>1.612472e-07</td>\n",
       "      <td>1.766664e-07</td>\n",
       "      <td>1.641209e-07</td>\n",
       "      <td>1.414613e-07</td>\n",
       "      <td>8.513329e-08</td>\n",
       "      <td>6.275597e-08</td>\n",
       "    </tr>\n",
       "    <tr>\n",
       "      <th>4</th>\n",
       "      <td>4.832349e-09</td>\n",
       "      <td>2.694458e-08</td>\n",
       "      <td>9.828532e-08</td>\n",
       "      <td>1.522470e-07</td>\n",
       "      <td>2.075978e-07</td>\n",
       "      <td>3.307775e-07</td>\n",
       "      <td>2.522924e-07</td>\n",
       "      <td>3.963731e-07</td>\n",
       "      <td>2.088120e-07</td>\n",
       "      <td>1.741281e-07</td>\n",
       "      <td>1.848639e-07</td>\n",
       "      <td>1.374127e-07</td>\n",
       "    </tr>\n",
       "  </tbody>\n",
       "</table>\n",
       "</div>"
      ],
      "text/plain": [
       "        u_sloan       g_sloan       r_sloan       i_sloan       z_sloan  \\\n",
       "0  1.781900e-08  5.375302e-08  7.967488e-08  1.087319e-07  1.267261e-07   \n",
       "1  1.186709e-08  6.032281e-08  1.438846e-07  2.069894e-07  2.770264e-07   \n",
       "2  2.057348e-09  1.378700e-08  6.025764e-08  1.033550e-07  1.505270e-07   \n",
       "3  2.150587e-08  6.545114e-08  1.140264e-07  1.509821e-07  1.807405e-07   \n",
       "4  4.832349e-09  2.694458e-08  9.828532e-08  1.522470e-07  2.075978e-07   \n",
       "\n",
       "        VISTA_H       VISTA_J      VISTA_Ks       VISTA_Y       VISTA_Z  \\\n",
       "0  1.256065e-07  1.143024e-07  1.108993e-07  1.171704e-07  1.088652e-07   \n",
       "1  2.650874e-07  1.942970e-07  2.946234e-07  2.087550e-07  1.772930e-07   \n",
       "2  2.266809e-07  1.714673e-07  2.697247e-07  1.424872e-07  1.221603e-07   \n",
       "3  1.783612e-07  1.612472e-07  1.766664e-07  1.641209e-07  1.414613e-07   \n",
       "4  3.307775e-07  2.522924e-07  3.963731e-07  2.088120e-07  1.741281e-07   \n",
       "\n",
       "        wise_w1       wise_w2  \n",
       "0  7.048906e-08  4.474119e-08  \n",
       "1  1.384870e-07  9.865526e-08  \n",
       "2  1.684658e-07  1.171390e-07  \n",
       "3  8.513329e-08  6.275597e-08  \n",
       "4  1.848639e-07  1.374127e-07  "
      ]
     },
     "execution_count": 13,
     "metadata": {},
     "output_type": "execute_result"
    }
   ],
   "source": [
    "reliable_df.head(5)"
   ]
  },
  {
   "cell_type": "code",
   "execution_count": null,
   "metadata": {},
   "outputs": [],
   "source": []
  },
  {
   "cell_type": "code",
   "execution_count": 14,
   "metadata": {},
   "outputs": [],
   "source": [
    "# X = np.random.rand(18,28)\n",
    "# X[12, 12] = 100\n",
    "# cov = MinCovDet().fit(X)\n",
    "# cov.covariance_.shape"
   ]
  },
  {
   "cell_type": "code",
   "execution_count": 15,
   "metadata": {},
   "outputs": [],
   "source": [
    "# np.around(cov.covariance_, decimals=2)"
   ]
  },
  {
   "cell_type": "code",
   "execution_count": 16,
   "metadata": {},
   "outputs": [],
   "source": [
    "\n",
    "from sklearn.preprocessing import normalize"
   ]
  },
  {
   "cell_type": "code",
   "execution_count": 17,
   "metadata": {},
   "outputs": [],
   "source": [
    "X = reliable_df.dropna().values\n",
    "X.shape\n",
    "assert not np.isnan(X).any()"
   ]
  },
  {
   "cell_type": "code",
   "execution_count": 18,
   "metadata": {},
   "outputs": [],
   "source": [
    "cov = GraphicalLassoCV(max_iter=1000, cv=5).fit(X)\n",
    "# cov = EmpiricalCovariance().fit(X)\n",
    "# np.around(cov.covariance_, decimals=3)"
   ]
  },
  {
   "cell_type": "code",
   "execution_count": 19,
   "metadata": {},
   "outputs": [
    {
     "data": {
      "text/plain": [
       "<matplotlib.axes._subplots.AxesSubplot at 0x7fce38fe90b8>"
      ]
     },
     "execution_count": 19,
     "metadata": {},
     "output_type": "execute_result"
    },
    {
     "data": {
      "image/png": "[encoded data removed]",
      "text/plain": [
       "<Figure size 720x576 with 2 Axes>"
      ]
     },
     "metadata": {
      "needs_background": "light"
     },
     "output_type": "display_data"
    }
   ],
   "source": [
    "labelled_cov = pd.DataFrame(cov.covariance_, index=reliable_df.columns.values, columns=reliable_df.columns.values)\n",
    "fig, ax = plt.subplots(figsize=(10, 8))\n",
    "sns.heatmap(labelled_cov, ax=ax)"
   ]
  },
  {
   "cell_type": "code",
   "execution_count": 32,
   "metadata": {},
   "outputs": [],
   "source": [
    "inv_cov = np.linalg.inv(cov.covariance_)"
   ]
  },
  {
   "cell_type": "code",
   "execution_count": 34,
   "metadata": {},
   "outputs": [
    {
     "data": {
      "text/plain": [
       "<matplotlib.axes._subplots.AxesSubplot at 0x7fce3a1540b8>"
      ]
     },
     "execution_count": 34,
     "metadata": {},
     "output_type": "execute_result"
    },
    {
     "data": {
      "image/png": "[encoded data removed]",
      "text/plain": [
       "<Figure size 720x576 with 2 Axes>"
      ]
     },
     "metadata": {
      "needs_background": "light"
     },
     "output_type": "display_data"
    }
   ],
   "source": [
    "labelled_cov = pd.DataFrame(inv_cov, index=reliable_df.columns.values, columns=reliable_df.columns.values)\n",
    "fig, ax = plt.subplots(figsize=(10, 8))\n",
    "sns.heatmap(labelled_cov, ax=ax)"
   ]
  },
  {
   "cell_type": "code",
   "execution_count": 20,
   "metadata": {},
   "outputs": [],
   "source": [
    "log_X = np.log10(X)\n",
    "# X = normalize(np.log10(X))"
   ]
  },
  {
   "cell_type": "code",
   "execution_count": 21,
   "metadata": {},
   "outputs": [],
   "source": [
    "log_cov = GraphicalLassoCV(max_iter=10000, cv=5).fit(log_X)"
   ]
  },
  {
   "cell_type": "code",
   "execution_count": 22,
   "metadata": {},
   "outputs": [
    {
     "data": {
      "text/plain": [
       "<matplotlib.axes._subplots.AxesSubplot at 0x7fce3f8e90b8>"
      ]
     },
     "execution_count": 22,
     "metadata": {},
     "output_type": "execute_result"
    },
    {
     "data": {
      "image/png": "[encoded data removed]",
      "text/plain": [
       "<Figure size 720x576 with 2 Axes>"
      ]
     },
     "metadata": {
      "needs_background": "light"
     },
     "output_type": "display_data"
    }
   ],
   "source": [
    "labelled_log_cov = pd.DataFrame(log_cov.covariance_, index=reliable_df.columns.values, columns=reliable_df.columns.values)\n",
    "fig, ax = plt.subplots(figsize=(10, 8))\n",
    "sns.heatmap(labelled_log_cov, ax=ax)"
   ]
  },
  {
   "cell_type": "code",
   "execution_count": 23,
   "metadata": {},
   "outputs": [],
   "source": [
    "inv_log_cov = np.linalg.inv(log_cov.covariance_)"
   ]
  },
  {
   "cell_type": "code",
   "execution_count": 24,
   "metadata": {},
   "outputs": [
    {
     "data": {
      "text/plain": [
       "array([[ 2.932e+00, -1.826e+00, -5.520e-01, -4.000e-02, -0.000e+00,\n",
       "         0.000e+00,  0.000e+00,  0.000e+00,  0.000e+00,  0.000e+00,\n",
       "        -0.000e+00, -0.000e+00],\n",
       "       [-1.826e+00,  5.259e+00, -1.503e+00, -8.700e-01, -5.370e-01,\n",
       "        -0.000e+00, -8.700e-02, -0.000e+00, -4.030e-01, -6.500e-01,\n",
       "         0.000e+00, -7.770e-01],\n",
       "       [-5.520e-01, -1.503e+00,  6.766e+00, -1.075e+00, -9.200e-01,\n",
       "        -3.860e-01, -6.150e-01, -1.890e-01, -7.240e-01, -8.220e-01,\n",
       "        -1.860e-01, -5.380e-01],\n",
       "       [-4.000e-02, -8.700e-01, -1.075e+00,  6.994e+00, -9.870e-01,\n",
       "        -6.550e-01, -7.380e-01, -4.790e-01, -7.640e-01, -7.680e-01,\n",
       "        -1.870e-01, -5.100e-02],\n",
       "       [-0.000e+00, -5.370e-01, -9.200e-01, -9.870e-01,  6.943e+00,\n",
       "        -7.930e-01, -8.140e-01, -6.770e-01, -7.940e-01, -7.600e-01,\n",
       "        -3.100e-01, -7.000e-03],\n",
       "       [ 0.000e+00, -0.000e+00, -3.860e-01, -6.550e-01, -7.930e-01,\n",
       "         6.828e+00, -1.060e+00, -1.127e+00, -9.170e-01, -7.870e-01,\n",
       "        -6.390e-01, -9.900e-02],\n",
       "       [ 0.000e+00, -8.700e-02, -6.150e-01, -7.380e-01, -8.140e-01,\n",
       "        -1.060e+00,  7.035e+00, -9.920e-01, -9.580e-01, -8.810e-01,\n",
       "        -5.950e-01, -2.270e-01],\n",
       "       [ 0.000e+00, -0.000e+00, -1.890e-01, -4.790e-01, -6.770e-01,\n",
       "        -1.127e+00, -9.920e-01,  6.943e+00, -7.970e-01, -6.390e-01,\n",
       "        -4.070e-01,  0.000e+00],\n",
       "       [ 0.000e+00, -4.030e-01, -7.240e-01, -7.640e-01, -7.940e-01,\n",
       "        -9.170e-01, -9.580e-01, -7.970e-01,  7.090e+00, -9.410e-01,\n",
       "        -4.320e-01, -1.560e-01],\n",
       "       [ 0.000e+00, -6.500e-01, -8.220e-01, -7.680e-01, -7.600e-01,\n",
       "        -7.870e-01, -8.810e-01, -6.390e-01, -9.410e-01,  7.001e+00,\n",
       "        -2.850e-01, -1.240e-01],\n",
       "       [-0.000e+00,  0.000e+00, -1.860e-01, -1.870e-01, -3.100e-01,\n",
       "        -6.390e-01, -5.950e-01, -4.070e-01, -4.320e-01, -2.850e-01,\n",
       "         8.780e+00,  0.000e+00],\n",
       "       [-0.000e+00, -7.770e-01, -5.380e-01, -5.100e-02, -7.000e-03,\n",
       "        -9.900e-02, -2.270e-01,  0.000e+00, -1.560e-01, -1.240e-01,\n",
       "         0.000e+00,  8.800e+00]])"
      ]
     },
     "execution_count": 24,
     "metadata": {},
     "output_type": "execute_result"
    }
   ],
   "source": [
    "np.around(inv_log_cov, decimals=3)"
   ]
  },
  {
   "cell_type": "code",
   "execution_count": 25,
   "metadata": {},
   "outputs": [
    {
     "data": {
      "text/plain": [
       "<matplotlib.axes._subplots.AxesSubplot at 0x7fce3bfa5898>"
      ]
     },
     "execution_count": 25,
     "metadata": {},
     "output_type": "execute_result"
    },
    {
     "data": {
      "image/png": "[encoded data removed]",
      "text/plain": [
       "<Figure size 720x576 with 2 Axes>"
      ]
     },
     "metadata": {
      "needs_background": "light"
     },
     "output_type": "display_data"
    }
   ],
   "source": [
    "labelled_log_cov = pd.DataFrame(inv_log_cov, index=reliable_df.columns.values, columns=reliable_df.columns.values)\n",
    "fig, ax = plt.subplots(figsize=(10, 8))\n",
    "sns.heatmap(labelled_log_cov, ax=ax)"
   ]
  },
  {
   "cell_type": "code",
   "execution_count": 26,
   "metadata": {},
   "outputs": [],
   "source": [
    "from scipy.stats import multivariate_normal"
   ]
  },
  {
   "cell_type": "code",
   "execution_count": 27,
   "metadata": {},
   "outputs": [],
   "source": [
    "log_norm = multivariate_normal(mean=None, cov=log_cov.covariance_)\n",
    "norm = multivariate_normal(mean=None, cov=cov.covariance_)"
   ]
  },
  {
   "cell_type": "code",
   "execution_count": 28,
   "metadata": {},
   "outputs": [
    {
     "data": {
      "image/png": "[encoded data removed]",
      "text/plain": [
       "<Figure size 432x288 with 1 Axes>"
      ]
     },
     "metadata": {
      "needs_background": "light"
     },
     "output_type": "display_data"
    }
   ],
   "source": [
    "fig, ax = plt.subplots()\n",
    "for i in range(100):\n",
    "    ax.scatter(range(12), norm.rvs(), alpha=0.2)"
   ]
  },
  {
   "cell_type": "code",
   "execution_count": 29,
   "metadata": {},
   "outputs": [
    {
     "data": {
      "text/plain": [
       "[<matplotlib.lines.Line2D at 0x7fce3afe8fd0>]"
      ]
     },
     "execution_count": 29,
     "metadata": {},
     "output_type": "execute_result"
    },
    {
     "data": {
      "image/png": "[encoded data removed]",
      "text/plain": [
       "<Figure size 432x288 with 1 Axes>"
      ]
     },
     "metadata": {
      "needs_background": "light"
     },
     "output_type": "display_data"
    }
   ],
   "source": [
    "plt.loglog(range(12), np.abs(norm.rvs()), 'x')\n",
    "# plt.ylim([-2., 2.])"
   ]
  },
  {
   "cell_type": "code",
   "execution_count": 30,
   "metadata": {},
   "outputs": [
    {
     "data": {
      "text/plain": [
       "array([-7.59257478, -6.35944338, -6.73407511, -6.38338517, -6.13035058,\n",
       "       -6.51548027, -6.25144019, -6.24442051, -6.33784679, -8.55548865,\n",
       "       -7.06864497, -6.53548868])"
      ]
     },
     "execution_count": 30,
     "metadata": {},
     "output_type": "execute_result"
    }
   ],
   "source": [
    "np.log10(np.abs(norm.rvs()))"
   ]
  },
  {
   "cell_type": "code",
   "execution_count": 31,
   "metadata": {},
   "outputs": [
    {
     "data": {
      "text/plain": [
       "(-2.0, 2.0)"
      ]
     },
     "execution_count": 31,
     "metadata": {},
     "output_type": "execute_result"
    },
    {
     "data": {
      "image/png": "[encoded data removed]",
      "text/plain": [
       "<Figure size 432x288 with 1 Axes>"
      ]
     },
     "metadata": {
      "needs_background": "light"
     },
     "output_type": "display_data"
    }
   ],
   "source": [
    "plt.scatter(range(12), log_norm.rvs())\n",
    "plt.ylim([-2., 2.])"
   ]
  },
  {
   "cell_type": "code",
   "execution_count": null,
   "metadata": {},
   "outputs": [],
   "source": []
  }
 ],
 "metadata": {
  "kernelspec": {
   "display_name": "Python 3",
   "language": "python",
   "name": "python3"
  },
  "language_info": {
   "codemirror_mode": {
    "name": "ipython",
    "version": 3
   },
   "file_extension": ".py",
   "mimetype": "text/x-python",
   "name": "python",
   "nbconvert_exporter": "python",
   "pygments_lexer": "ipython3",
   "version": "3.6.7"
  }
 },
 "nbformat": 4,
 "nbformat_minor": 2
}
