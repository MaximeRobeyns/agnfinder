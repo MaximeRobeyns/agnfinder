{
 "cells": [
  {
   "cell_type": "code",
   "execution_count": 29,
   "metadata": {},
   "outputs": [
    {
     "name": "stdout",
     "output_type": "stream",
     "text": [
      "The autoreload extension is already loaded. To reload it, use:\n",
      "  %reload_ext autoreload\n"
     ]
    }
   ],
   "source": [
    "%load_ext autoreload\n",
    "%autoreload 2\n",
    "%matplotlib inline"
   ]
  },
  {
   "cell_type": "code",
   "execution_count": 30,
   "metadata": {},
   "outputs": [],
   "source": [
    "import numpy as np\n",
    "\n",
    "from agnfinder import simulation_utils"
   ]
  },
  {
   "cell_type": "code",
   "execution_count": 31,
   "metadata": {},
   "outputs": [],
   "source": [
    "limits = {\n",
    "    'redshift': [0., 4.]\n",
    "}\n"
   ]
  },
  {
   "cell_type": "code",
   "execution_count": 60,
   "metadata": {},
   "outputs": [],
   "source": [
    "hcube = np.linspace(.25, .75).reshape(1, -1)"
   ]
  },
  {
   "cell_type": "code",
   "execution_count": 67,
   "metadata": {},
   "outputs": [
    {
     "data": {
      "text/plain": [
       "array([[1.        , 1.04081633, 1.08163265, 1.12244898, 1.16326531,\n",
       "        1.20408163, 1.24489796, 1.28571429, 1.32653061, 1.36734694,\n",
       "        1.40816327, 1.44897959, 1.48979592, 1.53061224, 1.57142857,\n",
       "        1.6122449 , 1.65306122, 1.69387755, 1.73469388, 1.7755102 ,\n",
       "        1.81632653, 1.85714286, 1.89795918, 1.93877551, 1.97959184,\n",
       "        2.02040816, 2.06122449, 2.10204082, 2.14285714, 2.18367347,\n",
       "        2.2244898 , 2.26530612, 2.30612245, 2.34693878, 2.3877551 ,\n",
       "        2.42857143, 2.46938776, 2.51020408, 2.55102041, 2.59183673,\n",
       "        2.63265306, 2.67346939, 2.71428571, 2.75510204, 2.79591837,\n",
       "        2.83673469, 2.87755102, 2.91836735, 2.95918367, 3.        ]])"
      ]
     },
     "execution_count": 67,
     "metadata": {},
     "output_type": "execute_result"
    }
   ],
   "source": [
    "simulation_utils.denormalise_theta(hcube, limits)"
   ]
  },
  {
   "cell_type": "code",
   "execution_count": 72,
   "metadata": {},
   "outputs": [
    {
     "data": {
      "text/plain": [
       "array([[1.        ],\n",
       "       [1.04081633],\n",
       "       [1.08163265],\n",
       "       [1.12244898],\n",
       "       [1.16326531],\n",
       "       [1.20408163],\n",
       "       [1.24489796],\n",
       "       [1.28571429],\n",
       "       [1.32653061],\n",
       "       [1.36734694],\n",
       "       [1.40816327],\n",
       "       [1.44897959],\n",
       "       [1.48979592],\n",
       "       [1.53061224],\n",
       "       [1.57142857],\n",
       "       [1.6122449 ],\n",
       "       [1.65306122],\n",
       "       [1.69387755],\n",
       "       [1.73469388],\n",
       "       [1.7755102 ],\n",
       "       [1.81632653],\n",
       "       [1.85714286],\n",
       "       [1.89795918],\n",
       "       [1.93877551],\n",
       "       [1.97959184],\n",
       "       [2.02040816],\n",
       "       [2.06122449],\n",
       "       [2.10204082],\n",
       "       [2.14285714],\n",
       "       [2.18367347],\n",
       "       [2.2244898 ],\n",
       "       [2.26530612],\n",
       "       [2.30612245],\n",
       "       [2.34693878],\n",
       "       [2.3877551 ],\n",
       "       [2.42857143],\n",
       "       [2.46938776],\n",
       "       [2.51020408],\n",
       "       [2.55102041],\n",
       "       [2.59183673],\n",
       "       [2.63265306],\n",
       "       [2.67346939],\n",
       "       [2.71428571],\n",
       "       [2.75510204],\n",
       "       [2.79591837],\n",
       "       [2.83673469],\n",
       "       [2.87755102],\n",
       "       [2.91836735],\n",
       "       [2.95918367],\n",
       "       [3.        ]])"
      ]
     },
     "execution_count": 72,
     "metadata": {},
     "output_type": "execute_result"
    }
   ],
   "source": [
    "simulation_utils.denormalise_hypercube(hcube.transpose(), limits)"
   ]
  },
  {
   "cell_type": "code",
   "execution_count": null,
   "metadata": {},
   "outputs": [],
   "source": [
    "\n",
    "simulation_utils.denormalise_theta(hcube, limits)"
   ]
  }
 ],
 "metadata": {
  "kernelspec": {
   "display_name": "Python 3",
   "language": "python",
   "name": "python3"
  },
  "language_info": {
   "codemirror_mode": {
    "name": "ipython",
    "version": 3
   },
   "file_extension": ".py",
   "mimetype": "text/x-python",
   "name": "python",
   "nbconvert_exporter": "python",
   "pygments_lexer": "ipython3",
   "version": "3.7.5"
  }
 },
 "nbformat": 4,
 "nbformat_minor": 4
}
