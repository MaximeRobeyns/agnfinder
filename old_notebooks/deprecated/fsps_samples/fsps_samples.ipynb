{
 "cells": [
  {
   "cell_type": "code",
   "execution_count": 1,
   "metadata": {},
   "outputs": [],
   "source": [
    "%load_ext autoreload\n",
    "%autoreload 2\n",
    "%matplotlib inline"
   ]
  },
  {
   "cell_type": "code",
   "execution_count": 2,
   "metadata": {},
   "outputs": [],
   "source": [
    "import os\n",
    "from collections import OrderedDict\n",
    "import json\n",
    "\n",
    "import h5py\n",
    "import numpy as np\n",
    "import pandas as pd\n",
    "import matplotlib.pyplot as plt\n",
    "import fsps\n",
    "# !pip install pydoe2\n"
   ]
  },
  {
   "cell_type": "code",
   "execution_count": 3,
   "metadata": {},
   "outputs": [],
   "source": []
  },
  {
   "cell_type": "code",
   "execution_count": 4,
   "metadata": {},
   "outputs": [],
   "source": [
    "# deprecated in favour of latin hypercube\n",
    "\n",
    "# def get_random_params(free_args):\n",
    "#     params = {}\n",
    "#     for param in free_args:\n",
    "#         params[param] = np.random.uniform(low=free_args[param][0], high=free_args[param][1])\n",
    "#     return params"
   ]
  },
  {
   "cell_type": "markdown",
   "metadata": {},
   "source": [
    "## Create FSPS object with desired fixed parameters (matching our current model)"
   ]
  },
  {
   "cell_type": "code",
   "execution_count": 5,
   "metadata": {},
   "outputs": [],
   "source": [
    "vactoair_flag = False\n",
    "compute_vega_mags = False\n",
    "\n",
    "zcontinuous=1  # interpolate internally to logzsol metallicity\n",
    "\n",
    "\n",
    "fixed_args = OrderedDict({\n",
    "    'logzsol': 0.0, \n",
    "    'sfh': 4,\n",
    "    'imf_type': 2, \n",
    "    'dust_type': 2, \n",
    "    'add_dust_emission': True, \n",
    "    'duste_umin': 1.0,\n",
    "    'duste_qpah': 4.0, \n",
    "    'duste_gamma': 0.001, \n",
    "    'add_igm_absorption': True, \n",
    "    'igm_factor': 1.0 \n",
    "})\n",
    "\n",
    "\n",
    "ssp = fsps.StellarPopulation(\n",
    "    compute_vega_mags=compute_vega_mags,\n",
    "    zcontinuous=zcontinuous,\n",
    "    vactoair_flag=vactoair_flag,\n",
    "    **fixed_args\n",
    ")\n"
   ]
  },
  {
   "cell_type": "markdown",
   "metadata": {},
   "source": [
    "### Define free FSPS parameters, with limits. \n",
    "Samples will be uniform-ish within these limits."
   ]
  },
  {
   "cell_type": "code",
   "execution_count": 6,
   "metadata": {},
   "outputs": [],
   "source": [
    "# zred only affects magnitudes within FSPS\n",
    "\n",
    "\n",
    "free_args = OrderedDict({\n",
    "    'tau': [0.1, 30.], \n",
    "    'tage': [0.001, 13.8],\n",
    "    'dust2': [0., 2.]\n",
    "})\n",
    "\n"
   ]
  },
  {
   "cell_type": "markdown",
   "metadata": {},
   "source": [
    "### Make a unit hypercube and scale each dimension to match the desired limits"
   ]
  },
  {
   "cell_type": "code",
   "execution_count": null,
   "metadata": {},
   "outputs": [],
   "source": [
    "from agnfinder import simulation_utils"
   ]
  },
  {
   "cell_type": "code",
   "execution_count": 7,
   "metadata": {},
   "outputs": [],
   "source": [
    "n_samples = 150\n",
    "\n",
    "# normalised_theta_to_sample = np.array(lhsmdu.sample(len(free_args.keys()), n_samples))\n",
    "normalised_theta_to_sample = get_unit_latin_hypercube(dims=len(free_args.keys()), samples=n_samples)\n",
    "\n",
    "theta_to_sample = simulation_utils.denormalise_hypercube(normalised_theta_to_sample, free_args)"
   ]
  },
  {
   "cell_type": "code",
   "execution_count": 8,
   "metadata": {},
   "outputs": [
    {
     "data": {
      "text/plain": [
       "(150, 3)"
      ]
     },
     "execution_count": 8,
     "metadata": {},
     "output_type": "execute_result"
    }
   ],
   "source": [
    "theta_to_sample.shape"
   ]
  },
  {
   "cell_type": "code",
   "execution_count": 9,
   "metadata": {},
   "outputs": [
    {
     "data": {
      "text/plain": [
       "Text(0, 0.5, 'tage')"
      ]
     },
     "execution_count": 9,
     "metadata": {},
     "output_type": "execute_result"
    },
    {
     "data": {
      "image/png": "[encoded data removed]",
      "text/plain": [
       "<Figure size 432x288 with 1 Axes>"
      ]
     },
     "metadata": {
      "needs_background": "light"
     },
     "output_type": "display_data"
    }
   ],
   "source": [
    "plt.scatter(theta_to_sample[:, 0], theta_to_sample[:, 1], alpha=0.05)\n",
    "plt.xlabel('tau')\n",
    "plt.ylabel('tage')"
   ]
  },
  {
   "cell_type": "code",
   "execution_count": 10,
   "metadata": {},
   "outputs": [],
   "source": [
    "theta_df = pd.DataFrame(theta_to_sample, columns=free_args.keys())"
   ]
  },
  {
   "cell_type": "code",
   "execution_count": 11,
   "metadata": {},
   "outputs": [
    {
     "data": {
      "text/html": [
       "<div>\n",
       "<style scoped>\n",
       "    .dataframe tbody tr th:only-of-type {\n",
       "        vertical-align: middle;\n",
       "    }\n",
       "\n",
       "    .dataframe tbody tr th {\n",
       "        vertical-align: top;\n",
       "    }\n",
       "\n",
       "    .dataframe thead th {\n",
       "        text-align: right;\n",
       "    }\n",
       "</style>\n",
       "<table border=\"1\" class=\"dataframe\">\n",
       "  <thead>\n",
       "    <tr style=\"text-align: right;\">\n",
       "      <th></th>\n",
       "      <th>tau</th>\n",
       "      <th>tage</th>\n",
       "      <th>dust2</th>\n",
       "    </tr>\n",
       "  </thead>\n",
       "  <tbody>\n",
       "    <tr>\n",
       "      <th>91</th>\n",
       "      <td>10.243852</td>\n",
       "      <td>2.621103</td>\n",
       "      <td>0.484074</td>\n",
       "    </tr>\n",
       "    <tr>\n",
       "      <th>98</th>\n",
       "      <td>23.168826</td>\n",
       "      <td>6.284661</td>\n",
       "      <td>0.332596</td>\n",
       "    </tr>\n",
       "    <tr>\n",
       "      <th>136</th>\n",
       "      <td>16.383180</td>\n",
       "      <td>9.364019</td>\n",
       "      <td>0.653431</td>\n",
       "    </tr>\n",
       "    <tr>\n",
       "      <th>74</th>\n",
       "      <td>4.870441</td>\n",
       "      <td>10.187101</td>\n",
       "      <td>1.452056</td>\n",
       "    </tr>\n",
       "    <tr>\n",
       "      <th>62</th>\n",
       "      <td>12.179517</td>\n",
       "      <td>12.962803</td>\n",
       "      <td>0.513892</td>\n",
       "    </tr>\n",
       "  </tbody>\n",
       "</table>\n",
       "</div>"
      ],
      "text/plain": [
       "           tau       tage     dust2\n",
       "91   10.243852   2.621103  0.484074\n",
       "98   23.168826   6.284661  0.332596\n",
       "136  16.383180   9.364019  0.653431\n",
       "74    4.870441  10.187101  1.452056\n",
       "62   12.179517  12.962803  0.513892"
      ]
     },
     "execution_count": 11,
     "metadata": {},
     "output_type": "execute_result"
    }
   ],
   "source": [
    "theta_df.sample(5)"
   ]
  },
  {
   "cell_type": "markdown",
   "metadata": {},
   "source": [
    "Note that FSPS seems to not remain linear in N as N increases - this motivates our emulation. 5000 samples are seconds, 50,000 fails! "
   ]
  },
  {
   "cell_type": "code",
   "execution_count": 26,
   "metadata": {},
   "outputs": [],
   "source": [
    "reference_wave_loc = '/home/mike/repos/agnfinder/notebooks/reference_wave.txt'"
   ]
  },
  {
   "cell_type": "code",
   "execution_count": 27,
   "metadata": {},
   "outputs": [],
   "source": [
    "if os.path.isfile(reference_wave_loc):\n",
    "    reference_wave = np.loadtxt(reference_wave_loc)\n",
    "else:\n",
    "    reference_wave = None"
   ]
  },
  {
   "cell_type": "code",
   "execution_count": 29,
   "metadata": {},
   "outputs": [],
   "source": [
    "X = np.zeros((n_samples, len(free_args.keys())))\n",
    "Y = np.zeros((n_samples, 5994))  # standard wavelengths from FSPS\n",
    "mass = np.zeros(n_samples)\n",
    "for n, theta_tuple in enumerate(theta_df.sample(n_samples).itertuples(name='theta')):\n",
    "    \n",
    "    # store X\n",
    "    X[n] = [getattr(theta_tuple, p) for p in free_args.keys()]\n",
    "    \n",
    "    # calculate Y\n",
    "    for param in free_args.keys():\n",
    "        ssp.params[param] = getattr(theta_tuple, param)\n",
    "    wave, spec = ssp.get_spectrum(peraa=False, tage=theta_tuple.tage)  # triggers cache\n",
    "    mass[n] = ssp.stellar_mass\n",
    "    if reference_wave is not None:\n",
    "        assert (wave == reference_wave).all()\n",
    "    \n",
    "    # store Y\n",
    "    Y[n] = spec\n",
    "#     plt.loglog(wave, spec)\n",
    "#     plt.ylim([1e-25, 1e-9])"
   ]
  },
  {
   "cell_type": "code",
   "execution_count": 22,
   "metadata": {},
   "outputs": [
    {
     "data": {
      "text/plain": [
       "array([16.58213868,  2.5132542 ,  0.29598914])"
      ]
     },
     "execution_count": 22,
     "metadata": {},
     "output_type": "execute_result"
    }
   ],
   "source": [
    "X[63, :]"
   ]
  },
  {
   "cell_type": "code",
   "execution_count": 23,
   "metadata": {},
   "outputs": [
    {
     "data": {
      "text/plain": [
       "array([1.00000000e-70, 1.00000000e-70, 1.00000000e-70, ...,\n",
       "       1.85858068e-17, 1.80936924e-17, 1.76249534e-17])"
      ]
     },
     "execution_count": 23,
     "metadata": {},
     "output_type": "execute_result"
    }
   ],
   "source": [
    "Y[63, :]"
   ]
  },
  {
   "cell_type": "code",
   "execution_count": 24,
   "metadata": {},
   "outputs": [
    {
     "data": {
      "text/plain": [
       "0.7133454194050687"
      ]
     },
     "execution_count": 24,
     "metadata": {},
     "output_type": "execute_result"
    }
   ],
   "source": [
    "mass[63]"
   ]
  },
  {
   "cell_type": "code",
   "execution_count": 25,
   "metadata": {},
   "outputs": [],
   "source": [
    "reference_wave = wave\n",
    "np.savetxt(reference_wave_loc, reference_wave)"
   ]
  },
  {
   "cell_type": "code",
   "execution_count": 16,
   "metadata": {},
   "outputs": [
    {
     "data": {
      "image/png": "[encoded data removed]",
      "text/plain": [
       "<Figure size 432x288 with 1 Axes>"
      ]
     },
     "metadata": {
      "needs_background": "light"
     },
     "output_type": "display_data"
    }
   ],
   "source": [
    "_ = plt.hist(mass)"
   ]
  },
  {
   "cell_type": "code",
   "execution_count": 17,
   "metadata": {},
   "outputs": [
    {
     "ename": "AssertionError",
     "evalue": "",
     "output_type": "error",
     "traceback": [
      "\u001b[0;31m---------------------------------------------------------------------------\u001b[0m",
      "\u001b[0;31mAssertionError\u001b[0m                            Traceback (most recent call last)",
      "\u001b[0;32m<ipython-input-17-a871fdc9ebee>\u001b[0m in \u001b[0;36m<module>\u001b[0;34m\u001b[0m\n\u001b[0;32m----> 1\u001b[0;31m \u001b[0;32massert\u001b[0m \u001b[0;32mFalse\u001b[0m\u001b[0;34m\u001b[0m\u001b[0;34m\u001b[0m\u001b[0m\n\u001b[0m",
      "\u001b[0;31mAssertionError\u001b[0m: "
     ]
    }
   ],
   "source": [
    "assert False"
   ]
  },
  {
   "cell_type": "code",
   "execution_count": null,
   "metadata": {},
   "outputs": [],
   "source": [
    "save_loc = '/home/mike/repos/agnfinder/data/fsps_cache.hdf5'\n",
    "with h5py.File(save_loc, 'w') as f:\n",
    "    grp = f.create_group('fsps_cache')\n",
    "    ds_x = grp.create_dataset('X', data=X)\n",
    "    ds_x.attrs['columns'] = list(free_args.keys())\n",
    "    ds_x.attrs['limits'] = list(free_args.values())\n",
    "    ds_x.attrs['description'] = 'FSPS free arguments used to generate spectra'\n",
    "    ds_x.attrs['free_args'] = json.dumps(dict(free_args.items()))\n",
    "    ds_x.attrs['fixed_args'] = json.dumps(dict(fixed_args.items()))\n",
    "    ds_y = grp.create_dataset('Y', data=Y)\n",
    "    ds_y.attrs['wavelengths'] = wave\n",
    "    ds_mass = grp.create_dataset('mass', data=mass)"
   ]
  },
  {
   "cell_type": "code",
   "execution_count": null,
   "metadata": {},
   "outputs": [],
   "source": [
    "with h5py.File(save_loc, 'r') as f:\n",
    "    X_loaded = f['fsps_cache']['X'][...]\n",
    "    Y_loaded = f['fsps_cache']['Y'] [...]"
   ]
  },
  {
   "cell_type": "code",
   "execution_count": null,
   "metadata": {},
   "outputs": [],
   "source": [
    "assert np.allclose(X_loaded, X)\n",
    "assert np.allclose(Y_loaded, Y)"
   ]
  },
  {
   "cell_type": "code",
   "execution_count": null,
   "metadata": {},
   "outputs": [],
   "source": [
    "assert False  # old stuff below"
   ]
  },
  {
   "cell_type": "code",
   "execution_count": null,
   "metadata": {},
   "outputs": [],
   "source": []
  },
  {
   "cell_type": "code",
   "execution_count": null,
   "metadata": {},
   "outputs": [],
   "source": []
  },
  {
   "cell_type": "code",
   "execution_count": null,
   "metadata": {},
   "outputs": [],
   "source": []
  },
  {
   "cell_type": "code",
   "execution_count": null,
   "metadata": {},
   "outputs": [],
   "source": []
  },
  {
   "cell_type": "code",
   "execution_count": null,
   "metadata": {},
   "outputs": [],
   "source": [
    "%%timeit\n",
    "\n",
    "ssp.get_spectrum(tage=0.5, peraa=False)"
   ]
  },
  {
   "cell_type": "code",
   "execution_count": null,
   "metadata": {},
   "outputs": [],
   "source": [
    "%%timeit\n",
    "\n",
    "ssp.get_spectrum(tage=1.5, peraa=False)"
   ]
  },
  {
   "cell_type": "code",
   "execution_count": null,
   "metadata": {},
   "outputs": [],
   "source": [
    "wave, flux = ssp.get_spectrum(tage=2.5, peraa=False)"
   ]
  },
  {
   "cell_type": "code",
   "execution_count": null,
   "metadata": {},
   "outputs": [],
   "source": [
    "plt.loglog(wave, flux)"
   ]
  },
  {
   "cell_type": "code",
   "execution_count": null,
   "metadata": {},
   "outputs": [],
   "source": [
    "# ssp = fsps.StellarPopulation(\n",
    "#     compute_vega_mags=compute_vega_mags,\n",
    "#     zcontinuous=zcontinuous,\n",
    "#     vactoair_flag=vactoair_flag,\n",
    "#     tau=2.\n",
    "# )\n",
    "\n",
    "# wave, spec = ssp.get_spectrum(tage=tage, peraa=False)  # triggers cache"
   ]
  },
  {
   "cell_type": "code",
   "execution_count": null,
   "metadata": {},
   "outputs": [],
   "source": [
    "# plt.loglog(wave, flux)"
   ]
  },
  {
   "cell_type": "code",
   "execution_count": null,
   "metadata": {},
   "outputs": [],
   "source": [
    "ssp.params"
   ]
  },
  {
   "cell_type": "code",
   "execution_count": null,
   "metadata": {},
   "outputs": [],
   "source": [
    "ssp.params['tau'] = 1.5"
   ]
  },
  {
   "cell_type": "code",
   "execution_count": null,
   "metadata": {},
   "outputs": [],
   "source": [
    "ssp.params['tau']"
   ]
  },
  {
   "cell_type": "code",
   "execution_count": null,
   "metadata": {},
   "outputs": [],
   "source": [
    "wave, spec = ssp.get_spectrum(tage=tage, peraa=False)"
   ]
  },
  {
   "cell_type": "code",
   "execution_count": null,
   "metadata": {},
   "outputs": [],
   "source": [
    "for tau in np.linspace(0., 10., 20):\n",
    "    ssp.tau = tau\n",
    "    wave, flux = ssp.get_spectrum(tage=tage, peraa=False)\n",
    "    plt.loglog(wave, flux, label=tau)\n",
    "plt.legend()"
   ]
  },
  {
   "cell_type": "code",
   "execution_count": null,
   "metadata": {},
   "outputs": [],
   "source": [
    "ssp.params['logzsol'] = -1\n",
    "wave, flux = ssp.get_spectrum(tage=tage, peraa=False)\n",
    "plt.loglog(wave, flux)"
   ]
  },
  {
   "cell_type": "code",
   "execution_count": null,
   "metadata": {},
   "outputs": [],
   "source": [
    "# ssp.params['tau'] = 5.\n",
    "ssp.params['logzsol'] = -2.\n",
    "wave, flux = ssp.get_spectrum(tage=tage, peraa=False)\n",
    "plt.loglog(wave, flux)"
   ]
  },
  {
   "cell_type": "code",
   "execution_count": null,
   "metadata": {},
   "outputs": [],
   "source": [
    "ssp.params['tau'] = 5.\n",
    "wave, flux = ssp.get_spectrum(tage=tage, peraa=False)\n",
    "plt.loglog(wave, flux)"
   ]
  },
  {
   "cell_type": "code",
   "execution_count": null,
   "metadata": {},
   "outputs": [],
   "source": [
    "for tau in np.linspace(0., 10., 20):\n",
    "    ssp.params['logzsol'] = -1\n",
    "    wave, flux = ssp.get_spectrum(tage=tage, peraa=False)\n",
    "    plt.loglog(np.range(len()))\n",
    "plt.legend()"
   ]
  },
  {
   "cell_type": "code",
   "execution_count": null,
   "metadata": {},
   "outputs": [],
   "source": [
    "for tage in np.linspace(0.1, 2.):\n",
    "    wave, flux = ssp.get_spectrum(tage=tage, peraa=False)\n",
    "    plt.loglog(wave, flux, label=tage)\n",
    "plt.legend()"
   ]
  },
  {
   "cell_type": "code",
   "execution_count": null,
   "metadata": {},
   "outputs": [],
   "source": [
    "ssp.params.dirtiness"
   ]
  },
  {
   "cell_type": "code",
   "execution_count": null,
   "metadata": {},
   "outputs": [],
   "source": [
    "ssp.params['tau'] = 2.5\n",
    "ssp.params['dust2'] = 0.5\n",
    "ssp.params['tage'] = 7"
   ]
  },
  {
   "cell_type": "code",
   "execution_count": null,
   "metadata": {},
   "outputs": [],
   "source": [
    "ssp.params.dirtiness"
   ]
  },
  {
   "cell_type": "code",
   "execution_count": null,
   "metadata": {},
   "outputs": [],
   "source": [
    "wave, flux = ssp.get_spectrum(tage=tage, peraa=False)"
   ]
  },
  {
   "cell_type": "code",
   "execution_count": null,
   "metadata": {},
   "outputs": [],
   "source": [
    "ssp.params.dirtiness"
   ]
  },
  {
   "cell_type": "code",
   "execution_count": null,
   "metadata": {},
   "outputs": [],
   "source": [
    "# dust2 and tage are CSP parameters"
   ]
  },
  {
   "cell_type": "code",
   "execution_count": null,
   "metadata": {},
   "outputs": [],
   "source": [
    "plt.loglog(wave, flux, label=tau)"
   ]
  },
  {
   "cell_type": "code",
   "execution_count": null,
   "metadata": {},
   "outputs": [],
   "source": []
  }
 ],
 "metadata": {
  "anaconda-cloud": {},
  "kernelspec": {
   "display_name": "Python 3",
   "language": "python",
   "name": "python3"
  },
  "language_info": {
   "codemirror_mode": {
    "name": "ipython",
    "version": 3
   },
   "file_extension": ".py",
   "mimetype": "text/x-python",
   "name": "python",
   "nbconvert_exporter": "python",
   "pygments_lexer": "ipython3",
   "version": "3.7.5"
  }
 },
 "nbformat": 4,
 "nbformat_minor": 4
}
