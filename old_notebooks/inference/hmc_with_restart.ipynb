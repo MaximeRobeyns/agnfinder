{
 "cells": [
  {
   "cell_type": "code",
   "execution_count": 1,
   "metadata": {},
   "outputs": [],
   "source": [
    "%load_ext autoreload\n",
    "%autoreload 2\n",
    "%matplotlib inline"
   ]
  },
  {
   "cell_type": "code",
   "execution_count": 2,
   "metadata": {},
   "outputs": [],
   "source": [
    "import os\n",
    "import json\n",
    "import tensorflow as tf\n",
    "import numpy as np\n",
    "import pandas as pd\n",
    "import matplotlib.pyplot as plt\n",
    "import seaborn as sns\n",
    "sns.set_context('notebook')\n",
    "from matplotlib import cm\n",
    "import corner\n",
    "import datetime"
   ]
  },
  {
   "cell_type": "code",
   "execution_count": 3,
   "metadata": {},
   "outputs": [],
   "source": [
    "tf.enable_eager_execution()"
   ]
  },
  {
   "cell_type": "code",
   "execution_count": 4,
   "metadata": {},
   "outputs": [],
   "source": [
    "import tensorflow_probability as tfp\n",
    "tfd = tfp.distributions"
   ]
  },
  {
   "cell_type": "code",
   "execution_count": 5,
   "metadata": {},
   "outputs": [
    {
     "name": "stdout",
     "output_type": "stream",
     "text": [
      "WARNING:tensorflow:From /media/mike/Windows/linux_cache/miniconda37/envs/agnfinder/lib/python3.7/site-packages/tensorflow_probability/python/distributions/categorical.py:225: Categorical._logits_deprecated_behavior (from tensorflow_probability.python.distributions.categorical) is deprecated and will be removed after 2019-10-01.\n",
      "Instructions for updating:\n",
      "The `logits` property will return `None` when the distribution is parameterized with `logits=None`. Use `logits_parameter()` instead.\n"
     ]
    }
   ],
   "source": [
    "dist = tfd.MixtureSameFamily(\n",
    "    mixture_distribution=tfd.Categorical(\n",
    "        probs=[0.5, 0.5]),\n",
    "    components_distribution=tfd.MultivariateNormalDiag(\n",
    "    loc=[[.8, .5], [.2, .5]],\n",
    "    scale_diag=[[.2, .4], [.2, .4]])\n",
    ")"
   ]
  },
  {
   "cell_type": "code",
   "execution_count": 17,
   "metadata": {},
   "outputs": [],
   "source": [
    "\n",
    "log_prob = dist.log_prob\n",
    " \n",
    "n_chains = 128\n",
    "# initial_state = tf.constant([0.1, 0.15, 0.2])\n",
    "initial_state = tf.constant(np.random.rand(n_chains, 2), dtype=tf.float32)\n",
    "num_results = 100000\n",
    "num_burnin = 10000\n",
    "step_size = .01"
   ]
  },
  {
   "cell_type": "code",
   "execution_count": 18,
   "metadata": {},
   "outputs": [],
   "source": [
    "hmc_kernel = tfp.mcmc.HamiltonianMonteCarlo(\n",
    "    target_log_prob_fn=log_prob,\n",
    "    num_leapfrog_steps=3,\n",
    "    step_size=step_size\n",
    ")\n",
    "\n",
    "hmc_adaptive_kernel = tfp.mcmc.DualAveragingStepSizeAdaptation(\n",
    "    inner_kernel=hmc_kernel,\n",
    "    num_adaptation_steps=int(num_burnin * 0.8)\n",
    ")\n"
   ]
  },
  {
   "cell_type": "code",
   "execution_count": 32,
   "metadata": {},
   "outputs": [
    {
     "name": "stdout",
     "output_type": "stream",
     "text": [
      "HMC sampling complete in 0:00:14.419344\n"
     ]
    }
   ],
   "source": [
    "\n",
    "@tf.function(experimental_compile=True)\n",
    "# @tf.function\n",
    "def run_sampler(initial_state, num_results, num_burnin):\n",
    "    return tfp.mcmc.sample_chain(\n",
    "        num_results=num_results,\n",
    "        num_burnin_steps=num_burnin,\n",
    "        current_state=initial_state,\n",
    "        kernel=hmc_adaptive_kernel,\n",
    "        trace_fn=None,\n",
    "#         return_final_kernel_results=True\n",
    "    )\n",
    "\n",
    "\n",
    "start_time = datetime.datetime.now()\n",
    "\n",
    "chain_output = run_sampler(initial_state, num_results, num_burnin)\n",
    "time_elapsed = datetime.datetime.now() - start_time\n",
    "print(f'HMC sampling complete in {time_elapsed}')"
   ]
  },
  {
   "cell_type": "markdown",
   "metadata": {},
   "source": [
    "100,000 results, 10,000 burn-in, 128 chains\n",
    "\n",
    "\n",
    "2 min 11 seconds with decorator!\n",
    "8.4 seconds with XLA\n",
    "\n",
    "\n",
    "1000 results, 100 burnin, 30 chains:\n",
    "\n",
    "46 seconds with eager\n",
    "\n",
    "1.15 seconds with graph\n",
    "\n",
    "3.2 seconds with decorator, no XLA\n",
    "\n",
    "4.0 seconds with XLA (but probably due to overheads)"
   ]
  },
  {
   "cell_type": "code",
   "execution_count": 34,
   "metadata": {},
   "outputs": [
    {
     "data": {
      "text/plain": [
       "<tf.Tensor: id=15681, shape=(100000, 128, 2), dtype=float32, numpy=\n",
       "array([[[ 0.79394245, -0.0798227 ],\n",
       "        [ 0.14911179,  0.67889696],\n",
       "        [ 0.75479525, -0.02186025],\n",
       "        ...,\n",
       "        [ 0.87894416,  0.83362263],\n",
       "        [ 0.86337537,  0.54784644],\n",
       "        [ 0.51741296,  1.4322187 ]],\n",
       "\n",
       "       [[ 0.79394245, -0.0798227 ],\n",
       "        [ 0.14911179,  0.67889696],\n",
       "        [ 0.648572  ,  1.4233072 ],\n",
       "        ...,\n",
       "        [ 0.8513606 ,  0.38271025],\n",
       "        [ 0.86337537,  0.54784644],\n",
       "        [ 0.9816398 , -0.56908023]],\n",
       "\n",
       "       [[ 0.05410323,  1.1697688 ],\n",
       "        [ 0.15783443,  0.16707058],\n",
       "        [ 0.70495224, -0.2439361 ],\n",
       "        ...,\n",
       "        [ 0.61279726,  0.7344026 ],\n",
       "        [ 0.86337537,  0.54784644],\n",
       "        [ 0.72114486,  1.3763219 ]],\n",
       "\n",
       "       ...,\n",
       "\n",
       "       [[ 0.09594403,  0.24278541],\n",
       "        [ 0.3862634 ,  0.07676389],\n",
       "        [ 0.70959586,  1.2336473 ],\n",
       "        ...,\n",
       "        [ 0.6963318 ,  0.20357248],\n",
       "        [ 0.28985682,  0.90122175],\n",
       "        [ 0.43198845,  0.7305501 ]],\n",
       "\n",
       "       [[ 0.09594403,  0.24278541],\n",
       "        [ 0.29237172,  0.9685788 ],\n",
       "        [ 0.4372421 , -0.46239066],\n",
       "        ...,\n",
       "        [ 0.7233956 ,  0.42116913],\n",
       "        [ 0.7280817 ,  0.28001386],\n",
       "        [ 0.48374206,  0.2863952 ]],\n",
       "\n",
       "       [[ 0.30335692,  1.011023  ],\n",
       "        [ 0.01359109,  0.2925517 ],\n",
       "        [ 0.36726722,  1.2407187 ],\n",
       "        ...,\n",
       "        [ 0.6747039 ,  0.6715264 ],\n",
       "        [ 0.27615827,  0.8913555 ],\n",
       "        [ 0.34184882,  1.1884333 ]]], dtype=float32)>"
      ]
     },
     "execution_count": 34,
     "metadata": {},
     "output_type": "execute_result"
    }
   ],
   "source": [
    "chain_output"
   ]
  },
  {
   "cell_type": "code",
   "execution_count": 33,
   "metadata": {},
   "outputs": [
    {
     "ename": "AttributeError",
     "evalue": "'tensorflow.python.framework.ops.EagerTensor' object has no attribute 'all_states'",
     "output_type": "error",
     "traceback": [
      "\u001b[0;31m---------------------------------------------------------------------------\u001b[0m",
      "\u001b[0;31mAttributeError\u001b[0m                            Traceback (most recent call last)",
      "\u001b[0;32m<ipython-input-33-f3417870d7ea>\u001b[0m in \u001b[0;36m<module>\u001b[0;34m\u001b[0m\n\u001b[0;32m----> 1\u001b[0;31m \u001b[0mchain_output\u001b[0m\u001b[0;34m.\u001b[0m\u001b[0mall_states\u001b[0m\u001b[0;34m\u001b[0m\u001b[0;34m\u001b[0m\u001b[0m\n\u001b[0m",
      "\u001b[0;31mAttributeError\u001b[0m: 'tensorflow.python.framework.ops.EagerTensor' object has no attribute 'all_states'"
     ]
    }
   ],
   "source": [
    "# chain_output.all_states"
   ]
  },
  {
   "cell_type": "code",
   "execution_count": null,
   "metadata": {},
   "outputs": [],
   "source": [
    "chain_output.all_states."
   ]
  },
  {
   "cell_type": "code",
   "execution_count": null,
   "metadata": {},
   "outputs": [],
   "source": [
    "chain_output.final_kernel_results"
   ]
  },
  {
   "cell_type": "code",
   "execution_count": null,
   "metadata": {},
   "outputs": [],
   "source": [
    "chain_output.final_kernel_results."
   ]
  },
  {
   "cell_type": "code",
   "execution_count": null,
   "metadata": {},
   "outputs": [],
   "source": []
  },
  {
   "cell_type": "code",
   "execution_count": null,
   "metadata": {},
   "outputs": [],
   "source": []
  },
  {
   "cell_type": "code",
   "execution_count": 35,
   "metadata": {},
   "outputs": [],
   "source": [
    "second_output = run_sampler(chain_output[-1], num_results, num_burnin)"
   ]
  },
  {
   "cell_type": "code",
   "execution_count": null,
   "metadata": {},
   "outputs": [],
   "source": []
  }
 ],
 "metadata": {
  "kernelspec": {
   "display_name": "Python 3",
   "language": "python",
   "name": "python3"
  },
  "language_info": {
   "codemirror_mode": {
    "name": "ipython",
    "version": 3
   },
   "file_extension": ".py",
   "mimetype": "text/x-python",
   "name": "python",
   "nbconvert_exporter": "python",
   "pygments_lexer": "ipython3",
   "version": "3.7.5"
  }
 },
 "nbformat": 4,
 "nbformat_minor": 4
}
