{
 "cells": [
  {
   "cell_type": "code",
   "execution_count": 3,
   "metadata": {},
   "outputs": [],
   "source": [
    "%matplotlib inline"
   ]
  },
  {
   "cell_type": "code",
   "execution_count": 4,
   "metadata": {},
   "outputs": [],
   "source": [
    "import matplotlib.pyplot as plt\n",
    "import numpy as np"
   ]
  },
  {
   "cell_type": "code",
   "execution_count": 5,
   "metadata": {},
   "outputs": [],
   "source": [
    "wavelengths = np.array([ 3545.9515156 ,  4669.6375124 ,  6156.34362463,  7470.59215536,\n",
    "        8917.58185532, 16397.13029184, 12513.8266968 , 10205.12640526])\n",
    "\n"
   ]
  },
  {
   "cell_type": "code",
   "execution_count": 6,
   "metadata": {},
   "outputs": [],
   "source": [
    "true = [2.0008288e-08, 4.9395613e-08, 7.1605776e-08, 1.1140216e-07, 1.2445017e-07,\n",
    " 1.2397339e-07, 1.2455160e-07, 1.1977332e-07]\n",
    "\n",
    "expected = [7.78477869e-08, 5.31464046e-08, 1.00518804e-07, 7.53937854e-08,\n",
    " 6.58968773e-08, 8.01541304e-08, 1.05487608e-07, 1.03867457e-07]\n",
    "\n",
    "later = [3.1886280e-08, 3.7473008e-08, 8.7550646e-08, 8.2878387e-08, 8.7816154e-08,\n",
    " 1.2026166e-07, 1.4382535e-07, 1.3778883e-07]"
   ]
  },
  {
   "cell_type": "code",
   "execution_count": 9,
   "metadata": {},
   "outputs": [
    {
     "data": {
      "image/png": "[encoded data removed]",
      "text/plain": [
       "<Figure size 432x288 with 1 Axes>"
      ]
     },
     "metadata": {
      "needs_background": "light"
     },
     "output_type": "display_data"
    }
   ],
   "source": [
    "plt.scatter(wavelengths, np.log10(true))\n",
    "plt.scatter(wavelengths, np.log10(expected))\n",
    "plt.scatter(wavelengths, np.log10(later))\n",
    "# plt.yscale('log')\n",
    "plt.xscale('log')"
   ]
  },
  {
   "cell_type": "code",
   "execution_count": 13,
   "metadata": {},
   "outputs": [
    {
     "data": {
      "text/plain": [
       "(-53.67633580779214, -53.676340141770694)"
      ]
     },
     "execution_count": 13,
     "metadata": {},
     "output_type": "execute_result"
    }
   ],
   "source": [
    "np.log10(true).sum(), np.log10(expected).sum()"
   ]
  },
  {
   "cell_type": "code",
   "execution_count": null,
   "metadata": {},
   "outputs": [],
   "source": []
  }
 ],
 "metadata": {
  "kernelspec": {
   "display_name": "Python 3",
   "language": "python",
   "name": "python3"
  },
  "language_info": {
   "codemirror_mode": {
    "name": "ipython",
    "version": 3
   },
   "file_extension": ".py",
   "mimetype": "text/x-python",
   "name": "python",
   "nbconvert_exporter": "python",
   "pygments_lexer": "ipython3",
   "version": "3.7.6"
  }
 },
 "nbformat": 4,
 "nbformat_minor": 4
}
